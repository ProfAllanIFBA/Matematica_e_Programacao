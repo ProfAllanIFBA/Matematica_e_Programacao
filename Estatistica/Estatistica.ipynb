{
 "cells": [
  {
   "cell_type": "markdown",
   "id": "a9a51de4",
   "metadata": {},
   "source": [
    "<center> <img src=\"img_apostila\\logo_ifba.jpg\" alt=\"jpg_python\" width=\"100\" height=\"200\"> </center>\n",
    "<br><br>\n",
    "<div align=\"center\"><span style=\"font-size: 26px;\"><strong>Estatística<br></strong></span></div>\n",
    "<div align=\"center\"><span style=\"font-size: 16px;\"><strong>Com enfoque computacional<br></strong></span></div> <br>\n",
    "<center> <img src=\"img_apostila\\python_gif.gif\" alt=\"gif_python\" width=\"80\"> </center>\n",
    "\n",
    "<div style=\"display: flex; width: 100%; justify-content: space-between; align-items: center;\">\n",
    "  <div style=\"flex-grow: 1;\"><br><br>\n",
    "    <strong>Autor:</strong><br>\n",
    "    Allan de Sousa Soares<br><br>\n",
    "    <strong>Colaborador:</strong><br>\n",
    "    Edson Patrício Barreto de Almeida\n",
    "  </div>\n",
    "  <div style=\"margin-left: auto;\">\n",
    "    <img src=\"img_apostila\\qrcode.jpg\" alt=\"jpg_python\" width=\"150\">\n",
    "  </div>\n",
    "</div>\n",
    "\n",
    "[🎥](https://youtu.be/hS1zhmo3VV4)"
   ]
  },
  {
   "cell_type": "markdown",
   "id": "b0bc19bf",
   "metadata": {
    "ExecuteTime": {
     "end_time": "2025-01-28T13:47:37.721591Z",
     "start_time": "2025-01-28T13:47:37.716405Z"
    }
   },
   "source": [
    "# <a id=\"perguntas_iniciais\"></a>Sobre Este Material e Sobre Python"
   ]
  },
  {
   "cell_type": "markdown",
   "id": "6507744b",
   "metadata": {},
   "source": [
    "*Os vídeos referentes a esta seção <b>(Sobre Este Material e Sobre Python)</b> encontram-se na playlist Matemática Financeira e são comuns a ambos materiais Estatística Com Enfoque Computacional (este) e Matemática Financeira Com Enfoque Computacional. Eles serão marcados com um asterisco \" $^{*}$\"*."
   ]
  },
  {
   "cell_type": "markdown",
   "id": "2c7da228",
   "metadata": {},
   "source": [
    "#### Importante! [🎥](https://youtu.be/UKrb6kRXzf4?t=00)$^{*}$"
   ]
  },
  {
   "cell_type": "markdown",
   "id": "f4d28251",
   "metadata": {},
   "source": [
    "A programação desempenha um papel complementar na disciplina <b>Matemática Financeira e Estatística</b>, sendo utilizada principalmente como uma ferramenta de apoio. Não será cobrada diretamente nas provas presenciais, mas poderá ser explorada em atividades extraclasse."
   ]
  },
  {
   "cell_type": "markdown",
   "id": "e46e5bb0",
   "metadata": {},
   "source": [
    "Sugerimos aos leitores sem bagagem de programação em linguagem Python a leitura do material disponível no [Curso Python Com Jupyter Notebook](https://colab.research.google.com/github/ProfAllanIFBA/Curso_Python_Com_Jupyter_Notebook)."
   ]
  },
  {
   "cell_type": "markdown",
   "id": "068c41a3",
   "metadata": {},
   "source": [
    "#### Python, o que é? Morde? [🎥](https://youtu.be/UKrb6kRXzf4?t=127)$^{*}$\n"
   ]
  },
  {
   "cell_type": "markdown",
   "id": "d556989c",
   "metadata": {},
   "source": [
    "<table>\n",
    "<tr>\n",
    "<td><img src=\"img_apostila\\cobrinha.gif\" alt=\"Cobrinha\" style=\"width:500px;\"/></td>\n",
    "<td style=\"text-align: justify; font-size: 16px\"> Python é uma linguagem de programação de alto nível, interpretada, orientada a objetos e de <b>propósito geral</b>. Foi criada em 1991 por Guido van Rossum e tem como objetivo principal ser <b>fácil de ler</b> e <b>escrever</b>, com uma <b>sintaxe clara</b> e <b>simples</b>.</td>\n",
    "</tr>\n",
    "</table>"
   ]
  },
  {
   "cell_type": "markdown",
   "id": "869e7f3b",
   "metadata": {},
   "source": [
    "#### Guido van Rossum [🎥](https://youtu.be/UKrb6kRXzf4?t=225)$^{*}$"
   ]
  },
  {
   "cell_type": "markdown",
   "id": "ffdd5453",
   "metadata": {
    "ExecuteTime": {
     "end_time": "2025-01-28T14:19:24.016025Z",
     "start_time": "2025-01-28T14:19:23.997945Z"
    }
   },
   "source": [
    "<table>\n",
    "<tr><br><br>\n",
    " <td><img src=\"img_apostila\\guido.jpg\" alt=\"Guido van Rossum\" style=\"width:600px;\"/></td>\n",
    "<td style=\"text-align: justify; font-size: 16px;\">Guido van Rossum<br>\n",
    " - Nascido em Haarlem, 1956.<br>\n",
    " - Matemático e programador, criador da linguagem Python.<br>\n",
    " - Formado em matemática pela Universidade de Amsterdã; teve contato inicial com ALGOL 60 e Pascal.<br>\n",
    " - <b>Propôs o projeto \"Computer Programming for Everybody\" à DARPA em 1999, visando desenvolver Python como uma linguagem intuitiva, poderosa e de código aberto<b/>.<br>\n",
    " - <b>Python evoluiu para uma das linguagens mais populares, amplamente usada na Internet e outras aplicações.<b/><td/>\n",
    "<tr/>\n",
    "<table/>\n"
   ]
  },
  {
   "cell_type": "markdown",
   "id": "16afe03d",
   "metadata": {},
   "source": [
    "#### O que este material possui de inovador?[🎥](https://youtu.be/HcgSbQ4JbcY?t=00)$^{*}$"
   ]
  },
  {
   "cell_type": "code",
   "execution_count": 1,
   "id": "f74ea2ee",
   "metadata": {
    "ExecuteTime": {
     "end_time": "2025-05-07T13:59:35.422831Z",
     "start_time": "2025-05-07T13:59:35.412942Z"
    }
   },
   "outputs": [
    {
     "name": "stdout",
     "output_type": "stream",
     "text": [
      "6\n"
     ]
    }
   ],
   "source": [
    "a = 4\n",
    "b = 2\n",
    "print(a+b)"
   ]
  },
  {
   "cell_type": "markdown",
   "id": "5439cece",
   "metadata": {},
   "source": [
    "Esta é uma expressão que se pode digitar aqui no Jupyter Notebook: $\\left(\\sqrt{x^{2}+1}+3\\right)^{3}$"
   ]
  },
  {
   "cell_type": "markdown",
   "id": "35432a4d",
   "metadata": {},
   "source": [
    "[Versão em Nuvem](https://colab.research.google.com/github/ProfAllanIFBA/Matematica_e_Programacao/blob/main/Matematica_Financeira/Matematica_Financeira.ipynb)"
   ]
  },
  {
   "cell_type": "markdown",
   "id": "b4c526b6",
   "metadata": {},
   "source": [
    "#### Aprender Python é realmente importante? [🎥](https://youtu.be/HcgSbQ4JbcY?t=395)$^{*}$"
   ]
  },
  {
   "cell_type": "markdown",
   "id": "927eb003",
   "metadata": {},
   "source": [
    "<table>\n",
    "<tr>\n",
    "<td><img src=\"img_apostila\\imperio.gif\" alt=\"Nave Imperial\" style=\"width:600px;\"/></td>\n",
    "<td style=\"text-align: justify; font-size: 16px\"> As naves do império em Star Wars são programadas usando a linguagem Python? Não, não ainda...</td>\n",
    "</tr>\n",
    "</table>\n"
   ]
  },
  {
   "cell_type": "markdown",
   "id": "1f4d6cbb",
   "metadata": {},
   "source": [
    "**Índice TIOBE**: Este índice atualizado mensalmente classifica as linguagens de programação mais populares com base em diversos critérios, como número de engenheiros qualificados, cursos e fornecedores. 🔗[TIOBE](https://www.tiobe.com/tiobe-index/)"
   ]
  },
  {
   "cell_type": "markdown",
   "id": "905213c8",
   "metadata": {},
   "source": [
    "**Ranking RedMonk**: A RedMonk publica periodicamente rankings que avaliam a popularidade das linguagens de programação, considerando fatores como discussões em redes sociais e repositórios de código. 🔗[Ranking RedMonk](https://redmonk.com/sogrady/2024/03/08/language-rankings-1-24/)"
   ]
  },
  {
   "cell_type": "markdown",
   "id": "059753a8",
   "metadata": {},
   "source": [
    "##### Então, o que é possível fazer com Python? [🎥](https://youtu.be/HcgSbQ4JbcY?t=569)$^{*}$"
   ]
  },
  {
   "cell_type": "markdown",
   "id": "be61ad27",
   "metadata": {},
   "source": [
    "**Automatização de tarefas:** com o Python, você pode automatizar cálculos e tarefas repetitivas, economizando tempo e aumentando sua eficiência."
   ]
  },
  {
   "cell_type": "markdown",
   "id": "54197133",
   "metadata": {},
   "source": [
    "**Visualização de dados:** Python possui bibliotecas poderosas, como a Matplotlib, que permitem criar visualizações de dados de alta qualidade, o que pode ser útil em muitas áreas, incluindo negócios, finanças, ciência e engenharia."
   ]
  },
  {
   "cell_type": "markdown",
   "id": "39dc27d8",
   "metadata": {},
   "source": [
    "**Aprendizado de máquina:** Python é uma das linguagens mais populares para aprendizado de máquina e inteligência artificial, que estão se tornando cada vez mais importantes em muitas áreas, desde finanças até medicina."
   ]
  },
  {
   "cell_type": "markdown",
   "id": "adaa1428",
   "metadata": {},
   "source": [
    "**Flexibilidade e versatilidade:** Python é uma linguagem versátil que pode ser usada em muitas áreas diferentes, desde análise de dados e ciência até desenvolvimento web e jogos."
   ]
  },
  {
   "cell_type": "markdown",
   "id": "65d9c152",
   "metadata": {},
   "source": [
    "###### + um ótimo motivo (meu preferido)"
   ]
  },
  {
   "cell_type": "markdown",
   "id": "30ff3252",
   "metadata": {},
   "source": [
    "O GPT (e outro modelos de linguagem) \"sabem\" mais Python que as outras linguagens...<br><br>\n",
    "<center><p style=\"text-align:center;\">\n",
    "  <img src=\"img_apostila\\johnny_5.gif\" style=\"display: inline; height: 300px;\">\n",
    "</p><center/>\n"
   ]
  },
  {
   "cell_type": "markdown",
   "id": "71b84959",
   "metadata": {},
   "source": [
    "##### Seu feedback é muito importante"
   ]
  },
  {
   "cell_type": "markdown",
   "id": "07180f82",
   "metadata": {},
   "source": [
    "_Nos ajude a melhorar! Após a leitura avalie esse material:<br> 🔗[Avaliação do Material: Estatística Com Enfoque Computacional](https://forms.gle/v2ZKBkyW17kxfGcW6)_\n",
    "\n",
    "_Caso encontre erros nesse material acesse:<br> 🔗[Sugestão de Correções: Estatística Com Enfoque Computacional](https://forms.gle/Y9cAiaHaNsekCxet9)_"
   ]
  },
  {
   "cell_type": "markdown",
   "id": "d87fc46a",
   "metadata": {},
   "source": [
    "# <a id=\"o_que_e_estatistica\"></a>O que é Estatística? [🎥](https://youtu.be/ZrGXlo2IpH0)"
   ]
  },
  {
   "cell_type": "markdown",
   "id": "27df0721",
   "metadata": {},
   "source": [
    "<center> <img src=\"img_apostila\\estatistica.jpg\" alt=\"jpg_python\" width=\"200\" height=\"\"> </center>"
   ]
  },
  {
   "cell_type": "markdown",
   "id": "bfa23a91",
   "metadata": {},
   "source": [
    "A Estatística é uma área da matemática que se dedica à coleta, organização, análise e interpretação de dados. Seu objetivo é transformar informações em conhecimento para tomar decisões mais precisas e embasadas."
   ]
  },
  {
   "cell_type": "markdown",
   "id": "690f289b",
   "metadata": {},
   "source": [
    "Com a Estatística, você pode, por exemplo:\n",
    "\n",
    "* Organizar dados de forma que possamos entender e interpretar com mais clareza.\n",
    "\n",
    "* Compreender tendências e padrões em grandes quantidades de dados.\n",
    "\n",
    "* Avaliar o desempenho de um grupo ou de uma variável.\n",
    "\n",
    "* Fazer previsões baseadas em dados coletados."
   ]
  },
  {
   "cell_type": "markdown",
   "id": "23097b7b",
   "metadata": {},
   "source": [
    "# <a id=\"Conceitos_Iniciais\"></a>1. Conceitos Inciais"
   ]
  },
  {
   "cell_type": "markdown",
   "id": "d746417d",
   "metadata": {},
   "source": [
    "## <a id=\"populacao_e_amostra\"></a>1.1 População e Amostra [🎥](https://youtu.be/oS9NgrOEVZ8)\n",
    "\n"
   ]
  },
  {
   "cell_type": "markdown",
   "id": "7b0ea001",
   "metadata": {},
   "source": [
    "<a id=\"populacao\"></a><font color='red'> <b> Definimos população como sendo o conjunto de indivíduos ou objetos que apresentam pelo menos uma característica comum (a ser estudada)."
   ]
  },
  {
   "cell_type": "markdown",
   "id": "6d3b9379",
   "metadata": {},
   "source": [
    "<a id=\"amostra\"></a><font color='red'> <b> Chama-se amostra um subconjunto de uma população, que mesmo tendo tamanho reduzido, seja capaz de representá-la."
   ]
  },
  {
   "cell_type": "markdown",
   "id": "0ec15560",
   "metadata": {},
   "source": [
    "#### <a id=\"exemplo_1\"></a> <font color='blue'> Exemplo 1:  </font> [🎥](https://youtu.be/oS9NgrOEVZ8?t=38)"
   ]
  },
  {
   "cell_type": "markdown",
   "id": "b9e87f5e",
   "metadata": {},
   "source": [
    "<font color='blue'> Determine a população e amostra na situação de pesquisa a seguir:<br>\n",
    " <i>\"Um partido político encomenda uma pesquisa para conhecer as intenções de voto da população para presidente. Para tanto, são selecionados $2341$ pessoas nas diversas regiões do país para participar da pesquisa.\"</i>"
   ]
  },
  {
   "cell_type": "markdown",
   "id": "948a3fa4",
   "metadata": {},
   "source": [
    "##### <font color='blue'> Solução: </font>"
   ]
  },
  {
   "cell_type": "markdown",
   "id": "e6cee748",
   "metadata": {},
   "source": [
    "<font color='blue'> **População**: A população, neste caso, é composta por todos os eleitores brasileiros com direito a voto nas eleições. Isso inclui pessoas maiores de 18 e menores de $70$ anos, que são obrigadas a votar, e aqueles de $16$ e $17$ anos, que têm o voto facultativo, ou seja, não são obrigados a votar, mas podem escolher participar. A população também abrange cidadãos com mais de $70$ anos, para os quais o voto é opcional. Portanto, a população é o conjunto de todas as pessoas com direito a voto no Brasil, sem restrições de idade ou status eleitoral, exceto as que estão fora do direito de votar, como pessoas com direitos políticos suspensos.<br>\n",
    " **Amostra**: A amostra é o subconjunto de $2341$ pessoas selecionadas dentre os eleitores brasileiros aptos a votar, incluindo tanto os obrigados (maiores de $18$ e menores de $70$ anos) quanto os facultativos (entre $16$ e $17$ anos ou maiores de $70$ anos). "
   ]
  },
  {
   "cell_type": "markdown",
   "id": "24c735b3",
   "metadata": {},
   "source": [
    "No [Exemplo 1](#exemplo_1), embora $2341$ seja um grupo relativamente pequeno em relação à população total do Brasil apta a votar, essa amostra foi escolhida de maneira a representar a população, com a intenção de que seus resultados possam ser generalizados para o conjunto total de eleitores. Atualmente, a população do Brasil apta a votar é $155$ milhões de habitantes, de acordo com o IBGE (Instituto Brasileiro de Geografia e Estatística). Para mais detalhes consulte: [Brasil tem mais de 155 milhões de eleitoras e eleitores aptos a votar em 2024](https://www.tse.jus.br/comunicacao/noticias/2024/Julho/brasil-tem-mais-de-155-milhoes-de-eleitoras-e-eleitores-aptos-a-votar-em-2024)."
   ]
  },
  {
   "cell_type": "markdown",
   "id": "a7645733",
   "metadata": {},
   "source": [
    "## <a id=\"representatividade\"></a>1.2 Representatividade [🎥](https://youtu.be/r1EtpvIiGh0?t=10)\n",
    "\n"
   ]
  },
  {
   "cell_type": "markdown",
   "id": "65aa340c",
   "metadata": {},
   "source": [
    "<a id=\"representatividade\"></a> <font color='red'> <b> A capacidade de uma amostra em representar uma população é chamada de representatividade."
   ]
  },
  {
   "cell_type": "markdown",
   "id": "c81ba648",
   "metadata": {},
   "source": [
    "Para garantir que uma amostra seja representativa, é preciso tomar algumas precauções:\n",
    "\n",
    "1. Tamanho adequado da amostra: A amostra deve ser grande o suficiente para capturar a diversidade da população. Amostras muito pequenas podem não refletir a variedade de características da população, enquanto amostras grandes tendem a ser mais precisas.\n",
    "\n",
    "2. Seleção aleatória: Para que a amostra seja representativa, os indivíduos devem ser selecionados aleatoriamente. Isso significa que cada pessoa da população tem a mesma chance de ser escolhida, evitando que o estudo favoreça um grupo específico ou distorça os resultados.\n",
    "\n",
    "3. Diversidade da amostra: A amostra precisa refletir as diferentes características da população, como idade, gênero, região, nível de escolaridade, entre outras. Isso garante que os resultados da pesquisa possam ser aplicados a todos os grupos da população.\n",
    "\n",
    "4. Evitar viés de seleção: O viés ocorre quando certos grupos da população têm mais chance de serem escolhidos do que outros, o que pode prejudicar a representatividade. É importante evitar qualquer tipo de influência que possa alterar a seleção de participantes.\n",
    "\n",
    "5. Proporcionalidade: A amostra deve manter a mesma proporção dos grupos presentes na população. Por exemplo, se $60\\%$ da população é formada por mulheres, $60\\%$ da amostra também deve ser composta por mulheres, e assim por diante."
   ]
  },
  {
   "cell_type": "markdown",
   "id": "a80843fb",
   "metadata": {},
   "source": [
    "#### <a id=\"exemplo_2\"></a> <font color='blue'> Exemplo 2: </font> [🎥](https://youtu.be/r1EtpvIiGh0?t=366)"
   ]
  },
  {
   "cell_type": "markdown",
   "id": "9af0a63b",
   "metadata": {},
   "source": [
    "<font color='blue'> Imagine que precisamos conhecer a estatura média das mulheres brasileiras. Para isso, foram adotados os critérios a seguir:<br>\n",
    " <font color='blue'> 1. Escolhem-se aleatoriamente apenas mulheres adultas.<br>\n",
    " <font color='blue'> 2. Escolhem-se aleatoriamente mulheres de todas as regiões do Brasil.<br>\n",
    " <font color='blue'> 3. As quantidades de mulheres selecionadas de cada região devem ser proporcionais à população de mulheres em cada uma dessas regiões.<br>\n",
    " <font color='blue'> 4. Em cada região, escolhem-se mulheres de diferentes classes sociais, garantindo diversidade socioeconômica.<br>\n",
    " <font color='blue'> 5. As quantidades de mulheres de cada classe social em cada região devem ser proporcionais à distribuição de mulheres entre as diferentes classes sociais naquela região."
   ]
  },
  {
   "cell_type": "markdown",
   "id": "49c8893e",
   "metadata": {},
   "source": [
    "#### <a id=\"exemplo_3\"></a> <font color='blue'> Exemplo 3: </font> [🎥](https://youtu.be/r1EtpvIiGh0?t=437)"
   ]
  },
  {
   "cell_type": "markdown",
   "id": "84e555be",
   "metadata": {},
   "source": [
    "<font color='blue'> Perguntar para os familiares e amigos de um candidato a prefeito em quem irão votar, com a finalidade de prever o resultado das eleições na cidade, é um exemplo de uma amostra não representativa. Embora a amostra possa ser grande o suficiente em termos de quantidade de pessoas, ela não reflete a diversidade de eleitores da cidade. Os familiares e amigos tendem a ter opiniões semelhantes ou influenciadas pela relação com o candidato, o que distorce os resultados e não garante que eles representem as intenções de voto da população como um todo. Portanto, trata-se de uma amostra enviesada e, consequentemente, não representativa."
   ]
  },
  {
   "cell_type": "markdown",
   "id": "4523ee6e",
   "metadata": {},
   "source": [
    "# <a id=\"distribuicao_de_frequencias\"></a> 2. Distribuição de Frequência"
   ]
  },
  {
   "cell_type": "markdown",
   "id": "ba60d8ee",
   "metadata": {},
   "source": [
    "## <a id=\"amplitude_e_rol_amostrais\"></a> 2.1 Amplitude e Rol de Uma Amostra [🎥](https://youtu.be/Ymknhd2Jg4s?t=0)"
   ]
  },
  {
   "cell_type": "markdown",
   "id": "46b0720e",
   "metadata": {},
   "source": [
    "<a id=\"amplitude_amostral\"></a> <font color='red'> <b> Chama-se amplitude de uma amostra ($R$) a diferença entre o maior e o menor valor observados."
   ]
  },
  {
   "cell_type": "markdown",
   "id": "85b6f6ba",
   "metadata": {},
   "source": [
    "<a id=\"rol\"></a><font color='red'> <b> Chama-se rol ao arranjo dos dados de uma amostra em ordem crescente ou decrescente."
   ]
  },
  {
   "cell_type": "markdown",
   "id": "92380a9e",
   "metadata": {},
   "source": [
    "#### <a id=\"exemplo_4\"></a> <font color='blue'> Exemplo 4: </font> [🎥](https://youtu.be/Ymknhd2Jg4s?t=339)"
   ]
  },
  {
   "cell_type": "markdown",
   "id": "9bda0c70",
   "metadata": {},
   "source": [
    "<font color='blue'> As estaturas, em metros, de quinze mulheres estão dispostas na seguinte amostra:<br><br>\n",
    " $$\\begin{array}{ccccc}\n",
    " 1,59 & 1,60 & 1,70 & 1,65 & 1,58 \\\\\n",
    " 1,56 & 1,48 & 1,64 & 1,64 & 1,66 \\\\\n",
    " 1,59 & 1,64 & 1,62 & 1,72 & 1,63 \n",
    " \\end{array}$$<br>\n",
    " Com base na amostra fornecida, determine:<br>\n",
    " a) A amplitude da amostra.<br>\n",
    " b) O rol dos dados em ordem crescente."
   ]
  },
  {
   "cell_type": "markdown",
   "id": "3f43365d",
   "metadata": {},
   "source": [
    "##### <font color='blue'> Solução do item \"a\": </font>"
   ]
  },
  {
   "cell_type": "markdown",
   "id": "6ca65d94",
   "metadata": {},
   "source": [
    "<font color='blue'> Temos que o maior e menor elementos são, respectivamente, $1,72$ e $1,48$ metros. Neste caso, a amplitude da amostra é igual a $1,72-1,48 = 0,24$ metros."
   ]
  },
  {
   "cell_type": "markdown",
   "id": "afbef299",
   "metadata": {},
   "source": [
    "###### <font color='blue'> Python: </font>"
   ]
  },
  {
   "cell_type": "code",
   "execution_count": 4,
   "id": "41b3ed28",
   "metadata": {
    "ExecuteTime": {
     "end_time": "2025-05-26T13:07:15.842675Z",
     "start_time": "2025-05-26T13:07:15.835693Z"
    }
   },
   "outputs": [
    {
     "name": "stdout",
     "output_type": "stream",
     "text": [
      "0.24\n"
     ]
    }
   ],
   "source": [
    "# Dados\n",
    "amostra = [1.59, 1.60, 1.70, 1.65, 1.58,\n",
    "           1.56, 1.48, 1.64, 1.64, 1.66,\n",
    "           1.59, 1.64, 1.62, 1.72, 1.63]\n",
    "\n",
    "# Maior e menor valores da amostra\n",
    "maior = max(amostra)\n",
    "menor = min(amostra)\n",
    "\n",
    "# Amplitude da amostra\n",
    "amplitude = maior-menor\n",
    "\n",
    "# Impressão do resultado\n",
    "print(amplitude)"
   ]
  },
  {
   "cell_type": "markdown",
   "id": "57e1c3b7",
   "metadata": {},
   "source": [
    "<font color='blue'> Podemos fornecer uma impressão personalizada do resultado."
   ]
  },
  {
   "cell_type": "code",
   "execution_count": 5,
   "id": "4f7ca148",
   "metadata": {
    "ExecuteTime": {
     "end_time": "2025-05-26T13:08:00.108529Z",
     "start_time": "2025-05-26T13:08:00.103781Z"
    }
   },
   "outputs": [
    {
     "name": "stdout",
     "output_type": "stream",
     "text": [
      "A amplitude da amostra em questão é 0.24 metros.\n"
     ]
    }
   ],
   "source": [
    "# Impressão personalizada do resultado\n",
    "print(f'A amplitude da amostra em questão é {amplitude} metros.')"
   ]
  },
  {
   "cell_type": "markdown",
   "id": "17ea878b",
   "metadata": {},
   "source": [
    "##### <font color='blue'> Solução do item \"b\": </font>"
   ]
  },
  {
   "cell_type": "markdown",
   "id": "414061ea",
   "metadata": {},
   "source": [
    "<font color='blue'> A rol dos dados, em ordem crescente, é dado a seguir:<br><br>\n",
    " $$\\begin{array}{ccccc}\n",
    " 1,48 & 1,56 & 1,58 & 1,59 & 1,59 \\\\\n",
    " 1,60 & 1,62 & 1,63 & 1,64 & 1,64 \\\\\n",
    " 1,64 & 1,65 & 1,66 & 1,70 & 1,72 \n",
    " \\end{array}$$<br>"
   ]
  },
  {
   "cell_type": "markdown",
   "id": "3f341d11",
   "metadata": {},
   "source": [
    "###### <font color='blue'> Python: </font>"
   ]
  },
  {
   "cell_type": "code",
   "execution_count": 6,
   "id": "7be56970",
   "metadata": {
    "ExecuteTime": {
     "end_time": "2025-05-26T13:09:32.342632Z",
     "start_time": "2025-05-26T13:09:32.337347Z"
    }
   },
   "outputs": [
    {
     "name": "stdout",
     "output_type": "stream",
     "text": [
      "Amostra original:\n",
      " [1.59, 1.6, 1.7, 1.65, 1.58, 1.56, 1.48, 1.64, 1.64, 1.66, 1.59, 1.64, 1.62, 1.72, 1.63]\n",
      "Rol (ordem crescente):\n",
      " [1.48, 1.56, 1.58, 1.59, 1.59, 1.6, 1.62, 1.63, 1.64, 1.64, 1.64, 1.65, 1.66, 1.7, 1.72]\n"
     ]
    }
   ],
   "source": [
    "# Ordenar a amostra em ordem crescente (rol)\n",
    "rol = sorted(amostra)\n",
    "\n",
    "# Impressão do resultado\n",
    "print(\"Amostra original:\\n\", amostra)\n",
    "print(\"Rol (ordem crescente):\\n\", rol)"
   ]
  },
  {
   "cell_type": "markdown",
   "id": "c7afdcef",
   "metadata": {},
   "source": [
    "## <a id=\"distribuicao_de_frequencia_simples\"></a> 2.2 Distribuição de Frequência (Simples) [🎥](https://youtu.be/retc-zKtTdw?t=0)"
   ]
  },
  {
   "cell_type": "markdown",
   "id": "f8050624",
   "metadata": {},
   "source": [
    "<a id=\"def_distribuicao_de_frequencia_simples\"></a><font color='red'> <b> Uma distribuição de frequência simples ou apenas distribuição de frequência é uma forma de organizar dados em uma tabela, onde são apresentados os diferentes valores ou categorias de uma variável (chamados de valores observados) e a frequência com que cada valor ou categoria ocorre na amostra ou população."
   ]
  },
  {
   "cell_type": "markdown",
   "id": "f069ab81",
   "metadata": {},
   "source": [
    "Uma distribuição de frequência oferece várias vantagens em relação aos dados brutos ou ao rol (arranjo dos dados em ordem crescente ou decrescente). Aqui estão algumas das principais vantagens:"
   ]
  },
  {
   "cell_type": "markdown",
   "id": "9f415744",
   "metadata": {},
   "source": [
    "1. **Facilidade de Interpretação**: A distribuição de frequência organiza os dados de forma mais sistemática, permitindo uma análise mais rápida e clara. Ao invés de observar uma lista longa de valores, podemos ver quantas vezes cada valor ou faixa de valores ocorre, o que facilita a compreensão das tendências.\n",
    "\n",
    "2. **Identificação de Padrões**: Com a distribuição de frequência, fica mais fácil identificar padrões e tendências nos dados, como a concentração de valores em determinadas faixas. Isso não seria tão claro apenas observando os dados brutos ou o rol.\n",
    "\n",
    "3. **Resumo de Dados**: A distribuição de frequência permite resumir grandes volumes de dados em tabelas compactas e gráficos (como histogramas ou gráficos de barras), oferecendo uma visão geral das informações de maneira mais acessível. Isso é especialmente útil quando se trabalha com grandes conjuntos de dados.\n",
    "\n",
    "4. **Análise de Frequências e Proporções**: A distribuição de frequência ajuda a entender não só a quantidade de vezes que um valor específico ocorre, mas também a proporção ou porcentagem que ele representa em relação ao total de dados, o que pode ser importante para análise estatística.\n",
    "\n",
    "5. **Análise de Distribuições**: Ao utilizar uma distribuição de frequência, podemos identificar o tipo de distribuição dos dados (simétrica, assimétrica, normal, etc.), o que não seria tão fácil de perceber com dados brutos ou com um rol sem agrupamento.\n",
    "\n",
    "6. **Agrupamento por Intervalos**: Se os dados contiverem muitos valores diferentes, a distribuição de frequência permite agrupá-los em intervalos (classes), tornando a análise mais prática e menos sobrecarregada de detalhes. Isso é especialmente útil quando os dados são contínuos e possuem muitos valores distintos."
   ]
  },
  {
   "cell_type": "markdown",
   "id": "599d58f0",
   "metadata": {},
   "source": [
    "#### <a id=\"exemplo_5\"></a> <font color='blue'> Exemplo 5: </font> [🎥](https://youtu.be/retc-zKtTdw?t=250)"
   ]
  },
  {
   "cell_type": "markdown",
   "id": "49fafb6e",
   "metadata": {},
   "source": [
    "<font color='blue'> Consideremos a seguinte amostra proveniente do lançamento de uma dado honesto vinte vezes:<br><br>\n",
    " $$\\begin{array}{ccccc}\n",
    " 6 & 1 & 2 & 2 & 3 \\\\\n",
    " 5 & 6 & 4 & 1 & 4 \\\\\n",
    " 3 & 2 & 3 & 6 & 5 \\\\\n",
    " 1 & 2 & 4 & 3 & 6 \\\\\n",
    " \\end{array}$$<br>\n",
    " Apresente uma distribuição de frequência referente os valores acima."
   ]
  },
  {
   "cell_type": "markdown",
   "id": "cac666a5",
   "metadata": {
    "ExecuteTime": {
     "end_time": "2025-02-19T23:42:57.325046Z",
     "start_time": "2025-02-19T23:42:57.319027Z"
    }
   },
   "source": [
    "##### <font color='blue'> Solução: </font>"
   ]
  },
  {
   "cell_type": "markdown",
   "id": "5206a43f",
   "metadata": {},
   "source": [
    "<font color='blue'> Uma vez que o conjunto de resultados possíveis é relativamente reduzido (apenas $6$) podemos apresentar uma distribuição de frequência por meio da contagem um-a-um. Nesse caso, temos a seguinte tabela:<br><br>\n",
    " $$\\begin{array}{c|c}\n",
    " \\text{Resultado} & \\text{Frequência} \\\\ \\hline\n",
    " 1 & 3 \\\\\n",
    " 2 & 4 \\\\\n",
    " 3 & 4 \\\\\n",
    " 4 & 3 \\\\\n",
    " 5 & 2 \\\\\n",
    " 6 & 4 \\\\ \\hline\n",
    " & \\Sigma = 20\n",
    " \\end{array}$$\n",
    "    <center>**Fonte:** Dados fictícios.</center>"
   ]
  },
  {
   "cell_type": "markdown",
   "id": "3e15db32",
   "metadata": {},
   "source": [
    "###### <font color='blue'> Python"
   ]
  },
  {
   "cell_type": "code",
   "execution_count": 9,
   "id": "ba458a9c",
   "metadata": {
    "ExecuteTime": {
     "end_time": "2025-05-26T13:41:15.778207Z",
     "start_time": "2025-05-26T13:41:15.768930Z"
    }
   },
   "outputs": [
    {
     "name": "stdout",
     "output_type": "stream",
     "text": [
      "   Resultado  Frequência\n",
      "0          1           3\n",
      "1          2           4\n",
      "2          3           4\n",
      "3          4           3\n",
      "4          5           2\n",
      "5          6           4\n",
      "                  Σ = 20\n"
     ]
    }
   ],
   "source": [
    "import pandas as pd\n",
    "\n",
    "# Definir a amostra de lançamentos\n",
    "amostra = [6, 1, 2, 2, 3,\n",
    "           5, 6, 4, 1, 4,\n",
    "           3, 2, 3, 6, 5,\n",
    "           1, 2, 4, 3, 6]\n",
    "\n",
    "# Contar a frequência de cada resultado (1 a 6) usando pandas\n",
    "frequencias = pd.Series(amostra).value_counts().sort_index()\n",
    "\n",
    "# Exibir a tabela de distribuição de frequência\n",
    "frequencias_df = pd.DataFrame({\n",
    "    'Resultado': frequencias.index,\n",
    "    'Frequência': frequencias.values\n",
    "})\n",
    "\n",
    "# Exibir a tabela e a soma das frequências\n",
    "print(frequencias_df)\n",
    "print(f\"                  Σ = {frequencias.sum()}\")"
   ]
  },
  {
   "cell_type": "code",
   "execution_count": 10,
   "id": "c8ae58e6",
   "metadata": {
    "ExecuteTime": {
     "end_time": "2025-05-26T13:42:02.216678Z",
     "start_time": "2025-05-26T13:42:02.209679Z"
    }
   },
   "outputs": [
    {
     "data": {
      "text/html": [
       "<div>\n",
       "<style scoped>\n",
       "    .dataframe tbody tr th:only-of-type {\n",
       "        vertical-align: middle;\n",
       "    }\n",
       "\n",
       "    .dataframe tbody tr th {\n",
       "        vertical-align: top;\n",
       "    }\n",
       "\n",
       "    .dataframe thead th {\n",
       "        text-align: right;\n",
       "    }\n",
       "</style>\n",
       "<table border=\"1\" class=\"dataframe\">\n",
       "  <thead>\n",
       "    <tr style=\"text-align: right;\">\n",
       "      <th></th>\n",
       "      <th>Resultado</th>\n",
       "      <th>Frequência</th>\n",
       "    </tr>\n",
       "  </thead>\n",
       "  <tbody>\n",
       "    <tr>\n",
       "      <th>0</th>\n",
       "      <td>1</td>\n",
       "      <td>3</td>\n",
       "    </tr>\n",
       "    <tr>\n",
       "      <th>1</th>\n",
       "      <td>2</td>\n",
       "      <td>4</td>\n",
       "    </tr>\n",
       "    <tr>\n",
       "      <th>2</th>\n",
       "      <td>3</td>\n",
       "      <td>4</td>\n",
       "    </tr>\n",
       "    <tr>\n",
       "      <th>3</th>\n",
       "      <td>4</td>\n",
       "      <td>3</td>\n",
       "    </tr>\n",
       "    <tr>\n",
       "      <th>4</th>\n",
       "      <td>5</td>\n",
       "      <td>2</td>\n",
       "    </tr>\n",
       "    <tr>\n",
       "      <th>5</th>\n",
       "      <td>6</td>\n",
       "      <td>4</td>\n",
       "    </tr>\n",
       "  </tbody>\n",
       "</table>\n",
       "</div>"
      ],
      "text/plain": [
       "   Resultado  Frequência\n",
       "0          1           3\n",
       "1          2           4\n",
       "2          3           4\n",
       "3          4           3\n",
       "4          5           2\n",
       "5          6           4"
      ]
     },
     "execution_count": 10,
     "metadata": {},
     "output_type": "execute_result"
    }
   ],
   "source": [
    "# Exibição melhorada do resultado (sem print)\n",
    "frequencias_df"
   ]
  },
  {
   "cell_type": "markdown",
   "id": "e31df30e",
   "metadata": {},
   "source": [
    "#### Agrupamento dos Dados em Classes [🎥](https://youtu.be/8v8gxsCtT38?t=0)"
   ]
  },
  {
   "cell_type": "markdown",
   "id": "efcbc115",
   "metadata": {},
   "source": [
    "> 6. **Agrupamento por Intervalos**: Se os dados contiverem muitos valores diferentes, a distribuição de frequência permite agrupá-los em intervalos (classes), tornando a análise mais prática e menos sobrecarregada de detalhes. Isso é especialmente útil quando os dados são contínuos e possuem muitos valores distintos."
   ]
  },
  {
   "cell_type": "markdown",
   "id": "a3f7bede",
   "metadata": {},
   "source": [
    "<a id=\"tipos_de_classes\"></a> <font color='red'> <b> Uma classe da forma $a \\vdash b$ é equivalente a um intervalo do forma $[a,b)$, isto é, ela compreende todos os elementos $x$ tais que $a \\leq x < b$. Pode-se utilizar também as classes $a - b \\equiv a < x < b$ e  $a \\dashv b \\equiv a < x \\leq b$."
   ]
  },
  {
   "cell_type": "markdown",
   "id": "a2ec773e",
   "metadata": {},
   "source": [
    "#### <a id=\"exemplo_6\"></a> <font color='blue'> Exemplo 6: </font> [🎥](https://youtu.be/8v8gxsCtT38?t=201)"
   ]
  },
  {
   "cell_type": "markdown",
   "id": "6e88ebf0",
   "metadata": {},
   "source": [
    "<font color='blue'> Consideremos novamente os dados do [Exemplo 4](#exemplo_4) cujo rol é dado a seguir:<br><br>\n",
    " $$\\begin{array}{ccccc}\n",
    " 1,48 & 1,56 & 1,58 & 1,59 & 1,59 \\\\\n",
    " 1,60 & 1,62 & 1,63 & 1,64 & 1,64 \\\\\n",
    " 1,64 & 1,65 & 1,66 & 1,70 & 1,72 \n",
    " \\end{array}$$<br>\n",
    " Podemos organizar os dados por meio de classes $a \\vdash b$ (incluindo o limite inferior mas não o superior) começando com limite inferior $1,40$ e amplitude de classe $(b-a)$ igual a $0,1$:<br><br>\n",
    " $$\\begin{array}{c|c}\n",
    " \\text{Resultado} & \\text{Frequência} \\\\ \\hline\n",
    " 1,40 \\vdash 1,50 & 1 \\\\\n",
    " 1,50 \\vdash 1,60 & 4 \\\\\n",
    " 1,60 \\vdash 1,70 & 8 \\\\\n",
    " 1,70 \\vdash 1,80 & 2 \\\\ \\hline\n",
    "  & \\Sigma = 15 \n",
    " \\end{array}$$"
   ]
  },
  {
   "cell_type": "markdown",
   "id": "b7d23157",
   "metadata": {},
   "source": [
    "###### <font color='blue'> Python"
   ]
  },
  {
   "cell_type": "code",
   "execution_count": 13,
   "id": "f97771ea",
   "metadata": {
    "ExecuteTime": {
     "end_time": "2025-05-26T14:14:28.353389Z",
     "start_time": "2025-05-26T14:14:28.340424Z"
    }
   },
   "outputs": [
    {
     "data": {
      "text/html": [
       "<div>\n",
       "<style scoped>\n",
       "    .dataframe tbody tr th:only-of-type {\n",
       "        vertical-align: middle;\n",
       "    }\n",
       "\n",
       "    .dataframe tbody tr th {\n",
       "        vertical-align: top;\n",
       "    }\n",
       "\n",
       "    .dataframe thead th {\n",
       "        text-align: right;\n",
       "    }\n",
       "</style>\n",
       "<table border=\"1\" class=\"dataframe\">\n",
       "  <thead>\n",
       "    <tr style=\"text-align: right;\">\n",
       "      <th></th>\n",
       "      <th>Resultado</th>\n",
       "      <th>Frequência</th>\n",
       "    </tr>\n",
       "  </thead>\n",
       "  <tbody>\n",
       "    <tr>\n",
       "      <th>0</th>\n",
       "      <td>1,40 ⊢ 1,50</td>\n",
       "      <td>1</td>\n",
       "    </tr>\n",
       "    <tr>\n",
       "      <th>1</th>\n",
       "      <td>1,50 ⊢ 1,60</td>\n",
       "      <td>4</td>\n",
       "    </tr>\n",
       "    <tr>\n",
       "      <th>2</th>\n",
       "      <td>1,60 ⊢ 1,70</td>\n",
       "      <td>8</td>\n",
       "    </tr>\n",
       "    <tr>\n",
       "      <th>3</th>\n",
       "      <td>1,70 ⊢ 1,80</td>\n",
       "      <td>2</td>\n",
       "    </tr>\n",
       "  </tbody>\n",
       "</table>\n",
       "</div>"
      ],
      "text/plain": [
       "     Resultado  Frequência\n",
       "0  1,40 ⊢ 1,50           1\n",
       "1  1,50 ⊢ 1,60           4\n",
       "2  1,60 ⊢ 1,70           8\n",
       "3  1,70 ⊢ 1,80           2"
      ]
     },
     "execution_count": 13,
     "metadata": {},
     "output_type": "execute_result"
    }
   ],
   "source": [
    "import pandas as pd\n",
    "\n",
    "# Definir o rol de dados\n",
    "rol = [1.48, 1.56, 1.58, 1.59, 1.59,\n",
    "       1.60, 1.62, 1.63, 1.64, 1.64,\n",
    "       1.64, 1.65, 1.66, 1.70, 1.72]\n",
    "\n",
    "# Definir as classes\n",
    "bins = [1.40, 1.50, 1.60, 1.70, 1.80]\n",
    "\n",
    "# Usar pandas para criar a distribuição de frequência\n",
    "labels = ['1,40 ⊢ 1,50', '1,50 ⊢ 1,60', '1,60 ⊢ 1,70', '1,70 ⊢ 1,80']\n",
    "frequencias = pd.cut(rol, bins=bins, labels=labels, right=False).value_counts().sort_index()\n",
    "\n",
    "# Exibir a tabela de distribuição de frequência\n",
    "frequencias_df = pd.DataFrame({\n",
    "    'Resultado': frequencias.index,\n",
    "    'Frequência': frequencias.values\n",
    "})\n",
    "\n",
    "# Exibir a tabela de frequências\n",
    "frequencias_df"
   ]
  },
  {
   "cell_type": "code",
   "execution_count": 14,
   "id": "a6c8eac3",
   "metadata": {
    "ExecuteTime": {
     "end_time": "2025-05-26T14:14:39.286932Z",
     "start_time": "2025-05-26T14:14:39.280479Z"
    },
    "code_folding": []
   },
   "outputs": [
    {
     "data": {
      "text/plain": [
       "'Σ = 15'"
      ]
     },
     "execution_count": 14,
     "metadata": {},
     "output_type": "execute_result"
    }
   ],
   "source": [
    "# Soma das frequências\n",
    "f\"Σ = {frequencias.sum()}\""
   ]
  },
  {
   "cell_type": "markdown",
   "id": "613c8ff5",
   "metadata": {},
   "source": [
    "### <a id=\"formacao_de_classes\"></a> 2.2.1 Critério Para a Formação de Classes Com Intervalos Reais"
   ]
  },
  {
   "cell_type": "markdown",
   "id": "96a41d57",
   "metadata": {},
   "source": [
    "Embora seja possível usar qualquer número de classes em uma tabela de distribuição de frequência, existem algumas metodologias para determinar esse número. No ensino médio, as tabelas geralmente são fornecidas. Contudo, caso queiramos construir uma tabela a partir de dados coletados podemos fazer uso da fórmula de Sturges. Vejamos os passos a seguir:"
   ]
  },
  {
   "cell_type": "markdown",
   "id": "7bffa3c8",
   "metadata": {},
   "source": [
    "<a id=\"numero_de_classes\"></a> <font color='red'> <b> 1 . Número de Classes ($K$): Usaremos a fórmula de Sturges<br><br>\n",
    " $$K = [1 + 3,32 log(n)]$$<br>\n",
    " em que $n$  é o tamanho da amostra e \"$[x]$\" corresponde o menor inteiro maior ou igual a $x$."
   ]
  },
  {
   "cell_type": "markdown",
   "id": "92ffb08e",
   "metadata": {},
   "source": [
    "<a id=\"amplitude_das_classes\"></a> <font color='red'> <b> 2. Amplitude das classes $(h)$:<br><br>\n",
    " $$h = \\left[\\left[\\frac{R}{K}\\right]\\right],$$\n",
    "em que $R$ é a amplitude da amostra e $[[x]]$ é a menor unidade inteira de medida (precisão) maior ou igual a $x$."
   ]
  },
  {
   "cell_type": "markdown",
   "id": "5f8c89ea",
   "metadata": {},
   "source": [
    "Começando-se a organização dos dados a partir do menor elemento da amostra os passos acima garantem que todos os dados serão postos em $K$ classes."
   ]
  },
  {
   "cell_type": "markdown",
   "id": "a01767ad",
   "metadata": {},
   "source": [
    "#### <a id=\"exemplo_7\"></a> <font color='blue'> Exemplo 7: </font>"
   ]
  },
  {
   "cell_type": "markdown",
   "id": "49fbd977",
   "metadata": {},
   "source": [
    "<font color='blue'> Consideremos as medidas referente ao peso (massa em $kg$) de $30$ integrantes, do sexo masculino, de uma mesma família com idades variando de $50$ a $70$ anos:<br><br>\n",
    " $$\\begin{array}{cccccc}\n",
    "47,0\t& 48,5\t& 49,7\t & 51,4\t& 51,9\t& 54,7 \\\\\n",
    "55,4\t& 57,4\t& 58,0\t& 59,2\t& 59,9\t& 60,4 \\\\\n",
    "61,2\t& 61,2\t& 61,8\t& 62,4\t& 63,2\t& 63,2 \\\\\n",
    "63,2\t& 63,2\t& 64,4\t& 65,2\t& 67,5\t& 69,3 \\\\\n",
    "69,9\t& 70,2\t& 70,4\t& 77,3\t& 78,4\t& 78,9 \\\\\n",
    "\\end{array}$$<br>\n",
    " Construa uma tabela de distribuição de frequências usando a fórmula de Sturges."
   ]
  },
  {
   "cell_type": "markdown",
   "id": "3efd9401",
   "metadata": {},
   "source": [
    "##### <font color='blue'> Solução: </font>"
   ]
  },
  {
   "cell_type": "markdown",
   "id": "c7da4a2b",
   "metadata": {},
   "source": [
    "<font color='blue'> Temos que $n = 30$, $R = 78,9-47,0 = 31,9$. Assim,<br><br>\n",
    " $$K = [1 + 3,32log_{10}(n)] = [1 + 3,32log_{10}(30)] = [5,90404256567] = 6$$<br>\n",
    " $$h = \\left[\\left[\\frac{R}{K}\\right]\\right] = \\left[\\left[\\frac{31,9}{6}\\right]\\right] = \\left[\\left[5,31666666667\\right]\\right] = 5,4$$<br>\n",
    " Temos, portanto, a seguinte tabela:<br><br>\n",
    " $$\\begin{array}{c|c} \\hline\n",
    "\\text{Peso (kg)}\t& \\text{Quantidade}\t\\\\ \\hline\n",
    "47,0 \\vdash 52,4    &  5\t\t\\\\ \n",
    "52,4 \\vdash 57,8\t&  3        \\\\ \n",
    "57,8 \\vdash 63,2\t&  8        \\\\\n",
    "63,2 \\vdash 68,6\t&  7        \\\\\n",
    "68,6 \\vdash 74,0\t&  4        \\\\\n",
    "74,0 \\vdash 79,4\t&  3        \\\\ \\hline\n",
    "\t\t  \t\t\t&  \\sum = 30\\\\ \n",
    "\\end{array} $$"
   ]
  },
  {
   "cell_type": "markdown",
   "id": "afeb2a7a",
   "metadata": {},
   "source": [
    "###### <font color='blue'> Python"
   ]
  },
  {
   "cell_type": "code",
   "execution_count": 4,
   "id": "031afd54",
   "metadata": {
    "ExecuteTime": {
     "end_time": "2025-06-11T12:09:16.423792Z",
     "start_time": "2025-06-11T12:09:15.851391Z"
    }
   },
   "outputs": [
    {
     "data": {
      "text/html": [
       "<div>\n",
       "<style scoped>\n",
       "    .dataframe tbody tr th:only-of-type {\n",
       "        vertical-align: middle;\n",
       "    }\n",
       "\n",
       "    .dataframe tbody tr th {\n",
       "        vertical-align: top;\n",
       "    }\n",
       "\n",
       "    .dataframe thead th {\n",
       "        text-align: right;\n",
       "    }\n",
       "</style>\n",
       "<table border=\"1\" class=\"dataframe\">\n",
       "  <thead>\n",
       "    <tr style=\"text-align: right;\">\n",
       "      <th></th>\n",
       "      <th>Peso (kg)</th>\n",
       "      <th>Frequência</th>\n",
       "    </tr>\n",
       "  </thead>\n",
       "  <tbody>\n",
       "    <tr>\n",
       "      <th>0</th>\n",
       "      <td>47.0 ⊢ 52.4</td>\n",
       "      <td>5</td>\n",
       "    </tr>\n",
       "    <tr>\n",
       "      <th>1</th>\n",
       "      <td>52.4 ⊢ 57.8</td>\n",
       "      <td>3</td>\n",
       "    </tr>\n",
       "    <tr>\n",
       "      <th>2</th>\n",
       "      <td>57.8 ⊢ 63.2</td>\n",
       "      <td>8</td>\n",
       "    </tr>\n",
       "    <tr>\n",
       "      <th>3</th>\n",
       "      <td>63.2 ⊢ 68.6</td>\n",
       "      <td>7</td>\n",
       "    </tr>\n",
       "    <tr>\n",
       "      <th>4</th>\n",
       "      <td>68.6 ⊢ 74.0</td>\n",
       "      <td>4</td>\n",
       "    </tr>\n",
       "    <tr>\n",
       "      <th>5</th>\n",
       "      <td>74.0 ⊢ 79.4</td>\n",
       "      <td>3</td>\n",
       "    </tr>\n",
       "  </tbody>\n",
       "</table>\n",
       "</div>"
      ],
      "text/plain": [
       "     Peso (kg)  Frequência\n",
       "0  47.0 ⊢ 52.4           5\n",
       "1  52.4 ⊢ 57.8           3\n",
       "2  57.8 ⊢ 63.2           8\n",
       "3  63.2 ⊢ 68.6           7\n",
       "4  68.6 ⊢ 74.0           4\n",
       "5  74.0 ⊢ 79.4           3"
      ]
     },
     "execution_count": 4,
     "metadata": {},
     "output_type": "execute_result"
    }
   ],
   "source": [
    "import pandas as pd\n",
    "import math\n",
    "\n",
    "# Dados (sempre uma única casa após a vírgula)\n",
    "rol = [47.0, 48.5, 49.7, 51.4, 51.9, 54.7,\n",
    "       55.4, 57.4, 58.0, 59.2, 59.9, 60.4,\n",
    "       61.2, 61.2, 61.8, 62.4, 63.2, 63.2,\n",
    "       63.2, 63.2, 64.4, 65.2, 67.5, 69.3,\n",
    "       69.9, 70.2, 70.4, 77.3, 78.4, 78.9]\n",
    "\n",
    "c = 1 # Casas após o ponto (inteiro tem 0 casas)\n",
    "\n",
    "# Calculando o número de classes\n",
    "K = 1 + math.ceil(3.32 * math.log10(len(rol)))\n",
    "\n",
    "# Definir o intervalo de dados\n",
    "min_value = min(rol)\n",
    "max_value = max(rol)\n",
    "\n",
    "# Calcular a amplitude de cada classe\n",
    "amplitude = round((max_value - min_value) / K, 1)\n",
    "\n",
    "while max_value > min_value + K*amplitude:\n",
    "    amplitude = round(amplitude+1/10**c,c)\n",
    "\n",
    "# Definir os limites dos bins ou classes\n",
    "bins = [min_value + i * amplitude for i in range(K + 1)]\n",
    "\n",
    "# Ajustando os labels das classes\n",
    "labels = [f\"{round(bins[i], 2)} ⊢ {round(bins[i + 1], 2)}\" for i in range(K)]\n",
    "\n",
    "# Usar pandas para criar a distribuição de frequência com right=True para incluir o limite superior\n",
    "frequencias = pd.cut(rol, bins=bins, labels=labels, right=False).value_counts().sort_index()\n",
    "\n",
    "# Exibir a tabela de distribuição de frequência\n",
    "frequencias_df = pd.DataFrame({\n",
    "    'Peso (kg)': frequencias.index,\n",
    "    'Frequência': frequencias.values\n",
    "})\n",
    "\n",
    "# Exibir a tabela\n",
    "frequencias_df\n"
   ]
  },
  {
   "cell_type": "markdown",
   "id": "54e166f2",
   "metadata": {},
   "source": [
    "## <a id=\"frequencia_relativa\"></a> 2.3 Frequência Relativa"
   ]
  },
  {
   "cell_type": "markdown",
   "id": "7fddb272",
   "metadata": {},
   "source": [
    "<a id=\"def_frequencia_relativa\"></a> <font color='red'> <b> A frequência relativa da classe $i$, ($f_{i}\\%$), se dá por meio da divisão das frequências simples pela quantidade total de dados (frequência total). O valor pode ser dado em fração ou porcentagem."
   ]
  },
  {
   "cell_type": "markdown",
   "id": "75b09bf3",
   "metadata": {},
   "source": [
    "#### <a id=\"exemplo_8\"></a> <font color='blue'> Exemplo 8: </font>"
   ]
  },
  {
   "cell_type": "markdown",
   "id": "0b3316f8",
   "metadata": {},
   "source": [
    "<font color='blue'> Para cada uma das distribuições de frequência a seguir (dados dos Exemplos [5](#exemplo_5),[6](#exemplo_6) e [7](#exemplo_7)), determine as frequências relativas:<br><br>\n",
    "  $\\text{a)} \\ \\begin{array}{c|c}\n",
    " \\text{Classes} &f_{i} \\\\ \\hline\n",
    " 1 & 3 \\\\\n",
    " 2 & 4 \\\\\n",
    " 3 & 4 \\\\\n",
    " 4 & 3 \\\\\n",
    " 5 & 2 \\\\\n",
    " 6 & 4 \\\\ \\hline\n",
    " & \\Sigma = 20\n",
    " \\end{array} \\ \\ \\ \\ \\ \\ \\ \\ \\ \\ \\ \\ \\ \\ \\ \\ \\ \\ \\ \\ b) \\ \\begin{array}{c|c}\n",
    " \\text{Classes} & f_{i} \\\\ \\hline\n",
    " 1,40 \\vdash 1,50 & 1 \\\\\n",
    " 1,50 \\vdash 1,60 & 4 \\\\\n",
    " 1,60 \\vdash 1,70 & 8 \\\\\n",
    " 1,70 \\vdash 1,80 & 2 \\\\ \\hline\n",
    "  & \\Sigma = 15 \n",
    " \\end{array}$<br><br>\n",
    "  $c) \\ \\begin{array}{c|c} \\hline\n",
    "\\text{Classes} & f_{i}\t\\\\ \\hline\n",
    "47,0 \\vdash 52,4    &  5\t\t\\\\ \n",
    "52,4 \\vdash 57,8\t&  3        \\\\ \n",
    "57,8 \\vdash 63,2\t&  8        \\\\\n",
    "63,2 \\vdash 68,6\t&  7        \\\\\n",
    "68,6 \\vdash 74,0\t&  4        \\\\\n",
    "74,0 \\vdash 79,4\t&  3        \\\\ \\hline\n",
    "\t\t  \t\t\t&  \\sum = 30\\\\ \n",
    "\\end{array} $"
   ]
  },
  {
   "cell_type": "markdown",
   "id": "6f989320",
   "metadata": {},
   "source": [
    "##### <font color='blue'> Solução do item \"a\": </font>"
   ]
  },
  {
   "cell_type": "markdown",
   "id": "5eca7cce",
   "metadata": {},
   "source": [
    "<font color='blue'> Temos a seguinte tabela:<br><br>\n",
    " $$\\begin{array}{c|c}\n",
    " \\text{Classe} & f_{i} & f_{i}\\% \\\\ \\hline\n",
    " 1 & 3 & 3/20 = 0,15 \\\\\n",
    " 2 & 4 & 4/20 = 0.20 \\\\\n",
    " 3 & 4 & 4/20 = 0.20 \\\\\n",
    " 4 & 3 & 3/20 = 0.15 \\\\\n",
    " 5 & 2 & 2/20 = 0.10 \\\\\n",
    " 6 & 4 & 4/20 = 0.20 \\\\ \\hline\n",
    " & \\Sigma = 20 & \\Sigma = 1\n",
    " \\end{array}$$"
   ]
  },
  {
   "cell_type": "markdown",
   "id": "733edd52",
   "metadata": {},
   "source": [
    "###### <font color='blue'> Python"
   ]
  },
  {
   "cell_type": "code",
   "execution_count": 2,
   "id": "5146e75e",
   "metadata": {
    "ExecuteTime": {
     "end_time": "2025-06-09T15:00:07.248894Z",
     "start_time": "2025-06-09T15:00:07.233091Z"
    }
   },
   "outputs": [
    {
     "data": {
      "text/html": [
       "<div>\n",
       "<style scoped>\n",
       "    .dataframe tbody tr th:only-of-type {\n",
       "        vertical-align: middle;\n",
       "    }\n",
       "\n",
       "    .dataframe tbody tr th {\n",
       "        vertical-align: top;\n",
       "    }\n",
       "\n",
       "    .dataframe thead th {\n",
       "        text-align: right;\n",
       "    }\n",
       "</style>\n",
       "<table border=\"1\" class=\"dataframe\">\n",
       "  <thead>\n",
       "    <tr style=\"text-align: right;\">\n",
       "      <th></th>\n",
       "      <th>Classe</th>\n",
       "      <th>f_i</th>\n",
       "      <th>f_i%</th>\n",
       "    </tr>\n",
       "  </thead>\n",
       "  <tbody>\n",
       "    <tr>\n",
       "      <th>0</th>\n",
       "      <td>1</td>\n",
       "      <td>3</td>\n",
       "      <td>0.15</td>\n",
       "    </tr>\n",
       "    <tr>\n",
       "      <th>1</th>\n",
       "      <td>2</td>\n",
       "      <td>4</td>\n",
       "      <td>0.20</td>\n",
       "    </tr>\n",
       "    <tr>\n",
       "      <th>2</th>\n",
       "      <td>3</td>\n",
       "      <td>4</td>\n",
       "      <td>0.20</td>\n",
       "    </tr>\n",
       "    <tr>\n",
       "      <th>3</th>\n",
       "      <td>4</td>\n",
       "      <td>3</td>\n",
       "      <td>0.15</td>\n",
       "    </tr>\n",
       "    <tr>\n",
       "      <th>4</th>\n",
       "      <td>5</td>\n",
       "      <td>2</td>\n",
       "      <td>0.10</td>\n",
       "    </tr>\n",
       "    <tr>\n",
       "      <th>5</th>\n",
       "      <td>6</td>\n",
       "      <td>4</td>\n",
       "      <td>0.20</td>\n",
       "    </tr>\n",
       "  </tbody>\n",
       "</table>\n",
       "</div>"
      ],
      "text/plain": [
       "   Classe  f_i  f_i%\n",
       "0       1    3  0.15\n",
       "1       2    4  0.20\n",
       "2       3    4  0.20\n",
       "3       4    3  0.15\n",
       "4       5    2  0.10\n",
       "5       6    4  0.20"
      ]
     },
     "execution_count": 2,
     "metadata": {},
     "output_type": "execute_result"
    }
   ],
   "source": [
    "import pandas as pd\n",
    "\n",
    "# Dados (dicionário de classe: frequência)\n",
    "dicionario = {1: 3,\n",
    "              2: 4,\n",
    "              3: 4,\n",
    "              4: 3,\n",
    "              5: 2,\n",
    "              6: 4}\n",
    "\n",
    "# Calculando a soma das frequências\n",
    "total_frequencias = sum(dicionario.values())\n",
    "\n",
    "# Calculando a frequência relativa (frequência / total de frequências)\n",
    "frequencias_relativas = {k: v / total_frequencias for k, v in dicionario.items()}\n",
    "\n",
    "# Criando o DataFrame\n",
    "df = pd.DataFrame({\n",
    "    'Classe': list(dicionario.keys()),\n",
    "    'f_i': list(dicionario.values()),\n",
    "    'f_i%': [round(f, 3) for f in frequencias_relativas.values()]\n",
    "})\n",
    "\n",
    "# Exibindo o DataFrame\n",
    "df"
   ]
  },
  {
   "cell_type": "markdown",
   "id": "cd4a4aab",
   "metadata": {},
   "source": [
    "##### <font color='blue'> Solução do item \"b\": </font>"
   ]
  },
  {
   "cell_type": "markdown",
   "id": "0a76e4d6",
   "metadata": {},
   "source": [
    "<font color='blue'> Temos a seguinte tabela:<br><br>\n",
    " $$\\begin{array}{c|c|c}\n",
    " \\text{Classe} & f_{i} & f_{i}\\% \\\\ \\hline\n",
    " 1,40 \\vdash 1,50 & 1 & 1/15 \\approx 0.07 \\\\\n",
    " 1,50 \\vdash 1,60 & 4 & 4/15 \\approx 0.27\\\\\n",
    " 1,60 \\vdash 1,70 & 8 & 8/15 \\approx 0.53\\\\\n",
    " 1,70 \\vdash 1,80 & 2 & 2/15 \\approx 0.13\\\\ \\hline\n",
    "  & \\Sigma = 15 & \\Sigma = 1\n",
    " \\end{array}$$"
   ]
  },
  {
   "cell_type": "markdown",
   "id": "dc6ab6fe",
   "metadata": {},
   "source": [
    "###### <font color='blue'> Python"
   ]
  },
  {
   "cell_type": "code",
   "execution_count": 6,
   "id": "29be969b",
   "metadata": {
    "ExecuteTime": {
     "end_time": "2025-06-09T15:02:26.844200Z",
     "start_time": "2025-06-09T15:02:26.832240Z"
    }
   },
   "outputs": [
    {
     "data": {
      "text/html": [
       "<div>\n",
       "<style scoped>\n",
       "    .dataframe tbody tr th:only-of-type {\n",
       "        vertical-align: middle;\n",
       "    }\n",
       "\n",
       "    .dataframe tbody tr th {\n",
       "        vertical-align: top;\n",
       "    }\n",
       "\n",
       "    .dataframe thead th {\n",
       "        text-align: right;\n",
       "    }\n",
       "</style>\n",
       "<table border=\"1\" class=\"dataframe\">\n",
       "  <thead>\n",
       "    <tr style=\"text-align: right;\">\n",
       "      <th></th>\n",
       "      <th>Classe</th>\n",
       "      <th>f_i</th>\n",
       "      <th>f_i%</th>\n",
       "    </tr>\n",
       "  </thead>\n",
       "  <tbody>\n",
       "    <tr>\n",
       "      <th>0</th>\n",
       "      <td>1.4 ⊢ 1.5</td>\n",
       "      <td>1</td>\n",
       "      <td>0.07</td>\n",
       "    </tr>\n",
       "    <tr>\n",
       "      <th>1</th>\n",
       "      <td>1.5 ⊢ 1.6</td>\n",
       "      <td>4</td>\n",
       "      <td>0.27</td>\n",
       "    </tr>\n",
       "    <tr>\n",
       "      <th>2</th>\n",
       "      <td>1.6 ⊢ 1.7</td>\n",
       "      <td>8</td>\n",
       "      <td>0.53</td>\n",
       "    </tr>\n",
       "    <tr>\n",
       "      <th>3</th>\n",
       "      <td>1.7 ⊢ 1.8</td>\n",
       "      <td>2</td>\n",
       "      <td>0.13</td>\n",
       "    </tr>\n",
       "  </tbody>\n",
       "</table>\n",
       "</div>"
      ],
      "text/plain": [
       "      Classe  f_i  f_i%\n",
       "0  1.4 ⊢ 1.5    1  0.07\n",
       "1  1.5 ⊢ 1.6    4  0.27\n",
       "2  1.6 ⊢ 1.7    8  0.53\n",
       "3  1.7 ⊢ 1.8    2  0.13"
      ]
     },
     "execution_count": 6,
     "metadata": {},
     "output_type": "execute_result"
    }
   ],
   "source": [
    "import pandas as pd\n",
    "\n",
    "# Dados (dicionário de classe: frequência)\n",
    "dicionario = {(1.40, 1.50): 1,\n",
    "              (1.50, 1.60): 4,\n",
    "              (1.60, 1.70): 8,\n",
    "              (1.70, 1.80): 2}\n",
    "\n",
    "# Calculando a soma das frequências\n",
    "total_frequencias = sum(dicionario.values())\n",
    "\n",
    "# Calculando a frequência relativa (frequência / total de frequências)\n",
    "frequencias_relativas = {k: v / total_frequencias for k, v in dicionario.items()}\n",
    "\n",
    "# Ajustando o formato das classes para o padrão com \\vdash\n",
    "formatted_classes = [f\"{round(k[0], 2)} ⊢ {round(k[1], 2)}\" for k in dicionario.keys()]\n",
    "\n",
    "# Criando o DataFrame\n",
    "df = pd.DataFrame({\n",
    "    'Classe': formatted_classes,\n",
    "    'f_i': list(dicionario.values()),\n",
    "    'f_i%': [round(f, 2) for f in frequencias_relativas.values()]\n",
    "})\n",
    "\n",
    "# Exibindo o DataFrame\n",
    "df"
   ]
  },
  {
   "cell_type": "markdown",
   "id": "e9ded64c",
   "metadata": {},
   "source": [
    "##### <font color='blue'> Solução do item \"c\": </font>"
   ]
  },
  {
   "cell_type": "markdown",
   "id": "dad4145b",
   "metadata": {},
   "source": [
    "<font color='blue'> Temos a seguinte tabela:<br><br>\n",
    " $$\\begin{array}{c|c|c} \\hline\n",
    "\\text{Classe}\t& f_{i} & f_{i}\\%\t\\\\ \\hline\n",
    "47,0 \\vdash 52,4    &  5\t& 5/30 \\approx 0,17\t\\\\ \n",
    "52,4 \\vdash 57,8\t&  3    & 3/30 \\approx 0,10  \\\\ \n",
    "57,8 \\vdash 63,2\t&  8    & 8/30 \\approx 0,27  \\\\\n",
    "63,2 \\vdash 68,6\t&  7    & 7/30 \\approx 0,23 \\\\\n",
    "68,6 \\vdash 74,0\t&  4    & 4/30 \\approx 0,13  \\\\\n",
    "74,0 \\vdash 79,4\t&  3    & 3/30 \\approx 0,10  \\\\ \\hline\n",
    "\t\t  \t\t\t&  \\Sigma = 30 & \\Sigma  = 1\\\\ \n",
    "\\end{array}$$"
   ]
  },
  {
   "cell_type": "markdown",
   "id": "5285ac64",
   "metadata": {},
   "source": [
    "###### <font color='blue'> Python"
   ]
  },
  {
   "cell_type": "markdown",
   "id": "a689b59e",
   "metadata": {},
   "source": [
    "<font color='blue'> Aproveitando parte do código do [Exemplo 7](#exemplo_7), temos:"
   ]
  },
  {
   "cell_type": "code",
   "execution_count": 7,
   "id": "f80fd480",
   "metadata": {
    "ExecuteTime": {
     "end_time": "2025-06-09T15:03:01.406888Z",
     "start_time": "2025-06-09T15:03:01.388605Z"
    }
   },
   "outputs": [
    {
     "data": {
      "text/html": [
       "<div>\n",
       "<style scoped>\n",
       "    .dataframe tbody tr th:only-of-type {\n",
       "        vertical-align: middle;\n",
       "    }\n",
       "\n",
       "    .dataframe tbody tr th {\n",
       "        vertical-align: top;\n",
       "    }\n",
       "\n",
       "    .dataframe thead th {\n",
       "        text-align: right;\n",
       "    }\n",
       "</style>\n",
       "<table border=\"1\" class=\"dataframe\">\n",
       "  <thead>\n",
       "    <tr style=\"text-align: right;\">\n",
       "      <th></th>\n",
       "      <th>Classe</th>\n",
       "      <th>f_i</th>\n",
       "      <th>f_i%</th>\n",
       "    </tr>\n",
       "  </thead>\n",
       "  <tbody>\n",
       "    <tr>\n",
       "      <th>0</th>\n",
       "      <td>47.0 ⊢ 52.4</td>\n",
       "      <td>5</td>\n",
       "      <td>0.17</td>\n",
       "    </tr>\n",
       "    <tr>\n",
       "      <th>1</th>\n",
       "      <td>52.4 ⊢ 57.8</td>\n",
       "      <td>3</td>\n",
       "      <td>0.10</td>\n",
       "    </tr>\n",
       "    <tr>\n",
       "      <th>2</th>\n",
       "      <td>57.8 ⊢ 63.2</td>\n",
       "      <td>8</td>\n",
       "      <td>0.27</td>\n",
       "    </tr>\n",
       "    <tr>\n",
       "      <th>3</th>\n",
       "      <td>63.2 ⊢ 68.6</td>\n",
       "      <td>7</td>\n",
       "      <td>0.23</td>\n",
       "    </tr>\n",
       "    <tr>\n",
       "      <th>4</th>\n",
       "      <td>68.6 ⊢ 74.0</td>\n",
       "      <td>4</td>\n",
       "      <td>0.13</td>\n",
       "    </tr>\n",
       "    <tr>\n",
       "      <th>5</th>\n",
       "      <td>74.0 ⊢ 79.4</td>\n",
       "      <td>3</td>\n",
       "      <td>0.10</td>\n",
       "    </tr>\n",
       "  </tbody>\n",
       "</table>\n",
       "</div>"
      ],
      "text/plain": [
       "        Classe  f_i  f_i%\n",
       "0  47.0 ⊢ 52.4    5  0.17\n",
       "1  52.4 ⊢ 57.8    3  0.10\n",
       "2  57.8 ⊢ 63.2    8  0.27\n",
       "3  63.2 ⊢ 68.6    7  0.23\n",
       "4  68.6 ⊢ 74.0    4  0.13\n",
       "5  74.0 ⊢ 79.4    3  0.10"
      ]
     },
     "execution_count": 7,
     "metadata": {},
     "output_type": "execute_result"
    }
   ],
   "source": [
    "import pandas as pd\n",
    "import math\n",
    "import numpy as np\n",
    "\n",
    "# Dados (sempre uma única casa após a vírgula)\n",
    "rol = [47.0, 48.5, 49.7, 51.4, 51.9, 54.7,\n",
    "       55.4, 57.4, 58.0, 59.2, 59.9, 60.4,\n",
    "       61.2, 61.2, 61.8, 62.4, 63.2, 63.2,\n",
    "       63.2, 63.2, 64.4, 65.2, 67.5, 69.3,\n",
    "       69.9, 70.2, 70.4, 77.3, 78.4, 78.9]\n",
    "\n",
    "c = 1 # Casas após o ponto (inteiro tem 0 casas)\n",
    "\n",
    "# Calculando o número de classes\n",
    "K = 1 + math.ceil(3.22 * math.log10(len(rol)))\n",
    "\n",
    "# Definir o intervalo de dados\n",
    "min_value = min(rol)\n",
    "max_value = max(rol)\n",
    "\n",
    "# Calcular a amplitude de cada classe\n",
    "amplitude = round((max_value - min_value) / K, 1)\n",
    "\n",
    "while max_value > min_value + K*amplitude:\n",
    "    amplitude = round(amplitude+1/10**c,c)\n",
    "\n",
    "# Definir os limites dos bins ou classes\n",
    "bins = [min_value + i * amplitude for i in range(K + 1)]\n",
    "\n",
    "# Ajustando os labels das classes\n",
    "labels = [f\"{round(bins[i], 2)} ⊢ {round(bins[i + 1], 2)}\" for i in range(K)]\n",
    "\n",
    "# Usar pandas para criar a distribuição de frequência com right=True para incluir o limite superior\n",
    "frequencias = pd.cut(rol, bins=bins, labels=labels, right=False).value_counts().sort_index()\n",
    "\n",
    "# Exibir a tabela de distribuição de frequência\n",
    "frequencias_df = pd.DataFrame({\n",
    "    'Classe': frequencias.index,\n",
    "    'f_i': frequencias.values,\n",
    "    'f_i%': np.round(frequencias.values/len(rol),2) # Acrescenta-se somente esta linha ao código anterior\n",
    "})\n",
    "\n",
    "# Exibir a tabela\n",
    "frequencias_df\n"
   ]
  },
  {
   "cell_type": "markdown",
   "id": "566ca6a8",
   "metadata": {
    "heading_collapsed": true
   },
   "source": [
    "# <a id=\"representacao_grafica\"></a> 3. Representação Gráfica de Uma Distribuição de Frequências"
   ]
  },
  {
   "cell_type": "markdown",
   "id": "ed75d692",
   "metadata": {
    "hidden": true
   },
   "source": [
    "A representação gráfica de uma distribuição de frequências é uma maneira visual de mostrar como os dados de uma amostra ou população estão distribuídos. Ela ajuda a entender rapidamente a distribuição e as características principais dos dados, como a concentração de valores, a dispersão e a forma geral da distribuição. A seguir apresentaremos alguns dos gráficos mais comuns para se representar dados estatísticos."
   ]
  },
  {
   "cell_type": "markdown",
   "id": "e562c448",
   "metadata": {
    "hidden": true
   },
   "source": [
    "## <a id=\"grafico_de_linha\"></a> 3.1 Gráfico de Linha"
   ]
  },
  {
   "cell_type": "markdown",
   "id": "97468cc3",
   "metadata": {
    "hidden": true
   },
   "source": [
    "<a id=\"def_grafico_de_linha\"></a> <font color='red'> <b> O gráfico de linhas é uma forma de representação gráfica que conecta pontos de dados com linhas. Ele é utilizado para mostrar como uma variável muda ao longo do tempo ou em relação a outra variável contínua."
   ]
  },
  {
   "cell_type": "markdown",
   "id": "b9365c2c",
   "metadata": {
    "hidden": true
   },
   "source": [
    "Tal gráfico é ideal para representar dados contínuos e observar tendências ao longo de um intervalo. Comumente usado em séries temporais, como evolução de preços ao longo de meses ou a variação da temperatura ao longo do ano."
   ]
  },
  {
   "cell_type": "markdown",
   "id": "a02b76c5",
   "metadata": {
    "hidden": true
   },
   "source": [
    "#### <a id=\"exemplo_9\"></a> <font color='blue'> Exemplo 9: </font>"
   ]
  },
  {
   "cell_type": "markdown",
   "id": "aa7c9a08",
   "metadata": {
    "hidden": true
   },
   "source": [
    "<font color='blue'> A tabela a seguir apresenta a idade de alunos de uma turma e a quantidade média de horas de estudo por dia:<br><br>\n",
    " $$\\begin{array}{c|c|c|c|c|c|c}\n",
    " \\text{Idade} & 18 & 19 & 20 & 21 & 22 & 23 & 24 & 25 \\\\\\hline\n",
    " \\text{Horas Diárias de Estudo} & 2 & 2 & 3 & 2 & 4 & 3 & 2 & 3 \\\\\n",
    " \\end{array}$$<br>\n",
    " Um gráfico de linhas associado aos dados é:<br><br>\n",
    " <center> <img src=\"img_apostila\\fig1.jpg\" alt=\"jpg_python\" width=\"500\" height=\"\"> </center>"
   ]
  },
  {
   "cell_type": "markdown",
   "id": "15f2c1a8",
   "metadata": {
    "hidden": true
   },
   "source": [
    "###### <font color='blue'> Python"
   ]
  },
  {
   "cell_type": "code",
   "execution_count": 13,
   "id": "84c21300",
   "metadata": {
    "ExecuteTime": {
     "end_time": "2025-05-07T13:59:37.164353Z",
     "start_time": "2025-05-07T13:59:36.306493Z"
    },
    "hidden": true
   },
   "outputs": [
    {
     "data": {
      "image/png": "[encoded data removed]",
      "text/plain": [
       "<Figure size 640x480 with 1 Axes>"
      ]
     },
     "metadata": {},
     "output_type": "display_data"
    }
   ],
   "source": [
    "import matplotlib.pyplot as plt\n",
    "\n",
    "# Dados de exemplo\n",
    "idade = [18, 19, 20, 21, 22, 23, 24, 25]\n",
    "horas_estudo = [2, 2, 3, 2, 4, 3, 2, 3]\n",
    "\n",
    "# Criando o gráfico de linhas\n",
    "plt.plot(idade, horas_estudo, marker='o', color='b', linestyle='-', linewidth=2)\n",
    "\n",
    "# Adicionando título e rótulos aos eixos\n",
    "plt.title('Relação Idade x Horas Diárias de Estudo')\n",
    "plt.xlabel('Idade')\n",
    "plt.ylabel('Horas Diárias de Estudo')\n",
    "\n",
    "# Ajustando os limites inferior e superior do eixo Y\n",
    "plt.ylim(1, 5)\n",
    "\n",
    "# Exibindo o gráfico\n",
    "plt.grid(True)\n",
    "plt.show()\n"
   ]
  },
  {
   "cell_type": "markdown",
   "id": "54f98c93",
   "metadata": {
    "hidden": true
   },
   "source": [
    "#### <a id=\"exemplo_10\"></a> <font color='blue'> Exemplo 10: </font>"
   ]
  },
  {
   "cell_type": "markdown",
   "id": "146e16c8",
   "metadata": {
    "hidden": true
   },
   "source": [
    "<font color='blue'> A tabela a seguir apresenta a temperatura diária de uma semana (em graus Celsius): e queremos visualizar a variação dessas temperaturas ao longo dos dias.<br><br>\n",
    " $$\\begin{array}{|c|c|c|c|c|c|c|}\\hline\n",
    " \\text{Seg} & \\text{Ter} & \\text{Qua} & \\text{Qui} & \\text{Sex} & \\text{Sáb} & \\text{Dom} \\\\\\hline\n",
    " 20 & 22 & 21 & 23 & 23 & 25 & 26 \\\\\\hline\n",
    " \\end{array}$$<br>\n",
    " Um gráfico de linhas associado aos dados é:<br><br>\n",
    " <center> <img src=\"img_apostila\\fig2.jpg\" alt=\"jpg_python\" width=\"500\" height=\"\"> </center>"
   ]
  },
  {
   "cell_type": "markdown",
   "id": "89419a75",
   "metadata": {
    "hidden": true
   },
   "source": [
    "###### <font color='blue'> Python"
   ]
  },
  {
   "cell_type": "code",
   "execution_count": 14,
   "id": "d9293c6d",
   "metadata": {
    "ExecuteTime": {
     "end_time": "2025-05-07T13:59:37.328819Z",
     "start_time": "2025-05-07T13:59:37.168377Z"
    },
    "hidden": true
   },
   "outputs": [
    {
     "data": {
      "image/png": "[encoded data removed]",
      "text/plain": [
       "<Figure size 640x480 with 1 Axes>"
      ]
     },
     "metadata": {},
     "output_type": "display_data"
    }
   ],
   "source": [
    "import matplotlib.pyplot as plt\n",
    "\n",
    "# Dados de exemplo\n",
    "dias = ['Seg', 'Ter', 'Qua', 'Qui', 'Sex', 'Sáb', 'Dom']\n",
    "temperaturas = [20, 22, 21, 23, 23, 25, 26]\n",
    "\n",
    "# Criando o gráfico de linhas\n",
    "plt.plot(dias, temperaturas, marker='o', color='b', linestyle='--', linewidth=2)\n",
    "\n",
    "# Adicionando título e rótulos aos eixos\n",
    "plt.title('Variação da Temperatura ao Longo da Semana')\n",
    "plt.xlabel('Dia da Semana')\n",
    "plt.ylabel('Temperatura (°C)')\n",
    "\n",
    "# Ajustando os limites inferior e superior do eixo Y\n",
    "plt.ylim(18, 30)\n",
    "\n",
    "# Exibindo o gráfico\n",
    "plt.grid(True)\n",
    "plt.show()\n"
   ]
  },
  {
   "cell_type": "markdown",
   "id": "c26749ca",
   "metadata": {
    "hidden": true
   },
   "source": [
    "#### <a id=\"exemplo_11\"></a> <font color='blue'> Exemplo 11: </font>"
   ]
  },
  {
   "cell_type": "markdown",
   "id": "4590591b",
   "metadata": {
    "hidden": true
   },
   "source": [
    "<font color='blue'> O gráfico de linhas a seguir mostra o fluxo médio de automóveis por minuto em uma via específica, no intervalo de tempo entre $10h00$ e $15h00$.<br><br>\n",
    " <center> <img src=\"img_apostila\\fig3.jpg\" alt=\"jpg_python\" width=\"500\" height=\"\"> </center><br>\n",
    " a) Determine o(s) intervalo(s) no(s) qual(is) houve aumento no fluxo.<br>\n",
    " b) Qual foi o horário com a queda mais lenta no fluxo?"
   ]
  },
  {
   "cell_type": "markdown",
   "id": "98c04b89",
   "metadata": {
    "hidden": true
   },
   "source": [
    "##### <font color='blue'> Solução do item \"a\": </font>"
   ]
  },
  {
   "cell_type": "markdown",
   "id": "e87fe12c",
   "metadata": {
    "hidden": true
   },
   "source": [
    "<font color='blue'> No gráfico, a temperatura aumenta ao longo do tempo entre $10h00$ e $13h00$. A linha no gráfico sobe até alcançar o pico por volta das $13h00$, indicando que o fluxo de automóveis aumentou neste intervalo. Portanto, o intervalo de aumento no fluxo é entre $10h00$ e $13h00$."
   ]
  },
  {
   "cell_type": "markdown",
   "id": "d58d0af1",
   "metadata": {
    "hidden": true
   },
   "source": [
    "###### <font color='blue'> Python"
   ]
  },
  {
   "cell_type": "markdown",
   "id": "ea0da85d",
   "metadata": {
    "hidden": true
   },
   "source": [
    "<font color='blue'> Lançando mão dos dados, temos:"
   ]
  },
  {
   "cell_type": "code",
   "execution_count": 15,
   "id": "2ba44be9",
   "metadata": {
    "ExecuteTime": {
     "end_time": "2025-05-07T13:59:37.334889Z",
     "start_time": "2025-05-07T13:59:37.328819Z"
    },
    "hidden": true
   },
   "outputs": [],
   "source": [
    "# Dados de exemplo\n",
    "horario = [10, 11, 12, 13, 14, 15]\n",
    "fluxo = [30, 59, 98, 93, 60, 40]"
   ]
  },
  {
   "cell_type": "code",
   "execution_count": 16,
   "id": "516c5d18",
   "metadata": {
    "ExecuteTime": {
     "end_time": "2025-05-07T13:59:37.344536Z",
     "start_time": "2025-05-07T13:59:37.334889Z"
    },
    "hidden": true
   },
   "outputs": [
    {
     "name": "stdout",
     "output_type": "stream",
     "text": [
      "Intervalos de aumento no fluxo: [(10, 11), (11, 12)]\n"
     ]
    }
   ],
   "source": [
    "# Identificando intervalos de aumento\n",
    "aumento = []\n",
    "for i in range(1, len(fluxo)):\n",
    "    if fluxo[i] > fluxo[i - 1]:\n",
    "        aumento.append((horario[i - 1], horario[i]))  # Intervalos com aumento de fluxo\n",
    "\n",
    "# Identificando o horário com a queda mais lenta no fluxo\n",
    "queda = []\n",
    "for i in range(1, len(fluxo)):\n",
    "    if fluxo[i] < fluxo[i - 1]:\n",
    "        queda.append((horario[i - 1], horario[i]))  # Intervalos com queda de fluxo\n",
    "\n",
    "# Exibindo as respostas\n",
    "print(f\"Intervalos de aumento no fluxo: {aumento}\")"
   ]
  },
  {
   "cell_type": "markdown",
   "id": "f7e16abb",
   "metadata": {
    "hidden": true
   },
   "source": [
    "##### <font color='blue'> Solução do item \"b\": </font>"
   ]
  },
  {
   "cell_type": "markdown",
   "id": "0d58b6fd",
   "metadata": {
    "hidden": true
   },
   "source": [
    "<font color='blue'> Observando o gráfico, a linha começa a descer a partir de $13h00$. No entanto, a queda mais lenta acontece entre $13h00$ e $14h00$, pois a inclinação da linha não é tão acentuada quanto após as 14h00. Portanto, o horário com a queda mais lenta no fluxo foi entre $13h00$ e $14h00$."
   ]
  },
  {
   "cell_type": "markdown",
   "id": "a3fbb8d1",
   "metadata": {
    "hidden": true
   },
   "source": [
    "###### <font color='blue'> Python"
   ]
  },
  {
   "cell_type": "markdown",
   "id": "d7c401bf",
   "metadata": {
    "hidden": true
   },
   "source": [
    "<font color='blue'> Lançando mão dos dados, temos:"
   ]
  },
  {
   "cell_type": "code",
   "execution_count": 17,
   "id": "d4416e10",
   "metadata": {
    "ExecuteTime": {
     "end_time": "2025-05-07T13:59:37.354287Z",
     "start_time": "2025-05-07T13:59:37.344919Z"
    },
    "hidden": true
   },
   "outputs": [
    {
     "name": "stdout",
     "output_type": "stream",
     "text": [
      "O horário com a queda mais lenta no fluxo foi entre 13h e 14h.\n"
     ]
    }
   ],
   "source": [
    "# Identificando o horário com a queda mais lenta no fluxo\n",
    "queda = []\n",
    "for i in range(1, len(fluxo)):\n",
    "    if fluxo[i] < fluxo[i - 1]:\n",
    "        queda.append((horario[i - 1], horario[i]))  # Intervalos com queda de fluxo\n",
    "\n",
    "# Analisando qual intervalo de queda teve a menor variação\n",
    "queda_lenta = min(queda, key=lambda x: fluxo[horario.index(x[1])] - fluxo[horario.index(x[0])])\n",
    "\n",
    "# Exibindo as respostas\n",
    "print(f\"O horário com a queda mais lenta no fluxo foi entre {queda_lenta[0]}h e {queda_lenta[1]}h.\")"
   ]
  },
  {
   "cell_type": "markdown",
   "id": "d9780397",
   "metadata": {
    "hidden": true
   },
   "source": [
    "## <a id=\"graficos_de_barras\"></a> 3.2 Gráficos de Barras"
   ]
  },
  {
   "cell_type": "markdown",
   "id": "6a926a51",
   "metadata": {
    "hidden": true
   },
   "source": [
    "Temos dois tipos principais de gráficos de barras, o de barras verticais e o de barras horizontais."
   ]
  },
  {
   "cell_type": "markdown",
   "id": "71792252",
   "metadata": {
    "hidden": true
   },
   "source": [
    "### <a id=\"graficos_de_barras_verticais\"></a> 3.2.1 Gráfico de Barras Verticais"
   ]
  },
  {
   "cell_type": "markdown",
   "id": "1ca9c52f",
   "metadata": {
    "hidden": true
   },
   "source": [
    "<a id=\"def_graficos_de_barras_verticais\"></a><font color='red'> <b> O gráfico de barras verticais é comumente utilizado para mostrar comparações entre valores discretos, como a quantidade de vendas por produto ou a distribuição de idades em faixas etárias. Ele é adequado quando a sequência das categorias importa ou quando a variável representada é quantitativa."
   ]
  },
  {
   "cell_type": "markdown",
   "id": "89b969d1",
   "metadata": {
    "hidden": true
   },
   "source": [
    "#### <a id=\"exemplo_12\"></a> <font color='blue'> Exemplo 12: </font>"
   ]
  },
  {
   "cell_type": "markdown",
   "id": "246b4728",
   "metadata": {
    "hidden": true
   },
   "source": [
    "<font color='blue'> O volume de vendas de uma loja ao longo de uma semana é apresentado na tabela a seguir:<br><br>\n",
    " $$\\begin{array}{c|c|c|c|c}\n",
    " \\text{Dia} & \\text{Seg} & \\text{Ter} & \\text{Qua} & \\text{Qui} & \\text{Sex} \\\\\\hline\n",
    " \\text{Venda em Reais} & 60.035,10 & 40.141,95 & 42.292,12 & 51.991,78 & 70.330,05 \\\\\n",
    " \\end{array}$$<br>\n",
    " Um gráfico de barras verticais associado aos dados é:<br><br>\n",
    " <center> <img src=\"img_apostila\\fig4.jpg\" alt=\"jpg_python\" width=\"500\" height=\"\"> </center>"
   ]
  },
  {
   "cell_type": "markdown",
   "id": "f8e9adca",
   "metadata": {
    "hidden": true
   },
   "source": [
    "###### <font color='blue'> Python"
   ]
  },
  {
   "cell_type": "code",
   "execution_count": 39,
   "id": "23fbe98f",
   "metadata": {
    "ExecuteTime": {
     "end_time": "2025-05-07T14:00:27.653656Z",
     "start_time": "2025-05-07T14:00:27.501314Z"
    },
    "hidden": true
   },
   "outputs": [
    {
     "data": {
      "image/png": "[encoded data removed]",
      "text/plain": [
       "<Figure size 640x480 with 1 Axes>"
      ]
     },
     "metadata": {},
     "output_type": "display_data"
    }
   ],
   "source": [
    "import matplotlib.pyplot as plt\n",
    "\n",
    "# Dados do gráfico\n",
    "classes = ['Seg', 'Ter', 'Qua', 'Qui', 'Sex']  # Dia da semana\n",
    "frequencias = [60035.10, 40141.95, 42292.12, 51991.78, 70330.05]  # Venda do dia\n",
    "\n",
    "# Criando o gráfico de barras verticais\n",
    "plt.bar(classes, frequencias, color='b', width=0.6)\n",
    "\n",
    "# Adicionando título e rótulos aos eixos\n",
    "plt.title('Volume de Vendas Durante Uma Semana')\n",
    "plt.xlabel('Dia')\n",
    "plt.ylabel('Valor Vendido')\n",
    "\n",
    "# Exibindo o gráfico com o grid ativado\n",
    "plt.show()\n"
   ]
  },
  {
   "cell_type": "markdown",
   "id": "dd6512bc",
   "metadata": {
    "hidden": true
   },
   "source": [
    "#### <a id=\"exemplo_13\"></a> <font color='blue'> Exemplo 13: </font>"
   ]
  },
  {
   "cell_type": "markdown",
   "id": "5c532459",
   "metadata": {
    "hidden": true
   },
   "source": [
    "<font color='blue'> O gráfico abaixo corresponde à distribuição de frequências dos televisores vendidos por uma loja em certo mês, segundo a medida da diagonal da tela, em polegada: $20$, $21$, $27$, $29$, $32$ e $42$:<br><br>\n",
    " <center> <img src=\"img_apostila\\fig5.jpg\" alt=\"jpg_python\" width=\"500\" height=\"\"> </center><br>\n",
    " a) Quantos televisores foram vendidos por essa loja nesse mês?<br>\n",
    " b) Qual é a frequência relativa da classe \"20 polegadas\"?"
   ]
  },
  {
   "cell_type": "markdown",
   "id": "84a83d1e",
   "metadata": {
    "hidden": true
   },
   "source": [
    "##### <font color='blue'> Solução do item \"a\": </font>"
   ]
  },
  {
   "cell_type": "markdown",
   "id": "d7b88241",
   "metadata": {
    "hidden": true
   },
   "source": [
    "<font color='blue'> O número total de televisores vendidos corresponde à soma de todas as frequências (\"Quantidade Vendida\"), isto é:<br><br>\n",
    " $$Q_{\\text{mês}} = 19 + 25 + 37 + 71 + 33 + 15 = 200 \\ \\text{televisores}$$"
   ]
  },
  {
   "cell_type": "markdown",
   "id": "64f4b4b9",
   "metadata": {
    "hidden": true
   },
   "source": [
    "###### <font color='blue'> Python"
   ]
  },
  {
   "cell_type": "code",
   "execution_count": 40,
   "id": "6a71cfdf",
   "metadata": {
    "ExecuteTime": {
     "end_time": "2025-05-07T14:00:28.780985Z",
     "start_time": "2025-05-07T14:00:28.774871Z"
    },
    "hidden": true
   },
   "outputs": [],
   "source": [
    "# Dados do gráfico\n",
    "classes = ['20', '21', '27', '29', '32', '42']  # Polegadas\n",
    "frequencias = [19, 25, 37, 71, 33, 15]  # Número de televisores vendidos"
   ]
  },
  {
   "cell_type": "code",
   "execution_count": 41,
   "id": "c636aee1",
   "metadata": {
    "ExecuteTime": {
     "end_time": "2025-05-07T14:00:28.966339Z",
     "start_time": "2025-05-07T14:00:28.961915Z"
    },
    "hidden": true
   },
   "outputs": [
    {
     "name": "stdout",
     "output_type": "stream",
     "text": [
      "Total de televisores vendidos: 200 televisores\n"
     ]
    }
   ],
   "source": [
    "# Cálculo do número total de televisores vendidos no mês\n",
    "total_vendidos = sum(frequencias)\n",
    "print(f\"Total de televisores vendidos: {total_vendidos} televisores\")"
   ]
  },
  {
   "cell_type": "markdown",
   "id": "f90599de",
   "metadata": {
    "hidden": true
   },
   "source": [
    "##### <font color='blue'> Solução do item \"b\": </font>"
   ]
  },
  {
   "cell_type": "markdown",
   "id": "3b4f90f6",
   "metadata": {
    "hidden": true
   },
   "source": [
    "<font color='blue'> Basta dividir a frequência da classe \"$20$ polegadas\" pelo total de televisores vendidos:<br><br>\n",
    " $$f_{i}\\%(\"20\\text{ polegadas}\") =\\frac{19}{200} = 0,095 = 9,5\\%$$"
   ]
  },
  {
   "cell_type": "code",
   "execution_count": 42,
   "id": "bdb04add",
   "metadata": {
    "ExecuteTime": {
     "end_time": "2025-05-07T14:00:29.534412Z",
     "start_time": "2025-05-07T14:00:29.523411Z"
    },
    "hidden": true
   },
   "outputs": [
    {
     "name": "stdout",
     "output_type": "stream",
     "text": [
      "Frequência relativa da classe '20 polegadas': 9.5%\n"
     ]
    }
   ],
   "source": [
    "# Frequência relativa da classe \"20 polegadas\"\n",
    "frequencia_relativa_20 = frequencias[0] / total_vendidos * 100\n",
    "print(f\"Frequência relativa da classe '20 polegadas': {frequencia_relativa_20:.1f}%\")"
   ]
  },
  {
   "cell_type": "markdown",
   "id": "22597aa9",
   "metadata": {
    "hidden": true
   },
   "source": [
    "### <a id=\"graficos_de_barras_horizontais\"></a> 3.2.2 Gráfico de Barras Horizontais"
   ]
  },
  {
   "cell_type": "markdown",
   "id": "4c518e83",
   "metadata": {
    "hidden": true
   },
   "source": [
    "<a id=\"def_graficos_de_barras_horizontais\"></a> <font color='red'> <b> O gráfico de barras horizontais é frequentemente usado para mostrar comparações diretas entre categorias, especialmente quando as categorias são nominais ou ordinais. É muito eficaz para apresentar valores absolutos ou percentuais de forma clara."
   ]
  },
  {
   "cell_type": "markdown",
   "id": "34b27dcf",
   "metadata": {
    "hidden": true
   },
   "source": [
    "#### <a id=\"exemplo_14\"></a> <font color='blue'> Exemplo 14: </font>"
   ]
  },
  {
   "cell_type": "markdown",
   "id": "de71b699",
   "metadata": {
    "hidden": true
   },
   "source": [
    "<font color='blue'> A quantidade de votos recebida por cinco crianças para presidente do parquinho é apresentada na tabela a seguir:<br><br>\n",
    " $$\\begin{array}{c|c|c|c|c}\n",
    " \\text{Candidato} & \\text{Isis} & \\text{Maria Eduarda} & \\text{Gabriel} & \\text{Maria Cecília} & \\text{Helena} \\\\\\hline\n",
    " \\text{Número de Votos} & 42 & 50 & 40 & 41 & 45 \\\\\n",
    " \\end{array}$$<br>\n",
    " Um gráfico de barras horizontais associado aos dados é:<br><br>\n",
    " <center> <img src=\"img_apostila\\fig6.jpg\" alt=\"jpg_python\" width=\"500\" height=\"\"> </center>"
   ]
  },
  {
   "cell_type": "markdown",
   "id": "76da4813",
   "metadata": {
    "hidden": true
   },
   "source": [
    "###### <font color='blue'> Python"
   ]
  },
  {
   "cell_type": "code",
   "execution_count": 43,
   "id": "0a8be8e6",
   "metadata": {
    "ExecuteTime": {
     "end_time": "2025-05-07T14:00:31.078385Z",
     "start_time": "2025-05-07T14:00:30.881852Z"
    },
    "hidden": true
   },
   "outputs": [
    {
     "data": {
      "image/png": "[encoded data removed]",
      "text/plain": [
       "<Figure size 640x480 with 1 Axes>"
      ]
     },
     "metadata": {},
     "output_type": "display_data"
    }
   ],
   "source": [
    "import matplotlib.pyplot as plt\n",
    "\n",
    "# Dados do gráfico\n",
    "classes = ['Isis', 'Maria Eduarda', 'Gabriel', 'Maria Cecília', 'Helena']  # Candidatos\n",
    "frequencias = [42, 50, 40, 41, 45]  # Número de votos\n",
    "\n",
    "# Criando o gráfico de barras horizontais\n",
    "plt.barh(classes, frequencias, color='b', height=0.6)\n",
    "\n",
    "# Adicionando título e rótulos aos eixos\n",
    "plt.title('Votos Para Presidente do Parquinho')\n",
    "plt.xlabel('Candidatos')\n",
    "plt.ylabel('Votos Recebidos')\n",
    "\n",
    "# Exibindo o gráfico com o grid ativado\n",
    "plt.show()"
   ]
  },
  {
   "cell_type": "markdown",
   "id": "83ed87c1",
   "metadata": {
    "hidden": true
   },
   "source": [
    "### <a id=\"grafico_de_setores\"></a> 3.2.3 Gráfico de Setores"
   ]
  },
  {
   "cell_type": "markdown",
   "id": "aac87ce0",
   "metadata": {
    "hidden": true
   },
   "source": [
    "<a id=\"def_grafico_de_setores\"></a> <font color='red'> <b> O gráfico de setores (ou pizza) é utilizado para mostrar a proporção de cada categoria em relação ao total. Cada \"fatia\" do gráfico corresponde a uma categoria, e o tamanho da fatia é proporcional à sua frequência ou valor relativo. É frequentemente usado quando se deseja destacar a participação de cada categoria em um todo, como em análises de mercado ou distribuições percentuais."
   ]
  },
  {
   "cell_type": "markdown",
   "id": "0df9f3ea",
   "metadata": {
    "hidden": true
   },
   "source": [
    "#### <a id=\"exemplo_15\"></a> <font color='blue'> Exemplo 15: </font>"
   ]
  },
  {
   "cell_type": "markdown",
   "id": "3a3a0d35",
   "metadata": {
    "hidden": true
   },
   "source": [
    "<font color='blue'> O percentual de votos recebido por cinco crianças para presidente do parquinho é apresentada na tabela a seguir:<br><br>\n",
    " $$\\begin{array}{c|c|c|c|c}\n",
    " \\text{Candidato} & \\text{Isis} & \\text{Maria Eduarda} & \\text{Gabriel} & \\text{Maria Cecília} & \\text{Helena} \\\\\\hline\n",
    " \\text{Número de Votos} & 19.27 & 22.93 & 18.35 & 18.81 & 20.64 \\\\\n",
    " \\end{array}$$<br>\n",
    " Um gráfico de pizza associado aos dados é:<br><br>\n",
    " <center> <img src=\"img_apostila\\fig7.jpg\" alt=\"jpg_python\" width=\"500\" height=\"\"> </center><br>\n",
    " *A eleição acabou em pizza...*"
   ]
  },
  {
   "cell_type": "markdown",
   "id": "9c199cab",
   "metadata": {
    "hidden": true
   },
   "source": [
    "###### <font color='blue'> Python"
   ]
  },
  {
   "cell_type": "code",
   "execution_count": 44,
   "id": "f19b027f",
   "metadata": {
    "ExecuteTime": {
     "end_time": "2025-05-07T14:00:32.180521Z",
     "start_time": "2025-05-07T14:00:32.064713Z"
    },
    "hidden": true
   },
   "outputs": [
    {
     "data": {
      "image/png": "[encoded data removed]",
      "text/plain": [
       "<Figure size 640x480 with 1 Axes>"
      ]
     },
     "metadata": {},
     "output_type": "display_data"
    }
   ],
   "source": [
    "import matplotlib.pyplot as plt\n",
    "\n",
    "# Dados\n",
    "candidatos = ['Isis', 'Maria Eduarda', 'Gabriel', 'Maria Cecília', 'Helena']\n",
    "votos = [19.27, 22.93, 18.35, 18.81, 20.64]\n",
    "\n",
    "# Criando o gráfico de pizza\n",
    "plt.pie(votos, labels=candidatos, autopct='%.2f%%', startangle=90, colors=['#ff9999','#66b3ff','#99ff99','#ffcc99','#c2c2f0'])\n",
    "\n",
    "# Adicionando título\n",
    "plt.title('Percentual de Votos para Presidente do Parquinho')\n",
    "\n",
    "# Exibindo o gráfico\n",
    "plt.axis('equal')  # Equal aspect ratio ensures that pie is drawn as a circle.\n",
    "plt.show()"
   ]
  },
  {
   "cell_type": "markdown",
   "id": "451cd881",
   "metadata": {
    "hidden": true
   },
   "source": [
    "### <a id=\"histograma\"></a> 3.2.4 Histograma"
   ]
  },
  {
   "cell_type": "markdown",
   "id": "6890d237",
   "metadata": {
    "hidden": true
   },
   "source": [
    "<a id=\"def_histograma\"></a> <font color='red'> <b>Um histograma é utilizado para mostrar a distribuição de dados contínuos ou discretos em intervalos. As barras do gráfico representam a frequência de dados dentro de cada intervalo, e a altura de cada barra é proporcional ao número de observações naquele intervalo. É muito eficaz para visualizar a distribuição de variáveis, identificar padrões, como picos e outliers (dados atípiocos ou fora do padrão), e entender a dispersão dos dados."
   ]
  },
  {
   "cell_type": "markdown",
   "id": "bca338d9",
   "metadata": {
    "hidden": true
   },
   "source": [
    "#### <a id=\"exemplo_16\"></a> <font color='blue'> Exemplo 16: </font>"
   ]
  },
  {
   "cell_type": "markdown",
   "id": "4aa9f80f",
   "metadata": {
    "hidden": true
   },
   "source": [
    "<font color='blue'> A tabela a seguir apresenta a distribuição de estaturas de $31$ mulheres que frequentam uma turma de dança em uma academia:<br><br>\n",
    " $$\\begin{array}{c|c} \\hline\n",
    "\\text{Estatura (m)}\t& \\text{Quantidade}\t\\\\ \\hline\n",
    "1,40 \\vdash 1,50    &  5\t\t\\\\ \n",
    "1,50 \\vdash 1,60\t&  15        \\\\ \n",
    "1,60 \\vdash 1,70\t&  6        \\\\\n",
    "1,70 \\vdash 1,80\t&  3        \\\\\n",
    "1,80 \\vdash 1,90\t&  2        \\\\\\hline\n",
    "\t\t  \t\t\t&  \\sum = 31\\\\ \n",
    "\\end{array} $$<br>\n",
    " Um histograma associado aos dados é dado a seguir:<br><br>\n",
    " <center> <img src=\"img_apostila\\fig8.jpg\" alt=\"jpg_python\" width=\"500\" height=\"\"> </center>"
   ]
  },
  {
   "cell_type": "markdown",
   "id": "d0782b54",
   "metadata": {
    "hidden": true
   },
   "source": [
    "###### <font color='blue'> Python"
   ]
  },
  {
   "cell_type": "code",
   "execution_count": 45,
   "id": "8fc93762",
   "metadata": {
    "ExecuteTime": {
     "end_time": "2025-05-07T14:00:33.450745Z",
     "start_time": "2025-05-07T14:00:33.289334Z"
    },
    "hidden": true
   },
   "outputs": [
    {
     "data": {
      "image/png": "[encoded data removed]",
      "text/plain": [
       "<Figure size 640x480 with 1 Axes>"
      ]
     },
     "metadata": {},
     "output_type": "display_data"
    }
   ],
   "source": [
    "import matplotlib.pyplot as plt\n",
    "\n",
    "# Dados agrupados\n",
    "intervalos = ['1.40⊢1.50', '1.50⊢1.60', '1.60⊢1.70', '1.70⊢1.80', '1.80⊢1.90']  # Intervalos de estatura\n",
    "quantidade = [5, 15, 6, 3, 2]  # Quantidade de pessoas em cada intervalo\n",
    "\n",
    "# Criando o gráfico de barras contínuas\n",
    "plt.bar(intervalos, quantidade, color='blue', edgecolor='black', width=1)\n",
    "\n",
    "# Adicionando título e rótulos aos eixos\n",
    "plt.title('Distribuição de Estaturas das Mulheres na Turma de Dança')\n",
    "plt.xlabel('Intervalo de Estatura (m)')\n",
    "plt.ylabel('Quantidade de Pessoas')\n",
    "\n",
    "# Exibindo o gráfico com o grid ativado\n",
    "plt.grid(True, axis='y', linestyle='--', alpha=0.7)\n",
    "plt.show()\n"
   ]
  },
  {
   "cell_type": "markdown",
   "id": "0d3d1693",
   "metadata": {},
   "source": [
    "# <a id=\"medidas_de_posicao_e_de_dispersao\"></a> 4. Medidas de Posição e de Dispersão"
   ]
  },
  {
   "cell_type": "markdown",
   "id": "7130c1c9",
   "metadata": {},
   "source": [
    "## <a id=\"medidas_de_posicao\"></a> 4.1 Medidas de Posição"
   ]
  },
  {
   "cell_type": "markdown",
   "id": "09193176",
   "metadata": {},
   "source": [
    "<a id=\"def_medidas_de_posicao\"></a> <font color='red'> <b> Medidas de Posição são medidas que nos ajudam a identificar a tendência central de um conjunto de dados, ou seja, onde a maior parte dos dados se concentra. Elas fornecem uma visão geral e fácil de entender do comportamento dos dados, sendo essenciais para análises rápidas e comparações entre diferentes conjuntos de dados. Estudaremos a média aritmética, a média aritmética pondera, a mediana e a moda."
   ]
  },
  {
   "cell_type": "markdown",
   "id": "ee332509",
   "metadata": {},
   "source": [
    "### <a id=\"media_aritmetica\"></a> 4.1.1 Média Aritmética"
   ]
  },
  {
   "cell_type": "markdown",
   "id": "8569ad60",
   "metadata": {},
   "source": [
    "<a id=\"def_media_aritmetica\"></a> <font color='red'> <b> Chama-se média aritmética dos $n$ números $x_{1},x_{2},\\ldots,x_{n}$ o número $\\overline{x}$ tal que:<br><br>\n",
    " $$\\overline{x} = \\frac{x_{1}+x_{2}+\\ldots+x_{n}}{n}.$$"
   ]
  },
  {
   "cell_type": "markdown",
   "id": "ba21e6cb",
   "metadata": {},
   "source": [
    "#### <a id=\"exemplo_17\"></a> <font color='blue'> Exemplo 17: </font>"
   ]
  },
  {
   "cell_type": "markdown",
   "id": "01748911",
   "metadata": {},
   "source": [
    "<font color='blue'> Determine a média aritmética dos seguintes dados correspondentes às notas do aluno Gabriel:<br><br>\n",
    " $$7,0; \\ 8,5; \\ 4,3; \\ 7,7; \\ 10,0$$<br>\n",
    " Ele obteve a média $7,0$ ou superior para ser aprovado direto?"
   ]
  },
  {
   "cell_type": "markdown",
   "id": "5aac0f7f",
   "metadata": {},
   "source": [
    "##### <font color='blue'> Solução: </font>"
   ]
  },
  {
   "cell_type": "markdown",
   "id": "b827744a",
   "metadata": {},
   "source": [
    "<font color='blue'> A média aritmética é simplesmente dada por:<br><br>\n",
    " $$\\overline{x} = \\frac{7,0+8,5+4,3+7,7+10}{5} = \\frac{37,5}{5} = 7,5$$\n",
    " Portanto, com média $7,5$ Gabriel foi aprovado direto."
   ]
  },
  {
   "cell_type": "markdown",
   "id": "56d32971",
   "metadata": {},
   "source": [
    "###### <font color='blue'> Python"
   ]
  },
  {
   "cell_type": "code",
   "execution_count": 46,
   "id": "1c8b4281",
   "metadata": {
    "ExecuteTime": {
     "end_time": "2025-05-07T14:00:35.551201Z",
     "start_time": "2025-05-07T14:00:35.535847Z"
    }
   },
   "outputs": [
    {
     "name": "stdout",
     "output_type": "stream",
     "text": [
      "Com média 7.5 Gabriel foi aprovado direto.\n"
     ]
    }
   ],
   "source": [
    "import numpy as np\n",
    "# Notas\n",
    "notas = [7,8.5,4.3,7.7,10]\n",
    "\n",
    "# Aluno\n",
    "aluno = 'Gabriel'\n",
    "\n",
    "# Cálculo da média\n",
    "media = np.mean(notas)\n",
    "\n",
    "# Verificação de aprovação\n",
    "if media >= 7.0:\n",
    "    print(f'Com média {media} {aluno} foi aprovado direto.')\n",
    "else:\n",
    "    print(f'Com média {media} {aluno} não foi aprovado direto.')"
   ]
  },
  {
   "cell_type": "markdown",
   "id": "a0a003ec",
   "metadata": {},
   "source": [
    "#### <a id=\"exemplo_18\"></a> <font color='blue'> Exemplo 18: </font>"
   ]
  },
  {
   "cell_type": "markdown",
   "id": "ccdca3cb",
   "metadata": {},
   "source": [
    "<font color='blue'> A média aritmética de quatro números é igual a $8$. Ao se acrescentar mais um número a média dos cinco números sobe para $9$. Qual o valor do número acrescentado?"
   ]
  },
  {
   "cell_type": "markdown",
   "id": "ad8526c9",
   "metadata": {},
   "source": [
    "##### <font color='blue'> Solução: </font>"
   ]
  },
  {
   "cell_type": "markdown",
   "id": "6e8007b0",
   "metadata": {
    "ExecuteTime": {
     "end_time": "2025-01-21T20:52:47.177640Z",
     "start_time": "2025-01-21T20:52:47.171870Z"
    }
   },
   "source": [
    "<font color='blue'> Sejam $x_{1},x_{2},x_{3}$ e $x_{4}$ os quatro primeiros números citados. Neste caso,<br><br>\n",
    " $$\\frac{x_{1}+x_{2}+x_{3}+x_{4}}{4} = 8.\\tag{1}$$<br>\n",
    " Ao se acrescentar um quinto valor $x_{5}$ a nova média é dada por:<br><br>\n",
    " $$\\frac{x_{1}+x_{2}+x_{3}+x_{4}+x_{5}}{5} = 9.\\tag{2}$$<br>\n",
    " De $(1)$, temos:<br>\n",
    " $$\\frac{x_{1}+x_{2}+x_{3}+x_{4}}{4} = 8 \\Rightarrow x_{1}+x_{2}+x_{3}+x_{4} = 32$$<br>\n",
    " Substituindo $x_{1}+x_{2}+x_{3}+x_{4}$ por $32$ em $(2)$, temos:<br><br>\n",
    " $$\\frac{x_{1}+x_{2}+x_{3}+x_{4}+x_{5}}{5} = 9 \\Rightarrow \\frac{32+x_{5}}{5} = 9 \\Rightarrow 32 + x_{5} = 45 \\Rightarrow x_{5} = 45-32 \\Rightarrow x_{5} = 13$$<br>\n",
    " Portanto, o número acrescentado vale $13$."
   ]
  },
  {
   "cell_type": "markdown",
   "id": "95880a34",
   "metadata": {},
   "source": [
    "###### <font color='blue'> Python"
   ]
  },
  {
   "cell_type": "markdown",
   "id": "3b8c5afa",
   "metadata": {},
   "source": [
    "<font color='blue'> Podemos usar o Python para testar o resultado. Você deve ter observado que não se pode saber exatamente quais são os $4$ números. Contudo, quaisquer $4$ cuja soma seja $32$ (e consequentemente $\\overline{x} = 8$) nos servirá. Digamos que $x_{1} = 7$, $x_{2} = 8$, $x_{3} = 8$ e $x_{4} = 9$."
   ]
  },
  {
   "cell_type": "code",
   "execution_count": 47,
   "id": "52a78a18",
   "metadata": {
    "ExecuteTime": {
     "end_time": "2025-05-07T14:00:37.126521Z",
     "start_time": "2025-05-07T14:00:37.121226Z"
    },
    "code_folding": []
   },
   "outputs": [
    {
     "name": "stdout",
     "output_type": "stream",
     "text": [
      "8.0\n",
      "9.0\n"
     ]
    }
   ],
   "source": [
    "import numpy as np\n",
    "\n",
    "# Dados iniciais\n",
    "quatro_numeros = [7,8,8,9]\n",
    "\n",
    "# Dados iniciais + dado extra\n",
    "cinco_numeros = [7,8,8,9,13]\n",
    "\n",
    "# Média dos 4 valores iniciais + quinto valor\n",
    "media_quatro_numeros = np.mean(quatro_numeros)\n",
    "media_cinco_numeros = np.mean(cinco_numeros)\n",
    "\n",
    "# Impressão das médias\n",
    "print(media_quatro_numeros)\n",
    "print(media_cinco_numeros)"
   ]
  },
  {
   "cell_type": "markdown",
   "id": "9a1afd65",
   "metadata": {},
   "source": [
    "### <a id=\"media_aritmetica_ponderada\"></a> 4.1.2 Média Aritmética Ponderada"
   ]
  },
  {
   "cell_type": "markdown",
   "id": "e81f3fa1",
   "metadata": {},
   "source": [
    "<a id=\"def_media_aritmetica_ponderada\"></a> <font color='red'> <b> Sejam $n$ números $x_{1},x_{2},\\ldots,x_{n}$ aos quais são atribuídos fatores de ponderação (pesos) $p_{1},p_{2},\\ldots,p_{n}$, respectivamente. Chama-se média aritmética ponderada dos números $x_{1},x_{2},\\ldots,x_{n}$ o número $\\overline{x}$ tal que:<br><br>\n",
    " $$\\overline{x} = \\frac{x_{1}p_{1}+x_{2}p_{2}+\\ldots+x_{n}p_{n}}{p_{1}+p_{2}+\\ldots+p_{n}}.$$"
   ]
  },
  {
   "cell_type": "markdown",
   "id": "a528d94f",
   "metadata": {},
   "source": [
    "#### <a id=\"exemplo_19\"></a> <font color='blue'> Exemplo 19: </font>"
   ]
  },
  {
   "cell_type": "markdown",
   "id": "478fc078",
   "metadata": {},
   "source": [
    "<font color='blue'> Em uma empresa $6$ funcionários tem salário $R\\$ \\ 3.000,00$ mensais; $15$ funcionários tem salário $R\\$ \\ 1.600,00$ mensais; e $8$ funcionários tem salário $R\\$ \\ 1.800,00$ mensais. Qual é o salário médio desses operários?"
   ]
  },
  {
   "cell_type": "markdown",
   "id": "896c541e",
   "metadata": {},
   "source": [
    "##### <font color='blue'> Solução: </font>"
   ]
  },
  {
   "cell_type": "markdown",
   "id": "fa65ab3c",
   "metadata": {},
   "source": [
    "<font color='blue'> Temos que:<br><br>\n",
    " $$\\overline{x} = \\frac{3000\\cdot6 + 1600\\cdot15 + 1800\\cdot8}{6 + 15 + 8} \\approx R\\$ \\ 1944,83.$$"
   ]
  },
  {
   "cell_type": "markdown",
   "id": "c4ef22eb",
   "metadata": {},
   "source": [
    "###### <font color='blue'> Python"
   ]
  },
  {
   "cell_type": "code",
   "execution_count": 48,
   "id": "8798a873",
   "metadata": {
    "ExecuteTime": {
     "end_time": "2025-05-07T14:00:38.703244Z",
     "start_time": "2025-05-07T14:00:38.686621Z"
    }
   },
   "outputs": [
    {
     "name": "stdout",
     "output_type": "stream",
     "text": [
      "O salário médio dos funcionários é: R$ 1944.83\n"
     ]
    }
   ],
   "source": [
    "import numpy as np\n",
    "\n",
    "# Dados fornecidos\n",
    "salarios = np.array([3000, 1600, 1800])  # Salários dos grupos de funcionários\n",
    "quantidade = np.array([6, 15, 8])        # Número de funcionários em cada grupo\n",
    "\n",
    "# Calculando o salário médio\n",
    "salario_medio = np.sum(salarios * quantidade) / np.sum(quantidade)\n",
    "\n",
    "# Exibindo o resultado\n",
    "print(f\"O salário médio dos funcionários é: R$ {salario_medio:.2f}\")"
   ]
  },
  {
   "cell_type": "markdown",
   "id": "e68fbc55",
   "metadata": {},
   "source": [
    "Para dados agrupados em classe consideramos o ponto médio das classes como sendo o representante dela para fins de cálculo da média. Vejamos o exemplo a seguir:"
   ]
  },
  {
   "cell_type": "markdown",
   "id": "170570f6",
   "metadata": {},
   "source": [
    "#### <a id=\"exemplo_20\"></a> <font color='blue'> Exemplo 20: </font>"
   ]
  },
  {
   "cell_type": "markdown",
   "id": "c1f229cf",
   "metadata": {},
   "source": [
    "<font color='blue'> Determine a média aritmética dos dados agrupados na tabela a seguir:<br><br>\n",
    " $$\\begin{array}{c|c} \\hline\n",
    "\\text{Estatura (m)}\t& \\text{Quantidade}\t\\\\ \\hline\n",
    "1,40 \\vdash 1,50    &  5\t\t\\\\ \n",
    "1,50 \\vdash 1,60\t&  15        \\\\ \n",
    "1,60 \\vdash 1,70\t&  6        \\\\\n",
    "1,70 \\vdash 1,80\t&  3        \\\\\n",
    "1,80 \\vdash 1,90\t&  2        \\\\\\hline\n",
    "\t\t  \t\t\t&  \\sum = 31\\\\ \n",
    "\\end{array} $$"
   ]
  },
  {
   "cell_type": "markdown",
   "id": "55bdc088",
   "metadata": {},
   "source": [
    "##### <font color='blue'> Solução: </font>"
   ]
  },
  {
   "cell_type": "markdown",
   "id": "a265fdb5",
   "metadata": {},
   "source": [
    "<font color='blue'> Podemos completar a tabela fornecida com o ponto médio das classes \"Estatura\":<br><br>\n",
    " $$\\begin{array}{c|c|c} \\hline\n",
    "\\text{Estatura (m)}\t& \\text{Quantidade} & \\text{Ponto Médio} \\ (x_{i})\t\\\\ \\hline\n",
    "1,40 \\vdash 1,50    &  5\t\t& 1,45 \\\\ \n",
    "1,50 \\vdash 1,60\t&  15       & 1,55 \\\\ \n",
    "1,60 \\vdash 1,70\t&  6        & 1,65 \\\\\n",
    "1,70 \\vdash 1,80\t&  3        & 1,75 \\\\\n",
    "1,80 \\vdash 1,90\t&  2        & 1,85 \\\\\\hline\n",
    "\t\t  \t\t\t&  \\sum = 31\\\\ \n",
    "\\end{array} $$<br>\n",
    " Assim,<br><br>\n",
    " $$\\overline{x} = \\frac{1,45\\cdot5 + 1,55\\cdot15 + 1,65\\cdot6 + 1,75\\cdot3 + 1,85\\cdot2}{5 + 15 + 6 + 3 + 2} \\approx 1,59 \\ m$$"
   ]
  },
  {
   "cell_type": "markdown",
   "id": "59f3d837",
   "metadata": {},
   "source": [
    "###### <font color='blue'> Python"
   ]
  },
  {
   "cell_type": "code",
   "execution_count": 49,
   "id": "7dc6c9ef",
   "metadata": {
    "ExecuteTime": {
     "end_time": "2025-05-07T14:00:40.298422Z",
     "start_time": "2025-05-07T14:00:40.293345Z"
    }
   },
   "outputs": [
    {
     "name": "stdout",
     "output_type": "stream",
     "text": [
      "A média aritmética das estaturas é: 1.59 metros\n"
     ]
    }
   ],
   "source": [
    "import numpy as np\n",
    "\n",
    "# Dados fornecidos\n",
    "intervalos = [(1.40, 1.50), (1.50, 1.60), (1.60, 1.70), (1.70, 1.80), (1.80, 1.90)]  # Intervalos de estatura\n",
    "quantidade = [5, 15, 6, 3, 2]  # Quantidade de pessoas em cada intervalo\n",
    "\n",
    "# Calculando o ponto médio de cada intervalo\n",
    "pontos_medio = [(x[0] + x[1]) / 2 for x in intervalos]\n",
    "\n",
    "# Calculando a média ponderada\n",
    "media = np.sum(np.array(pontos_medio) * np.array(quantidade)) / np.sum(quantidade)\n",
    "\n",
    "# Exibindo o resultado\n",
    "print(f\"A média aritmética das estaturas é: {media:.2f} metros\")\n"
   ]
  },
  {
   "cell_type": "markdown",
   "id": "3e36fd93",
   "metadata": {},
   "source": [
    "### <a id=\"mediana\"></a> 4.1.3 Mediana"
   ]
  },
  {
   "cell_type": "markdown",
   "id": "81dd52c3",
   "metadata": {},
   "source": [
    "<a id=\"def_mediana\"></a> <font color='red'> <b> Sejam $n$ números dispostos em rol: $x_{1},x_{2},\\ldots,x_{n}$.<br>\n",
    " <font color='red'>* Caso $n$ seja ímpar, chama-se mediana ($Md$) o termo central desse rol, isto é, o temos $x_{i}$ em que $i = \\frac{n+1}{2}$.<br>\n",
    " <font color='red'>* Caso $n$ seja par, chama-se mediana ($Md$) a média aritmética dos termos centrais desse rol, isto é, a média aritmética dos termos $x_{i}$ e $x_{i+1}$ em que $i = \\frac{n}{2}$. \n",
    "  "
   ]
  },
  {
   "cell_type": "markdown",
   "id": "1443e8b5",
   "metadata": {},
   "source": [
    "A  definição acima contempla somente a mediana para dados não agrupados. A mediana para dados agrupados foge aos objetivos deste material."
   ]
  },
  {
   "cell_type": "markdown",
   "id": "2cab90b9",
   "metadata": {},
   "source": [
    "#### <a id=\"exemplo_21\"></a> <font color='blue'> Exemplo 21: </font>"
   ]
  },
  {
   "cell_type": "markdown",
   "id": "136836f7",
   "metadata": {},
   "source": [
    "<font color='blue'> Determine a mediana dos seguintes conjuntos de dados:<br>\n",
    " a) $7,0; \\ 8,5; \\ 4,3; \\ 7,7; \\ 10$<br>\n",
    " b) $12; 22; 14; 17; 19; 15$"
   ]
  },
  {
   "cell_type": "markdown",
   "id": "892440e0",
   "metadata": {},
   "source": [
    "##### <font color='blue'> Solução do item \"a\": </font>"
   ]
  },
  {
   "cell_type": "markdown",
   "id": "85ece191",
   "metadata": {},
   "source": [
    "<font color='blue'> Note que os dados fornecidos não estão dispostos em formato de rol, isto é, dispostos em ordem crescente ou decrescente. Organizando os dados, temos o rol: $4,3; \\ 7,0; \\ 7,7; \\ 8,5; \\ 10$. Como temos um número ímpar de dados a moda corresponde ao elemento de posição $\\frac{5+1}{2} = 3^{o}$, isto é, $Md = 7,7$."
   ]
  },
  {
   "cell_type": "markdown",
   "id": "5da234ff",
   "metadata": {},
   "source": [
    "###### <font color='blue'> Python"
   ]
  },
  {
   "cell_type": "code",
   "execution_count": 50,
   "id": "3ca107a7",
   "metadata": {
    "ExecuteTime": {
     "end_time": "2025-05-07T14:00:42.008268Z",
     "start_time": "2025-05-07T14:00:41.993014Z"
    }
   },
   "outputs": [
    {
     "data": {
      "text/plain": [
       "7.7"
      ]
     },
     "execution_count": 50,
     "metadata": {},
     "output_type": "execute_result"
    }
   ],
   "source": [
    "import numpy as np\n",
    "\n",
    "# Dados\n",
    "dados = [7, 8.5, 4.3, 7.7, 10]\n",
    "\n",
    "# Cálculo da mediana\n",
    "mediana = np.median(dados)\n",
    "\n",
    "# Exibição da mediana\n",
    "mediana"
   ]
  },
  {
   "cell_type": "markdown",
   "id": "ba868b7a",
   "metadata": {},
   "source": [
    "##### <font color='blue'> Solução do item \"b\": </font>"
   ]
  },
  {
   "cell_type": "markdown",
   "id": "bc1922bd",
   "metadata": {},
   "source": [
    "<font color='blue'> Analogamente ao item \"a\", devemos dispor os dados em um rol. Neste caso: $12; 14; 15; 17; 19; 22$. Como temos um número par de dados (seis), devemos tomar a média aritmética dos termos centrais, isto é, dos termos de posição $x_{i}$ e $x_{i+1}$, para $i = \\frac{6}{2} = 3$. Portanto,<br><br>\n",
    " $$Md = \\frac{x_{3}+x_{4}}{2} = \\frac{15+17}{2} = 16$$"
   ]
  },
  {
   "cell_type": "markdown",
   "id": "9b466e27",
   "metadata": {},
   "source": [
    "###### <font color='blue'> Python"
   ]
  },
  {
   "cell_type": "code",
   "execution_count": 51,
   "id": "f2ed914a",
   "metadata": {
    "ExecuteTime": {
     "end_time": "2025-05-07T14:00:42.775659Z",
     "start_time": "2025-05-07T14:00:42.765469Z"
    }
   },
   "outputs": [
    {
     "data": {
      "text/plain": [
       "16.0"
      ]
     },
     "execution_count": 51,
     "metadata": {},
     "output_type": "execute_result"
    }
   ],
   "source": [
    "import numpy as np\n",
    "\n",
    "# Dados\n",
    "dados = [12, 22, 14, 17, 19, 15]\n",
    "\n",
    "# Cálculo da mediana\n",
    "mediana = np.median(dados)\n",
    "\n",
    "# Exibição da mediana\n",
    "mediana"
   ]
  },
  {
   "cell_type": "markdown",
   "id": "18f1aba7",
   "metadata": {},
   "source": [
    "### <a id=\"moda\"></a> 4.1.4 Moda"
   ]
  },
  {
   "cell_type": "markdown",
   "id": "cc35014e",
   "metadata": {},
   "source": [
    "<a id=\"def_moda\"></a> <font color='red'> <b> Chama-se moda de uma amostra de números $x_{1},x_{2},\\ldots,x_{n}$ um número que ocorre com maior frequência. A moda é indicada por $Mo$."
   ]
  },
  {
   "cell_type": "markdown",
   "id": "71302a81",
   "metadata": {},
   "source": [
    "Uma distribuição pode não ter moda ou ter mais de uma moda. Uma distribuição com uma moda é chamada de unimodal, com duas modas é chamada de bimodal e com três de trimodal. Com mais de três valores podemos considerar amodal ou polimodal em caso de uma variedade de dados muito grande."
   ]
  },
  {
   "cell_type": "markdown",
   "id": "894c0d6d",
   "metadata": {},
   "source": [
    "#### <a id=\"exemplo_22\"></a> <font color='blue'> Exemplo 22: </font>"
   ]
  },
  {
   "cell_type": "markdown",
   "id": "5a063a5d",
   "metadata": {},
   "source": [
    "<font color='blue'> Considere a amostra de estaturas de $18$ mulheres de uma turma de academia:<br><br>\n",
    " $$\\begin{array}{ccccc}\n",
    " 1,59 & 1,60 & 1,70 & 1,65 & 1,58 \\\\\n",
    " 1,56 & 1,48 & 1,64 & 1,64 & 1,66 \\\\\n",
    " 1,59 & 1,64 & 1,62 & 1,72 & 1,63 \\\\\n",
    " 1,53 & 1,54 & 1,60 & &\n",
    " \\end{array}$$<br>\n",
    " Determine a moda dos dados e classifique a distribuição em unimodal (uma moda), bimodal ou trimodal ou amodal (nenhuma ou mais de três modas)."
   ]
  },
  {
   "cell_type": "markdown",
   "id": "dac006a0",
   "metadata": {},
   "source": [
    "##### <font color='blue'> Solução"
   ]
  },
  {
   "cell_type": "markdown",
   "id": "a1c585f7",
   "metadata": {},
   "source": [
    "<font color='blue'> Note que o elemento mais frequente nos dados em questão é o $1,64$ que aparece $3$ vezes. Assim, $Mo = 1,64$ e, portanto, temos uma distribuição amodal."
   ]
  },
  {
   "cell_type": "markdown",
   "id": "03a318e2",
   "metadata": {},
   "source": [
    "###### <font color='blue'> Python"
   ]
  },
  {
   "cell_type": "markdown",
   "id": "0492e816",
   "metadata": {},
   "source": [
    "<font color='blue'> Retorna o valor da moda para distribuições unimodais ou a menor moda para distribuições polimodais, isto é, com mais de uma moda."
   ]
  },
  {
   "cell_type": "code",
   "execution_count": 52,
   "id": "fe829ccc",
   "metadata": {
    "ExecuteTime": {
     "end_time": "2025-05-07T14:00:44.856393Z",
     "start_time": "2025-05-07T14:00:44.850959Z"
    }
   },
   "outputs": [
    {
     "name": "stdout",
     "output_type": "stream",
     "text": [
      "As modas dos dados são: 2 com uma frequência de 3\n"
     ]
    }
   ],
   "source": [
    "from scipy import stats\n",
    "\n",
    "# Dados de exemplo\n",
    "dados = [5, 2, 9, 1, 5, 6, 8, 5,2,2]\n",
    "\n",
    "# Calculando a moda com scipy.stats.mode()\n",
    "moda = stats.mode(dados)\n",
    "\n",
    "# Acessando a moda e sua frequência diretamente\n",
    "print(f\"As modas dos dados são: {moda.mode} com uma frequência de {moda.count}\")\n"
   ]
  },
  {
   "cell_type": "markdown",
   "id": "2fbf8bc7",
   "metadata": {},
   "source": [
    "## <a id=\"medidas_de_dispersao\"></a> 4.2 Medidas de Dispersão"
   ]
  },
  {
   "cell_type": "markdown",
   "id": "d23e5278",
   "metadata": {},
   "source": [
    "<a id=\"def_medidas_de_dispersao\"></a> <font color='red'> <b> As medidas de dispersão são utilizadas para indicar o grau de variação ou dispersão de um conjunto de dados. Elas ajudam a entender o quão espalhados ou concentrados estão os valores em relação à média. As principais medidas de dispersão incluem o devio relativo de um elemento, o desvio médio, o desvio padrão e a variância. Quanto maior a dispersão, maior a diferença entre os valores individuais e a tendência central (como a média), o que pode indicar maior incerteza ou diversidade nos dados."
   ]
  },
  {
   "cell_type": "markdown",
   "id": "2bd934d4",
   "metadata": {},
   "source": [
    "### <a id=\"desvio_relativo\"></a> 4.2.1 Desvio Relativo"
   ]
  },
  {
   "cell_type": "markdown",
   "id": "870e44e8",
   "metadata": {},
   "source": [
    "<a id=\"def_desvio_relativo\"></a> <font color='red'> <b> Chama-se desvio relativo de um elemento $x_{i}$ de uma amostra de números $x_{1},x_{2},\\ldots,x_{n}$ o número $D_{r}(x_{i})$ tal que:<br><br>\n",
    " $$D_{r}(x_{i}) = x_{i}-\\overline{x},$$<br>\n",
    " em que $\\overline{x}$ é a média aritmética dos números $x_{1},x_{2},\\ldots,x_{n}$."
   ]
  },
  {
   "cell_type": "markdown",
   "id": "8a9ae52a",
   "metadata": {},
   "source": [
    "#### <a id=\"exemplo_24\"></a> <font color='blue'> Exemplo 24: </font>"
   ]
  },
  {
   "cell_type": "markdown",
   "id": "ffda38bf",
   "metadata": {},
   "source": [
    "<font color='blue'> Considere os dados a seguir correspondentes às notas da aluna Lara em matemática:<br><br>\n",
    " $$8,0; \\ 8,0; \\ 7,8; \\ 9,2; \\ 8,6; \\ 10,0$$<br>\n",
    " Determine os desvios relativos dos elementos $8,0$, $9,2$ e $8,6$."
   ]
  },
  {
   "cell_type": "markdown",
   "id": "07fd4d31",
   "metadata": {},
   "source": [
    "##### <font color='blue'> Solução"
   ]
  },
  {
   "cell_type": "markdown",
   "id": "73665296",
   "metadata": {},
   "source": [
    "<font color='blue'> Temos que<br><br>\n",
    " $$\\overline{x} = \\frac{8 + 8 + 7,8 + 9,2 + 8,6 + 10}{6} = \\frac{51,6}{6} = 8,6$$<br>\n",
    " Assim,<br><br>\n",
    " $$D_{r}(8,0) = 8,0-8,6 = -0,6, \\ \\ D_{r}(9,2) = 9,2 - 8,6 = 0,6 \\ \\ \\text{e} \\ \\ D_{r}(8,6) = 8,6-8,6 = 0$$"
   ]
  },
  {
   "cell_type": "markdown",
   "id": "3c8f4fb2",
   "metadata": {},
   "source": [
    "###### <font color='blue'> Python"
   ]
  },
  {
   "cell_type": "code",
   "execution_count": 53,
   "id": "18690d65",
   "metadata": {
    "ExecuteTime": {
     "end_time": "2025-05-07T14:00:46.920018Z",
     "start_time": "2025-05-07T14:00:46.914179Z"
    }
   },
   "outputs": [
    {
     "name": "stdout",
     "output_type": "stream",
     "text": [
      "Dr(8) = -0.6.\n",
      "Dr(9.2) = 0.6.\n",
      "Dr(8.6) = 0.0.\n"
     ]
    }
   ],
   "source": [
    "import numpy as np\n",
    "\n",
    "# Notas\n",
    "notas = [8, 8, 7.8, 9.2, 8.6, 10]\n",
    "\n",
    "# Notas selecionadas\n",
    "notas_selecionadas = [8, 9.2, 8.6]\n",
    "\n",
    "# Cálculo da média\n",
    "media = np.mean(notas)\n",
    "\n",
    "# Cálculo do desvio relativo das notas selecionadas\n",
    "for xi in notas_selecionadas:\n",
    "    \n",
    "   # Desvio relativo\n",
    "    dri = xi-media\n",
    "    \n",
    "    # Impressão dos resultados\n",
    "    print(f'Dr({xi}) = {round(dri,10)}.')"
   ]
  },
  {
   "cell_type": "markdown",
   "id": "746a8607",
   "metadata": {},
   "source": [
    "<font color='red'> Pode-se notar que:<br>\n",
    " <font color='red'> - Se $D(x_{i})>0$, então $x_{i} > \\overline{x}$;<br>\n",
    " <font color='red'> - Se $D(x_{i})<0$, então $x_{i} < \\overline{x}$;<br>\n",
    " <font color='red'> - Se $D(x_{i})=0$, então $x_{i} = \\overline{x}$."
   ]
  },
  {
   "cell_type": "markdown",
   "id": "d3ead747",
   "metadata": {},
   "source": [
    "### <a id=\"desvio_absoluto\"></a> 4.2.2 Desvio Absoluto"
   ]
  },
  {
   "cell_type": "markdown",
   "id": "5f577264",
   "metadata": {},
   "source": [
    "<a id=\"def_desvio_absoluto\"></a> <font color='red'> <b> Chama-se desvio absoluto de um elemento $x_{i}$ de uma amostra de números $x_{1},x_{2},\\ldots,x_{n}$ o número $D_{a}(x_{i})$ tal que:<br><br>\n",
    " $$D_{a}(x_{i}) = |x_{i}-\\overline{x}|,$$<br>\n",
    " em que $\\overline{x}$ é a média aritmética dos números $x_{1},x_{2},\\ldots,x_{n}$."
   ]
  },
  {
   "cell_type": "markdown",
   "id": "75079ce4",
   "metadata": {},
   "source": [
    "#### <a id=\"exemplo_25\"></a> <font color='blue'> Exemplo 25: </font>"
   ]
  },
  {
   "cell_type": "markdown",
   "id": "6dab2a14",
   "metadata": {},
   "source": [
    "<font color='blue'> Considere os dados a seguir correspondentes às notas da aluna Lara em matemática ([Exemplo 24](#exemplo_24)):<br><br>\n",
    " $$8,0; \\ 8,0; \\ 7,8; \\ 9,2; \\ 8,6; \\ 10,0$$<br>\n",
    " Determine os desvios absolutos dos elementos $8,0$, $9,2$ e $8,6$."
   ]
  },
  {
   "cell_type": "markdown",
   "id": "ebe88138",
   "metadata": {},
   "source": [
    "##### <font color='blue'> Solução"
   ]
  },
  {
   "cell_type": "markdown",
   "id": "189198a5",
   "metadata": {},
   "source": [
    "<font color='blue'> Temos que $\\overline{x} = 8,6$<br><br>\n",
    " Assim,<br><br>\n",
    " $$D_{a}(8,0) = |8,0-8,6| = 0,6, \\ \\ D_{r}(9,2) = |9,2 - 8,6| = 0,6 \\ \\ \\text{e} \\ \\ D_{r}(8,6) = |8,6-8,6| = 0$$"
   ]
  },
  {
   "cell_type": "markdown",
   "id": "55076fcf",
   "metadata": {},
   "source": [
    "###### <font color='blue'> Python"
   ]
  },
  {
   "cell_type": "code",
   "execution_count": 54,
   "id": "98eed26b",
   "metadata": {
    "ExecuteTime": {
     "end_time": "2025-05-07T14:00:48.880996Z",
     "start_time": "2025-05-07T14:00:48.874796Z"
    }
   },
   "outputs": [
    {
     "name": "stdout",
     "output_type": "stream",
     "text": [
      "Dr(8) = 0.6.\n",
      "Dr(9.2) = 0.6.\n",
      "Dr(8.6) = 0.0.\n"
     ]
    }
   ],
   "source": [
    "import numpy as np\n",
    "\n",
    "# Notas\n",
    "notas = [8, 8, 7.8, 9.2, 8.6, 10]\n",
    "\n",
    "# Notas selecionadas\n",
    "notas_selecionadas = [8, 9.2, 8.6]\n",
    "\n",
    "# Cálculo da média\n",
    "media = np.mean(notas)\n",
    "\n",
    "# Cálculo do desvio absoluto das notas selecionadas\n",
    "for xi in notas_selecionadas:\n",
    "    \n",
    "    # Desvio absoluto\n",
    "    dai = abs(xi-media)\n",
    "    \n",
    "    # Impressão dos resultados\n",
    "    print(f'Dr({xi}) = {round(dai,10)}.')"
   ]
  },
  {
   "cell_type": "markdown",
   "id": "fca2e4c7",
   "metadata": {},
   "source": [
    "### <a id=\"desvio_medio_absoluto\"></a> 4.2.3 Desvio Médio Absoluto"
   ]
  },
  {
   "cell_type": "markdown",
   "id": "e4e4e22f",
   "metadata": {},
   "source": [
    "<a id=\"desvio_medio_absoluto\"></a> <font color='red'> <b> Chama-se desvio médio absoluto de uma amostra de números $x_{1},x_{2},\\ldots,x_{n}$ o número $D_{ma}$ tal que:<br><br>\n",
    " $$D_{ma} = \\frac{\\sum_{i=1}^{n}|x_{i}-\\overline{x}|}{n},$$<br>\n",
    " em que $\\overline{x}$ é a média aritmética dos números $x_{1},x_{2},\\ldots,x_{n}$."
   ]
  },
  {
   "cell_type": "markdown",
   "id": "2664abd0",
   "metadata": {},
   "source": [
    "#### <a id=\"exemplo_26\"></a> <font color='blue'> Exemplo 26: </font>"
   ]
  },
  {
   "cell_type": "markdown",
   "id": "b4ecd55f",
   "metadata": {},
   "source": [
    "<font color='blue'> Determine o desvio médio absoluto dos dados a seguir:<br><br>\n",
    " $$15, 18, 16, 18, 22.$$"
   ]
  },
  {
   "cell_type": "markdown",
   "id": "f7ee1780",
   "metadata": {},
   "source": [
    "##### <font color='blue'> Solução:"
   ]
  },
  {
   "cell_type": "markdown",
   "id": "4c7e517c",
   "metadata": {},
   "source": [
    "<font color='blue'> Temos que<br><br>\n",
    " $$\\overline{x} = \\frac{15 + 18 + 16 + 18 + 22}{5} = \\frac{89}{5} = 17,8$$<br>\n",
    " Assim,<br><br>\n",
    " $$D_{ma} =  \\frac{\\sum_{i=1}^{n}|x_{i}-17,8|}{5} =$$<br>\n",
    " $$ = \\frac{|15-17,8| + |18-17,8| + |16-17,8| + |18-17,8| + |22-17,8|}{5} =$$<br>\n",
    " $$ = \\frac{2,8 + 0,2 + 1,8 + 0,2 + 4,2}{5} = \\frac{9,2}{5} = 1,84$$"
   ]
  },
  {
   "cell_type": "markdown",
   "id": "a97473ac",
   "metadata": {},
   "source": [
    "###### <font color='blue'> Python"
   ]
  },
  {
   "cell_type": "code",
   "execution_count": 55,
   "id": "6c8b904b",
   "metadata": {
    "ExecuteTime": {
     "end_time": "2025-05-07T14:00:50.799942Z",
     "start_time": "2025-05-07T14:00:50.787499Z"
    }
   },
   "outputs": [
    {
     "name": "stdout",
     "output_type": "stream",
     "text": [
      "O desvio médio absoluto dos dados é: 1.84\n"
     ]
    }
   ],
   "source": [
    "import numpy as np\n",
    "\n",
    "# Dados de exemplo\n",
    "dados = [15, 18, 16, 18, 22]\n",
    "\n",
    "# Calculando a média dos dados\n",
    "media = np.mean(dados)\n",
    "\n",
    "# Calculando o desvio médio absoluto\n",
    "dma = np.mean(np.abs(np.array(dados) - media))\n",
    "\n",
    "print(f\"O desvio médio absoluto dos dados é: {round(dma,5)}\")"
   ]
  },
  {
   "cell_type": "markdown",
   "id": "b815a0e2",
   "metadata": {},
   "source": [
    "#### <a id=\"exemplo_27\"></a> <font color='blue'> Exemplo 27: </font>"
   ]
  },
  {
   "cell_type": "markdown",
   "id": "04a9452a",
   "metadata": {},
   "source": [
    "<font color='blue'> Analisemos a nota de três alunos da disciplina Matemática Financeira e Estatística:<br><br>\n",
    " $$\\begin{array}{|c|ccc|c|c|}\\hline\n",
    " \\text{Aluno} & & \\text{Notas} & & \\text{Média} & \\text{Desvio Médio} \\\\\\hline\n",
    " \\text{Aluno 1} & 6,0 & 7,0 & 8,0 & 7,0 & \\approx 0,67\\\\\\hline\n",
    " \\text{Aluno 2} & 7,0 & 7,0 & 7,0 & 7,0 & 0,0\\\\\\hline\n",
    " \\text{Aluno 3} & 1,0 & 10,0 & 10,0 & 7,0 & 4,0 \\\\\\hline\n",
    "  \\end{array}$$<br>\n",
    " Note que todos os alunos possuem uma média igual a $7,0$. Contudo o aluno \"c\" tem notas com certo distanciamento da média em relação aos outros dois. Dizemos que a média desse aluno não é tão representativa quanto as médias dos alunos \"b\" e \"a\". Esse distanciamento está diretamente ligado ao desvio médio absoluto."
   ]
  },
  {
   "cell_type": "markdown",
   "id": "6f7b5d87",
   "metadata": {},
   "source": [
    "###### <font color='blue'> Python"
   ]
  },
  {
   "cell_type": "code",
   "execution_count": 56,
   "id": "33ef0aac",
   "metadata": {
    "ExecuteTime": {
     "end_time": "2025-05-07T14:00:52.008139Z",
     "start_time": "2025-05-07T14:00:51.995463Z"
    }
   },
   "outputs": [
    {
     "name": "stdout",
     "output_type": "stream",
     "text": [
      "Aluno 1: Média = 7.0, Desvio Médio Absoluto = 0.67\n",
      "Aluno 2: Média = 7.0, Desvio Médio Absoluto = 0.0\n",
      "Aluno 3: Média = 7.0, Desvio Médio Absoluto = 4.0\n"
     ]
    }
   ],
   "source": [
    "import numpy as np\n",
    "\n",
    "# Dados de exemplo\n",
    "alunos = {'Aluno 1': [6, 7, 8], \n",
    "          'Aluno 2': [7, 7, 7], \n",
    "          'Aluno 3': [1, 10, 10]}\n",
    "\n",
    "# Calculando o desvio médio absoluto para cada aluno\n",
    "for aluno, notas in alunos.items():\n",
    "    media = np.mean(notas)  # Calculando a média das notas do aluno\n",
    "    dma = np.mean(np.abs(np.array(notas) - media))  # Calculando o desvio médio absoluto\n",
    "    print(f\"{aluno}: Média = {media}, Desvio Médio Absoluto = {round(dma, 2)}\")"
   ]
  },
  {
   "cell_type": "markdown",
   "id": "fdb99540",
   "metadata": {},
   "source": [
    "### <a id=\"variancia_e_desvio_padrao\"></a> 4.2.4 Variância e Desvio Padrão"
   ]
  },
  {
   "cell_type": "markdown",
   "id": "184e4f66",
   "metadata": {},
   "source": [
    "<a id=\"variancia\"></a> <font color='red'> <b> Chama-se variância de uma amostra de números $x_{1},x_{2},\\ldots,x_{n}$ o número $\\sigma^{2}$ tal que:<br><br>\n",
    " $$\\sigma^{2} = \\frac{\\sum_{i=1}^{n}(x_{i}-\\overline{x})^{2}}{n},$$<br>\n",
    " em que $\\overline{x}$ é a média aritmética dos números $x_{1},x_{2},\\ldots,x_{n}$."
   ]
  },
  {
   "cell_type": "markdown",
   "id": "e3231720",
   "metadata": {},
   "source": [
    "<a id=\"desvio_padrao\"></a> <font color='red'> <b> O desvio padrão, denotado por $\\sigma$, é definido como sendo a raiz quadrada da variância, isto é:<br><br>\n",
    " $$\\sigma = \\sqrt{\\frac{\\sum_{i=1}^{n}(x_{i}-\\overline{x})^{2}}{n}}.$$\n",
    " "
   ]
  },
  {
   "cell_type": "markdown",
   "id": "9c023a10",
   "metadata": {},
   "source": [
    "#### <a id=\"exemplo_28\"></a> <font color='blue'> Exemplo 28: </font>"
   ]
  },
  {
   "cell_type": "markdown",
   "id": "65126d97",
   "metadata": {},
   "source": [
    "<font color='blue'> Determine a variância e o desvio padrão dos dados ([Exemplo 26](#exemplo_26)):<br><br>\n",
    " $$15, 18, 16, 18, 22.$$"
   ]
  },
  {
   "cell_type": "markdown",
   "id": "856d2cc9",
   "metadata": {},
   "source": [
    "##### <font color='blue'> Solução:"
   ]
  },
  {
   "cell_type": "markdown",
   "id": "c46967a4",
   "metadata": {},
   "source": [
    "<font color='blue'> Temos que<br><br>\n",
    " $$\\overline{x} = 17,8$$<br>\n",
    " Assim,<br><br>\n",
    " $$\\sigma^{2} =  \\frac{\\sum_{i=1}^{n}(x_{i}-17,8)^{2}}{5} =$$<br>\n",
    " $$ = \\frac{(15-17,8)^{2} + (18-17,8)^{2} + (16-17,8)^{2} + (18-17,8)^{2} + (22-17,8)^{2}}{5} =$$<br>\n",
    " $$ = \\frac{2,8^{2} + 0,2^{2} + 1,8^{2} + 0,2^{2} + 4,2^{2}}{5} = \\frac{28.8}{5} = 5,76$$<br>\n",
    " e<br><br>\n",
    " $$\\sigma = \\sqrt{\\sigma^{2}} = \\sqrt{5,76} = 2,4$$"
   ]
  },
  {
   "cell_type": "markdown",
   "id": "c3acd30b",
   "metadata": {},
   "source": [
    "###### <font color='blue'> Python"
   ]
  },
  {
   "cell_type": "code",
   "execution_count": 57,
   "id": "9c399c6c",
   "metadata": {
    "ExecuteTime": {
     "end_time": "2025-05-07T14:00:54.820851Z",
     "start_time": "2025-05-07T14:00:54.813905Z"
    }
   },
   "outputs": [
    {
     "name": "stdout",
     "output_type": "stream",
     "text": [
      "A variância dos dados é: 5.76\n",
      "O desvio padrão dos dados é: 2.4\n"
     ]
    }
   ],
   "source": [
    "import numpy as np\n",
    "\n",
    "# Dados de exemplo\n",
    "dados = [15, 18, 16, 18, 22]\n",
    "\n",
    "# Calculando a variância\n",
    "variancia = np.var(dados)\n",
    "\n",
    "# Calculando o desvio padrão\n",
    "desvio_padrao = np.std(dados)\n",
    "\n",
    "# Impressão do resultado\n",
    "print(f\"A variância dos dados é: {round(variancia,2)}\")\n",
    "print(f\"O desvio padrão dos dados é: {round(desvio_padrao,2)}\")"
   ]
  },
  {
   "cell_type": "markdown",
   "id": "d5fd3541",
   "metadata": {},
   "source": [
    "#### <a id=\"exemplo_29\"></a> <font color='blue'> Exemplo 29: </font>"
   ]
  },
  {
   "cell_type": "markdown",
   "id": "6ea227ba",
   "metadata": {},
   "source": [
    "<font color='blue'> Revisitemos o [Exemplo 27](#exemplo_27) considerando a variância e o desvio padrão dos dados:<br><br>\n",
    " $$\\begin{array}{|c|ccc|c|c|}\\hline\n",
    " \\text{Aluno} & & \\text{Notas} & & \\text{Média} & \\text{Variância} & \\text{Desvio Padrão}\\\\\\hline\n",
    " \\text{Aluno 1} & 6,0 & 7,0 & 8,0 & 7,0 & \\approx 0,67 & \\approx 0,82\\\\\\hline\n",
    " \\text{Aluno 2} & 7,0 & 7,0 & 7,0 & 7,0 & 0,0 & 0,0\\\\\\hline\n",
    " \\text{Aluno 3} & 1,0 & 10,0 & 10,0 & 7,0 & 18,0 & \\approx 4,24\\\\\\hline\n",
    "  \\end{array}$$<br>\n",
    " Note que o desvio padrão (e também a variância) são, assim como o desvio médio absoluto, medidas que nos ajudam a determinar o quão distante os dados são em relação à média."
   ]
  },
  {
   "cell_type": "markdown",
   "id": "1931b408",
   "metadata": {},
   "source": [
    "###### <font color='blue'> Python"
   ]
  },
  {
   "cell_type": "code",
   "execution_count": 58,
   "id": "ee59b71e",
   "metadata": {
    "ExecuteTime": {
     "end_time": "2025-05-07T14:00:56.696363Z",
     "start_time": "2025-05-07T14:00:56.690469Z"
    }
   },
   "outputs": [
    {
     "name": "stdout",
     "output_type": "stream",
     "text": [
      "Aluno 1: Média = 7.0, Variância = 0.67, Desvio Padrão = 0.82\n",
      "Aluno 2: Média = 7.0, Variância = 0.0, Desvio Padrão = 0.0\n",
      "Aluno 3: Média = 7.0, Variância = 18.0, Desvio Padrão = 4.24\n"
     ]
    }
   ],
   "source": [
    "import numpy as np\n",
    "\n",
    "# Dados de exemplo\n",
    "alunos = {'Aluno 1': (6, 7, 8), 'Aluno 2': (7, 7, 7), 'Aluno 3': (1, 10, 10)}\n",
    "\n",
    "# Calculando a média, a variância e o desvio padrão para cada aluno\n",
    "for aluno, notas in alunos.items():\n",
    "    media = np.mean(notas)  # Calculando a média das notas do aluno\n",
    "    variancia = np.var(notas)  # Calculando a variância das notas do aluno\n",
    "    desvio_padrao = np.std(notas)  # Calculando o desvio padrão das notas do aluno\n",
    "    print(f\"{aluno}: Média = {round(media,2)}, Variância = {round(variancia,2)}, Desvio Padrão = {round(desvio_padrao,2)}\")"
   ]
  },
  {
   "cell_type": "markdown",
   "id": "9f88f52e",
   "metadata": {
    "heading_collapsed": true
   },
   "source": [
    "# <a id=\"video_aulas\"></a> Vídeo Aulas"
   ]
  },
  {
   "cell_type": "markdown",
   "id": "95d10a2c",
   "metadata": {
    "hidden": true
   },
   "source": [
    "..."
   ]
  },
  {
   "cell_type": "markdown",
   "id": "d553e047",
   "metadata": {},
   "source": [
    "# <a id=\"exercícios\"></a>  Exercícios"
   ]
  },
  {
   "cell_type": "markdown",
   "id": "9ffffb7b",
   "metadata": {},
   "source": [
    "#### <a id=\"exercicio_1\"></a> Exercício 1"
   ]
  },
  {
   "cell_type": "markdown",
   "id": "5ec0233a",
   "metadata": {},
   "source": [
    "Os conteúdos de $25$ latas de refrigerante apresentam os seguintes volumes, em mililitros:\n",
    "\n",
    "$$\\begin{array}{ccccc}\n",
    "608 & 595 & 602 & 604 & 610 \\\\\n",
    "593 & 596 & 606 & 606 & 594 \\\\\n",
    "600 & 602 & 602 & 606 & 599 \\\\\n",
    "605 & 601 & 609 & 598 & 604 \\\\\n",
    "596 & 604 & 597 & 599 & 606 \\\\\n",
    "\\end{array}$$\n",
    "\n",
    "a) Determine a amplitude da amostra.\n",
    "\n",
    "b) Determine as frequências associadas a cada uma das classes dispostas na tabela a seguir:\n",
    "\n",
    "$$\\begin{array}{c}\n",
    "\\text{Volume} \\\\\n",
    "596 \\\\\n",
    "598 \\\\\n",
    "600 \\\\\n",
    "602 \\\\\n",
    "604 \\\\\n",
    "606 \\\\\n",
    "\\end{array}$$\n",
    "\n",
    "c) Constru um gráfico de linhas associado às frequências apresentadas no item \"b\"."
   ]
  },
  {
   "cell_type": "markdown",
   "id": "66323aff",
   "metadata": {},
   "source": [
    "#### <a id=\"exercicio_2\"></a> Exercício 2"
   ]
  },
  {
   "cell_type": "markdown",
   "id": "df7a7560",
   "metadata": {},
   "source": [
    "O gráfico abaixo apresenta a distribuição de frequências dos televisores vendidos por certa loja em certo mês, segundo a medida da diagonal da tela, em polegadas: $20, 22, 27, 29, 32, 42, 50$.<br><br>\n",
    "\n",
    "<center> <img src=\"img_apostila\\fig10.jpg\" alt=\"jpg_python\" width=\"400\" height=\"\"> </center>\n",
    "\n",
    "a) Quantos televisores foram vendidos por esta loja no mês em questão?\n",
    "\n",
    "b) Qual a frequência relativa da classe \"$32$ polegadas\"?"
   ]
  },
  {
   "cell_type": "markdown",
   "id": "a626f98c",
   "metadata": {},
   "source": [
    "#### <a id=\"exercicio_3\"></a> Exercício 3"
   ]
  },
  {
   "cell_type": "markdown",
   "id": "34ce1b7e",
   "metadata": {},
   "source": [
    "Um analista coletou o tempo (em minutos) que $45$ clientes levaram para concluir uma compra online. O menor tempo registrado foi de $2,5$ minutos e o maior foi de $14,5$ minutos.\n",
    "\n",
    "Utilizando a Fórmula de Sturges e o critério de arredondamento do material, determine:\n",
    "\n",
    "a) O número de classes (K) para agrupar estes dados.\n",
    "\n",
    "b) A amplitude das classes (h)."
   ]
  },
  {
   "cell_type": "markdown",
   "id": "5e0b761b",
   "metadata": {},
   "source": [
    "#### <a id=\"exercicio_4\"></a> Exercício 4"
   ]
  },
  {
   "cell_type": "markdown",
   "id": "e8538065",
   "metadata": {},
   "source": [
    "Sabe-se que a média aritmética de $5$ números é igual a $50$. Quatro desses números são $30, 44, 56, 59$ e $65$. Determine a mediana desse números."
   ]
  },
  {
   "cell_type": "markdown",
   "id": "35aa88e9",
   "metadata": {},
   "source": [
    "#### <a id=\"exercicio_5\"></a> Exercício 5"
   ]
  },
  {
   "cell_type": "markdown",
   "id": "18596975",
   "metadata": {},
   "source": [
    "A tabela abaixo mostra o número de gols marcados por um time de futebol em 40 jogos de um campeonato.\n",
    "\n",
    "$$\\begin{array}{c|c}\n",
    "\\text{Gols por Jogo} & \\text{Quantidade de Jogos}\\\\ \\hline\n",
    "0\t&   8\\\\\n",
    "1\t&  15\\\\\n",
    "2\t&  10\\\\\n",
    "3\t&   5\\\\\n",
    "4\t&   2\\\\ \\hline\n",
    "\\end{array}$$\n",
    "\n",
    "Pergunta: Com base na tabela, calcule:\n",
    "\n",
    "a) A média de gols por jogo.\n",
    "\n",
    "b) A moda.\n",
    "\n",
    "c) A mediana."
   ]
  },
  {
   "cell_type": "markdown",
   "id": "f0ee9a91",
   "metadata": {},
   "source": [
    "#### <a id=\"exercicio_6\"></a> Exercício 6"
   ]
  },
  {
   "cell_type": "markdown",
   "id": "399cda80",
   "metadata": {},
   "source": [
    "Um pesquisador mediu o nível de colesterol (em mg/dL) de 25 pacientes, obtendo os seguintes dados:\n",
    "\n",
    "$$\\begin{array}{ccccc}\n",
    "182 & 195 & 201 & 210 & 188\\\\\n",
    "199 & 215 & 220 & 193 & 205\\\\\n",
    "211 & 186 & 198 & 208 & 224\\\\\n",
    "180 & 190 & 200 & 207 & 218\\\\\n",
    "185 & 196 & 203 & 213 & 225\\\\\n",
    "\\end{array}$$\n",
    "\n",
    "a) Utilizando a Fórmula de Sturges, determine o número de classes (K).\n",
    "\n",
    "b) Determine a amplitude total (R) e a amplitude de cada classe (h).\n",
    "\n",
    "c) Construa a tabela de distribuição de frequência para os dados agrupados em classes.\n",
    "\n",
    "d) Calcule a média aproximada a partir da tabela de dados agrupados."
   ]
  },
  {
   "cell_type": "markdown",
   "id": "6448354e",
   "metadata": {},
   "source": []
  },
  {
   "cell_type": "markdown",
   "id": "dcb65689",
   "metadata": {},
   "source": []
  },
  {
   "cell_type": "markdown",
   "id": "2eaeefa1",
   "metadata": {},
   "source": []
  },
  {
   "cell_type": "markdown",
   "id": "7861b03a",
   "metadata": {},
   "source": []
  },
  {
   "cell_type": "markdown",
   "id": "a3d6e1d7",
   "metadata": {},
   "source": []
  },
  {
   "cell_type": "markdown",
   "id": "36560e6c",
   "metadata": {},
   "source": []
  },
  {
   "cell_type": "markdown",
   "id": "908231b2",
   "metadata": {},
   "source": []
  },
  {
   "cell_type": "markdown",
   "id": "5d7ddb54",
   "metadata": {},
   "source": []
  },
  {
   "cell_type": "markdown",
   "id": "bac2eef5",
   "metadata": {},
   "source": []
  },
  {
   "cell_type": "markdown",
   "id": "be46bb68",
   "metadata": {},
   "source": []
  },
  {
   "cell_type": "markdown",
   "id": "b225da9b",
   "metadata": {},
   "source": []
  },
  {
   "cell_type": "markdown",
   "id": "a134b362",
   "metadata": {},
   "source": []
  },
  {
   "cell_type": "markdown",
   "id": "045d90a6",
   "metadata": {},
   "source": []
  },
  {
   "cell_type": "markdown",
   "id": "05ae4671",
   "metadata": {},
   "source": []
  },
  {
   "cell_type": "markdown",
   "id": "f4267895",
   "metadata": {},
   "source": []
  },
  {
   "cell_type": "markdown",
   "id": "dcc52bfb",
   "metadata": {},
   "source": []
  },
  {
   "cell_type": "markdown",
   "id": "10f5c4af",
   "metadata": {},
   "source": []
  },
  {
   "cell_type": "markdown",
   "id": "0c4f2a8a",
   "metadata": {},
   "source": [
    "## <a id=\"respostas_dos_exercícios\"></a>  Respostas dos Exercícios"
   ]
  },
  {
   "cell_type": "markdown",
   "id": "c92df398",
   "metadata": {},
   "source": [
    "#### <a id=\"resposta_exercicio_1\"></a> Resposta do Exercício 1"
   ]
  },
  {
   "cell_type": "markdown",
   "id": "9bd9c8d4",
   "metadata": {},
   "source": [
    "a) $ R = 610 - 593 = 17$\n",
    "\n",
    "b) $$\\begin{array}{cc}\n",
    "\\text{Volume} & \\text{Frequência}\\\\\n",
    "596 & 2 \\\\\n",
    "598 & 1 \\\\\n",
    "600 & 1 \\\\\n",
    "602 & 3 \\\\\n",
    "604 & 3 \\\\\n",
    "606 & 4 \\\\\n",
    "\\end{array}$$\n",
    "\n",
    "c) <center> <img src=\"img_apostila\\fig9.jpg\" alt=\"jpg_python\" width=\"300\" height=\"\"> </center>"
   ]
  },
  {
   "cell_type": "markdown",
   "id": "3aad4555",
   "metadata": {
    "ExecuteTime": {
     "end_time": "2025-06-11T11:53:01.502954Z",
     "start_time": "2025-06-11T11:53:01.497767Z"
    }
   },
   "source": [
    "#### <a id=\"resposta_exercicio_2\"></a> Resposta do Exercício 2"
   ]
  },
  {
   "cell_type": "markdown",
   "id": "401783e6",
   "metadata": {},
   "source": [
    "a) O número total de televisores vendidos foi\n",
    "\n",
    "$$\\text{Total} = 30 + 40 + 40 + 50 + 60 + 40 + 20 = 280$$\n",
    "\n",
    "b) A frequência relativa da classe \"$32$ polegadas\" é dada por:\n",
    "\n",
    "$$f_{5} = \\frac{60}{280}\\cdot100\\% \\approx 21,4\\%$$"
   ]
  },
  {
   "cell_type": "markdown",
   "id": "68604aea",
   "metadata": {},
   "source": [
    "#### <a id=\"resposta_exercicio_3\"></a> Resposta do Exercício 3"
   ]
  },
  {
   "cell_type": "markdown",
   "id": "3d81afcd",
   "metadata": {},
   "source": [
    "a) Usando a fórmula de Sturges é K = $[1 + 3,32 * log(n)]$, onde $n=30$, temos:\n",
    "\n",
    "$$K = [1 + 3,32 * log_{10}(45)] = [6,48866554575] = 7$$\n",
    "\n",
    "Temos, portanto, $7$ classes.\n",
    "\n",
    "b) Primeiro, calculemos a amplitude total da amostra ($R$):\n",
    "\n",
    "$$R = Max - Min =  = 14,5 - 2,5 = 12,0$$\n",
    "\n",
    "Usando a fórmula $h = [[R / K]]$, temos:\n",
    "\n",
    "$$h = [[12/7]] = [[1,71428571429]] = 1,8$$\n",
    "\n",
    "Como o resultado é um número inteiro (precisão de medida), a amplitude da classe é $h = 1,8$ minutos."
   ]
  },
  {
   "cell_type": "markdown",
   "id": "48f49331",
   "metadata": {},
   "source": [
    "#### <a id=\"resposta_exercicio_4\"></a> Resposta do Exercício 4"
   ]
  },
  {
   "cell_type": "markdown",
   "id": "295f22e2",
   "metadata": {},
   "source": [
    "Seja $a$ o valor que falta. Assim,\n",
    "\n",
    "$$\\frac{30+44+56+59+65+a}{6} = 50 \\Rightarrow 254 + a = 300 \\Rightarrow a = 46$$\n",
    "\n",
    "Organizando os dados em ordem crescente, temos: $30, 44, 46, 56, 59, 65$. Portanto, a mediana corresponde à média do terceiro e quarto elementos, isto é,\n",
    "\n",
    "$$Md = \\frac{46 + 56}{2} = \\frac{102}{2} = 51.$$"
   ]
  },
  {
   "cell_type": "markdown",
   "id": "79d8b638",
   "metadata": {},
   "source": [
    "#### <a id=\"resposta_exercicio_5\"></a> Resposta do Exercício 5"
   ]
  },
  {
   "cell_type": "markdown",
   "id": "d71e1f91",
   "metadata": {},
   "source": [
    "a) Usemos a média ponderada:\n",
    "\n",
    "$$\\overline{x} = \\frac{0\\cdot8 + 1\\cdot15 + 2\\cdot10 + 3\\cdot5 + 4\\cdot2}{8 + 15 + 10 + 5 + 2} = 1,45 \\ \\text{gols por jogo}$$\n",
    "\n",
    "b) A moda é o valor em gols por jogo que é mais frequente, isto é: $Mo = 1$\n",
    "\n",
    "c) Note que, foram marcados um total de $8 + 15 + 10 + 5 + 2 = 40$ gols. Nesse caso, a mediana corresponderá à média dos elementos de posição $20$ e $21$ que estão localizados na classe $1$ gol por partida, isto é: $Md = (1 + 1)/2 = 1$."
   ]
  },
  {
   "cell_type": "markdown",
   "id": "b1fbcc89",
   "metadata": {},
   "source": [
    "#### <a id=\"resposta_exercicio_6\"></a> Resposta do Exercício 6"
   ]
  },
  {
   "cell_type": "markdown",
   "id": "0beaa54d",
   "metadata": {},
   "source": [
    "Antes e tudo, organizemos os dados em um Rol em ordem crescente:\n",
    "\n",
    "$$\\begin{array}{ccccc}\n",
    "180 & 182 & 185 & 186 & 188\\\\\n",
    "190 & 193 & 195 & 196 & 198\\\\\n",
    "199 & 200 & 201 & 203 & 205\\\\\n",
    "207 & 208 & 210 & 211 & 213\\\\\n",
    "215 & 218 & 220 & 224 & 225\\\\\n",
    "\\end{array}$$\n",
    "\n",
    "a) O número de classe, usando Sturges é:\n",
    "\n",
    "$$K = [1 + 3,32log(25)]= [5,64116082878] = 6$$\n",
    "\n",
    "b) A amplitude total e a amplitude de classe são dadas por:\n",
    "\n",
    "$$R = 225-180 = 45 \\ \\ \\text{e} \\ \\ h =\\left[\\left[\\frac{45}{6}\\right]\\right] = [[7,5]] = 8$$\n",
    "\n",
    "c) Tabela de Distribuição de Frequência é dada por:\n",
    "\n",
    "$$\\begin{array}{cc}\n",
    "\\text{Nível de Colesterol} \\ (mg/dL)\t& \\text{Frequência} \\ (fᵢ)\\\\\n",
    "180 ⊢ 188\t& 4 \\\\\n",
    "188 ⊢ 196\t& 4 \\\\\n",
    "196 ⊢ 204\t& 6 \\\\\n",
    "204 ⊢ 212\t& 5 \\\\\n",
    "212 ⊢ 220\t& 3 \\\\\n",
    "220 ⊢ 228\t& 3 \\\\\n",
    "\\end{array}$$\n",
    "\n",
    "d) Para o cálculo da média aritmética via dados agrupados em classes, temos que acrescentar o ponto médio das classes na tabela acima:\n",
    "\n",
    "$$\\begin{array}{cc}\n",
    "\\text{Nível de Colesterol} \\ (mg/dL)\t& \\text{Ponto Médio} \\ (x_{i}) & \\text{Frequência} \\ (fᵢ)\\\\\n",
    "180 ⊢ 188\t& 184 & 4 \\\\\n",
    "188 ⊢ 196\t& 192 & 4 \\\\\n",
    "196 ⊢ 204\t& 200 & 6 \\\\\n",
    "204 ⊢ 212\t& 208 & 5 \\\\\n",
    "212 ⊢ 220\t& 216 & 3 \\\\\n",
    "220 ⊢ 228\t& 224 & 3 \\\\\n",
    "\\end{array}$$\n",
    "\n",
    "Assim,\n",
    "\n",
    "$$\\overline{x} = \\frac{184\\cdot4 + 192\\cdot4 + 200\\cdot6 + 208\\cdot5 + 216\\cdot3 + 224\\cdot3}{25} = \\frac{5064}{25} = 202,56 \\ mg/dL.$$"
   ]
  },
  {
   "cell_type": "markdown",
   "id": "f4809e54",
   "metadata": {},
   "source": []
  },
  {
   "cell_type": "markdown",
   "id": "1a568ec8",
   "metadata": {},
   "source": []
  },
  {
   "cell_type": "markdown",
   "id": "006c53e8",
   "metadata": {},
   "source": []
  },
  {
   "cell_type": "markdown",
   "id": "6494621f",
   "metadata": {},
   "source": []
  },
  {
   "cell_type": "markdown",
   "id": "d2054bd8",
   "metadata": {},
   "source": []
  },
  {
   "cell_type": "markdown",
   "id": "31086d01",
   "metadata": {},
   "source": []
  },
  {
   "cell_type": "markdown",
   "id": "ed16cd10",
   "metadata": {},
   "source": []
  },
  {
   "cell_type": "markdown",
   "id": "997dfb8f",
   "metadata": {},
   "source": []
  },
  {
   "cell_type": "markdown",
   "id": "8dedaf40",
   "metadata": {},
   "source": []
  },
  {
   "cell_type": "markdown",
   "id": "95fba6c9",
   "metadata": {},
   "source": []
  },
  {
   "cell_type": "markdown",
   "id": "c23609cf",
   "metadata": {},
   "source": []
  },
  {
   "cell_type": "markdown",
   "id": "ae4399e8",
   "metadata": {},
   "source": []
  },
  {
   "cell_type": "markdown",
   "id": "4e6aaf10",
   "metadata": {},
   "source": []
  },
  {
   "cell_type": "markdown",
   "id": "bee4a240",
   "metadata": {},
   "source": []
  },
  {
   "cell_type": "markdown",
   "id": "c4e22751",
   "metadata": {},
   "source": []
  },
  {
   "cell_type": "markdown",
   "id": "b047578c",
   "metadata": {},
   "source": [
    "..."
   ]
  },
  {
   "cell_type": "markdown",
   "id": "9462bf6f",
   "metadata": {
    "heading_collapsed": true
   },
   "source": [
    "# <a id=\"enem\"></a>  Questões Enem"
   ]
  },
  {
   "cell_type": "markdown",
   "id": "5e45c334",
   "metadata": {
    "hidden": true
   },
   "source": [
    "..."
   ]
  },
  {
   "cell_type": "markdown",
   "id": "8b052821",
   "metadata": {
    "heading_collapsed": true,
    "hidden": true
   },
   "source": [
    "## <a id=\"respostas\"></a>  Respostas das Questões de Enem e Vestibulares"
   ]
  },
  {
   "cell_type": "markdown",
   "id": "04cb74bc",
   "metadata": {
    "hidden": true
   },
   "source": [
    "..."
   ]
  },
  {
   "cell_type": "markdown",
   "id": "d43b3373",
   "metadata": {},
   "source": [
    "# Referências"
   ]
  },
  {
   "cell_type": "markdown",
   "id": "34202fc0",
   "metadata": {},
   "source": [
    "..."
   ]
  }
 ],
 "metadata": {
  "kernelspec": {
   "display_name": "Python 3 (ipykernel)",
   "language": "python",
   "name": "python3"
  },
  "language_info": {
   "codemirror_mode": {
    "name": "ipython",
    "version": 3
   },
   "file_extension": ".py",
   "mimetype": "text/x-python",
   "name": "python",
   "nbconvert_exporter": "python",
   "pygments_lexer": "ipython3",
   "version": "3.11.5"
  }
 },
 "nbformat": 4,
 "nbformat_minor": 5
}
