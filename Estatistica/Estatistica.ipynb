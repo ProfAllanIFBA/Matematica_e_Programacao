{
 "cells": [
  {
   "cell_type": "markdown",
   "id": "a9a51de4",
   "metadata": {},
   "source": [
    "<center> <img src=\"logo_ifba.jpg\" alt=\"jpg_python\" width=\"100\" height=\"200\"> </center>\n",
    "<br><br>\n",
    "<div align=\"center\"><span style=\"font-size: 26px;\"><strong>Estatística<br></strong></span></div>\n",
    "<div align=\"center\"><span style=\"font-size: 16px;\"><strong>Com enfoque computacional<br></strong></span></div><br>\n",
    "<center> <img src=\"python_gif.gif\" alt=\"gif_python\" width=\"80\"> </center>\n",
    "\n",
    "**Autores:**<br> \n",
    "Allan de Sousa Soares<br>\n",
    "Edson Patrício Barreto de Almeida<br>\n"
   ]
  },
  {
   "cell_type": "markdown",
   "id": "a157f703",
   "metadata": {},
   "source": [
    "##### Observação Importante"
   ]
  },
  {
   "cell_type": "markdown",
   "id": "d4cc0a2c",
   "metadata": {},
   "source": [
    "A programação desempenha um papel complementar na disciplina, sendo utilizada principalmente como uma ferramenta de apoio. Não será cobrada diretamente nas provas presenciais, mas poderá ser explorada em atividades extraclasse."
   ]
  },
  {
   "cell_type": "markdown",
   "id": "1c3bda3a",
   "metadata": {},
   "source": [
    "##### Recomendação"
   ]
  },
  {
   "cell_type": "markdown",
   "id": "a99b36f2",
   "metadata": {},
   "source": [
    "Sugerimos aos leitores sem bagagem de programação em linguagem Python a leitura do material disponível no [Curso Python Com Jupyter Notebook](https://colab.research.google.com/github/ProfAllanIFBA/Curso_Python_Com_Jupyter_Notebook). Trata-se de uma material, assim como esse que tem em mãos, com programação em nuvem, isto é, você não precisará instalar nada e roda até mesmo de um celular comum com sistema Android. Você pode optar também por instalar o Jupyter Notebook e rodar seus materiais direto do PC. No link acima você encontra sobre a instalação do Jupyter. Alguns recursos desse material funcionam melhor no Jupyter Notebook."
   ]
  },
  {
   "cell_type": "markdown",
   "id": "71b84959",
   "metadata": {},
   "source": [
    "##### Seu feedback é muito importante"
   ]
  },
  {
   "cell_type": "markdown",
   "id": "07180f82",
   "metadata": {},
   "source": [
    "_Nos ajude a melhorar! Após a leitura avalie esse material:<br> 🔗[Avaliação do Material: Matemática Financeira Com Enfoque Computacional](https://forms.gle/QXdhpUtSd6iXbMQn6)_\n",
    "\n",
    "_Caso encontre erros nesse material acesse:<br> 🔗[Sugestão de Correções: Lógica Matemática Com Enfoque Computacional](https://forms.gle/D8MEg7sdP8z9VBRF9)_"
   ]
  },
  {
   "cell_type": "markdown",
   "id": "d87fc46a",
   "metadata": {},
   "source": []
  },
  {
   "cell_type": "markdown",
   "id": "bfa23a91",
   "metadata": {},
   "source": []
  },
  {
   "cell_type": "markdown",
   "id": "690f289b",
   "metadata": {},
   "source": []
  },
  {
   "cell_type": "markdown",
   "id": "a590f738",
   "metadata": {},
   "source": []
  },
  {
   "cell_type": "markdown",
   "id": "23097b7b",
   "metadata": {},
   "source": []
  },
  {
   "cell_type": "markdown",
   "id": "bb62e558",
   "metadata": {},
   "source": []
  },
  {
   "cell_type": "markdown",
   "id": "49c8893e",
   "metadata": {},
   "source": []
  },
  {
   "cell_type": "markdown",
   "id": "84e555be",
   "metadata": {},
   "source": []
  },
  {
   "cell_type": "markdown",
   "id": "46b0720e",
   "metadata": {},
   "source": []
  }
 ],
 "metadata": {
  "kernelspec": {
   "display_name": "Python 3 (ipykernel)",
   "language": "python",
   "name": "python3"
  },
  "language_info": {
   "codemirror_mode": {
    "name": "ipython",
    "version": 3
   },
   "file_extension": ".py",
   "mimetype": "text/x-python",
   "name": "python",
   "nbconvert_exporter": "python",
   "pygments_lexer": "ipython3",
   "version": "3.11.5"
  }
 },
 "nbformat": 4,
 "nbformat_minor": 5
}
