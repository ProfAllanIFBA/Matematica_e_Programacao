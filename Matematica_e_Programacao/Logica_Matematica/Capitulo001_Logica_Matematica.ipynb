{
 "cells": [
  {
   "cell_type": "markdown",
   "id": "1fbab5f1",
   "metadata": {},
   "source": [
    "<center> <img src=\"logo_ifba.jpg\" alt=\"jpg_python\" width=\"100\" height=\"200\"> </center>\n",
    "<br><br>\n",
    "<div align=\"center\"><span style=\"font-size: 26px;\"><strong>Lógica Matemática<br></strong></span></div>\n",
    "<div align=\"center\"><span style=\"font-size: 16px;\"><strong>Com enfoque computacional<br></strong></span></div><br>\n",
    "<center> <img src=\"python_gif.gif\" alt=\"gif_python\" width=\"80\"> </center>\n",
    "\n",
    "**Autores:**<br> \n",
    "Allan de Sousa Soares<br>\n",
    "Edson Patricio Barreto de Almeida"
   ]
  },
  {
   "cell_type": "markdown",
   "id": "0ef93324",
   "metadata": {},
   "source": [
    "*Este material foi desenvolvido para apoiar o ensino de matemática básica, com foco nos conteúdos abordados no ensino médio. O objetivo é oferecer um recurso inovador, de alta qualidade e completamente gratuito, que facilite o aprendizado de conceitos matemáticos por meio da programação.<br><br>\n",
    "A escolha de vincular matemática e programação não é apenas uma resposta à crescente demanda do mercado de trabalho por profissionais com conhecimentos básicos em programação, mas também uma abordagem pedagógica que enriquece o processo de aprendizado. Ao longo da minha trajetória, tanto como professor quanto como eterno estudante, tenho percebido o impacto positivo que a programação exerce na compreensão matemática. Essa integração, inicialmente voltada para materiais do ensino superior, tem mostrado grande potencial para beneficiar também alunos do ensino médio, onde essa abordagem ainda é pouco explorada.<br><br>\n",
    "Embora aprender matemática aliada à programação possa parecer desafiador à primeira vista, a prática com ferramentas de programação não apenas torna os conceitos matemáticos mais acessíveis, mas também amplia significativamente as possibilidades de estudo. Ao unir essas duas áreas, buscamos oferecer um aprendizado mais dinâmico, interativo e conectado às demandas do mundo contemporâneo.*"
   ]
  },
  {
   "cell_type": "markdown",
   "id": "d03f449a",
   "metadata": {},
   "source": [
    "##### Recomendação"
   ]
  },
  {
   "cell_type": "markdown",
   "id": "3247a901",
   "metadata": {},
   "source": [
    "Sugerimos aos leitores sem bagagem de programação em linguagem Python a leitura do material disponível no [Curso Python Com Jupyter Notebook](https://colab.research.google.com/github/ProfAllanIFBA/Curso_Python_Com_Jupyter_Notebook). Trata-se de uma material, assim como esse que tem em mãos, com programação em nuvem, isto é, você não precisará instalar nada e roda até mesmo de um celular comum com sistema Android. Você pode optar também por instalar o Jupyter Notebook e rodar seus materiais direto do PC. No link acima você encontra sobre a instalação do Jupyter. Alguns recursos desse material funcionam melhor no Jupyter Notebook."
   ]
  },
  {
   "cell_type": "markdown",
   "id": "ffb252f4",
   "metadata": {},
   "source": [
    "# 1. O que é Lógica Matemática?"
   ]
  },
  {
   "cell_type": "markdown",
   "id": "4e65c976",
   "metadata": {},
   "source": [
    "A lógica matemática é uma subárea da matemática que se dedica ao estudo do raciocínio formal, fornecendo as bases para a análise e construção de argumentos válidos. Utilizando proposições, conectivos lógicos e operações como negação, conjunção e disjunção, essa área investiga as estruturas que sustentam a coerência e validade do pensamento. Além de ser uma ferramenta indispensável no desenvolvimento do raciocínio lógico, a lógica matemática desempenha um papel crucial em várias áreas do conhecimento, como a computação, onde fundamenta a programação e a inteligência artificial; a filosofia, ao estruturar análises críticas e sistemas de argumentação; e a própria matemática, ao garantir rigor em suas demonstrações e teorias. Sua importância transcende disciplinas, conectando diferentes campos e proporcionando um entendimento mais profundo sobre o raciocínio humano e o processamento de informações."
   ]
  },
  {
   "cell_type": "markdown",
   "id": "a1e3b740",
   "metadata": {},
   "source": [
    "## <a id=\"proposicao\"></a> 2. Proposição"
   ]
  },
  {
   "cell_type": "markdown",
   "id": "e10f4f4d",
   "metadata": {},
   "source": [
    "<font color='red'> <b> Proposição é toda expressão que encerra um pensamento de sentido completo e pode ser classificada com valores lógicos $V$ (verdadeira) ou $F$ (falsa).</b> </font>"
   ]
  },
  {
   "cell_type": "markdown",
   "id": "b8580f4c",
   "metadata": {},
   "source": [
    "As proposições são, em geral, indicadas por letras minúsculas: $p, q, r, s, t,...$"
   ]
  },
  {
   "cell_type": "markdown",
   "id": "c5f5f0b9",
   "metadata": {},
   "source": [
    "Além da definição acima, uma proposição deve respeitar dois princípios básicos:"
   ]
  },
  {
   "cell_type": "markdown",
   "id": "280fd4a9",
   "metadata": {},
   "source": [
    "#### <a id=\"exemplo_1\"></a> <font color='blue'> Exemplo 1: </font>"
   ]
  },
  {
   "cell_type": "markdown",
   "id": "3b2b5fc4",
   "metadata": {},
   "source": [
    "<font color='blue'> São proposições:<br>\n",
    " a) $p:$ O Sol é uma estrela.<br>\n",
    " b) $q:$ Todo brasileiro nasceu na Bahia.<br>\n",
    " c) $r:$ $1 + 1 = 3$<br>\n",
    " Note que todas as expressões acima encerram um pensamento com sentido completo. Pelos conhecimentos adquiridos anteriormente sabemos ser a primeira verdadeira e as duas seguintes falsas.</font>"
   ]
  },
  {
   "cell_type": "markdown",
   "id": "9f21d6ce",
   "metadata": {},
   "source": [
    "### <a id=\"nao_contradicao\"></a> Princípio da Não-Contradição"
   ]
  },
  {
   "cell_type": "markdown",
   "id": "8dec74f9",
   "metadata": {},
   "source": [
    "<font color='red'> <b>Uma proposição não pode ser verdadeira e falsa simultaneamente. </b></font>"
   ]
  },
  {
   "cell_type": "markdown",
   "id": "b32c1dff",
   "metadata": {},
   "source": [
    "### <a id=\"terceiro_excluido\"></a>Princípio do Terceiro Excluído"
   ]
  },
  {
   "cell_type": "markdown",
   "id": "5e587071",
   "metadata": {},
   "source": [
    "<font color='red'> <b>Toda proposição ou é verdadeira ou é falsa; não existe um terceiro valor lógico.</b></font>"
   ]
  },
  {
   "cell_type": "markdown",
   "id": "e576be87",
   "metadata": {},
   "source": [
    "Volte ao [**Exemplo 1**](#exemplo_1) e observe que todas as três proposições dadas satisfazem todos os dois princípios acima."
   ]
  },
  {
   "cell_type": "markdown",
   "id": "ec6bdbf1",
   "metadata": {},
   "source": [
    "## <a id=\"sentenca_aberta\"></a> 3. Sentença Aberta"
   ]
  },
  {
   "cell_type": "markdown",
   "id": "d68f3c0d",
   "metadata": {},
   "source": [
    "<font color='red'> <b>Sentença aberta é toda expressão que encerra um pensamento de sentido completo mas que não pode ser classificada como $V$ ou $F$.</b></font>"
   ]
  },
  {
   "cell_type": "markdown",
   "id": "9f9fa368",
   "metadata": {},
   "source": [
    "#### <a id=\"exemplo_2\"></a><font color='blue'> Exemplo 2: </font>"
   ]
  },
  {
   "cell_type": "markdown",
   "id": "41957b52",
   "metadata": {},
   "source": [
    "<font color='blue'> A expressão $p: x + 1 = 4$ se trata de uma sentença aberta uma vez que pode ser verdadeira ou falsa dependendo do valor de $x$. Caso $x = 3$, $p$ terá valor lógico $V$. Caso $x \\neq 3$ ($x$ diferente de $3$) temos que $p$ terá valor lógico $F$."
   ]
  },
  {
   "cell_type": "markdown",
   "id": "581239b5",
   "metadata": {},
   "source": [
    "Casos envolvendo sentenças abertas são muito comuns em matemática. Das aulas da educação básica anteriores ao primeiro ano do ensino médio nos deparamos com as equações polinomiais de grau um, por exemplo, na forma\n",
    "\n",
    "$$ax + b = 0, \\ a \\neq 0.  \\tag{1}$$\n",
    "\n",
    "Em tais casos, geralmente, buscavamos o valor de $x$ que torne o lado esquerdo igual ao lado direito de $(1)$. Isso era feito isolando-se a variável $x$. Para tal valor $x$ tínhamos que a proposição $p: ax + b = 0$ assume valor lógico $V$ deixando de ser uma sentença aberta para uma proposição verdadeira."
   ]
  },
  {
   "cell_type": "markdown",
   "id": "637734f7",
   "metadata": {},
   "source": [
    "#### <a id=\"exemplo_3\"></a><font color='blue'> Exemplo 3: </font>"
   ]
  },
  {
   "cell_type": "markdown",
   "id": "d798ecd5",
   "metadata": {},
   "source": [
    "<font color='blue'> Determine o valor de $x$ para que cada uma das sentenças abertas dadas a seguir sejam proposições verdadeiras.<br>\n",
    " a) $p: 2x - 4 = 0$<br>\n",
    " b) $q: \\frac{5x}{2} - 2 = x - \\frac{1}{3}$<br>\n",
    " c) $r: x^{2} - 5x + 6 = 0$ (equação polinomial de grau dois)"
   ]
  },
  {
   "cell_type": "markdown",
   "id": "f837700a",
   "metadata": {},
   "source": [
    "##### <a id=\"sol_exemplo_3\"></a><font color='blue'> Solução: </font>"
   ]
  },
  {
   "cell_type": "markdown",
   "id": "e368f502",
   "metadata": {},
   "source": [
    "<font color='blue'> Temos um exercício típico de solução de equação, parte fundamental em muitos problemas de matemática. Os três primeiros itens tratam-se de equações polinomiais de grau um e a última de uma equação polinomial de grau dois. A resolução das equações de grau um se fazem por meio do isolamento da vairável $x$ em um dos membros da equação enquanto que, a equação de grau dois se dá pela utilização das fómrulas<br><br>\n",
    " $$x = \\frac{-b \\pm \\sqrt{\\Delta}}{2a}\\ \\ \\text{com} \\ \\ \\Delta = b^{2} - 4ac$$<br>\n",
    " para uma equação na forma $ax^{2} + bx + c = 0$, com $a,b,c$ números reais e $a \\neq 0$. Em breve trataremos com mais detalhes o que vem a ser um número real bem como de onde vem a fórmula anterior. "
   ]
  },
  {
   "cell_type": "markdown",
   "id": "1e8e5b25",
   "metadata": {},
   "source": [
    "<font color='blue'> a) Temos que<br><br>\n",
    " $$2x - 4 = 0 \\Rightarrow 2x = 4 \\Rightarrow x = \\frac{4}{2} \\Rightarrow x = 2$$<br>\n",
    " Portanto, $x = 2$ é o valor que torna a primeira proposição verdadeira."
   ]
  },
  {
   "cell_type": "markdown",
   "id": "33f87590",
   "metadata": {},
   "source": [
    "<font color='blue'> b) A segunda equação envolverá, em certo ponto o cálculo do mmc e o trabalho com frações. Pois bem,<br><br>\n",
    " $$\\frac{5x}{2} - 2 = x -\\frac{1}{3} \\Rightarrow \\frac{5x}{2} - x = -\\frac{1}{3} + 2 \\Rightarrow \\frac{5x-2x}{2} = \\frac{-1 + 6}{3} \\Rightarrow \\frac{3x}{2} = \\frac{5}{3} \\Rightarrow x = \\frac{10}{9}$$<br>\n",
    " Portanto, $x = \\frac{10}{9}$ é o valor que torna a proposição $q$ verdadeira."
   ]
  },
  {
   "cell_type": "markdown",
   "id": "4d06e458",
   "metadata": {},
   "source": [
    "<font color='blue'> c) Temos que $a = 1, b = -5 \\ \\text{e} c = 6$<br><br>\n",
    " $$x = \\Delta = b^{2} - 4ac = (-5)^{2} - 4\\cdot1\\cdot6 = 25 - 24 = 1 \\Rightarrow$$<br>\n",
    " $$x = \\frac{-b \\pm \\sqrt{\\Delta}}{2a} = \\frac{-(-5) \\pm \\sqrt{1}}{2\\cdot1} = \\frac{5 \\pm 1}{2} \\Rightarrow x_{1} = \\frac{5 - 1}{2} = \\frac{4}{2} = 2 \\ \\ \\text{e} \\ \\ x_{2} = \\frac{5 + 1}{2} = \\frac{6}{2} = 3$$<br>\n",
    " Portanto, $x_{1} = 2$ ou $x_{2} = 3$ são soluções da equação dada."
   ]
  },
  {
   "cell_type": "markdown",
   "id": "02ad963b",
   "metadata": {},
   "source": [
    "<font color='blue'> O Python dispõe de uma função \"pronta\" **solve** da biblioteca **sympy** para a solução de equações capaz de resolver um número bastante significativo delas. O código a seguir, a partir da entrada $f(x) = 0$ (do lado esquerdo toda a expressão e $0$ do lado direito):"
   ]
  },
  {
   "cell_type": "code",
   "execution_count": 1,
   "id": "aacf733a",
   "metadata": {
    "ExecuteTime": {
     "end_time": "2024-12-24T15:58:55.064394Z",
     "start_time": "2024-12-24T15:58:54.435820Z"
    }
   },
   "outputs": [
    {
     "name": "stdout",
     "output_type": "stream",
     "text": [
      "Solução: [2]\n"
     ]
    }
   ],
   "source": [
    "# Item a\n",
    "from sympy import symbols, solve\n",
    "\n",
    "# Definindo a variável\n",
    "x = symbols('x')\n",
    "\n",
    "# Definindo a equação f(x)\n",
    "f = 2*x-4\n",
    "\n",
    "# Resolvendo f(x) = 0\n",
    "solucao = solve(f, x)\n",
    "\n",
    "print(f\"Solução: {solucao}\")"
   ]
  },
  {
   "cell_type": "code",
   "execution_count": 2,
   "id": "5000e8b4",
   "metadata": {
    "ExecuteTime": {
     "end_time": "2024-12-24T15:58:55.077895Z",
     "start_time": "2024-12-24T15:58:55.067391Z"
    }
   },
   "outputs": [
    {
     "name": "stdout",
     "output_type": "stream",
     "text": [
      "Solução: [1.11111111111111]\n"
     ]
    }
   ],
   "source": [
    "# Item b\n",
    "\n",
    "# Definindo a variável\n",
    "x = symbols('x')\n",
    "\n",
    "# Definindo a equação f(x)\n",
    "f = (5*x)/2-2 - x + 1/3 # expressão ajustada à forma f(x) = 0\n",
    "\n",
    "# Resolvendo f(x) = 0\n",
    "solucao = solve(f, x)\n",
    "\n",
    "print(f\"Solução: {solucao}\")"
   ]
  },
  {
   "cell_type": "code",
   "execution_count": 3,
   "id": "b344f864",
   "metadata": {
    "ExecuteTime": {
     "end_time": "2024-12-24T15:58:55.101516Z",
     "start_time": "2024-12-24T15:58:55.078896Z"
    }
   },
   "outputs": [
    {
     "name": "stdout",
     "output_type": "stream",
     "text": [
      "Solução: [2, 3]\n"
     ]
    }
   ],
   "source": [
    "# Item b\n",
    "\n",
    "# Definindo a variável\n",
    "x = symbols('x')\n",
    "\n",
    "# Definindo a equação f(x)\n",
    "f = x**2 - 5*x + 6 # expressão ajustada à forma f(x) = 0\n",
    "\n",
    "# Resolvendo f(x) = 0\n",
    "solucao = solve(f, x)\n",
    "\n",
    "print(f\"Solução: {solucao}\")"
   ]
  },
  {
   "cell_type": "markdown",
   "id": "1e07b9f2",
   "metadata": {},
   "source": [
    "### Pergunta importante"
   ]
  },
  {
   "cell_type": "markdown",
   "id": "bd50a7d6",
   "metadata": {},
   "source": [
    "Observando o [Exemplo 3](#exemplo_3) pode-se notar que o computador pode ser usado para resolver equações matemáticas (e provavelmente bastante outra coisas). Por que então resolver equações manualmente?"
   ]
  },
  {
   "cell_type": "markdown",
   "id": "f7e20d10",
   "metadata": {},
   "source": [
    "# <a id=\"negacao_conectivos_e_equivalencia_logica\"></a>4. Negação, Conectivos e Equivalência Lógica"
   ]
  },
  {
   "cell_type": "markdown",
   "id": "00bf7100",
   "metadata": {},
   "source": [
    "## <a id=\"negacao\"></a>4.1 Negação de uma proposição"
   ]
  },
  {
   "cell_type": "markdown",
   "id": "7c509424",
   "metadata": {},
   "source": [
    "<a id=\"def_negacao\"></a><font color='red'> <b>A proposição $\\neg p$ será falsa se $p$ for verdadeira ou será verdadeira caso $p$ seja falsa. </b>"
   ]
  },
  {
   "cell_type": "markdown",
   "id": "8e6c39b4",
   "metadata": {},
   "source": [
    "Podemos representar os valores de proposições pelas chamadas **tabelas verdade**. Para $p$ e sua negação temos:"
   ]
  },
  {
   "cell_type": "markdown",
   "id": "004951b0",
   "metadata": {},
   "source": [
    "<font color='red'> $$\\begin{array}{|c|c|}\\hline\n",
    "p & \\neg p\\\\ \\hline\n",
    "V & F \\\\\\hline\n",
    "F & V \\\\\\hline\n",
    "\\end{array}$$"
   ]
  },
  {
   "cell_type": "markdown",
   "id": "009cf69f",
   "metadata": {},
   "source": [
    "#### <a id=\"exemplo_4\"></a><font color='blue'> Exemplo 4: </font>"
   ]
  },
  {
   "cell_type": "markdown",
   "id": "9915e0e6",
   "metadata": {},
   "source": [
    "</a><font color='blue'> Consideremos as seguintes proposições e suas negações:<br>\n",
    " a) $p:$ Salvador é a capital da Bahia. $(V)$ e $\\neg p:$ Salvador não é a capital da Bahia. $(F)$<br>\n",
    " b) $p:3 + 1 = 5$ ($F$) e $\\neg p: 3 + 1 \\neq 5$ ($V$)"
   ]
  },
  {
   "cell_type": "markdown",
   "id": "316148eb",
   "metadata": {},
   "source": [
    "A negação de uma proposição na língua portuguesa é geralmente feita ao negar a qualidade atribuída ao sujeito. A negação de uma frase já negativa é feita-se removendo-se o não. Nesse caso, recorremos à propriedade da dupla negação:\n",
    "\n",
    "<font color='red'>$$\\neg (\\neg p) \\equiv p$$</font>\n",
    "\n",
    "em que $\\equiv$ é o sinal de equivalência entre duas proposições lógicas. Veremos como utilizá-lo logo mais."
   ]
  },
  {
   "cell_type": "markdown",
   "id": "60195d78",
   "metadata": {},
   "source": [
    "<font color='blue'> Por exemplo, a negação de João não é rico é, simplesmente, João é rico. </font>"
   ]
  },
  {
   "cell_type": "markdown",
   "id": "6301de8c",
   "metadata": {},
   "source": [
    "#### Uma observação sobre a negação de proposições em língua portuguesa."
   ]
  },
  {
   "cell_type": "markdown",
   "id": "fcc5c8bb",
   "metadata": {},
   "source": [
    "Aqui surge um alerta importante: a negação não pode estar diretamente associada ao antônimo na língua portuguesa. Por exemplo, não é correto afirmar que 'João é pobre' é a negação de 'João é rico'. Essa pode ser uma das possibilidades, mas João também pode ser classe média, multimilionário ou estar em outra condição intermediária."
   ]
  },
  {
   "cell_type": "markdown",
   "id": "f1c2498b",
   "metadata": {},
   "source": [
    "#### Negação de variáveis lógicas no Python"
   ]
  },
  {
   "cell_type": "code",
   "execution_count": 4,
   "id": "36f16669",
   "metadata": {
    "ExecuteTime": {
     "end_time": "2024-12-24T15:58:55.107453Z",
     "start_time": "2024-12-24T15:58:55.103514Z"
    }
   },
   "outputs": [
    {
     "name": "stdout",
     "output_type": "stream",
     "text": [
      "True\n",
      "False\n"
     ]
    }
   ],
   "source": [
    "# Variáveis lógicas\n",
    "p = True\n",
    "q = False\n",
    "\n",
    "# Imprimindo\n",
    "print(p)\n",
    "print(q)"
   ]
  },
  {
   "cell_type": "code",
   "execution_count": 5,
   "id": "78854b8d",
   "metadata": {
    "ExecuteTime": {
     "end_time": "2024-12-24T15:58:55.117174Z",
     "start_time": "2024-12-24T15:58:55.108453Z"
    }
   },
   "outputs": [
    {
     "name": "stdout",
     "output_type": "stream",
     "text": [
      "False\n",
      "True\n"
     ]
    }
   ],
   "source": [
    "# Imprimindo a negação das proposições p e q\n",
    "\n",
    "print(not p)\n",
    "print(not q)"
   ]
  },
  {
   "cell_type": "markdown",
   "id": "f272b0ec",
   "metadata": {},
   "source": [
    "## <a id=\"conectivos\"></a>4.2 Conectivos e Equivalência Lógica"
   ]
  },
  {
   "cell_type": "markdown",
   "id": "d8407211",
   "metadata": {},
   "source": [
    "Podemos unir duas ou mais proposições dando origens a outras proposições por meio dos conectivos<br>\n",
    "<font color='red'>1. *e* $(\\wedge)$, a conjunção<br>\n",
    "<font color='red'>2. *ou* $(\\vee)$, a disjunção<br>\n",
    "<font color='red'>3. *se, então* ($\\rightarrow$), a condicional<br>\n",
    "<font color='red'>4. *se, e somente se* ($\\leftrightarrow$), a bicondicional"
   ]
  },
  {
   "cell_type": "markdown",
   "id": "94d2baa7",
   "metadata": {
    "ExecuteTime": {
     "end_time": "2024-12-22T23:31:47.303917Z",
     "start_time": "2024-12-22T23:31:47.299764Z"
    }
   },
   "source": [
    "## <a id=\"conjunção\"></a>4.2.1 A conjunção 'e'"
   ]
  },
  {
   "cell_type": "markdown",
   "id": "db504dfd",
   "metadata": {},
   "source": [
    "<a id=\"def_conjucao\"></a><font color='red'> <b>Dadas duas proposições $p$ e $q$, chama-se \"conjunção de $p$ e $q$\" a proposição $p \\wedge q$ (lê-se $p$ e $q$). A conjução será verdadeira quando $p$ e $q$ forem ambas verdadeiras e será falsa nos demais casos."
   ]
  },
  {
   "cell_type": "markdown",
   "id": "18409217",
   "metadata": {},
   "source": [
    "A tabela verdade associada à conjunção é dada por:"
   ]
  },
  {
   "cell_type": "markdown",
   "id": "3a359973",
   "metadata": {},
   "source": [
    "<font color='red'> $$\\begin{array}{|c|c|c|}\\hline\n",
    "p & q & p \\wedge q\\\\ \\hline\n",
    "V & V & V \\\\\\hline\n",
    "V & F & F\\\\\\hline\n",
    "F & V & F\\\\\\hline\n",
    "F & F & F\\\\\\hline\n",
    "\\end{array}$$"
   ]
  },
  {
   "cell_type": "markdown",
   "id": "2bb9c3d3",
   "metadata": {},
   "source": [
    "#### <a id=\"exemplo_5\"></a><font color='blue'> Exemplo 5: </font>"
   ]
  },
  {
   "cell_type": "markdown",
   "id": "eed3867e",
   "metadata": {},
   "source": [
    "<font color='blue'> Apresente a conjunção e o valor verdade das proposições<br>\n",
    " $p:$ Salvador é a capital da Bahia.<br>\n",
    " $q:$ A vaca é um mamífero.</font>"
   ]
  },
  {
   "cell_type": "markdown",
   "id": "eea04278",
   "metadata": {
    "ExecuteTime": {
     "end_time": "2024-12-22T23:45:28.287235Z",
     "start_time": "2024-12-22T23:45:28.283813Z"
    }
   },
   "source": [
    "##### <font color='blue'> Solução: </font>"
   ]
  },
  {
   "cell_type": "markdown",
   "id": "03f9408f",
   "metadata": {},
   "source": [
    "<font color='blue'> A conjunção das proposições $p$ e $q$ é simplesmente dada por:<br>\n",
    " $p \\wedge q:$ Salvador é a capital da Bahia e a vaca é um pássaro.<br>\n",
    " Uma vez que a proposição $p$ é verdadeira e $q$ é também verdadeira, temos que $p \\wedge q$ tem valor lógico $V$. Em símbolos,<br><br>\n",
    " $$p \\wedge q \\Rightarrow V \\wedge V \\equiv V$$"
   ]
  },
  {
   "cell_type": "markdown",
   "id": "396395e2",
   "metadata": {},
   "source": [
    "#### Conjunção de variáveis lógicas no Python"
   ]
  },
  {
   "cell_type": "code",
   "execution_count": 6,
   "id": "aebd785a",
   "metadata": {
    "ExecuteTime": {
     "end_time": "2024-12-24T15:58:55.127067Z",
     "start_time": "2024-12-24T15:58:55.118174Z"
    }
   },
   "outputs": [
    {
     "name": "stdout",
     "output_type": "stream",
     "text": [
      "True\n"
     ]
    }
   ],
   "source": [
    "# Variáveis lógicas\n",
    "p = True\n",
    "q = True\n",
    "\n",
    "# Conjunção lógica\n",
    "p_e_q = p & q\n",
    "\n",
    "print(p_e_q)"
   ]
  },
  {
   "cell_type": "markdown",
   "id": "ce9ecf71",
   "metadata": {},
   "source": [
    "#### <a id=\"exemplo_6\"></a><font color='blue'> Exemplo 6: </font>"
   ]
  },
  {
   "cell_type": "markdown",
   "id": "6d1ac778",
   "metadata": {},
   "source": [
    "<font color='blue'> Qual o valor lógico da proposição composta:<br><br>\n",
    " $$(2 + 1 = 3) \\wedge(2^{2} + 4 = 8) \\wedge (1 + 0 \\neq 0 + 1)$$"
   ]
  },
  {
   "cell_type": "markdown",
   "id": "f31d3c3d",
   "metadata": {},
   "source": [
    "##### <font color='blue'> Solução: </font>"
   ]
  },
  {
   "cell_type": "markdown",
   "id": "bc250bc3",
   "metadata": {},
   "source": [
    "<font color='blue'> Identifiquemos as proposições simples (indivisíveis) na expressão composta acima por $p: 2 + 1 = 3$, $q: 2^{2} + 4 = 8$ e $r: 1 + 0 \\neq 0 + 1$. Sabemos que as duas primeiras são verdadeiras e a última é falsa. Nesse caso,<br><br>\n",
    " $$p \\wedge q \\wedge r \\Rightarrow V \\wedge V \\wedge F \\equiv (V \\wedge V) \\wedge F \\equiv V \\wedge F \\equiv F$$"
   ]
  },
  {
   "cell_type": "markdown",
   "id": "4976b938",
   "metadata": {},
   "source": [
    "<font color='blue'> A célula de código a seguir apresenta a resposta do [Exemplo 6](#exemplo_6) usando a linguagem Python:"
   ]
  },
  {
   "cell_type": "code",
   "execution_count": 7,
   "id": "255f5e56",
   "metadata": {
    "ExecuteTime": {
     "end_time": "2024-12-24T15:58:55.138265Z",
     "start_time": "2024-12-24T15:58:55.127067Z"
    }
   },
   "outputs": [
    {
     "name": "stdout",
     "output_type": "stream",
     "text": [
      "True True False\n"
     ]
    }
   ],
   "source": [
    "# Proposições\n",
    "p = (2+1 == 3)\n",
    "q = (2**2+4 == 8)\n",
    "r = (1 + 0 != 0 + 1)\n",
    "\n",
    "# Consultando os valores verdade de p, q e r\n",
    "print(p,q,r)"
   ]
  },
  {
   "cell_type": "code",
   "execution_count": 8,
   "id": "ecb3b521",
   "metadata": {
    "ExecuteTime": {
     "end_time": "2024-12-24T15:58:55.147701Z",
     "start_time": "2024-12-24T15:58:55.140259Z"
    }
   },
   "outputs": [
    {
     "name": "stdout",
     "output_type": "stream",
     "text": [
      "False\n"
     ]
    }
   ],
   "source": [
    "# Obtendo a respota de p∧q∧r\n",
    "resultado = p&q&r\n",
    "print(resultado)"
   ]
  },
  {
   "cell_type": "markdown",
   "id": "593a0dd3",
   "metadata": {},
   "source": [
    "#### Limitação computacional"
   ]
  },
  {
   "cell_type": "markdown",
   "id": "3d445ea6",
   "metadata": {},
   "source": [
    "Embora uma linguagem de programação seja uma ferramenta poderosa essa possui problemas (em alguns casos contornáveis). Por exemplo, vimos que a solução computacional do [Exemplo 6](#exemplo_6) que envolveu a conjunção das variáveis lógicas com valores calculados pelo próprio Python. Por serem valores inteiros vimos que tudo correu bem. Mas o computador apresenta limitações bem simples quando se trata de comparações de igualdade. Devido à memória finita, números como $1/3$ tem uma parte significativa descartada. Por exemplo, a proposição lógica\n",
    "\n",
    "$$s: \\left(1-\\frac{1}{3}\\right)^{2} = \\frac{4}{9}$$\n",
    "\n",
    "tem valor lógico $V$. De fato,\n",
    "\n",
    "$$ \\left(1-\\frac{1}{3}\\right)^{2} = \\left(\\frac{3-1}{3} \\right)^{2} = \\left(\\frac{2}{3} \\right)^{2} = \\frac{2^{2}}{3^{2}} = \\frac{4}{9}$$\n",
    "\n",
    "Mas ao tentarmos checar computacionalmente não obtemos a mesma resposta."
   ]
  },
  {
   "cell_type": "code",
   "execution_count": 9,
   "id": "c9e92be4",
   "metadata": {
    "ExecuteTime": {
     "end_time": "2024-12-24T15:58:55.159919Z",
     "start_time": "2024-12-24T15:58:55.149700Z"
    }
   },
   "outputs": [
    {
     "data": {
      "text/plain": [
       "False"
      ]
     },
     "execution_count": 9,
     "metadata": {},
     "output_type": "execute_result"
    }
   ],
   "source": [
    "# Variáveis lógicas\n",
    "p = (1-1/3)**2\n",
    "q = 4/9\n",
    "\n",
    "# Obtendo o valor lógico da igualdade\n",
    "p == q"
   ]
  },
  {
   "cell_type": "markdown",
   "id": "88bcae66",
   "metadata": {
    "ExecuteTime": {
     "end_time": "2024-12-23T00:16:33.191750Z",
     "start_time": "2024-12-23T00:16:33.183991Z"
    }
   },
   "source": [
    "A respota acima, em princípio, parece surpreendente mas pode ser explicada facilmente."
   ]
  },
  {
   "cell_type": "code",
   "execution_count": 10,
   "id": "883cd6d0",
   "metadata": {
    "ExecuteTime": {
     "end_time": "2024-12-24T15:58:55.169090Z",
     "start_time": "2024-12-24T15:58:55.162914Z"
    }
   },
   "outputs": [
    {
     "name": "stdout",
     "output_type": "stream",
     "text": [
      "0.44444444444444453\n",
      "0.4444444444444444\n"
     ]
    }
   ],
   "source": [
    "print(p)\n",
    "print(q)"
   ]
  },
  {
   "cell_type": "markdown",
   "id": "4a727112",
   "metadata": {},
   "source": [
    "O problema com a comparação anterior é que o computador precisa arredondar os valores devido à sua memória finita. Por isso, nem tudo que fazemos manualmente pode ser replicado exatamente da mesma forma por um computador. Por outro lado, cálculos extensos e repetitivos são realizados pelo computador com extrema rapidez. Assim, humanos e computadores se complementam. Em certos casos, será necessário usar lápis, borracha e papel, como em demonstrações matemáticas. Já em outros, como no treinamento de uma rede neural para reconhecimento de imagens — algo inviável manualmente —, a tarefa será realizada pela máquina."
   ]
  },
  {
   "cell_type": "markdown",
   "id": "e3d27da6",
   "metadata": {
    "ExecuteTime": {
     "end_time": "2024-12-23T14:38:27.575069Z",
     "start_time": "2024-12-23T14:38:27.571055Z"
    }
   },
   "source": [
    "## <a id=\"disjuncao\"></a>4.2.2 A disjunção 'ou'"
   ]
  },
  {
   "cell_type": "markdown",
   "id": "6f3f1ef4",
   "metadata": {},
   "source": [
    "<a id=\"def_disjuncao\"></a><font color='red'> <b>Dadas duas proposições $p$ e $q$, chama-se \"disjunção de $p$ e $q$\" a proposição $p \\vee q$ (lê-se $p$ ou $q$). A conjução será verdadeira se pelo menos umas das proposições ($p$ ou $q$) for verdadeira e será falsa apenas quando ambas forem falsas."
   ]
  },
  {
   "cell_type": "markdown",
   "id": "492475a4",
   "metadata": {
    "ExecuteTime": {
     "end_time": "2024-12-23T14:39:51.430189Z",
     "start_time": "2024-12-23T14:39:51.420094Z"
    }
   },
   "source": [
    "A tabela verdade associada à disjunção é dada por:"
   ]
  },
  {
   "cell_type": "markdown",
   "id": "b7426730",
   "metadata": {},
   "source": [
    "<font color='red'> $$\\begin{array}{|c|c|c|}\\hline\n",
    "p & q & p \\vee q\\\\ \\hline\n",
    "V & V & V \\\\\\hline\n",
    "V & F & V\\\\\\hline\n",
    "F & V & V\\\\\\hline\n",
    "F & F & F\\\\\\hline\n",
    "\\end{array}$$"
   ]
  },
  {
   "cell_type": "markdown",
   "id": "7eb94751",
   "metadata": {},
   "source": [
    "#### <a id=\"exemplo_7\"></a><font color='blue'> Exemplo 7: </font>"
   ]
  },
  {
   "cell_type": "markdown",
   "id": "6cbfa4e4",
   "metadata": {},
   "source": [
    "<font color='blue'> Apresente a disjunção e o valor verdade das proposições<br>\n",
    " $p:$ O cachorro é um animal bípede.<br>\n",
    " $q:$ O gato não é um felino.</font>"
   ]
  },
  {
   "cell_type": "markdown",
   "id": "c78f2746",
   "metadata": {},
   "source": [
    "##### <font color='blue'> Solução: </font>"
   ]
  },
  {
   "cell_type": "markdown",
   "id": "8577ebdb",
   "metadata": {},
   "source": [
    "<font color='blue'> <font color='blue'> A disjunção das proposições $p$ e $q$ é simplesmente dada por:<br>\n",
    " $p \\vee q:$ O cachorro é um animal bípede ou  o gato não é um felino.<br>\n",
    " Uma vez que a proposição $p$ é falsa e $q$ é também falsa, temos que $p \\vee q$ tem valor lógico $F$. Em símbolos,<br><br>\n",
    " $$p \\vee q \\Rightarrow F \\vee F \\equiv F$$"
   ]
  },
  {
   "cell_type": "markdown",
   "id": "8cb53f04",
   "metadata": {},
   "source": [
    "#### Disjunção de variáveis lógicas no Python"
   ]
  },
  {
   "cell_type": "code",
   "execution_count": 11,
   "id": "5a08d9b5",
   "metadata": {
    "ExecuteTime": {
     "end_time": "2024-12-24T15:58:55.178408Z",
     "start_time": "2024-12-24T15:58:55.170627Z"
    }
   },
   "outputs": [
    {
     "name": "stdout",
     "output_type": "stream",
     "text": [
      "False\n"
     ]
    }
   ],
   "source": [
    "# Variáveis lógicas\n",
    "p = False\n",
    "q = False\n",
    "\n",
    "# Conjunção lógica\n",
    "p_ou_q = p | q\n",
    "\n",
    "print(p_ou_q)"
   ]
  },
  {
   "cell_type": "markdown",
   "id": "40cfdd9a",
   "metadata": {},
   "source": [
    "#### <a id=\"exemplo_8\"></a><font color='blue'> Exemplo 8: </font>"
   ]
  },
  {
   "cell_type": "markdown",
   "id": "1952165b",
   "metadata": {},
   "source": [
    "<font color='blue'> Qual o valor lógico da proposição composta:<br><br>\n",
    " $$(3 < 5) \\vee(2^{5} = 10) \\vee (3 \\text{ é par}) $$"
   ]
  },
  {
   "cell_type": "markdown",
   "id": "a8ba45a4",
   "metadata": {},
   "source": [
    "##### <font color='blue'> Solução: </font>"
   ]
  },
  {
   "cell_type": "markdown",
   "id": "d09b8157",
   "metadata": {},
   "source": [
    "<font color='blue'> Identifiquemos as proposições simples (indivisíveis) na expressão composta acima por $p: 3 < 5$, $q: 2^{5} = 10$ e $r: 3 \\text{ é par}$. Sabemos que a primeira é verdadeira e as outras duas são falsas. Nesse caso,<br><br>\n",
    " $$p \\vee q \\vee r \\Rightarrow V \\vee F \\vee F \\equiv (V \\vee F) \\vee F \\equiv V \\vee F \\equiv V$$"
   ]
  },
  {
   "cell_type": "markdown",
   "id": "7c39037f",
   "metadata": {},
   "source": [
    "<font color='blue'> A célula de código a seguir apresenta a resposta do [Exemplo 8](#exemplo_8) usando a linguagem Python:"
   ]
  },
  {
   "cell_type": "code",
   "execution_count": 12,
   "id": "cfb0c97f",
   "metadata": {
    "ExecuteTime": {
     "end_time": "2024-12-24T15:58:55.187578Z",
     "start_time": "2024-12-24T15:58:55.178408Z"
    }
   },
   "outputs": [
    {
     "name": "stdout",
     "output_type": "stream",
     "text": [
      "True False False\n"
     ]
    }
   ],
   "source": [
    "# Proposições\n",
    "p = True\n",
    "q = False\n",
    "r = False\n",
    "\n",
    "# Consultando os valores verdade de p, q e r\n",
    "print(p,q,r)"
   ]
  },
  {
   "cell_type": "code",
   "execution_count": 13,
   "id": "fd7f8385",
   "metadata": {
    "ExecuteTime": {
     "end_time": "2024-12-24T15:58:55.196592Z",
     "start_time": "2024-12-24T15:58:55.188578Z"
    }
   },
   "outputs": [
    {
     "name": "stdout",
     "output_type": "stream",
     "text": [
      "False\n"
     ]
    }
   ],
   "source": [
    "# Obtendo a respota de p∨q∨r\n",
    "resultado = p&q&r\n",
    "print(resultado)"
   ]
  },
  {
   "cell_type": "markdown",
   "id": "b8e708e1",
   "metadata": {
    "ExecuteTime": {
     "end_time": "2024-12-23T15:04:54.136725Z",
     "start_time": "2024-12-23T15:04:54.133771Z"
    }
   },
   "source": [
    "## <a id=\"condicional\"></a>4.2.3 A condicional 'se, então'"
   ]
  },
  {
   "cell_type": "markdown",
   "id": "cff3ddaf",
   "metadata": {},
   "source": [
    "<a id=\"def_condicional\"></a><font color='red'> <b>Dadas duas proposições $p$ e $q$, chama-se \"condicional de $p$ e $q$\" a proposição $p \\rightarrow q$ (Se $p$, então $q$.). A condicional será falsa quando $p$ for verdadeira e $q$ for falsa e será verdadeira nos demais casos."
   ]
  },
  {
   "cell_type": "markdown",
   "id": "79806e91",
   "metadata": {},
   "source": [
    "A tabela verdade associada à condicional é dada por:"
   ]
  },
  {
   "cell_type": "markdown",
   "id": "0ac84d98",
   "metadata": {},
   "source": [
    "<font color='red'> $$\\begin{array}{|c|c|c|}\\hline\n",
    "p & q & p \\rightarrow q\\\\ \\hline\n",
    "V & V & V \\\\\\hline\n",
    "V & F & F\\\\\\hline\n",
    "F & V & V\\\\\\hline\n",
    "F & F & V\\\\\\hline\n",
    "\\end{array}$$"
   ]
  },
  {
   "cell_type": "markdown",
   "id": "9d7e7ea3",
   "metadata": {},
   "source": [
    "#### <a id=\"exemplo_9\"></a><font color='blue'> Exemplo 9: </font>"
   ]
  },
  {
   "cell_type": "markdown",
   "id": "578594b7",
   "metadata": {},
   "source": [
    "<font color='blue'> Apresente a condicional ($p \\rightarrow q$) e o valor verdade das proposições<br>\n",
    " $p:$ O cachorro é um animal bípede.<br>\n",
    " $q:$ O gato não é um felino.</font>"
   ]
  },
  {
   "cell_type": "markdown",
   "id": "633b8430",
   "metadata": {},
   "source": [
    "##### <font color='blue'> Solução: </font>"
   ]
  },
  {
   "cell_type": "markdown",
   "id": "b55258ac",
   "metadata": {},
   "source": [
    "<font color='blue'> A condicional ($p \\rightarrow q$) das proposições $p$ e $q$ é simplesmente dada por:<br>\n",
    " $p \\rightarrow q:$ Se o cachorro é um animal bípede, então  o gato não é um felino.<br>\n",
    " Uma vez que a proposição $p$ é falsa e $q$ é também falsa, temos que $p \\rightarrow q$ tem valor lógico $V$. Em símbolos,<br><br>\n",
    " $$p \\rightarrow q \\Rightarrow F \\rightarrow F \\equiv V$$"
   ]
  },
  {
   "cell_type": "markdown",
   "id": "52fdb51a",
   "metadata": {},
   "source": [
    "#### Diferenças entre $\\Rightarrow$ e $\\rightarrow$ no texto"
   ]
  },
  {
   "cell_type": "markdown",
   "id": "133c4427",
   "metadata": {},
   "source": [
    "Os símbolos $\\Rightarrow$ e $\\rightarrow$ representam, respectivamente, uma operação e uma relação entre proposições. O primeiro estará presente em praticamente todos os assuntos deste material, enquanto o segundo será utilizado apenas em tópicos que tratem de uma relação explícita entre proposições."
   ]
  },
  {
   "cell_type": "markdown",
   "id": "6e40aba4",
   "metadata": {
    "ExecuteTime": {
     "end_time": "2024-12-23T20:58:45.914568Z",
     "start_time": "2024-12-23T20:58:45.910875Z"
    }
   },
   "source": [
    "## <a id=\"equivalencia\"></a>4.2.4 Equivalência Lógica"
   ]
  },
  {
   "cell_type": "markdown",
   "id": "51949cc1",
   "metadata": {},
   "source": [
    "Observe as colunas resultado (a última) das tabelas verdade da condicional $p \\rightarrow q$ e da conjunção $\\neg p \\vee q$:"
   ]
  },
  {
   "cell_type": "markdown",
   "id": "d45e58ef",
   "metadata": {},
   "source": [
    "<font color='red'> $$\\begin{array}{|c|c|c|}\\hline\n",
    "p & q & p \\rightarrow q\\\\ \\hline\n",
    "V & V & V \\\\\\hline\n",
    "V & F & F\\\\\\hline\n",
    "F & V & V\\\\\\hline\n",
    "F & F & V\\\\\\hline\n",
    "\\end{array} \\ \\ \\ \\begin{array}{|c|c|c|c|}\\hline\n",
    "p & q & \\neg p & \\neg p \\vee q\\\\ \\hline\n",
    "V & V & F  & V \\\\\\hline\n",
    "V & F & F  & F \\\\\\hline\n",
    "F & V & V  & V \\\\\\hline\n",
    "F & F & V  & V \\\\\\hline\n",
    "\\end{array}$$"
   ]
  },
  {
   "cell_type": "markdown",
   "id": "615666e4",
   "metadata": {},
   "source": [
    "<a id=\"def_equivalencia\"></a><font color='red'> <b>Sempre que tabelas verdade de relações lógicas apresentarem a mesma coluna resultado em suas repectivas tabelas verdade diremos que elas são equivalentes."
   ]
  },
  {
   "cell_type": "markdown",
   "id": "26635fc0",
   "metadata": {},
   "source": [
    "#### <a id=\"exemplo_10\"></a><font color='blue'> Exemplo 10: </font>"
   ]
  },
  {
   "cell_type": "markdown",
   "id": "f83ecbf3",
   "metadata": {},
   "source": [
    "<font color='blue'> Considerando a equivalência $p \\rightarrow q$ e $\\neg p \\vee q$ podemos escrever a proposição<br><br>\n",
    "  <center> $p \\rightarrow q$: Se Salvador é a capital da Bahia, então Brasília é a capital do Brasil.</center><br>\n",
    " de uma outra forma sem mudar seu sentido como<br><br>\n",
    "  <center> $\\neg p \\vee q$: Salvador não é a capital da Bahia ou Brasília é a capital do Brasil.</center>"
   ]
  },
  {
   "cell_type": "markdown",
   "id": "5bb5e361",
   "metadata": {},
   "source": [
    "#### <a id=\"exemplo_11\"></a><font color='blue'> Exemplo 11: </font>"
   ]
  },
  {
   "cell_type": "markdown",
   "id": "f2857359",
   "metadata": {},
   "source": [
    "<font color='blue'> Verifique quais das proposições $A$ e $B$ a seguir são logicamente equivalentes usando tabelas verdade:<br>\n",
    " a) $A: p \\vee q \\ $ e $ \\ B: q \\vee p$<br>\n",
    " b) $A: \\neg(p \\vee q) \\ $ e $\\ B: \\neg p \\wedge \\neg q$<br>\n",
    " c) $A: p \\wedge q \\ $ e $ \\ B: p \\vee \\neg q$<br>\n",
    " d) $A: p \\vee (q \\wedge r) \\ $ e $ \\ B: (p \\vee q) \\wedge (p \\vee r)$"
   ]
  },
  {
   "cell_type": "markdown",
   "id": "83c712d5",
   "metadata": {},
   "source": [
    "##### <font color='blue'> Solução: </font>"
   ]
  },
  {
   "cell_type": "markdown",
   "id": "a59c2837",
   "metadata": {},
   "source": [
    "<font color='blue'> Basta construirmos ambas tabelas verdade e compararmos as colunas resultado.<br>\n",
    " a) Temos que<br><br>\n",
    "  $$\\begin{array}{|c|c|c|}\\hline\n",
    "p & q & p \\vee q\\\\ \\hline\n",
    "V & V & V \\\\\\hline\n",
    "V & F & V\\\\\\hline\n",
    "F & V & V\\\\\\hline\n",
    "F & F & F\\\\\\hline\n",
    "\\end{array} \\ \\ \\begin{array}{|c|c|c|}\\hline\n",
    "p & q & q \\vee p\\\\ \\hline\n",
    "V & V & V \\\\\\hline\n",
    "V & F & V\\\\\\hline\n",
    "F & V & V\\\\\\hline\n",
    "F & F & F\\\\\\hline\n",
    "\\end{array}$$<br>\n",
    " Acabamos de demonstrar a **comutatividade da conjunção**!"
   ]
  },
  {
   "cell_type": "markdown",
   "id": "33b23156",
   "metadata": {},
   "source": [
    "<font color='blue'> b) Temos que<br><br>\n",
    " $$\\begin{array}{|c|c|c|c|}\\hline\n",
    "p & q & p \\vee q & \\neg(p \\vee q) \\\\ \\hline\n",
    "V & V & V & F \\\\\\hline\n",
    "V & F & V & F \\\\\\hline\n",
    "F & V & V & F \\\\\\hline\n",
    "F & F & F & V \\\\\\hline\n",
    "\\end{array} \\ \\ \\begin{array}{|c|c|c|c|}\\hline\n",
    "p & q & p \\vee q & \\neg(p \\vee q) \\\\ \\hline\n",
    "V & V & V & F \\\\\\hline\n",
    "V & F & V & F \\\\\\hline\n",
    "F & V & V & F \\\\\\hline\n",
    "F & F & F & V \\\\\\hline\n",
    "\\end{array} $$<br>\n",
    " Acabamos de demonstrar uma das **leis de De Morgan**."
   ]
  },
  {
   "cell_type": "markdown",
   "id": "121cc4bc",
   "metadata": {},
   "source": [
    "<font color='blue'> c) Temos que<br><br>\n",
    "  $$\\begin{array}{|c|c|c|}\\hline\n",
    "p & q & p \\wedge q\\\\ \\hline\n",
    "V & V & V \\\\\\hline\n",
    "V & F & F\\\\\\hline\n",
    "F & V & F\\\\\\hline\n",
    "F & F & F\\\\\\hline\n",
    "\\end{array} \\ \\ \\begin{array}{|c|c|c|c|}\\hline\n",
    "p & q & \\neg q & p \\wedge \\neg q\\\\ \\hline\n",
    "V & V & F & V\\\\\\hline\n",
    "V & F & V & V\\\\\\hline\n",
    "F & V & F & F\\\\\\hline\n",
    "F & F & V & V\\\\\\hline\n",
    "\\end{array}$$<br>\n",
    " Como as colunas resultado não coincidiram, temos que $p \\wedge q \\not\\equiv p \\vee \\neg q$."
   ]
  },
  {
   "cell_type": "markdown",
   "id": "a5598e9c",
   "metadata": {},
   "source": [
    "<font color='blue'> d) Considerando que temos agora $3$ proposições nossas tabelas verdade deverão ter $8$ linhas que são todas as combinações possíveis de valores lógicos de três variáveis lógicas:<br><br>\n",
    "  $$\\begin{array}{|c|c|c|c|c|}\\hline\n",
    "p & q & r & q \\wedge r & p \\vee (q \\wedge r)\\\\ \\hline\n",
    "V & V & V & V & V\\\\\\hline\n",
    "V & V & F & F & V\\\\\\hline\n",
    "V & F & V & F & V\\\\\\hline\n",
    "V & F & F & F & V\\\\\\hline\n",
    "F & V & V & V & V\\\\\\hline\n",
    "F & V & F & F & F\\\\\\hline\n",
    "F & F & V & F & F\\\\\\hline\n",
    "F & F & F & F & F\\\\\\hline\n",
    "\\end{array} \\ \\ \n",
    "\\begin{array}{|c|c|c|c|c|}\\hline\n",
    "p & q & r & p \\vee q & p \\vee r & (p\\vee q) \\wedge (p \\vee r)\\\\ \\hline\n",
    "V & V & V & V & V & V \\\\\\hline\n",
    "V & V & F & V & V & V \\\\\\hline\n",
    "V & F & V & V & V & V \\\\\\hline\n",
    "V & F & F & V & V & V \\\\\\hline\n",
    "F & V & V & V & V & V \\\\\\hline\n",
    "F & V & F & V & F & F \\\\\\hline\n",
    "F & F & V & F & V & F \\\\\\hline\n",
    "F & F & F & F & F & F \\\\\\hline\n",
    "\\end{array}$$<br>\n",
    " Acabamos de demonstrar a **distributividade da disjunção**."
   ]
  },
  {
   "cell_type": "markdown",
   "id": "18c4f06f",
   "metadata": {},
   "source": [
    "#### Condicional no Python"
   ]
  },
  {
   "cell_type": "markdown",
   "id": "63f464dc",
   "metadata": {},
   "source": [
    "O Python não conta diretamente com um operador codicional como a conjunção (e,&) e a disjunção (ou,|). Nesse caso, pode-se usar uma forma equivalente $p \\rightarrow q \\equiv \\neg p \\vee q$ como veremos logo mais ([Equivalências Lógicas](#tabela_equivalencias)). Mas podemos definir a condicional e usá-la:"
   ]
  },
  {
   "cell_type": "code",
   "execution_count": 14,
   "id": "22f8dd17",
   "metadata": {
    "ExecuteTime": {
     "end_time": "2024-12-24T15:58:55.206100Z",
     "start_time": "2024-12-24T15:58:55.197560Z"
    }
   },
   "outputs": [],
   "source": [
    "# Definindo a condicional\n",
    "def condicional(p,q):\n",
    "    return (not p) | q"
   ]
  },
  {
   "cell_type": "code",
   "execution_count": 15,
   "id": "0454c439",
   "metadata": {
    "ExecuteTime": {
     "end_time": "2024-12-24T15:58:55.216215Z",
     "start_time": "2024-12-24T15:58:55.206100Z"
    }
   },
   "outputs": [
    {
     "data": {
      "text/plain": [
       "True"
      ]
     },
     "execution_count": 15,
     "metadata": {},
     "output_type": "execute_result"
    }
   ],
   "source": [
    "# Variáveis lógicas\n",
    "p = False\n",
    "q = False\n",
    "\n",
    "# Resultado\n",
    "condicional(p,q)"
   ]
  },
  {
   "cell_type": "markdown",
   "id": "40d972b5",
   "metadata": {},
   "source": [
    "#### Criando nossas próprias funções"
   ]
  },
  {
   "cell_type": "markdown",
   "id": "e46ce4e4",
   "metadata": {},
   "source": [
    "Embora o Python não tenha uma operação nativa para a condicional, como possui para a conjunção e a disjunção, nada impede que criemos uma para atender às nossas necessidades. Essa flexibilidade exemplifica uma das grandes potencialidades da computação: a capacidade de adaptar ferramentas para resolver problemas específicos de maneira eficiente."
   ]
  },
  {
   "cell_type": "markdown",
   "id": "26f2f08f",
   "metadata": {},
   "source": [
    "## <a id=\"bicondicional\"></a>4.2.5 A bicondicional 'se, e somente se'"
   ]
  },
  {
   "cell_type": "markdown",
   "id": "68deab59",
   "metadata": {},
   "source": [
    "<a id=\"def_bicondicional\"></a><font color='red'> <b>Dadas duas proposições $p$ e $q$, chama-se \"bicondicional de $p$ e $q$\" a proposição $p \\leftrightarrow q$ ($p$ se, e somente se $q$.). A bicondicional será verdadeira quando $p$ e $q$ tiverem o mesmo valor lógico e falsa quando tiverem valores lógicos diferentes."
   ]
  },
  {
   "cell_type": "markdown",
   "id": "b3f057e0",
   "metadata": {},
   "source": [
    "A tabela verdade associada à bicondicional é dada por:"
   ]
  },
  {
   "cell_type": "markdown",
   "id": "6d65de56",
   "metadata": {},
   "source": [
    "<font color='red'> $$\\begin{array}{|c|c|c|}\\hline\n",
    "p & q & p \\leftrightarrow q\\\\ \\hline\n",
    "V & V & V \\\\\\hline\n",
    "V & F & F\\\\\\hline\n",
    "F & V & F\\\\\\hline\n",
    "F & F & V\\\\\\hline\n",
    "\\end{array}$$"
   ]
  },
  {
   "cell_type": "markdown",
   "id": "63be5346",
   "metadata": {},
   "source": [
    "#### <a id=\"exemplo_12\"></a><font color='blue'> Exemplo 12: </font>"
   ]
  },
  {
   "cell_type": "markdown",
   "id": "0aaf64ce",
   "metadata": {},
   "source": [
    "<font color='blue'> Apresente a bicondicional e o valor verdade das proposições<br>\n",
    " $p:$ A Lua é uma estrela.<br>\n",
    " $q:$ O Sol é uma estrela.</font>"
   ]
  },
  {
   "cell_type": "markdown",
   "id": "6b99c809",
   "metadata": {},
   "source": [
    "##### <font color='blue'> Solução: </font>"
   ]
  },
  {
   "cell_type": "markdown",
   "id": "68aec310",
   "metadata": {},
   "source": [
    "<font color='blue'> A bicondicional das proposições $p$ e $q$ é simplesmente dada por:<br>\n",
    " $p \\leftrightarrow q:$ A Lua é uma estrela se, e somente se, o Sol é uma estrela.<br>\n",
    " Uma vez que a proposição $p$ é verdadeira e $q$ é falsa, temos que $p \\leftrightarrow q$ tem valor lógico $F$. Em símbolos,<br><br>\n",
    " $$p \\leftrightarrow q \\Rightarrow V \\leftrightarrow F \\equiv F$$"
   ]
  },
  {
   "cell_type": "markdown",
   "id": "4da062c8",
   "metadata": {},
   "source": [
    "#### Bicondicional do Python"
   ]
  },
  {
   "cell_type": "markdown",
   "id": "0b1ff72b",
   "metadata": {},
   "source": [
    "Analogamente à condicional o Python não conta diretamente com um operador bicodicional. Nesse caso, pode-se usar uma forma equivalente $p \\leftrightarrow q \\equiv (p \\rightarrow q) \\wedge (q \\rightarrow p)$ como fizemos anteriormente para a condicional."
   ]
  },
  {
   "cell_type": "code",
   "execution_count": 16,
   "id": "cc633452",
   "metadata": {
    "ExecuteTime": {
     "end_time": "2024-12-24T15:58:55.224558Z",
     "start_time": "2024-12-24T15:58:55.217215Z"
    }
   },
   "outputs": [],
   "source": [
    "# Definindo a condicional (ela será usada)\n",
    "def condicional(p,q):\n",
    "    return (not p) | q\n",
    "\n",
    "# Definindo a bicondicional (ela será usada)\n",
    "def bicondicional(p,q):\n",
    "    return condicional(p,q) & condicional(q,p)"
   ]
  },
  {
   "cell_type": "code",
   "execution_count": 17,
   "id": "bffe4ace",
   "metadata": {
    "ExecuteTime": {
     "end_time": "2024-12-24T15:58:55.234868Z",
     "start_time": "2024-12-24T15:58:55.226549Z"
    }
   },
   "outputs": [
    {
     "data": {
      "text/plain": [
       "False"
      ]
     },
     "execution_count": 17,
     "metadata": {},
     "output_type": "execute_result"
    }
   ],
   "source": [
    "# Variáveis lógicas\n",
    "p = True\n",
    "q = False\n",
    "\n",
    "# Resultado\n",
    "bicondicional(p,q)"
   ]
  },
  {
   "cell_type": "markdown",
   "id": "cb7e3217",
   "metadata": {},
   "source": [
    "Usamos no código acima algo que exploraremos (matematicamente) no futuro, as chamadas funções compostas, isto é, uma função que é definida a partir de outra."
   ]
  },
  {
   "cell_type": "markdown",
   "id": "3d6780b6",
   "metadata": {},
   "source": [
    "#### Mais algumas equivalências lógicas"
   ]
  },
  {
   "cell_type": "markdown",
   "id": "1961cdac",
   "metadata": {},
   "source": [
    "Apresentamos a seguir algumas equivalências lógicas, todas elas demonstráveis usando tabelas verdade conforme feito no [Exemplo 11](#exemplo_11):"
   ]
  },
  {
   "cell_type": "markdown",
   "id": "2d1d0caf",
   "metadata": {},
   "source": [
    "<a id=\"tabela_equivalencias\"></a> <font color='red'> <center> \\begin{array}{|c|c|c|c|c|c|}\n",
    "\\hline\n",
    "Equivalência\t& Nome \\\\\n",
    "\\hline\n",
    "p \\wedge V \\equiv p, \\,\\, p \\vee F \\equiv p  \t& Elemento \\, Neutro\\\\\n",
    "\\hline\n",
    "p \\vee V \\equiv V, \\,\\, p \\wedge F \\equiv F\t& Dominação \\\\\n",
    "\\hline\n",
    "p \\vee p \\equiv p, \\,\\, p \\wedge p \\equiv p\t \t& Idempotente \\\\\n",
    "\\hline\n",
    "\\neg (\\neg p) \\equiv p\t& Dupla \\, Negação \\\\\n",
    "\\hline\n",
    "p \\wedge q \\equiv q \\wedge p, \\,\\, p \\vee q \\equiv q \\vee p\t& Comutativa  \\\\\n",
    "\\hline\n",
    "p \\vee (q \\wedge r) \\equiv (p \\vee q) \\wedge (p \\vee r), \\,\\, p \\wedge (q \\vee r) \\equiv (p \\wedge q) \\vee (p \\wedge r)\t& Dsitributiva \\\\\n",
    "\\hline\n",
    "\\neg (p \\wedge q) \\equiv \\neg p \\vee \\neg q, \\,\\, \\neg (p \\vee q) \\equiv \\neg p \\wedge \\neg q\t& Leis \\, de \\, De \\, Morgan \\\\\n",
    "\\hline\n",
    "p \\vee (p \\wedge q) \\equiv p, \\,\\, p \\wedge (p \\vee q) \\equiv p\t& Absorção \\\\\n",
    "\\hline\n",
    "p \\vee \\neg p \\equiv V, \\,\\, p \\wedge \\neg p \\equiv F\t& Negação \\\\\n",
    "\\hline\n",
    "p \\rightarrow q \\equiv \\neg p \\vee q\t& - \\\\\n",
    "\\hline\n",
    "p \\rightarrow q \\equiv \\neg q \\rightarrow \\neg p\t& Contrapositiva \\\\\n",
    "\\hline\n",
    "\\neg (p \\rightarrow q) \\equiv p \\wedge \\neg q & Negação \\, da \\, Implicação  \\\\\n",
    "\\hline\n",
    "(p \\rightarrow q) \\wedge (p \\rightarrow r) \\equiv p \\rightarrow (q \\wedge r) & - \\\\\n",
    "\\hline\n",
    "(p \\rightarrow r) \\wedge (q \\rightarrow r) \\equiv (p \\vee q) \\rightarrow r & - \\\\\n",
    "\\hline\n",
    "(p \\rightarrow q) \\vee (p \\rightarrow r) \\equiv p \\rightarrow (q \\vee r) & -\\\\\n",
    "\\hline\n",
    "(p \\rightarrow r) \\vee (q \\rightarrow r) \\equiv (p \\wedge q) \\rightarrow r & -\\\\\n",
    "\\hline\n",
    "p \\leftrightarrow q \\equiv (p \\rightarrow q) \\wedge (q \\rightarrow p) & - \\\\\n",
    "\\hline\n",
    "p \\leftrightarrow q \\equiv \\neg p \\leftrightarrow \\neq q & - \\\\\n",
    "\\hline\n",
    "p \\leftrightarrow q \\equiv (p \\wedge q) \\vee (\\neg p \\wedge \\neg q) & - \\\\\n",
    "\\hline\n",
    "\\neg (p \\leftrightarrow q) \\equiv p \\leftrightarrow \\neg q & - \\\\\n",
    "\\hline\n",
    "\\end{array} </center> </font>"
   ]
  },
  {
   "cell_type": "markdown",
   "id": "5e0bbcb0",
   "metadata": {},
   "source": [
    "Escolha algumas e demonstre sua validade..."
   ]
  },
  {
   "cell_type": "markdown",
   "id": "49b7d0ff",
   "metadata": {},
   "source": [
    "#### <a id=\"exemplo_13\"></a><font color='blue'> Exemplo 13: </font>"
   ]
  },
  {
   "cell_type": "markdown",
   "id": "94ccc3a6",
   "metadata": {},
   "source": [
    "<font color='blue'> Reescreva a proposição *Se Maria não foi ao shopping, então João foi trabalhar* sem usar usar o condicional."
   ]
  },
  {
   "cell_type": "markdown",
   "id": "6b41e16b",
   "metadata": {},
   "source": [
    "##### <font color='blue'> Solução: </font>"
   ]
  },
  {
   "cell_type": "markdown",
   "id": "6a7d16b9",
   "metadata": {},
   "source": [
    "<font color='blue'> Primeiramente vamos escrever a proposição dada na forma simbólica. Para tanto, consideremos as proposições simples:<br>\n",
    " $p:$ Maria foi ao shopping<br>\n",
    " $q:$ João foi trabalhar<br>\n",
    " Dessa forma, a proposição em questão, na forma simbólica, é dada por: $\\neg p \\rightarrow q$. Usando as propriedades $\\neg(\\neg a) \\equiv a$ e $a \\rightarrow b \\equiv \\neg a \\vee b$, temos:<br><br>\n",
    " $$\\neg p \\rightarrow q \\equiv \\neg(\\neg p) \\vee q \\equiv p \\vee q$$<br>\n",
    " Retornando para a proposição em língua portuguesa, temos: *Maria foi ao shopping ou João foi trabalhar*."
   ]
  },
  {
   "cell_type": "markdown",
   "id": "518e4e21",
   "metadata": {},
   "source": [
    "#### Dificuldade inicial"
   ]
  },
  {
   "cell_type": "markdown",
   "id": "9289f2df",
   "metadata": {},
   "source": [
    "Em um primeiro momento, aprender matemática e programação simultaneamente pode parecer desafiador – e, de fato, é. No entanto, é importante lembrar que o foco principal deste material é o ensino de matemática, enquanto a programação servirá como um suporte, não sendo o objetivo central.\n",
    "\n",
    "Vale ressaltar que o aprendizado de matemática com um enfoque computacional é uma demanda crescente e uma excelente maneira de delegar o trabalho braçal à máquina, permitindo que nos concentremos no trabalho intelectual. Ao longo dos capítulos, você perceberá que certas questões podem ser resolvidas facilmente de forma computacional, embora manualmente seriam bastante extensas.\n",
    "\n",
    "Ainda assim, o computador não fará todo o trabalho. É nossa responsabilidade compreender a matemática, não apenas para fornecer instruções adequadas à solução de um problema, mas também porque o computador, apesar de sua eficiência, não possui a capacidade de raciocínio abstrato – mesmo que IAs generativas, como ChatGPT, Gemini e outras, possam aparentar o contrário."
   ]
  },
  {
   "cell_type": "markdown",
   "id": "7efa4058",
   "metadata": {},
   "source": [
    "#### Limitações da Inteligência Artificial (atual)"
   ]
  },
  {
   "cell_type": "markdown",
   "id": "ed373b4a",
   "metadata": {},
   "source": [
    "As IAs, incluindo modelos avançados como ChatGPT e Gemini, não possuem raciocínio abstrato no sentido matemático ou humano. O que elas fazem é processar informações, reconhecer padrões e gerar respostas com base nos dados com os quais foram treinadas. Isso significa que, embora possam resolver problemas, explicar conceitos e até simular raciocínio lógico, elas não \"entendem\" ou \"pensam\" no sentido humano. Aqui estão os principais pontos que justificam isso:"
   ]
  },
  {
   "cell_type": "markdown",
   "id": "27a2fc57",
   "metadata": {},
   "source": [
    "1. Falta de Compreensão Conceitual: As IAs não têm compreensão ou intuição sobre os conceitos matemáticos. Elas não \"sabem\" o que é um número, uma função ou uma equação; em vez disso, manipulam símbolos e informações com base em padrões aprendidos."
   ]
  },
  {
   "cell_type": "markdown",
   "id": "06e0c64e",
   "metadata": {},
   "source": [
    "2. Base em Dados Treinados: As habilidades de uma IA são limitadas aos dados de treinamento. Mesmo que possam resolver problemas complexos, fazem isso seguindo padrões e técnicas aprendidas, não porque abstraem ou generalizam conceitos matemáticos de forma autônoma.\n",
    "\n"
   ]
  },
  {
   "cell_type": "markdown",
   "id": "9a1f86f1",
   "metadata": {},
   "source": [
    "3. Ausência de Criatividade Abstrata: Raciocínio abstrato envolve não apenas manipular informações, mas criar conexões inesperadas ou generalizações que vão além do dado imediato. IAs não conseguem inovar ou propor novos conceitos matemáticos, o que é um marco do raciocínio humano."
   ]
  },
  {
   "cell_type": "markdown",
   "id": "42543b87",
   "metadata": {},
   "source": [
    "IAs são ferramentas poderosas para realizar cálculos, explorar padrões e até gerar conjecturas com base em dados existentes. No entanto, o raciocínio abstrato e matemático, que exige compreensão, criatividade e intuição, ainda é uma exclusividade humana (pelo menos por enquanto). Assim, você está correto ao afirmar que as IAs não possuem essa capacidade – elas apenas simulam, com eficácia, tarefas que dependem de lógica e computação."
   ]
  },
  {
   "cell_type": "markdown",
   "id": "284b74e6",
   "metadata": {},
   "source": [
    "#### <a id=\"exemplo_14\"></a><font color='blue'> Exemplo 14: </font>"
   ]
  },
  {
   "cell_type": "markdown",
   "id": "c68269bf",
   "metadata": {},
   "source": [
    "<font color='blue'> Sabendo que as proposições $p,q,r,s$ tem valores lógicos, respectivamente, iguais a $V,V,F,V$ determine o valor verdade das proposições compostas a seguir:<br>\n",
    " a) $(p \\vee r) \\rightarrow \\neg s$<br>\n",
    " b) $(p \\leftrightarrow \\neg s) \\vee q$<br>\n",
    " c) $(p \\wedge q) \\rightarrow ((\\neg r \\vee q) \\leftrightarrow \\neg(p \\vee \\neg q))$"
   ]
  },
  {
   "cell_type": "markdown",
   "id": "5ad25f4d",
   "metadata": {},
   "source": [
    "##### <font color='blue'> Solução: </font>"
   ]
  },
  {
   "cell_type": "markdown",
   "id": "dd64983d",
   "metadata": {},
   "source": [
    "<font color='blue'> Basta substituirmos os valores lógicos e usar as regras referentes à cada operador(conectivo) respeitando a ordem dos parênteses:<br>\n",
    " a) Temos que<br><br>\n",
    " $$(p \\vee r) \\rightarrow \\neg s \\Rightarrow (V \\vee F) \\rightarrow \\neg V \\equiv V \\rightarrow F \\equiv F$$"
   ]
  },
  {
   "cell_type": "markdown",
   "id": "af01c8f5",
   "metadata": {},
   "source": [
    "<font color='blue'> b) Temos que<br><br>\n",
    "    $$(p \\leftrightarrow \\neg s) \\vee q \\Rightarrow (V \\leftrightarrow \\neg V) \\vee V \\equiv (V \\leftrightarrow F) \\vee V \\equiv F \\vee V \\equiv V$$"
   ]
  },
  {
   "cell_type": "markdown",
   "id": "8bc46349",
   "metadata": {},
   "source": [
    "<font color='blue'> c) Temos que<br><br>\n",
    " $$(p \\wedge q) \\rightarrow ((\\neg r \\vee q) \\leftrightarrow \\neg(p \\vee \\neg q)) \\Rightarrow (V \\wedge V) \\rightarrow ((\\neg F \\vee V) \\leftrightarrow \\neg(V \\vee \\neg V)) \\equiv$$<br>\n",
    " $$\\equiv V \\rightarrow ((V \\vee V) \\leftrightarrow \\neg(V \\vee F)) \\equiv V \\rightarrow (V \\leftrightarrow \\neg V) \\equiv V \\rightarrow (V \\leftrightarrow F) \\equiv V \\rightarrow F \\equiv F$$"
   ]
  },
  {
   "cell_type": "markdown",
   "id": "90124fc1",
   "metadata": {},
   "source": [
    "<font color='blue'> Usando o Python, temos:"
   ]
  },
  {
   "cell_type": "code",
   "execution_count": 18,
   "id": "3707b9de",
   "metadata": {
    "ExecuteTime": {
     "end_time": "2024-12-24T15:58:55.242726Z",
     "start_time": "2024-12-24T15:58:55.235864Z"
    }
   },
   "outputs": [],
   "source": [
    "# Definindo a condicional como cd (mais curta)\n",
    "def cd(p,q):\n",
    "    return (not p) | q\n",
    "\n",
    "# Definindo a bicondicional como bcd\n",
    "def bcd(p,q):\n",
    "    return cd(p,q) & cd(q,p)"
   ]
  },
  {
   "cell_type": "code",
   "execution_count": 19,
   "id": "50ab3fea",
   "metadata": {
    "ExecuteTime": {
     "end_time": "2024-12-24T15:58:55.251015Z",
     "start_time": "2024-12-24T15:58:55.244724Z"
    }
   },
   "outputs": [],
   "source": [
    "# Variáveis lógicas\n",
    "p,q,r,s = True,True,False,True"
   ]
  },
  {
   "cell_type": "code",
   "execution_count": 20,
   "id": "89705f06",
   "metadata": {
    "ExecuteTime": {
     "end_time": "2024-12-24T15:58:55.262318Z",
     "start_time": "2024-12-24T15:58:55.252015Z"
    }
   },
   "outputs": [
    {
     "data": {
      "text/plain": [
       "False"
      ]
     },
     "execution_count": 20,
     "metadata": {},
     "output_type": "execute_result"
    }
   ],
   "source": [
    "# Item a\n",
    "cd(p|r, not s)"
   ]
  },
  {
   "cell_type": "code",
   "execution_count": 21,
   "id": "c41d41c9",
   "metadata": {
    "ExecuteTime": {
     "end_time": "2024-12-24T15:58:55.269878Z",
     "start_time": "2024-12-24T15:58:55.262318Z"
    }
   },
   "outputs": [
    {
     "data": {
      "text/plain": [
       "True"
      ]
     },
     "execution_count": 21,
     "metadata": {},
     "output_type": "execute_result"
    }
   ],
   "source": [
    "# Item b\n",
    "bcd(p, not s)|q"
   ]
  },
  {
   "cell_type": "code",
   "execution_count": 22,
   "id": "2b410918",
   "metadata": {
    "ExecuteTime": {
     "end_time": "2024-12-24T15:58:55.279060Z",
     "start_time": "2024-12-24T15:58:55.270879Z"
    }
   },
   "outputs": [
    {
     "data": {
      "text/plain": [
       "False"
      ]
     },
     "execution_count": 22,
     "metadata": {},
     "output_type": "execute_result"
    }
   ],
   "source": [
    "# Item c\n",
    "cd(p&q, bcd((not r)|q, not(p|(not q))))"
   ]
  },
  {
   "cell_type": "markdown",
   "id": "b202682e",
   "metadata": {},
   "source": [
    "<font color='blue'> Note que redefinimos as funções **condicional** e **bicondicional** para nomes mais curtos, **cd** e **bcd**, respectivamente, a fim de deixar nosso código mais limpo."
   ]
  },
  {
   "cell_type": "markdown",
   "id": "c78bdb39",
   "metadata": {},
   "source": [
    "# <a id=\"quantificadores\"></a>5. Quantificadores"
   ]
  },
  {
   "cell_type": "markdown",
   "id": "682f84e1",
   "metadata": {},
   "source": [
    "Qual é o valor lógico da sentença aberta $x - 4 = 6$?\n",
    "\n",
    "Note que não podemos classificá-la como $V$ ou $F$, embora, a depender do valor numérico de $x$ esta pode ser verdadeira ou pode ser falsa. Por exemplo, para $x = 10$ temos que a sentença aberta se torna uma proposição verdadeira. Por outro lado, para qualquer valor $x \\neq 10$ ela terá valor falso. Mas algo que podemos notar é que esta senteça é verdadeira para um único valor $x$."
   ]
  },
  {
   "cell_type": "markdown",
   "id": "6de27cd6",
   "metadata": {},
   "source": [
    "#### <a id=\"exemplo_15\"></a><font color='blue'> Exemplo 15: </font>"
   ]
  },
  {
   "cell_type": "markdown",
   "id": "3d845491",
   "metadata": {},
   "source": [
    "</a><font color='blue'> Considerando o conjunto do números naturais $\\mathbb{N} = \\{1,2,3,...\\}$ determine, para cada uma das sentenças a seguir, todos os valores de $x$, em $\\mathbb{N}$ ($x \\in \\mathbb{N}$), para os quais são verdadeiras:<br>\n",
    "  a) $x^{2}-9 = 0$<br>\n",
    "  b) $(2x-8 = -4) \\wedge (x^{2}-4 = 0)$<br>\n",
    "  c) $x < x + 1$<br> \n",
    "  d) $(x - 2 = 0) \\wedge (x > 3)$"
   ]
  },
  {
   "cell_type": "markdown",
   "id": "ac098c16",
   "metadata": {},
   "source": [
    "##### <font color='blue'> Solução: </font>"
   ]
  },
  {
   "cell_type": "markdown",
   "id": "76897af2",
   "metadata": {},
   "source": [
    "<font color='blue'> Analisemos cada uma das sentenças:<br>\n",
    " a) Resolvendo a equação:<br><br>\n",
    " $$x^{2}-9 = 0 \\Rightarrow x^{2} = 9 \\Rightarrow x = \\pm \\sqrt{9} \\Rightarrow x = -3 \\ \\text{ou} \\ x = 3$$<br>\n",
    " Temos, portanto, dois valores para $x$: $-3$ e $3$.<br>\n",
    " b) Note que a sentença aberta apresenta uma conjunção entre as sentenças abertas: $2x - 8 = -4$ e $x^{2}-4 = 0$. Dessa forma precisamos resolver cada uma separadamente e tomarmos o valor de $x$ que torna as duas verdadeiras (única condição para a conjunção ser verdadeira). Pois bem,<br><br>\n",
    " i) $2x - 8 = -4 \\Rightarrow 2x = -4 + 8 \\Rightarrow 2x = 4 \\Rightarrow x = \\frac{4}{2} \\Rightarrow x = 2$<br><br>\n",
    " ii) $x^{2}-4 = 0\\Rightarrow x^{2} = 4 \\Rightarrow x = \\pm \\sqrt{4} \\Rightarrow x = -2 \\ \\text{ou} \\ x = 2$<br><br>\n",
    " Note que, somente $x = 2$ torna a conjunção verdadeira. Temos portanto, uma única solução.<br><br>\n",
    " c) Note que, qualquer que seja o valor de $x$ ao adicionarmos $1$ a ele o resultado será sempre maior que o próprio $x$ ($1 < 1 + 1$, $3.5 < 3.5 + 1$, $-10 < -10 + 1$ etc). Sendo assim, a sentença aberta é verdadeira para todo valor numérico $x$.<br><br>\n",
    " d) Temos novamente uma conjunção de duas sentenças abertas: $x - 2 = 0$ e $x > 3$. Note que o único valor que a primeira sentença verdadeira é $x = 2$ ao passo que este valor não torna a sentença a segunda sentença verdadeira. Portanto, a conjunção é falsa para todo valor numérico $x$."
   ]
  },
  {
   "cell_type": "markdown",
   "id": "4f8c3071",
   "metadata": {},
   "source": [
    "O [Exemplo 15](#exemplo_15) será bastante útil para ilustramos as definições que seguirão:"
   ]
  },
  {
   "cell_type": "markdown",
   "id": "1b37ab99",
   "metadata": {},
   "source": [
    "## <a id=\"quantificador_universal\"></a>5.1 Quantificador Universal"
   ]
  },
  {
   "cell_type": "markdown",
   "id": "5cb2b32f",
   "metadata": {},
   "source": [
    "<a id=\"def_quantificador_universal\"></a><font color='red'> <b> Uma quantificação universal sobre um domínio é uma quantificação que é verdadeira para todo elemento $x$ desse domínio. Usa-se o símbolo $\\forall$ para indicar uma quantificação universal."
   ]
  },
  {
   "cell_type": "markdown",
   "id": "a35e3282",
   "metadata": {},
   "source": [
    "#### <a id=\"exemplo_16\"></a><font color='blue'> Exemplo 16: </font>"
   ]
  },
  {
   "cell_type": "markdown",
   "id": "5d01a92d",
   "metadata": {},
   "source": [
    "<font color='blue'> São exemplos de quantificações universais:<br>\n",
    " a) Todo homem vivo respira.<br>\n",
    " b) $(\\forall x, x \\in \\mathbb{N})(x < x+1)$<br>\n",
    " Até onde sabemos a primeira é verdadeira e a segunda foi apresentada no [Exemplo 15](#exemplo_15)."
   ]
  },
  {
   "cell_type": "markdown",
   "id": "ca1ff651",
   "metadata": {},
   "source": [
    "Dada uma quantificação universal, um **contra-exemplo** é um valor que mostra que essa quantificação é falsa."
   ]
  },
  {
   "cell_type": "markdown",
   "id": "b016d969",
   "metadata": {},
   "source": [
    "#### <a id=\"exemplo_17\"></a><font color='blue'> Exemplo 17: </font>"
   ]
  },
  {
   "cell_type": "markdown",
   "id": "cabf99c7",
   "metadata": {},
   "source": [
    "<font color='blue'> O valor $x = 3 \\in \\mathbb{N}$ é um contra-exemplo para a quantificação universal $(\\forall x, x\\in \\mathbb{N})(x \\text{ é par})$."
   ]
  },
  {
   "cell_type": "markdown",
   "id": "65ffdd6a",
   "metadata": {},
   "source": [
    "## <a id=\"quantificador_existencial\"></a>5.2 Quantificador Existencial"
   ]
  },
  {
   "cell_type": "markdown",
   "id": "4369e8b3",
   "metadata": {},
   "source": [
    "<a id=\"def_quantificador_universal\"></a><font color='red'> <b> Uma quantificação existencial sobre um domínio é uma quantificação que é verdadeira para ao meonos um elemento $x$ desse domínio. Usa-se o símbolo $\\exists$ para indicar uma quantificação existencial."
   ]
  },
  {
   "cell_type": "markdown",
   "id": "1f334d57",
   "metadata": {},
   "source": [
    "#### <a id=\"exemplo_18\"></a><font color='blue'> Exemplo 18: </font>"
   ]
  },
  {
   "cell_type": "markdown",
   "id": "315abe92",
   "metadata": {},
   "source": [
    "<font color='blue'> São exemplos de quantificações existenciais:<br>\n",
    " a) Existe um homem careca.<br>\n",
    " b) $(\\exists x, x\\in \\mathbb{N})(x - 2 = 0)$<br>\n",
    " Até onde sabemos a primeira é verdadeira (deve até ter um na família) e a segunda é verdadeira para $x = 2$. Em particular, a primeira certamente não tem solução única mas a segunda sim."
   ]
  },
  {
   "cell_type": "markdown",
   "id": "491f7ae8",
   "metadata": {},
   "source": [
    "Caso a quantificação existencial seja única poderemos representar isso explicitamente usando o símbolo <font color='red'> $\\exists!$</font> no lugar de $\\exists$. Porém, podemos usar o operador $\\exists$ mesmo que seja uma quantificação existencial seja única, mas isso não ficará explícito. Por exemplo, no item 'b' do [Exemplo 15](#exemplo_15) tivemos uma quantificação existencial única, isto é, podemos escrever, em símbolos, $(\\exists ! x, x\\in \\mathbb{N})((2x-8 = -4) \\wedge (x^{2}-4 = 0))$."
   ]
  },
  {
   "cell_type": "markdown",
   "id": "0ddb5b49",
   "metadata": {},
   "source": [
    "## <a id=\"negando_quantificadores\"></a>5.3 Negando Quantificadores"
   ]
  },
  {
   "cell_type": "markdown",
   "id": "eb97c867",
   "metadata": {},
   "source": [
    "Considere as seguintes proposições:\n",
    "\n",
    "$p:$ Toda criança gosta de brincar.\n",
    "\n",
    "$q:$ Existem cachorros que não gostam de passear.\n",
    "\n",
    "As negações de $p$ e $q$ são dada a seguir:\n",
    "\n",
    "$\\neg p:$ Existe uma criança que não gosta de brincar.\n",
    "\n",
    "$\\neg q:$ Todos os cachorros gostam de passear.\n",
    "\n",
    "As negações das quantificações universal e existencial podem ser representadas simbolicamente por:"
   ]
  },
  {
   "cell_type": "markdown",
   "id": "6265e998",
   "metadata": {},
   "source": [
    "<a id=\"neg_quantificador_universal\"></a><font color='red'> <b> $p: (\\forall x)(x \\text{ satisfaz a condição }c) \\Rightarrow \\neg p: (\\exists x)(x \\text{ não satisfaz a condição }c)$"
   ]
  },
  {
   "cell_type": "markdown",
   "id": "d245222e",
   "metadata": {},
   "source": [
    "<a id=\"neg_quantificador_existencial\"></a><font color='red'> <b> $p: (\\exists x)(x \\text{ satisfaz a condição }c) \\Rightarrow \\neg p: (\\forall x)(x \\text{ não satisfaz a condição }c)$"
   ]
  },
  {
   "cell_type": "markdown",
   "id": "63ae3ed4",
   "metadata": {},
   "source": [
    "Em resumo, trocamos o quantificador $\\forall$ por $\\exists$ e vice-versa e negamos a condição."
   ]
  },
  {
   "cell_type": "markdown",
   "id": "650509be",
   "metadata": {},
   "source": [
    "A negação de quantificadores agrupados segue a mesma regra fazendo-se as devidas trocas da esquerda para a direita. Acompanhe o exemplo a seguir:"
   ]
  },
  {
   "cell_type": "markdown",
   "id": "088ba438",
   "metadata": {},
   "source": [
    "#### <a id=\"exemplo_19\"></a><font color='blue'> Exemplo 19: </font>"
   ]
  },
  {
   "cell_type": "markdown",
   "id": "34f6374f",
   "metadata": {},
   "source": [
    "<font color='blue'> Apresente a negação das proposições a seguir:<br>\n",
    " a) Todo homem é mortal.<br>\n",
    " b) Existem homens carecas que não são ricos.<br>\n",
    " c) Para todo cão, existe uma ração que é específica."
   ]
  },
  {
   "cell_type": "markdown",
   "id": "8fc81279",
   "metadata": {},
   "source": [
    "##### <font color='blue'> Solução: </font>"
   ]
  },
  {
   "cell_type": "markdown",
   "id": "ba781bf5",
   "metadata": {},
   "source": [
    "<font color='blue'> a) Temos a seguinte representação simbólica:<br><br>\n",
    " $$p: \\ \\text{Todo homem é mortal} \\Rightarrow p: (\\forall x, x \\text{ homem})(x \\text{ é mortal})$$<br>\n",
    " Dessa forma, a negação de $p$ é dada por:<br><br>\n",
    " $$\\neg p: (\\exists x, x \\text{ homem})(x \\text{ não é mortal}) \\Rightarrow \\neg p: \\ \\text{Existe um homem que não é mortal.} $$"
   ]
  },
  {
   "cell_type": "markdown",
   "id": "390406b4",
   "metadata": {},
   "source": [
    "<font color='blue'> b) Temos a seguinte representação simbólica:<br><br>\n",
    " $$p: \\ \\text{Existem homens carecas que não são ricos} \\Rightarrow p: (\\exists x, x \\text{ homem careca})(x \\text{ não é rico})$$<br>\n",
    " Dessa forma, a negação de $p$ é dada por:<br><br>\n",
    " $$\\neg p: (\\forall x, x \\text{ homem careca})(x \\text{ é mortal}) \\Rightarrow \\neg p: \\ \\text{Todo homem careca é rico.} $$"
   ]
  },
  {
   "cell_type": "markdown",
   "id": "ebdd3fdb",
   "metadata": {},
   "source": [
    "<font color='blue'> c) Temos a seguinte representação simbólica:<br><br>\n",
    " $$p: \\ \\text{Para todo cão existe uma ração que é específica} \\Rightarrow p: (\\forall x, x \\text{ é cão})(\\exists y, y \\text{ é ração})(y \\text{ é específica}) $$<br>\n",
    " Dessa forma, a negação de $p$ é dada por:<br><br>\n",
    " $$\\neg p: (\\exists x, x \\text{ é cão})(\\forall y, y \\text{ é ração})(y \\text{ não é específica}) \\Rightarrow \\neg p: \\ \\text{Existe um cão tal que toda ração não é específica.} $$"
   ]
  },
  {
   "cell_type": "markdown",
   "id": "086503fe",
   "metadata": {},
   "source": [
    "## <a id=\"negando_quantificadores\"></a>6. A Lógica e a Demonstração de Fatos Matemáticos"
   ]
  },
  {
   "cell_type": "markdown",
   "id": "8a58fe15",
   "metadata": {},
   "source": [
    "Para muitos, a matemática se resume a um monte de contas. De fato, há muitas contas na matemática, mas este não é seu único objetivo. A matemática é uma ciência que estuda quantidades, formas, medidas e estruturas. Além disso, pode ser encarada como uma linguagem universal que permeia diversas áreas do conhecimento, como engenharia, física, biologia, economia, entre outras. É uma ferramenta essencial para compreender o mundo ao nosso redor.\n",
    "\n",
    "Alguns fatos matemáticos são óbvios ou amplamente aceitos como verdadeiros, enquanto outros necessitam de uma demonstração para validar sua veracidade.\n",
    "\n",
    "Por exemplo, na geometria euclidiana, aceita-se que por dois pontos distintos passa uma única reta. Esse fato é considerado um axioma, ou seja, uma proposição fundamental que não requer prova para ser aceita como verdadeira.\n",
    "\n",
    "Por outro lado, a fórmula para encontrar as raízes de uma equação polinomial de grau dois, como vimos no [Exemplo 3](#exemplo_3) (conhecida como a fórmula de Bhaskara), exige uma demonstração para validar sua aplicação. O mesmo ocorre com o famoso Teorema de Pitágoras, amplamente estudado nas aulas de geometria. Em casos como esses, é essencial utilizarmos uma linguagem consistente para expressar os passos da demonstração de forma coerente com os elementos da teoria. É exatamente nesse contexto que se torna indispensável o uso de uma lógica fundamental — no nosso caso, a lógica matemática.\n",
    "\n",
    "A seguir, veremos um exemplo que ilustra o que é uma prova matemática. Afinal, este material se propõe não apenas a expor fórmulas, mas também a apresentar suas demonstrações — pelo menos a maioria delas (algumas são bem trabalhosas e, eventualmente, podem ser omitidas... 😊)."
   ]
  },
  {
   "cell_type": "markdown",
   "id": "da011c5c",
   "metadata": {},
   "source": [
    "O que precisamos para verificar a veracidade da seguinte proposição:<br><br>\n",
    "\n",
    "<center> <b>$p:$ O quadrado de uma número inteiro par é também um número par. </center>"
   ]
  },
  {
   "cell_type": "markdown",
   "id": "6006eb01",
   "metadata": {},
   "source": [
    "Primeiro, o que vem a ser um número par. Podemos definir um número par de uma das duas formas:"
   ]
  },
  {
   "cell_type": "markdown",
   "id": "c89e1ec9",
   "metadata": {},
   "source": [
    "<a id=\"def_1_numero_par\"></a><font color='red'> <b> 1. Um número inteiro $n$ é dito par se é divisível por $2$."
   ]
  },
  {
   "cell_type": "markdown",
   "id": "a496db96",
   "metadata": {},
   "source": [
    "Ser divisível por $2$ significa que o resto da divisão de $n$ por $2$ é igual a zero, isto é, temos uma divisão exata."
   ]
  },
  {
   "cell_type": "markdown",
   "id": "65b88291",
   "metadata": {},
   "source": [
    "<a id=\"def_2_numero_par\"></a><font color='red'> <b> 2. Um número inteiro $n$ é dito par se existe um inteiro $k$ tal que $n = 2k$."
   ]
  },
  {
   "cell_type": "markdown",
   "id": "02216f21",
   "metadata": {},
   "source": [
    "A definição 2 será a que utilizaremos na demonstração de $p$.\n",
    "\n",
    "Definições são fatos matemáticos aceitos sem necessidade de demonstração no contexto atual ou que já foram provados em outro momento e, por isso, não exigem uma nova prova na teoria atual."
   ]
  },
  {
   "cell_type": "markdown",
   "id": "22cf3364",
   "metadata": {},
   "source": [
    "Pois bem, como proceder com a prova? Seria suficiente testamos alguns valores, digamos:\n",
    "\n",
    "$$\\begin{array}{c|c}\\hline\n",
    "n & n^{2} \\\\\\hline\n",
    "-10 & (-10)^{2} = 100 \\\\\n",
    "-2 & (-2)^{2} = 4 \\\\\n",
    "-1 & (-1)^{2} = 1 \\\\\n",
    "0 & 0^{2} = 0 \\\\\n",
    "1 & 1^{2} = 1 \\\\\n",
    "2 & 2^{2} = 4 \\\\\n",
    "100 & 100^{2} = 10000 \\\\\n",
    "\\vdots & \\vdots \\\\\\hline\n",
    "\\end{array}$$\n",
    "\n",
    "Note que pegamos apenas alguns. Mesmo usando os '$\\vdots$' não fica evidente que a proposição esteja provada. Em princípio, para um fato simples como esse pode parecer suficiente testar alguns casos, mas não é. Além disso, podemos está tentando provar algo que seja falso, mas por algum azar do destino só nos vem à mente elementos que fazem a proposição em questão ser verdadeira.\n",
    "\n",
    "Observe que trata-se de uma quantificação universal uma vez que afirma que todo inteiro par possui quadrado par. Em tais situações podemos tomar um elemento genérico inteiro, digamos $n$ (a própria variável usada no enunciado de $p$):"
   ]
  },
  {
   "cell_type": "markdown",
   "id": "72251de1",
   "metadata": {},
   "source": [
    "Sabemos ser $n$ um número par. Podemos proceder como segue:\n",
    "\n",
    "<font color='red'>_Seja $n$ um número par. Assim, existe um inteiro $k$ tal que $n = 2k$ (segunda definição de número par). Elevando ao quadrado ambos membros dessa relação, temos:<br><br>\n",
    "$$ n^{2} = (2k)^{2} \\Rightarrow n^{2} = 4k^{2} \\Rightarrow n^{2} = 2(2k^{2}) \\tag{1}$$<br>\n",
    "Note que $2k^{2}$ é um inteiro de tal sorte que podemos chamá-lo de $k'$. Assim, chegamos a<br><br>\n",
    "$$n^{2} = 2(2k^{2}) = 2k'$$<br>\n",
    "Novamente, pela segunda definição de número par, temos que $n^{2}$ é par._"
   ]
  },
  {
   "cell_type": "markdown",
   "id": "604270e7",
   "metadata": {},
   "source": [
    "Note que a demonstração acima não apresenta furos, como usar fatos desconhecidos ou mal definidos. Ela coloca de forma precisa os conceitos utilizados e as conclusões retiradas a partir destes a fim de se chegar ao que ser quer provar."
   ]
  },
  {
   "cell_type": "markdown",
   "id": "6785695f",
   "metadata": {},
   "source": [
    "Caso tenha interesse em saber mais sobre demonstrações matemáticas, acesse a playlist [Técnicas de Demonstração em Matemática](https://youtube.com/playlist?list=PL8aWdrmfXHiJc0oHVCT-vhfeS1y2gmY4B&si=_1D7x9HYk4jkVGYK). Nela, você encontrará explicações sobre termos como Definição, Axioma, Postulado, Teorema, Corolário, entre outros, além de aprender as principais técnicas de demonstração, como a Demonstração Direta (utilizada acima), a Demonstração por Indução Matemática, e a Demonstração por Absurdo (a minha preferida), entre outras."
   ]
  },
  {
   "cell_type": "markdown",
   "id": "b515b606",
   "metadata": {},
   "source": [
    "# Exercícios"
   ]
  }
 ],
 "metadata": {
  "kernelspec": {
   "display_name": "Python 3 (ipykernel)",
   "language": "python",
   "name": "python3"
  },
  "language_info": {
   "codemirror_mode": {
    "name": "ipython",
    "version": 3
   },
   "file_extension": ".py",
   "mimetype": "text/x-python",
   "name": "python",
   "nbconvert_exporter": "python",
   "pygments_lexer": "ipython3",
   "version": "3.11.5"
  }
 },
 "nbformat": 4,
 "nbformat_minor": 5
}
