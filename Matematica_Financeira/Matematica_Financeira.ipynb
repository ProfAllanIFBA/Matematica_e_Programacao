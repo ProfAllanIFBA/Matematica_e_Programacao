{
 "cells": [
  {
   "cell_type": "markdown",
   "id": "f6d93f20",
   "metadata": {},
   "source": [
    "<center> <img src=\"img_apostila\\logo_ifba.jpg\" alt=\"jpg_python\" width=\"100\" height=\"200\"> </center>\n",
    "<br><br>\n",
    "<div align=\"center\"><span style=\"font-size: 26px;\"><strong>Matemática Financeira<br></strong></span></div>\n",
    "<div align=\"center\"><span style=\"font-size: 16px;\"><strong>Com enfoque computacional<br></strong></span></div> <br>\n",
    "<center> <img src=\"img_apostila\\python_gif.gif\" alt=\"gif_python\" width=\"80\"> </center>\n",
    "\n",
    "<div style=\"display: flex; width: 100%; justify-content: space-between; align-items: center;\">\n",
    "  <div style=\"flex-grow: 1;\"><br><br>\n",
    "    <strong>Autor:</strong><br>\n",
    "    Allan de Sousa Soares<br><br>\n",
    "    <strong>Colaborador:</strong><br>\n",
    "    Edson Patrício Barreto de Almeida\n",
    "  </div>\n",
    "  <div style=\"margin-left: auto;\">\n",
    "    <img src=\"img_apostila\\qrcode.png\" alt=\"jpg_python\" width=\"150\">\n",
    "  </div>\n",
    "</div>\n"
   ]
  },
  {
   "cell_type": "markdown",
   "id": "b0bc19bf",
   "metadata": {
    "ExecuteTime": {
     "end_time": "2025-01-28T13:47:37.721591Z",
     "start_time": "2025-01-28T13:47:37.716405Z"
    }
   },
   "source": [
    "# <a id=\"perguntas_iniciais\"></a>Sobre este material e sobre Python"
   ]
  },
  {
   "cell_type": "markdown",
   "id": "2c7da228",
   "metadata": {},
   "source": [
    "#### Importante!"
   ]
  },
  {
   "cell_type": "markdown",
   "id": "f4d28251",
   "metadata": {},
   "source": [
    "A programação desempenha um papel complementar na disciplina, sendo utilizada principalmente como uma ferramenta de apoio. Não será cobrada diretamente nas provas presenciais, mas poderá ser explorada em atividades extraclasse."
   ]
  },
  {
   "cell_type": "markdown",
   "id": "e46e5bb0",
   "metadata": {},
   "source": [
    "Sugerimos aos leitores sem bagagem de programação em linguagem Python a leitura do material disponível no [Curso Python Com Jupyter Notebook](https://colab.research.google.com/github/ProfAllanIFBA/Curso_Python_Com_Jupyter_Notebook)."
   ]
  },
  {
   "cell_type": "markdown",
   "id": "068c41a3",
   "metadata": {
    "heading_collapsed": true
   },
   "source": [
    "#### Python, o que é? Morde?</font>\n"
   ]
  },
  {
   "cell_type": "markdown",
   "id": "d556989c",
   "metadata": {
    "hidden": true
   },
   "source": [
    "<table>\n",
    "<tr>\n",
    "<td><img src=\"img_apostila\\cobrinha.gif\" alt=\"Cobrinha\" style=\"width:500px;\"/></td>\n",
    "<td style=\"text-align: justify; font-size: 16px\"> Python é uma linguagem de programação de alto nível, interpretada, orientada a objetos e de <b>propósito geral</b>. Foi criada em 1991 por Guido van Rossum e tem como objetivo principal ser <b>fácil de ler</b> e <b>escrever</b>, com uma <b>sintaxe clara</b> e <b>simples</b>.</td>\n",
    "</tr>\n",
    "</table>"
   ]
  },
  {
   "cell_type": "markdown",
   "id": "869e7f3b",
   "metadata": {
    "heading_collapsed": true
   },
   "source": [
    "#### Guido van Rossum </font>"
   ]
  },
  {
   "cell_type": "markdown",
   "id": "ffdd5453",
   "metadata": {
    "ExecuteTime": {
     "end_time": "2025-01-28T14:19:24.016025Z",
     "start_time": "2025-01-28T14:19:23.997945Z"
    },
    "hidden": true
   },
   "source": [
    "<table>\n",
    "<tr><br><br>\n",
    " <td><img src=\"img_apostila\\guido.jpg\" alt=\"Guido van Rossum\" style=\"width:600px;\"/></td>\n",
    "<td style=\"text-align: justify; font-size: 16px;\">Guido van Rossum<br>\n",
    " - Nascido em Haarlem, 1956.<br>\n",
    " - Matemático e programador, criador da linguagem Python.<br>\n",
    " - Formado em matemática pela Universidade de Amsterdã; teve contato inicial com ALGOL 60 e Pascal.<br>\n",
    " - <b>Propôs o projeto \"Computer Programming for Everybody\" à DARPA em 1999, visando desenvolver Python como uma linguagem intuitiva, poderosa e de código aberto<b/>.<br>\n",
    " - <b>Python evoluiu para uma das linguagens mais populares, amplamente usada na Internet e outras aplicações.<b/>[TIOBE Index](https://www.tiobe.com/tiobe-index/)<td/>\n",
    "<tr/>\n",
    "<table/>\n"
   ]
  },
  {
   "cell_type": "markdown",
   "id": "16afe03d",
   "metadata": {
    "heading_collapsed": true
   },
   "source": [
    "#### O que este material possui de inovador?"
   ]
  },
  {
   "cell_type": "code",
   "execution_count": null,
   "id": "cb10338b",
   "metadata": {
    "hidden": true
   },
   "outputs": [],
   "source": []
  },
  {
   "cell_type": "markdown",
   "id": "35432a4d",
   "metadata": {
    "hidden": true
   },
   "source": [
    "[Versão em Nuvem](https://colab.research.google.com/github/ProfAllanIFBA/Matematica_e_Programacao/blob/main/Matematica_Financeira/Matematica_Financeira.ipynb)"
   ]
  },
  {
   "cell_type": "markdown",
   "id": "b4c526b6",
   "metadata": {
    "heading_collapsed": true
   },
   "source": [
    "#### Aprender Python é realmente importante?"
   ]
  },
  {
   "cell_type": "markdown",
   "id": "927eb003",
   "metadata": {
    "hidden": true
   },
   "source": [
    "<table>\n",
    "<tr>\n",
    "<td><img src=\"img_apostila\\imperio.gif\" alt=\"Nave Imperial\" style=\"width:600px;\"/></td>\n",
    "<td style=\"text-align: justify; font-size: 16px\"> As naves do império em Star Wars são programadas usando a linguagem Python? Não, não ainda...</td>\n",
    "</tr>\n",
    "</table>\n"
   ]
  },
  {
   "cell_type": "markdown",
   "id": "1f4d6cbb",
   "metadata": {
    "hidden": true
   },
   "source": [
    "**Índice TIOBE**: Este índice mensalmente classifica as linguagens de programação mais populares com base em diversos critérios, como número de engenheiros qualificados, cursos e fornecedores. 🔗[TIOBE](https://www.tiobe.com/tiobe-index/)"
   ]
  },
  {
   "cell_type": "markdown",
   "id": "905213c8",
   "metadata": {
    "hidden": true
   },
   "source": [
    "**Ranking RedMonk**: A RedMonk publica periodicamente rankings que avaliam a popularidade das linguagens de programação, considerando fatores como discussões em redes sociais e repositórios de código. 🔗[Ranking RedMonk](https://redmonk.com/sogrady/2024/03/08/language-rankings-1-24/)"
   ]
  },
  {
   "cell_type": "markdown",
   "id": "059753a8",
   "metadata": {
    "heading_collapsed": true,
    "hidden": true
   },
   "source": [
    "##### Então, o que é possível fazer com Python?"
   ]
  },
  {
   "cell_type": "markdown",
   "id": "be61ad27",
   "metadata": {
    "hidden": true
   },
   "source": [
    "**Automatização de tarefas:** com o Python, você pode automatizar cálculos e tarefas repetitivas, economizando tempo e aumentando sua eficiência."
   ]
  },
  {
   "cell_type": "markdown",
   "id": "54197133",
   "metadata": {
    "hidden": true
   },
   "source": [
    "**Visualização de dados:** Python possui bibliotecas poderosas, como a Matplotlib, que permitem criar visualizações de dados de alta qualidade, o que pode ser útil em muitas áreas, incluindo negócios, finanças, ciência e engenharia."
   ]
  },
  {
   "cell_type": "markdown",
   "id": "39dc27d8",
   "metadata": {
    "hidden": true
   },
   "source": [
    "**Aprendizado de máquina:** Python é uma das linguagens mais populares para aprendizado de máquina e inteligência artificial, que estão se tornando cada vez mais importantes em muitas áreas, desde finanças até medicina."
   ]
  },
  {
   "cell_type": "markdown",
   "id": "adaa1428",
   "metadata": {
    "hidden": true
   },
   "source": [
    "**Flexibilidade e versatilidade:** Python é uma linguagem versátil que pode ser usada em muitas áreas diferentes, desde análise de dados e ciência até desenvolvimento web e jogos."
   ]
  },
  {
   "cell_type": "markdown",
   "id": "65d9c152",
   "metadata": {
    "heading_collapsed": true,
    "hidden": true
   },
   "source": [
    "###### + um ótimo motivo (meu preferido)"
   ]
  },
  {
   "cell_type": "markdown",
   "id": "30ff3252",
   "metadata": {
    "hidden": true
   },
   "source": [
    "O GPT (e outro modelos de linguagem) \"sabem\" mais Python que as outras linguagens...<br><br>\n",
    "<center><p style=\"text-align:center;\">\n",
    "  <img src=\"img_apostila\\johnny_5.gif\" style=\"display: inline; height: 300px;\">\n",
    "</p><center/>\n"
   ]
  },
  {
   "cell_type": "markdown",
   "id": "7f610730",
   "metadata": {
    "heading_collapsed": true
   },
   "source": [
    "#### Seu feedback é muito importante"
   ]
  },
  {
   "cell_type": "markdown",
   "id": "d5d69056",
   "metadata": {
    "hidden": true
   },
   "source": [
    "_Nos ajude a melhorar! Após a leitura avalie esse material:<br> 🔗[Avaliação do Material: Matemática Financeira Com Enfoque Computacional](https://forms.gle/NhjrCkiYosaFUKy47)_\n",
    "\n",
    "_Caso encontre erros nesse material acesse:<br> 🔗[Sugestão de Correções: Lógica Matemática Com Enfoque Computacional](https://forms.gle/6YNiUhsyCLJQoPN98)_"
   ]
  },
  {
   "cell_type": "markdown",
   "id": "536bbae7",
   "metadata": {
    "heading_collapsed": true
   },
   "source": [
    "# <a id=\"o_que_e_matematica_financeira\"></a>O que é Matemática Financeira?"
   ]
  },
  {
   "cell_type": "markdown",
   "id": "0264ce8e",
   "metadata": {
    "hidden": true
   },
   "source": [
    "A Matemática Financeira é uma área da matemática aplicada que se dedica ao estudo e à análise das operações financeiras, buscando entender e quantificar a evolução do dinheiro ao longo do tempo. Seu foco principal é a relação entre capital, taxa de juros e tempo, que são os pilares fundamentais para a tomada de decisões financeiras."
   ]
  },
  {
   "cell_type": "markdown",
   "id": "1825375a",
   "metadata": {
    "hidden": true
   },
   "source": [
    "<center> <img src=\"img_apostila\\fig_calc.png\" alt=\"jpg_python\" width=\"400\" height=\"\"> </center>"
   ]
  },
  {
   "cell_type": "markdown",
   "id": "101859c2",
   "metadata": {
    "hidden": true
   },
   "source": [
    "Com a Matemática Financeira, você pode descobrir, por exemplo:\n",
    "\n",
    "* Quanto um valor investido pode render ao longo do tempo.\n",
    "\n",
    "* Qual será o custo total de um empréstimo.\n",
    "\n",
    "* Quanto poderá economizar ao resgatar um título antes do vencimento."
   ]
  },
  {
   "cell_type": "markdown",
   "id": "a664a492",
   "metadata": {
    "heading_collapsed": true
   },
   "source": [
    "# <a id=\"porcentagem_e_aplicacoes\"></a>1. Porcentagem e Aplicações"
   ]
  },
  {
   "cell_type": "markdown",
   "id": "61b1523f",
   "metadata": {
    "hidden": true
   },
   "source": [
    "<a id=\"taxa_percentual\"></a> <font color='red'> <b> A expressão $x\\%$, que lê-se \"$x$ por xento\", chamada de taxa percentual representa a fração $\\frac{x}{100}$ de um número real $x$.</b> </font>"
   ]
  },
  {
   "cell_type": "markdown",
   "id": "8b27e643",
   "metadata": {
    "heading_collapsed": true,
    "hidden": true
   },
   "source": [
    "#### <a id=\"exemplo_1\"></a> <font color='blue'> Exemplo 1: </font>"
   ]
  },
  {
   "cell_type": "markdown",
   "id": "a3e16c7d",
   "metadata": {
    "hidden": true
   },
   "source": [
    "<font color='blue'> Determine:<br>\n",
    " a) $10\\%$ de $50$<br>\n",
    " b) o valor $x$ tal que $15\\%$ de $x$ vale $18$<br>\n",
    " c) $20$ equivale a quantos porcento de $150$"
   ]
  },
  {
   "cell_type": "markdown",
   "id": "a7c0be2c",
   "metadata": {
    "heading_collapsed": true,
    "hidden": true
   },
   "source": [
    "##### <font color='blue'> Solução do item \"a\": </font>"
   ]
  },
  {
   "cell_type": "markdown",
   "id": "e352dad0",
   "metadata": {
    "hidden": true
   },
   "source": [
    "<font color='blue'> De acordo com a definição anterior, temos:<br><br>\n",
    " $$10\\% \\ \\text{de} \\ 50 = \\frac{10}{100}\\cdot50 = 5$$"
   ]
  },
  {
   "cell_type": "markdown",
   "id": "f2ba1601",
   "metadata": {
    "heading_collapsed": true,
    "hidden": true
   },
   "source": [
    "###### <font color='blue'> Python:"
   ]
  },
  {
   "cell_type": "code",
   "execution_count": 1,
   "id": "955bcead",
   "metadata": {
    "ExecuteTime": {
     "end_time": "2025-01-27T22:17:38.288467Z",
     "start_time": "2025-01-27T22:17:38.279707Z"
    },
    "hidden": true
   },
   "outputs": [
    {
     "name": "stdout",
     "output_type": "stream",
     "text": [
      "5.0\n"
     ]
    }
   ],
   "source": [
    "# Valor total\n",
    "total = 50\n",
    "\n",
    "# Taxa percentual\n",
    "taxa = 10\n",
    "\n",
    "# Cálculo da parte percentual\n",
    "parte = (taxa/100)*total\n",
    "\n",
    "# Resultado\n",
    "print(parte)"
   ]
  },
  {
   "cell_type": "code",
   "execution_count": 2,
   "id": "8fb6e911",
   "metadata": {
    "ExecuteTime": {
     "end_time": "2025-01-27T22:17:38.295965Z",
     "start_time": "2025-01-27T22:17:38.290458Z"
    },
    "hidden": true
   },
   "outputs": [
    {
     "name": "stdout",
     "output_type": "stream",
     "text": [
      "10% de 50 = 5.0.\n"
     ]
    }
   ],
   "source": [
    "# Impressão presonalizada\n",
    "print(f'{taxa}% de {total} = {parte}.')"
   ]
  },
  {
   "cell_type": "markdown",
   "id": "f37a9448",
   "metadata": {
    "heading_collapsed": true,
    "hidden": true
   },
   "source": [
    "##### <font color='blue'> Solução do item \"b\": </font>"
   ]
  },
  {
   "cell_type": "markdown",
   "id": "81318499",
   "metadata": {
    "hidden": true
   },
   "source": [
    "<font color='blue'> Temos que<br><br>\n",
    " $$15\\% \\ \\text{de} \\ x = 18 \\Rightarrow \\frac{15}{100}\\cdot x = 18 \\Rightarrow x = 18\\cdot\\frac{100}{15} = 120$$"
   ]
  },
  {
   "cell_type": "markdown",
   "id": "b1a5be48",
   "metadata": {
    "heading_collapsed": true,
    "hidden": true
   },
   "source": [
    "###### <font color='blue'> Python:"
   ]
  },
  {
   "cell_type": "code",
   "execution_count": 3,
   "id": "bcc8360a",
   "metadata": {
    "ExecuteTime": {
     "end_time": "2025-01-27T22:17:38.305237Z",
     "start_time": "2025-01-27T22:17:38.297955Z"
    },
    "hidden": true
   },
   "outputs": [
    {
     "name": "stdout",
     "output_type": "stream",
     "text": [
      "120.0\n"
     ]
    }
   ],
   "source": [
    "# Parte\n",
    "parte = 18\n",
    "\n",
    "# Taxa percentual\n",
    "taxa = 15\n",
    "\n",
    "# Cálculo do valor total\n",
    "total = parte*(100/taxa)\n",
    "\n",
    "# Resultado\n",
    "print(total)"
   ]
  },
  {
   "cell_type": "code",
   "execution_count": 4,
   "id": "ed080599",
   "metadata": {
    "ExecuteTime": {
     "end_time": "2025-01-27T22:17:38.313813Z",
     "start_time": "2025-01-27T22:17:38.307232Z"
    },
    "hidden": true
   },
   "outputs": [
    {
     "name": "stdout",
     "output_type": "stream",
     "text": [
      "O valor x tal que 15% vale 18 é 120.0.\n"
     ]
    }
   ],
   "source": [
    "# Impressão presonalizada\n",
    "print(f'O valor x tal que {taxa}% vale {parte} é {total}.')"
   ]
  },
  {
   "cell_type": "markdown",
   "id": "eba2f5d3",
   "metadata": {
    "heading_collapsed": true,
    "hidden": true
   },
   "source": [
    "##### <font color='blue'> Solução do item \"c\": </font>"
   ]
  },
  {
   "cell_type": "markdown",
   "id": "6f738e4c",
   "metadata": {
    "hidden": true
   },
   "source": [
    "<font color='blue'> Temos que<br><br>\n",
    " $$y\\% \\ \\text{de} \\ 150 = 30 \\Rightarrow \\frac{y}{100}\\cdot 150 = 30 \\Rightarrow y = 30\\cdot\\frac{100}{150} = 0,2 = \\frac{20}{100} = 20\\%$$"
   ]
  },
  {
   "cell_type": "markdown",
   "id": "8e777025",
   "metadata": {
    "heading_collapsed": true,
    "hidden": true
   },
   "source": [
    "###### <font color='blue'> Python:"
   ]
  },
  {
   "cell_type": "code",
   "execution_count": 5,
   "id": "e12a73d3",
   "metadata": {
    "ExecuteTime": {
     "end_time": "2025-01-27T22:17:38.323781Z",
     "start_time": "2025-01-27T22:17:38.315802Z"
    },
    "hidden": true
   },
   "outputs": [
    {
     "name": "stdout",
     "output_type": "stream",
     "text": [
      "20.0\n"
     ]
    }
   ],
   "source": [
    "# Valor total\n",
    "total = 150\n",
    "\n",
    "# Parte percentual\n",
    "parte = 30\n",
    "\n",
    "# Cálculo da taxa percentual\n",
    "taxa = (parte/total)*100\n",
    "\n",
    "# Resultado\n",
    "print(taxa)"
   ]
  },
  {
   "cell_type": "code",
   "execution_count": 6,
   "id": "0c03dc08",
   "metadata": {
    "ExecuteTime": {
     "end_time": "2025-01-27T22:17:38.337668Z",
     "start_time": "2025-01-27T22:17:38.325776Z"
    },
    "hidden": true
   },
   "outputs": [
    {
     "name": "stdout",
     "output_type": "stream",
     "text": [
      "30 equivale a 20.0% de 150.\n"
     ]
    }
   ],
   "source": [
    "# Impressão presonalizada\n",
    "print(f'{parte} equivale a {taxa}% de {total}.')"
   ]
  },
  {
   "cell_type": "markdown",
   "id": "dce9354c",
   "metadata": {
    "heading_collapsed": true,
    "hidden": true
   },
   "source": [
    "#### <a id=\"exemplo_2\"></a> <font color='blue'> Exemplo 2: </font>"
   ]
  },
  {
   "cell_type": "markdown",
   "id": "179ae392",
   "metadata": {
    "hidden": true
   },
   "source": [
    "<font color='blue'> Em uma eleição para reitor da *Wisdom College*, disputavam três candidatos: Sócrates, Isaac Newton e Kant. O total de votos computados foi de $1600$, dos quais:<br>\n",
    "    - $40\\%$ foram para Sócrates,<br>\n",
    "    - $25\\%$ para Isaac Newton,<br>\n",
    "    - $30\\%$ para Kant,<br>\n",
    " e o restante foram votos brancos ou nulos.<br>\n",
    " Nessas condições, determine:<br>\n",
    " a) O número de votos de cada candidato.<br>\n",
    " b) A porcentagem de votos brancos ou nulos."
   ]
  },
  {
   "cell_type": "markdown",
   "id": "c5dcd70b",
   "metadata": {
    "heading_collapsed": true,
    "hidden": true
   },
   "source": [
    "##### <font color='blue'> Solução do item \"a\": </font>"
   ]
  },
  {
   "cell_type": "markdown",
   "id": "feef06f6",
   "metadata": {
    "hidden": true
   },
   "source": [
    "<font color='blue'> Temos que:<br><br>\n",
    " Sócrates: $\\frac{40}{100}\\cdot1600 = 640 \\ \\text{votos}$<br><br>\n",
    " Isaac Newton: $\\frac{25}{100}\\cdot1600 = 400 \\ \\text{votos}$<br><br>\n",
    " Kant: $\\frac{30}{100}\\cdot1600 = 480 \\ \\text{votos}$"
   ]
  },
  {
   "cell_type": "markdown",
   "id": "3841928d",
   "metadata": {
    "heading_collapsed": true,
    "hidden": true
   },
   "source": [
    "###### <font color='blue'> Python:"
   ]
  },
  {
   "cell_type": "code",
   "execution_count": 7,
   "id": "c9bb2c2b",
   "metadata": {
    "ExecuteTime": {
     "end_time": "2025-01-27T22:17:38.347156Z",
     "start_time": "2025-01-27T22:17:38.339658Z"
    },
    "hidden": true
   },
   "outputs": [
    {
     "name": "stdout",
     "output_type": "stream",
     "text": [
      "Votos em Sócrates: 640.0\n",
      "Votos em Isaac Newton: 400.0\n",
      "Votos em Kant: 480.0\n"
     ]
    }
   ],
   "source": [
    "# Total de pessoas que votaram\n",
    "votos_totais = 1600\n",
    "\n",
    "# Percentual de votos obtidos\n",
    "pct_socrates,pct_newton,pct_kant = 0.4,0.25,0.3 # Atribuição de valores em linha\n",
    "\n",
    "# Número de votos de cada candidato\n",
    "votos_socrates = pct_socrates*votos_totais\n",
    "votos_newton = pct_newton*votos_totais\n",
    "votos_kant = pct_kant*votos_totais\n",
    "\n",
    "# Impressão dos resultados\n",
    "print(f'Votos em Sócrates: {votos_socrates}')\n",
    "print(f'Votos em Isaac Newton: {votos_newton}')\n",
    "print(f'Votos em Kant: {votos_kant}')"
   ]
  },
  {
   "cell_type": "markdown",
   "id": "5dc56b83",
   "metadata": {
    "hidden": true
   },
   "source": [
    "<font color='blue'> _Isaac Newton recebeu com gravidade o resultado._"
   ]
  },
  {
   "cell_type": "markdown",
   "id": "bc494b41",
   "metadata": {
    "heading_collapsed": true,
    "hidden": true
   },
   "source": [
    "##### <font color='blue'> Solução do item \"b\": </font>"
   ]
  },
  {
   "cell_type": "markdown",
   "id": "d4cf7e2c",
   "metadata": {
    "hidden": true
   },
   "source": [
    "<font color='blue'> Considerando um uma porcentagem total correspondente a $100\\%$, temos que a porcentagem de votos brancos ou nulos é dada por:<br><br>\n",
    " Brancos ou Nulos: $100-(40+25+30) = 100 - 95 = 5 \\Rightarrow 5\\% \\ \\text{dos votos}$"
   ]
  },
  {
   "cell_type": "markdown",
   "id": "75d1c3f5",
   "metadata": {
    "heading_collapsed": true,
    "hidden": true
   },
   "source": [
    "###### <font color='blue'> Python:"
   ]
  },
  {
   "cell_type": "code",
   "execution_count": 8,
   "id": "fed68a28",
   "metadata": {
    "ExecuteTime": {
     "end_time": "2025-01-27T22:17:38.359202Z",
     "start_time": "2025-01-27T22:17:38.355154Z"
    },
    "hidden": true
   },
   "outputs": [
    {
     "name": "stdout",
     "output_type": "stream",
     "text": [
      "Votos Brancos ou Nulos: 5%\n"
     ]
    }
   ],
   "source": [
    "# Total de pessoas que votaram\n",
    "votos_totais = 1600\n",
    "\n",
    "# Percentual de votos obtidos\n",
    "pct_socrates,pct_newton,pct_kant = 40,25,30\n",
    "\n",
    "# Cálculo do percentual de votos válidos\n",
    "pct_validos = 100-pct_socrates-pct_newton-pct_kant\n",
    "\n",
    "# Impressão do resultado\n",
    "print(f'Votos Brancos ou Nulos: {pct_validos}%')"
   ]
  },
  {
   "cell_type": "markdown",
   "id": "0951322b",
   "metadata": {
    "heading_collapsed": true,
    "hidden": true
   },
   "source": [
    "#### <a id=\"exemplo_3\"></a> <font color='blue'> Exemplo 3: </font>"
   ]
  },
  {
   "cell_type": "markdown",
   "id": "89fb69ab",
   "metadata": {
    "hidden": true
   },
   "source": [
    "<font color='blue'> Segundo as normas impostas pelo governo no ano de $2024$, a gasolina comum deve conter até $27\\%$ de etanol anidro em sua composição. Considerando uma amostra de gasolina que segue essas normas, constatou-se que havia nela $1350\\ \\text{ml}$ de etanol anidro. Qual é a quantidade total de combustível analisada?\n"
   ]
  },
  {
   "cell_type": "markdown",
   "id": "00d98985",
   "metadata": {
    "heading_collapsed": true,
    "hidden": true
   },
   "source": [
    "##### <font color='blue'> Solução: </font>"
   ]
  },
  {
   "cell_type": "markdown",
   "id": "dc6c2b48",
   "metadata": {
    "hidden": true
   },
   "source": [
    "<font color='blue'> Considerando $x$ a quantidade total de combustível analisado, temos que<br><br>\n",
    " $$27\\%x = 1350 \\Rightarrow \\frac{27}{100}\\cdot x = 1350 \\Rightarrow x = 1350 \\cdot \\frac{100}{27} \\Rightarrow 5000 \\ ml$$<br>\n",
    " Portanto, a quantidade total de combustível analisado foi de $5000 \\ ml$ ou $5$ litros."
   ]
  },
  {
   "cell_type": "markdown",
   "id": "0aaaf59f",
   "metadata": {
    "heading_collapsed": true,
    "hidden": true
   },
   "source": [
    "###### <font color='blue'> Python:"
   ]
  },
  {
   "cell_type": "code",
   "execution_count": 9,
   "id": "53ade2ca",
   "metadata": {
    "ExecuteTime": {
     "end_time": "2025-01-27T22:17:38.378483Z",
     "start_time": "2025-01-27T22:17:38.374181Z"
    },
    "hidden": true
   },
   "outputs": [
    {
     "name": "stdout",
     "output_type": "stream",
     "text": [
      "A quantidade de combustível analisada: 5000.0 ml que corresponde a 5.0 litros.\n"
     ]
    }
   ],
   "source": [
    "# Percentual de etanol no combustível (mistura)\n",
    "pct_etanol = 0.27 # Valor em decimal\n",
    "\n",
    "# Quantidade de etanol\n",
    "quant_etanol = 1350\n",
    "\n",
    "# Cálculo da quantidade total de combustível\n",
    "combustivel = quant_etanol/pct_etanol\n",
    "\n",
    "# Impressão do resultado\n",
    "print(f'A quantidade de combustível analisada: {combustivel} ml que corresponde a {combustivel/1000} litros.')"
   ]
  },
  {
   "cell_type": "markdown",
   "id": "5d347037",
   "metadata": {
    "heading_collapsed": true
   },
   "source": [
    "# <a id=\"termos_e_significados\"></a>2. Alguns Termos e Seu Siginificados"
   ]
  },
  {
   "cell_type": "markdown",
   "id": "9c02fdfb",
   "metadata": {
    "hidden": true
   },
   "source": [
    "Apresentaremos a seguir alguns termos utilizados no comércio e no mercado:"
   ]
  },
  {
   "cell_type": "markdown",
   "id": "8912dc68",
   "metadata": {
    "heading_collapsed": true,
    "hidden": true
   },
   "source": [
    "## <a id=\"custo_receita_lucro_prejuizo\"></a>2.1 Custo, Receita, Lucro e Prejuízo"
   ]
  },
  {
   "cell_type": "markdown",
   "id": "22ae2a6f",
   "metadata": {
    "hidden": true
   },
   "source": [
    "Imagine a seguinte situação na empresa que você trabalha:\n",
    "\n",
    "*Houve o empenho de $R\\$ \\ 100,00$ e $R\\$ \\ 110,00$ para a compra de dois produtos. O primeiro foi vendido por $R\\$ \\ 150,00$ e o segundo por $R\\$ \\ 90,00$.*\n",
    "\n",
    "Seu chefe lhe solicita um relatório sobre onde deve vir discriminado:\n",
    "\n",
    "1. custo individual e total\n",
    "\n",
    "2. a receita individual e total\n",
    "\n",
    "3. o lucro ou prejuízo individual e total.\n",
    "\n",
    "Termos como custo, receita, lucro e prejuízo são muito comuns no comércio de produtos. A seguir definiremos cada um deles."
   ]
  },
  {
   "cell_type": "markdown",
   "id": "fa92a338",
   "metadata": {
    "hidden": true
   },
   "source": [
    "<a id=\"custo\"></a> <font color='red'> <b> Custo $(C)$: Corresponde ao valor total dos recursos gastos na produção de bens ou na prestação de serviços."
   ]
  },
  {
   "cell_type": "markdown",
   "id": "77bf3aea",
   "metadata": {
    "hidden": true
   },
   "source": [
    "No nosso caso, os custos individuais são $C_{1} = R\\$ \\ 100,00$ e $C_{2} = R\\$ \\ 110,00$ e o custo total é $C_{total} = R\\$ \\ 210,00$ ($100 + 110$)."
   ]
  },
  {
   "cell_type": "markdown",
   "id": "2e3300ae",
   "metadata": {
    "hidden": true
   },
   "source": [
    "<a id=\"receita\"></a><font color='red'> <b> Receita (R): Corresponde ao valor total arrecadado por uma pessoa, empresa ou instituição em uma transação, como a venda de produtos ou serviços."
   ]
  },
  {
   "cell_type": "markdown",
   "id": "495cb591",
   "metadata": {
    "hidden": true
   },
   "source": [
    "No nosso caso, as receitas individuais são $R_{1} = R\\$ \\ 150,00$ e $R_{2} = R\\$ \\ 90,00$ e a receita total é $R_{total} = R\\$ \\ 240,00$ ($150 + 90$)."
   ]
  },
  {
   "cell_type": "markdown",
   "id": "c7be8a00",
   "metadata": {
    "hidden": true
   },
   "source": [
    "<a id=\"lucro\"></a><font color='red'> <b> Lucro $(L)$: Corresponde ao resultado positivo obtido quando o total de receitas supera o total de custos e despesas. Ele indica o ganho financeiro de uma operação. Nesse caso, $L > 0$."
   ]
  },
  {
   "cell_type": "markdown",
   "id": "1e7d526f",
   "metadata": {
    "hidden": true
   },
   "source": [
    "<a id=\"prejuizo\"></a><font color='red'> <b> Prejuízo $(L<0)$: Corresponde ao resultado negativo obtido quando os custos e despesas superam as receitas, resultando em um saldo negativo em uma operação financeira. Nesse caso, $L < 0$."
   ]
  },
  {
   "cell_type": "markdown",
   "id": "500010ec",
   "metadata": {
    "hidden": true
   },
   "source": [
    "Note que a venda do primeiro produto obteve um lucro de $L_{1} = R\\$ \\ 50,00$ ($150-100 > 0$). Por outro lado, a venda do segundo produto resultou em um prejuízo de $L_{2} = -R\\$ \\ 20,00$ ($90-110 < 0$). Somando o ganho(lucro) e a perda (prejuízo) temos $50+(-20) = 30$ o que corresponde a um lucro final de $L_{final} = R\\$ \\ 30,00$."
   ]
  },
  {
   "cell_type": "markdown",
   "id": "0fd449ff",
   "metadata": {
    "hidden": true
   },
   "source": [
    "<a id=\"relacao_receita_custo_lucro\"></a><font color='red'> <b> Sendo $C$ o custo, $R$ a receita e $L$ o lucro ou o prejuízo, temos a seguinte equação geral:<br><br>\n",
    " $$R = C + L.$$"
   ]
  },
  {
   "cell_type": "markdown",
   "id": "312b2bee",
   "metadata": {
    "heading_collapsed": true,
    "hidden": true
   },
   "source": [
    "#### <a id=\"exemplo_4\"></a> <font color='blue'> Exemplo 4: </font>"
   ]
  },
  {
   "cell_type": "markdown",
   "id": "138daf16",
   "metadata": {
    "hidden": true
   },
   "source": [
    "<font color='blue'> <font color='blue'> Marcos faz pães e os vende em uma padaria por $R\\$ \\ 12,00$ o quilo. Sabe-se que ele gasta $R\\$ \\ 7,80$ para a produção de cada quilo, incluindo materiais, mão de obra, energia, etc. Sobre o lucro existe uma taxação de $10\\%$ resultando no lucro final. Considerando a venda de $10$ quilos de pães determine o custo, a receita e o lucro final."
   ]
  },
  {
   "cell_type": "markdown",
   "id": "3fdf80c4",
   "metadata": {
    "heading_collapsed": true,
    "hidden": true
   },
   "source": [
    "##### <font color='blue'> Solução: </font>"
   ]
  },
  {
   "cell_type": "markdown",
   "id": "8ad41c42",
   "metadata": {
    "hidden": true
   },
   "source": [
    "<font color='blue'> Temos que<br><br>\n",
    " <font color='blue'> $C = 10\\cdot7,80 = R\\$ \\ 78,00$<br><br>\n",
    " <font color='blue'> $R = 10\\cdot12 = R\\$ \\ 120,00$<br><br>\n",
    " <font color='blue'> $L = R - C = 120 - 78 = R\\$ \\ 42,00 \\Rightarrow L_{final} = L-10\\% \\ \\text{de} \\ L = 42 - \\frac{10}{100}\\cdot 42 = 42 - 4,2 = R\\$ \\ 37,80.$"
   ]
  },
  {
   "cell_type": "markdown",
   "id": "9b712440",
   "metadata": {
    "heading_collapsed": true,
    "hidden": true
   },
   "source": [
    "###### <font color='blue'> Python:"
   ]
  },
  {
   "cell_type": "code",
   "execution_count": 10,
   "id": "930f9e15",
   "metadata": {
    "ExecuteTime": {
     "end_time": "2025-01-27T22:17:38.427232Z",
     "start_time": "2025-01-27T22:17:38.421898Z"
    },
    "hidden": true
   },
   "outputs": [
    {
     "name": "stdout",
     "output_type": "stream",
     "text": [
      "Na venda de 10 quilos de pães tem-se:\n",
      "Custo : R$ 78.0\n",
      "Receita: R$ 120\n",
      "Lucro total: R$ 42.0\n",
      "Lucro final: R$ 37.8\n"
     ]
    }
   ],
   "source": [
    "# Quantidades e valores unitários\n",
    "quilos = 10 # quantidade de quilos produzidos\n",
    "C_q = 7.8 # custo por quilo\n",
    "R_q = 12 # valor de venda de cada quilo\n",
    "taxa = 10 # taxação sobre o lucro total\n",
    "\n",
    "# Custos e valores gastos\n",
    "C_total = quilos*C_q\n",
    "R_total = quilos*R_q\n",
    "\n",
    "# Lucro total e lucro final\n",
    "L_total = R_total-C_total\n",
    "L_final = L_total - (taxa/100)*L_total\n",
    "\n",
    "# Impressão dos resultados\n",
    "print(f'Na venda de {quilos} quilos de pães tem-se:')\n",
    "print(f'Custo : R$ {C_total}')\n",
    "print(f'Receita: R$ {R_total}')\n",
    "print(f'Lucro total: R$ {L_total}')\n",
    "print(f'Lucro final: R$ {L_final}')"
   ]
  },
  {
   "cell_type": "markdown",
   "id": "8d9c30b8",
   "metadata": {
    "heading_collapsed": true,
    "hidden": true
   },
   "source": [
    "#### <a id=\"exemplo_5\"></a> <font color='blue'> Exemplo 5: </font>"
   ]
  },
  {
   "cell_type": "markdown",
   "id": "50575142",
   "metadata": {
    "hidden": true
   },
   "source": [
    "<font color='blue'> Uma fábrica de camisetas produz e vende cada unidade por $R\\$ \\ 50,00$. Para produzir as camisetas, a fábrica tem os seguintes custos:<br>\n",
    "<font color='blue'>- $C_{f} = $ Custo fixo mensal: $R\\$ \\ 5.000,00$ (aluguel, energia elétrica, e salários).<br> \n",
    "<font color='blue'>- $C_{v} = $ Custo variável: $R\\$ \\ 20,00$ por cada camiseta produzida (matéria-prima e mão de obra).<br>\n",
    "No mês de dezembro, a fábrica produziu e vendeu $300$ camisetas.<br>\n",
    "a) Qual foi o custo total da fábrica em dezembro?<br>\n",
    "b) Qual foi a receita total obtida com a venda das camisetas?<br>\n",
    "c) Qual foi o lucro da fábrica no mês de dezembro?\n",
    "d) Qual foi a taxa de lucro sobre o total investido?"
   ]
  },
  {
   "cell_type": "markdown",
   "id": "7bb0b845",
   "metadata": {
    "heading_collapsed": true,
    "hidden": true
   },
   "source": [
    "##### <font color='blue'> Solução do item \"a\": </font>"
   ]
  },
  {
   "cell_type": "markdown",
   "id": "b3619e2b",
   "metadata": {
    "hidden": true
   },
   "source": [
    "<font color='blue'> O custo de produção total das camisas é dado por:\n",
    " $$C_{t} = C_{f} + 300C_{v} = 5000 + 300\\cdot20 = 5000 + 6000  = R\\$ \\ 11000,00 $$"
   ]
  },
  {
   "cell_type": "markdown",
   "id": "7529bbfb",
   "metadata": {
    "ExecuteTime": {
     "end_time": "2025-01-20T00:48:00.841914Z",
     "start_time": "2025-01-20T00:48:00.837916Z"
    },
    "heading_collapsed": true,
    "hidden": true
   },
   "source": [
    "###### <font color='blue'> Python:"
   ]
  },
  {
   "cell_type": "code",
   "execution_count": 11,
   "id": "c0fc92f8",
   "metadata": {
    "ExecuteTime": {
     "end_time": "2025-01-27T22:17:38.444182Z",
     "start_time": "2025-01-27T22:17:38.440191Z"
    },
    "hidden": true
   },
   "outputs": [],
   "source": [
    "# Dados\n",
    "custo_fixo = 5000 # Custo fixo\n",
    "custo_u = 20 # Custo de produção de cada unidade\n",
    "valor_u = 50 # Custo de venda de cada unidade\n",
    "quantidade = 300 # Quantidade de camisetas produzidas"
   ]
  },
  {
   "cell_type": "code",
   "execution_count": 12,
   "id": "cc49940f",
   "metadata": {
    "ExecuteTime": {
     "end_time": "2025-01-27T22:17:38.453715Z",
     "start_time": "2025-01-27T22:17:38.446175Z"
    },
    "hidden": true
   },
   "outputs": [
    {
     "name": "stdout",
     "output_type": "stream",
     "text": [
      "Custo de produção de 300 camisetas: R$ 11000\n"
     ]
    }
   ],
   "source": [
    "# Cálculo do custo total\n",
    "custo_total = custo_fixo + custo_u*quantidade\n",
    "\n",
    "# Impressão do resultado\n",
    "print(f'Custo de produção de {quantidade} camisetas: R$ {custo_total}')"
   ]
  },
  {
   "cell_type": "markdown",
   "id": "87081e37",
   "metadata": {
    "heading_collapsed": true,
    "hidden": true
   },
   "source": [
    "##### <font color='blue'> Solução do item \"b\":"
   ]
  },
  {
   "cell_type": "markdown",
   "id": "577679bc",
   "metadata": {
    "hidden": true
   },
   "source": [
    "<font color='blue'> A receita dada por:\n",
    " $$R = 300\\cdot50 = R\\$ \\ 15000,00$$"
   ]
  },
  {
   "cell_type": "markdown",
   "id": "133f5f5f",
   "metadata": {
    "heading_collapsed": true,
    "hidden": true
   },
   "source": [
    "###### <font color='blue'> Python:"
   ]
  },
  {
   "cell_type": "code",
   "execution_count": 13,
   "id": "eba9d0ed",
   "metadata": {
    "ExecuteTime": {
     "end_time": "2025-01-27T22:17:38.463642Z",
     "start_time": "2025-01-27T22:17:38.457704Z"
    },
    "hidden": true
   },
   "outputs": [
    {
     "name": "stdout",
     "output_type": "stream",
     "text": [
      "Receita da venda de 300 camisetas: R$ 15000\n"
     ]
    }
   ],
   "source": [
    "# Cálculo da receita\n",
    "receita = quantidade*valor_u\n",
    "\n",
    "# Impressão do resultado\n",
    "print(f'Receita da venda de {quantidade} camisetas: R$ {receita}')"
   ]
  },
  {
   "cell_type": "markdown",
   "id": "2c33f699",
   "metadata": {
    "heading_collapsed": true,
    "hidden": true
   },
   "source": [
    "##### <font color='blue'> Solução do item \"c\":"
   ]
  },
  {
   "cell_type": "markdown",
   "id": "d85ded72",
   "metadata": {
    "hidden": true
   },
   "source": [
    "<font color='blue'> O lucro será dado por:<br><br>\n",
    " $$L = R - C_{t} = 15000 - 11000 = R\\$ \\ 4000,00$$"
   ]
  },
  {
   "cell_type": "markdown",
   "id": "ab2bee21",
   "metadata": {
    "heading_collapsed": true,
    "hidden": true
   },
   "source": [
    "###### <font color='blue'> Python:"
   ]
  },
  {
   "cell_type": "code",
   "execution_count": 14,
   "id": "23e84831",
   "metadata": {
    "ExecuteTime": {
     "end_time": "2025-01-27T22:17:38.474485Z",
     "start_time": "2025-01-27T22:17:38.470622Z"
    },
    "hidden": true
   },
   "outputs": [
    {
     "name": "stdout",
     "output_type": "stream",
     "text": [
      "Lucro da venda de 300 camisetas: R$ 4000\n"
     ]
    }
   ],
   "source": [
    "# Cálculo do lucro\n",
    "lucro = receita - custo_total\n",
    "\n",
    "# Impressão do resultado\n",
    "print(f'Lucro da venda de {quantidade} camisetas: R$ {lucro}')"
   ]
  },
  {
   "cell_type": "markdown",
   "id": "bfd6caf5",
   "metadata": {
    "heading_collapsed": true,
    "hidden": true
   },
   "source": [
    "##### <font color='blue'> Solução do item \"d\":"
   ]
  },
  {
   "cell_type": "markdown",
   "id": "004a92b4",
   "metadata": {
    "hidden": true
   },
   "source": [
    "<font color='blue'> A taxa de lucro sobre o total investido é dada por:<br><br>\n",
    " $$T_{C_{t}} = \\frac{L}{C_{t}} = \\frac{4000}{11000} \\approx 36,36\\%.$$\n",
    " "
   ]
  },
  {
   "cell_type": "markdown",
   "id": "36bee549",
   "metadata": {
    "heading_collapsed": true,
    "hidden": true
   },
   "source": [
    "###### <font color='blue'> Python:"
   ]
  },
  {
   "cell_type": "code",
   "execution_count": 15,
   "id": "a24b5455",
   "metadata": {
    "ExecuteTime": {
     "end_time": "2025-01-27T22:17:38.487593Z",
     "start_time": "2025-01-27T22:17:38.483459Z"
    },
    "hidden": true
   },
   "outputs": [
    {
     "name": "stdout",
     "output_type": "stream",
     "text": [
      "Taxa de lucro da venda de 300 camisetas: 36.36%\n"
     ]
    }
   ],
   "source": [
    "# Taxa de lucro\n",
    "taxa_lucro_inv_ini = lucro/custo_total\n",
    "\n",
    "# Impressão do resultado\n",
    "print(f'Taxa de lucro da venda de {quantidade} camisetas: {100*round(taxa_lucro_inv_ini,4)}%')"
   ]
  },
  {
   "cell_type": "markdown",
   "id": "02706543",
   "metadata": {
    "ExecuteTime": {
     "end_time": "2025-01-20T00:55:55.193600Z",
     "start_time": "2025-01-20T00:55:55.189782Z"
    },
    "heading_collapsed": true,
    "hidden": true
   },
   "source": [
    "###### <font color='blue'> Python (Análise extendida):"
   ]
  },
  {
   "cell_type": "markdown",
   "id": "fa7c75e6",
   "metadata": {
    "hidden": true
   },
   "source": [
    "<font color='blue'> Caso estejamos contando com a possibilidade de prejuízo podemos colocar um condicional. Por exemplo, a venda de apenas $100$ camisetas resultará, como veremos em um prejuízo ao passo que $200$ resultará em lucro."
   ]
  },
  {
   "cell_type": "code",
   "execution_count": 16,
   "id": "9084a38e",
   "metadata": {
    "ExecuteTime": {
     "end_time": "2025-01-27T22:17:38.499414Z",
     "start_time": "2025-01-27T22:17:38.493572Z"
    },
    "hidden": true
   },
   "outputs": [
    {
     "name": "stdout",
     "output_type": "stream",
     "text": [
      "Custo de produção de 100 camisetas: R$ 7000\n",
      "Receita da venda de 100 camisetas: R$ 5000\n",
      "Prejuízo da venda de 100 camisetas: R$ 2000\n",
      "Taxa de lucro da venda de 100 camisetas: -28.57%\n"
     ]
    }
   ],
   "source": [
    "# Custos\n",
    "custo_fixo = 5000 # Custo fixo\n",
    "custo_u = 20 # Custo de produção de cada unidade\n",
    "valor_u = 50 # Custo de venda de cada unidade\n",
    "quantidade = 100 # Quantidade de camisetas produzidas (mude para 200)\n",
    "\n",
    "\n",
    "# Custo total\n",
    "custo_total = custo_fixo + custo_u*quantidade\n",
    "receita = quantidade*valor_u\n",
    "lucro = receita - custo_total\n",
    "taxa_lucro_inv_ini = lucro/custo_total\n",
    "\n",
    "\n",
    "# Impressão dos resultados\n",
    "print(f'Custo de produção de {quantidade} camisetas: R$ {custo_total}')\n",
    "print(f'Receita da venda de {quantidade} camisetas: R$ {receita}')\n",
    "if lucro >= 0:\n",
    "    print(f'Lucro da venda de {quantidade} camisetas: R$ {lucro}')\n",
    "else:\n",
    "    print(f'Prejuízo da venda de {quantidade} camisetas: R$ {abs(lucro)}')\n",
    "print(f'Taxa de lucro da venda de {quantidade} camisetas: {100*round(taxa_lucro_inv_ini,4)}%')"
   ]
  },
  {
   "cell_type": "markdown",
   "id": "07a5ed0d",
   "metadata": {
    "hidden": true
   },
   "source": [
    "<font color='blue'> Considerando entradas inteiras positivas para a quantidade de vendas de $x$ camisas temos:"
   ]
  },
  {
   "cell_type": "code",
   "execution_count": 17,
   "id": "a4e4c481",
   "metadata": {
    "ExecuteTime": {
     "end_time": "2025-01-27T22:17:38.512655Z",
     "start_time": "2025-01-27T22:17:38.501404Z"
    },
    "hidden": true
   },
   "outputs": [],
   "source": [
    "# Definindo as funções custo, receita e lucro\n",
    "\n",
    "# Função custo\n",
    "def custo(x):\n",
    "    return 5000 +  20*x\n",
    "\n",
    "# Função receita\n",
    "def receita(x):\n",
    "    return x*50\n",
    "\n",
    "# Função lucro\n",
    "def lucro(x):\n",
    "    return receita(x)-custo(x) #Caso seja negativo teremos prejuízo"
   ]
  },
  {
   "cell_type": "code",
   "execution_count": 18,
   "id": "b24aa5c6",
   "metadata": {
    "ExecuteTime": {
     "end_time": "2025-01-27T22:17:38.524789Z",
     "start_time": "2025-01-27T22:17:38.514608Z"
    },
    "hidden": true
   },
   "outputs": [
    {
     "data": {
      "text/plain": [
       "11000"
      ]
     },
     "execution_count": 18,
     "metadata": {},
     "output_type": "execute_result"
    }
   ],
   "source": [
    "# Custo de x camisas\n",
    "custo(300)"
   ]
  },
  {
   "cell_type": "code",
   "execution_count": 19,
   "id": "316dfddf",
   "metadata": {
    "ExecuteTime": {
     "end_time": "2025-01-27T22:17:38.533476Z",
     "start_time": "2025-01-27T22:17:38.525811Z"
    },
    "hidden": true
   },
   "outputs": [
    {
     "data": {
      "text/plain": [
       "15000"
      ]
     },
     "execution_count": 19,
     "metadata": {},
     "output_type": "execute_result"
    }
   ],
   "source": [
    "# Receita da venda de x camisas\n",
    "receita(300)"
   ]
  },
  {
   "cell_type": "code",
   "execution_count": 20,
   "id": "93913d81",
   "metadata": {
    "ExecuteTime": {
     "end_time": "2025-01-27T22:17:38.543444Z",
     "start_time": "2025-01-27T22:17:38.535465Z"
    },
    "hidden": true
   },
   "outputs": [
    {
     "data": {
      "text/plain": [
       "4000"
      ]
     },
     "execution_count": 20,
     "metadata": {},
     "output_type": "execute_result"
    }
   ],
   "source": [
    "# Receita da venda de x camisas\n",
    "lucro(300)"
   ]
  },
  {
   "cell_type": "markdown",
   "id": "dc8b7ad6",
   "metadata": {
    "hidden": true
   },
   "source": [
    "<font color='blue'> Podemos analisar graficamente os custos, a receita e o lucro. Consideremos uma comercialização variando de $0$ a $500$ camisetas:"
   ]
  },
  {
   "cell_type": "code",
   "execution_count": 21,
   "id": "4d6415b5",
   "metadata": {
    "ExecuteTime": {
     "end_time": "2025-01-27T22:17:39.718181Z",
     "start_time": "2025-01-27T22:17:38.544442Z"
    },
    "hidden": true
   },
   "outputs": [
    {
     "data": {
      "text/plain": [
       "<matplotlib.legend.Legend at 0x20e05e157d0>"
      ]
     },
     "execution_count": 21,
     "metadata": {},
     "output_type": "execute_result"
    },
    {
     "data": {
      "image/png": "[encoded data removed]",
      "text/plain": [
       "<Figure size 640x480 with 1 Axes>"
      ]
     },
     "metadata": {},
     "output_type": "display_data"
    }
   ],
   "source": [
    "import matplotlib.pyplot as plt\n",
    "import numpy as np\n",
    "\n",
    "# Entradas 1,2,...,500\n",
    "x = np.arange(0,501)\n",
    "\n",
    "# Adicionando a grade\n",
    "plt.grid()\n",
    "\n",
    "# Adicionando linhas de referência (eixos x e y)\n",
    "plt.axhline(0, color='black', linewidth=1)\n",
    "plt.axvline(0, color='black', linewidth=1)\n",
    "\n",
    "# Gráficos Agrupados (Custo, Receita e Lucro/Prejuízo)\n",
    "plt.plot(x,custo(x),color='red',label = 'Custo')\n",
    "plt.plot(x,receita(x),color='green',label = 'Receita')\n",
    "plt.plot(x,lucro(x),color='blue',label = 'Lucro/Prejuízo')\n",
    "plt.legend()"
   ]
  },
  {
   "cell_type": "markdown",
   "id": "f51041dc",
   "metadata": {
    "heading_collapsed": true,
    "hidden": true
   },
   "source": [
    "## <a id=\"aumento_e_decrescimentos_sucessivos\"></a>2.2 Aumento e Decrescimento Percentual"
   ]
  },
  {
   "cell_type": "markdown",
   "id": "f41fead5",
   "metadata": {
    "hidden": true
   },
   "source": [
    "<a id=\"aumento_percentual\"></a> <font color='red'> <b> Se uma variável $a$ aumenta $x\\%$ de seu valor então, ela passa a valer:<br><br>\n",
    " $$a + x\\% \\text{ de } a = a + \\frac{x}{100}\\cdot a = a\\left(1 + \\frac{x}{100}\\right)$$"
   ]
  },
  {
   "cell_type": "markdown",
   "id": "bd07e5ca",
   "metadata": {
    "hidden": true
   },
   "source": [
    "<a id=\"decrescimento_percentual\"></a> <font color='red'> <b> Se uma variável $a$ decresce $x\\%$ de seu valor então, ela passa a valer:<br><br>\n",
    " $$a + x\\% \\text{ de } a = a - \\frac{x}{100}\\cdot a = a\\left(1 - \\frac{x}{100}\\right)$$"
   ]
  },
  {
   "cell_type": "markdown",
   "id": "75b58a76",
   "metadata": {
    "heading_collapsed": true,
    "hidden": true
   },
   "source": [
    "#### <a id=\"exemplo_6\"></a> <font color='blue'> Exemplo 6: </font>"
   ]
  },
  {
   "cell_type": "markdown",
   "id": "e6c991f2",
   "metadata": {
    "hidden": true
   },
   "source": [
    "<font color='blue'> Dois artigos $A$ e $B$ custam, respectivamente, $R\\$ \\ 100,00$ e $R\\$ \\ 150,00$. Após um revés financeiro o valor de $A$ aumentou $20\\%$ e o valor de $B$ diminuiu $10\\%$. Calcule o acréscimo e/ou decréscimo sofrido em cada item."
   ]
  },
  {
   "cell_type": "markdown",
   "id": "815fc1cd",
   "metadata": {
    "ExecuteTime": {
     "end_time": "2025-01-20T13:10:30.381356Z",
     "start_time": "2025-01-20T13:10:30.377689Z"
    },
    "heading_collapsed": true,
    "hidden": true
   },
   "source": [
    "##### <font color='blue'> Solução: </font>"
   ]
  },
  {
   "cell_type": "markdown",
   "id": "dce89abd",
   "metadata": {
    "hidden": true
   },
   "source": [
    "<font color='blue'> Temos que:<br><br>\n",
    " $$A \\Rightarrow A + 20\\% \\ {de} \\ A \\Rightarrow A + \\frac{20}{100}A = A + 0,2A = 1,2A = 1,2 \\cdot 100 = R\\$ \\ 120,00$$<br>\n",
    " $$B \\Rightarrow B - 20\\% \\ {de} \\ B \\Rightarrow B - \\frac{10}{100}B = B - 0,1B = 0,9B = 0,9\\cdot150 = R\\$ \\ 135,00$$<br>\n",
    " Portanto, o valor de $A$ e $B$ passaram a ser, respectivamente, $R\\$ \\ 120,00$ e $R\\$ \\ 135,00$."
   ]
  },
  {
   "cell_type": "markdown",
   "id": "b341e70d",
   "metadata": {
    "heading_collapsed": true,
    "hidden": true
   },
   "source": [
    "###### <font color='blue'> Python:"
   ]
  },
  {
   "cell_type": "code",
   "execution_count": 22,
   "id": "aa625853",
   "metadata": {
    "ExecuteTime": {
     "end_time": "2025-01-27T22:17:39.724691Z",
     "start_time": "2025-01-27T22:17:39.720174Z"
    },
    "hidden": true
   },
   "outputs": [
    {
     "name": "stdout",
     "output_type": "stream",
     "text": [
      "O valor de $A$ passou de R$ 100 para R$ 120.0.\n",
      "O valor de $B$ passou de R$ 150 para R$ 135.0.\n"
     ]
    }
   ],
   "source": [
    "# Dados\n",
    "vi_A = 100\n",
    "vi_B = 150\n",
    "\n",
    "# Taxas de aumento e decrescimento\n",
    "t_a = 20\n",
    "t_d = -10 # O sinal negativo pode ser posto na fórmula que determina vf_B\n",
    "\n",
    "# Cálculo dos valores modificados\n",
    "vf_A = vi_A + (t_a/100)*vi_A\n",
    "vf_B = vi_B + (t_d/100)*vi_B\n",
    "\n",
    "# Impressão dos resultados\n",
    "print(f'O valor de $A$ passou de R$ {vi_A} para R$ {vf_A}.')\n",
    "print(f'O valor de $B$ passou de R$ {vi_B} para R$ {vf_B}.')"
   ]
  },
  {
   "cell_type": "markdown",
   "id": "5078c5d2",
   "metadata": {
    "hidden": true
   },
   "source": [
    "<font color='red'> <b> Aumentos ou decréscimos sucessivos são feitos com base nos valores atuais e não no valor inicial. Isto é, nos valores corrigidos após cada período de aumento."
   ]
  },
  {
   "cell_type": "markdown",
   "id": "ef58e34d",
   "metadata": {
    "heading_collapsed": true,
    "hidden": true
   },
   "source": [
    "#### <a id=\"exemplo_7\"></a> <font color='blue'> Exemplo 7: </font>"
   ]
  },
  {
   "cell_type": "markdown",
   "id": "d806cf3c",
   "metadata": {
    "hidden": true
   },
   "source": [
    "<font color='blue'> A tabela a seguir apresenta os níveis de crescimento cumulativo de do valor de mercado de duas empresas $A$ e $B$ nos anos de $2022$ e $2023$.<br><br>\n",
    " $$\\begin{array}{}\n",
    " \\text{Empresa} & 2022 & 2023 \\\\\n",
    " A & +10\\% & +10\\% \\\\\n",
    " B & +15\\% & +5\\% \\\\\n",
    " \\end{array}$$<br>\n",
    " Qual das empresas apresentou um maior crescimento ao final de $2023$?  "
   ]
  },
  {
   "cell_type": "markdown",
   "id": "9184c828",
   "metadata": {
    "heading_collapsed": true,
    "hidden": true
   },
   "source": [
    "##### <font color='blue'> Solução: </font>"
   ]
  },
  {
   "cell_type": "markdown",
   "id": "25cade9f",
   "metadata": {
    "hidden": true
   },
   "source": [
    "<font color='blue'> Note que a empresa $A$ ao final de $2022$ aumentou para:<br><br>\n",
    " $$A + 10\\% \\text{ de } A = A + \\frac{10}{100}A = A + 0,1A = 1,1A$$<br>\n",
    " Isto é, um aumento de $1,1$ vezes que no início de $2022$. Então, ao final de $2023$ a empresa $A$ cehgou ao tamanho de<br><br>\n",
    " $$1,1A + 10\\% \\text{ de } (1,1A) = 1,1A + \\frac{10}{100}\\cdot1,1A = 1,1A + 0,1\\cdot1,1A = 1,21A$$<br>\n",
    " Assim, ao finalde $2023$ a empresa $A$ cresceu $1,21$ vezes em relação ao que era no início de $2022$. Esquematicamente, temos:<br>\n",
    " $$A \\Rightarrow 1,1A \\Rightarrow 1,1\\cdot(1,1A) = 1,21A$$<br>\n",
    " Mais diretamente, a empresa $B$, ao final de $2023$, em relação a $2022$, cresceu:<br><br>\n",
    " $$B \\Rightarrow 1,15B \\Rightarrow 1,15\\cdot(1,05B) = 1,2075A$$<br>\n",
    " Assim, a empresa $A$ cresceu ao longo dos dois anos $21\\%$ e a empresa $B$ $20,75\\%$. Portanto, a empresa $A$ apresentou um maior crescimento no período observado."
   ]
  },
  {
   "cell_type": "markdown",
   "id": "0e365be2",
   "metadata": {
    "heading_collapsed": true,
    "hidden": true
   },
   "source": [
    "###### <font color='blue'> Python:"
   ]
  },
  {
   "cell_type": "code",
   "execution_count": 23,
   "id": "77fda040",
   "metadata": {
    "ExecuteTime": {
     "end_time": "2025-01-27T22:17:39.771450Z",
     "start_time": "2025-01-27T22:17:39.726683Z"
    },
    "hidden": true
   },
   "outputs": [
    {
     "name": "stdout",
     "output_type": "stream",
     "text": [
      "O valor de mercado da empresa A ao final de 2023 é de 121000.0.\n"
     ]
    }
   ],
   "source": [
    "# Empresa A\n",
    "\n",
    "# Valor da Empresa A atualmente (digamos R$ 100000,00)\n",
    "valor = 100000\n",
    "\n",
    "# Taxas de aumento\n",
    "taxa1 = 0.1\n",
    "taxa2 = 0.1\n",
    "\n",
    "# Valor da empresa A após os aumentos\n",
    "valor_final = (1+taxa1)*(1 + taxa2)*valor\n",
    "\n",
    "# Impressão dos resultados\n",
    "print(f'O valor de mercado da empresa A ao final de 2023 é de {round(valor_final,2)}.')"
   ]
  },
  {
   "cell_type": "code",
   "execution_count": 24,
   "id": "e6bcb7ae",
   "metadata": {
    "ExecuteTime": {
     "end_time": "2025-01-27T22:17:39.791404Z",
     "start_time": "2025-01-27T22:17:39.778427Z"
    },
    "hidden": true
   },
   "outputs": [
    {
     "name": "stdout",
     "output_type": "stream",
     "text": [
      "O valor de mercado da empresa B ao final de 2023 é de 120750.0.\n"
     ]
    }
   ],
   "source": [
    "# Empresa B\n",
    "\n",
    "# Valor da Empresa B atualmente (digamos R$ 100000,00)\n",
    "valor = 100000\n",
    "\n",
    "# Taxas de aumento\n",
    "taxa1 = 0.15\n",
    "taxa2 = 0.05\n",
    "\n",
    "# Valor da empresa A após os aumentos\n",
    "valor_final = (1+taxa1)*(1 + taxa2)*valor\n",
    "\n",
    "# Impressão dos resultados\n",
    "print(f'O valor de mercado da empresa B ao final de 2023 é de {round(valor_final,2)}.')"
   ]
  },
  {
   "cell_type": "markdown",
   "id": "7e106406",
   "metadata": {
    "heading_collapsed": true,
    "hidden": true
   },
   "source": [
    "#### <a id=\"exemplo_8\"></a> <font color='blue'> Exemplo 8: </font>"
   ]
  },
  {
   "cell_type": "markdown",
   "id": "b28e142f",
   "metadata": {
    "hidden": true
   },
   "source": [
    "<font color='blue'> Uma mercadoria $A$ sofreu dois reajustes em seu preço. Primeiro lhe foi acrescentado um aumento de $10\\%$ em seu valor. Em seguida, em seu novo valor foi lhe dado uma redução de $10\\%$. O valor final da mercadoria mudou em relação ao valor antes das mudanças de preço?"
   ]
  },
  {
   "cell_type": "markdown",
   "id": "3cb9e3d8",
   "metadata": {
    "heading_collapsed": true,
    "hidden": true
   },
   "source": [
    "##### <font color='blue'> Solução: </font>"
   ]
  },
  {
   "cell_type": "markdown",
   "id": "a7139d6a",
   "metadata": {
    "hidden": true
   },
   "source": [
    "<font color='blue'> Temos que:<br><br>\n",
    " $$A \\Rightarrow 1,1A \\Rightarrow 0,9\\cdot(1,1A) = 0,99A$$<br>\n",
    " Portanto, o valor de $A$ teve uma redução de $1\\%$ em relação ao valor antes dos reajustes de preço."
   ]
  },
  {
   "cell_type": "markdown",
   "id": "459d41ea",
   "metadata": {
    "heading_collapsed": true,
    "hidden": true
   },
   "source": [
    "###### <font color='blue'> Python:"
   ]
  },
  {
   "cell_type": "code",
   "execution_count": 25,
   "id": "57311dc0",
   "metadata": {
    "ExecuteTime": {
     "end_time": "2025-01-27T22:17:39.801190Z",
     "start_time": "2025-01-27T22:17:39.792398Z"
    },
    "hidden": true
   },
   "outputs": [
    {
     "name": "stdout",
     "output_type": "stream",
     "text": [
      "O valor final de A é 99.0 correspondendo a uma redução de 1.0 %\n"
     ]
    }
   ],
   "source": [
    "# Valor de A (digamos R$ 100,00)\n",
    "valor = 100\n",
    "\n",
    "# Taxas de aumento\n",
    "taxa1 = 0.1\n",
    "taxa2 = -0.1\n",
    "\n",
    "# Valor da empresa A após os aumentos\n",
    "valor_final = (1+taxa1)*(1 + taxa2)*valor\n",
    "\n",
    "taxa_t = 100*round((abs(valor_final-valor))/valor,2)\n",
    "\n",
    "# Impressão dos resultados\n",
    "if valor_final >= valor:\n",
    "    print(f'O valor final de A é {round(valor_final,2)} correspondendo a um aumento de {taxa_t} %')\n",
    "else:\n",
    "    print(f'O valor final de A é {round(valor_final,2)} correspondendo a uma redução de {taxa_t} %')"
   ]
  },
  {
   "cell_type": "markdown",
   "id": "b3291123",
   "metadata": {
    "heading_collapsed": true,
    "hidden": true
   },
   "source": [
    "## <a id=\"taxa_de_cambio\"></a>2.3 Taxa de Cambio"
   ]
  },
  {
   "cell_type": "markdown",
   "id": "b30faf49",
   "metadata": {
    "hidden": true
   },
   "source": [
    "<a id=\"taxa_de_cambio\"></a> <font color='red'> <b> A taxa de câmbio é o valor de uma moeda em relação a outra."
   ]
  },
  {
   "cell_type": "markdown",
   "id": "f489bc6a",
   "metadata": {
    "heading_collapsed": true,
    "hidden": true
   },
   "source": [
    "#### <a id=\"exemplo_9\"></a> <font color='blue'> Exemplo 9: </font>"
   ]
  },
  {
   "cell_type": "markdown",
   "id": "04e6ba11",
   "metadata": {
    "hidden": true
   },
   "source": [
    "<font color='blue'> Segundo o Banco Central do Brasil, em $03/01/2025$, cada um dólar dos EUA valia $6,1557$ reais (valor de compra). Assim, podemos dizer que a taxa de câmbio do dólar, em relação ao real, em $03/01/2025$ era de $1$ para $6,1557$ ou, ainda, que a cotação do dolar em reais, nesse dia era de $R\\$ 6,1557$. Para saber a cotação do dolar em um determinado dia acesse [Cotações e Boletins](https://www.bcb.gov.br/estabilidadefinanceira/historicocotacoes).\n",
    "\n",
    "<font color='blue'> Podemos representar a situação acima com a seguinte proporção:\n",
    "\n",
    "<font color='blue'> $$\\frac{1}{6,1557} = \\frac{y}{x}$$\n",
    "\n",
    "<font color='blue'> Em que $x$ ou $y$ são valores em reais e dólares, respectivamente a serem convertidos de uma moeda para outra."
   ]
  },
  {
   "cell_type": "markdown",
   "id": "003a98d0",
   "metadata": {
    "heading_collapsed": true,
    "hidden": true
   },
   "source": [
    "#### <a id=\"exemplo_10\"></a> <font color='blue'> Exemplo 10: </font>"
   ]
  },
  {
   "cell_type": "markdown",
   "id": "9468d565",
   "metadata": {
    "hidden": true
   },
   "source": [
    "<font color='blue'> Em um determinado dia a taxa de câmbio era de $1$ dólar dos EUA para $5,76$ reais. Uma pessoa que trocasse $R\\$ \\ 3600,00$ por dólares americanos teria quantos nessa última moeda?"
   ]
  },
  {
   "cell_type": "markdown",
   "id": "38a4fabc",
   "metadata": {
    "heading_collapsed": true,
    "hidden": true
   },
   "source": [
    "##### <font color='blue'> Solução: </font> "
   ]
  },
  {
   "cell_type": "markdown",
   "id": "e831287c",
   "metadata": {
    "hidden": true
   },
   "source": [
    "<font color='blue'> Temos a seguinte proporção<br><br>\n",
    " $$\\frac{1}{5,76} = \\frac{y}{3600}$$<br>\n",
    " Assim, a quantia referente à $R\\$ \\ 3600,00$ é dada por:\n",
    " \n",
    " <font color='blue'> $$\\frac{1}{5,76} = \\frac{y}{3600} \\Rightarrow y = \\frac{3600}{5,76} = 625$$\n",
    " \n",
    " <font color='blue'> Portanto, nesse dia, $3600,00$ reais correspondiam a $625$ dólares."
   ]
  },
  {
   "cell_type": "markdown",
   "id": "c7fe9371",
   "metadata": {
    "heading_collapsed": true,
    "hidden": true
   },
   "source": [
    "###### <font color='blue'> Python:"
   ]
  },
  {
   "cell_type": "code",
   "execution_count": 26,
   "id": "2007619c",
   "metadata": {
    "ExecuteTime": {
     "end_time": "2025-01-27T22:17:39.810904Z",
     "start_time": "2025-01-27T22:17:39.804179Z"
    },
    "hidden": true
   },
   "outputs": [
    {
     "name": "stdout",
     "output_type": "stream",
     "text": [
      "A quantia de 3600 reais correspondem a 625.0 dólares.\n"
     ]
    }
   ],
   "source": [
    "# Cotação do dólar\n",
    "cotacao_dolar = 5.76\n",
    "\n",
    "# Valor em reais\n",
    "valor_reais = 3600\n",
    "\n",
    "# Conversão de reais para dólares\n",
    "conv_real_dolar = valor_reais/cotacao_dolar\n",
    "\n",
    "# Impressão dos resultados\n",
    "print(f'A quantia de {valor_reais} reais correspondem a {round(conv_real_dolar,2)} dólares.')"
   ]
  },
  {
   "cell_type": "markdown",
   "id": "8359fe74",
   "metadata": {
    "heading_collapsed": true,
    "hidden": true
   },
   "source": [
    "#### <a id=\"exemplo_11\"></a> <font color='blue'> Exemplo 11: </font>"
   ]
  },
  {
   "cell_type": "markdown",
   "id": "ee3d63c8",
   "metadata": {
    "hidden": true
   },
   "source": [
    "<font color='blue'> Em um certo dia $1$ dolar americano valia $R\\$ \\ 6,15$ e $1$ euro valia $R\\$ \\ 6,33$. Nessas condições determine:<br>\n",
    " <font color='blue'> a) $300$ euros em reais<br>\n",
    "<font color='blue'> b) $210$ dolares em euros<br>\n",
    "<font color='blue'> c) $500$ euros em dolares<br>\n",
    "<font color='blue'> d) Obtenha os fatores de conversão de dolar para euro e de euro para dolar diretamente."
   ]
  },
  {
   "cell_type": "markdown",
   "id": "43ff6012",
   "metadata": {
    "heading_collapsed": true,
    "hidden": true
   },
   "source": [
    "##### <font color='blue'> Solução do item \"a\": </font>"
   ]
  },
  {
   "cell_type": "markdown",
   "id": "3994e7d9",
   "metadata": {
    "hidden": true
   },
   "source": [
    "<font color='blue'> Temos que<br><br>\n",
    " $$\\frac{1}{6,33} = \\frac{300}{x} \\Rightarrow x = 6,33\\cdot300 = 1845$$<br>\n",
    " Portanto, $300$ euros equivaliam, na data em questão, a $1845$ euros."
   ]
  },
  {
   "cell_type": "markdown",
   "id": "8ba8db0a",
   "metadata": {
    "heading_collapsed": true,
    "hidden": true
   },
   "source": [
    "###### <font color='blue'> Python:"
   ]
  },
  {
   "cell_type": "code",
   "execution_count": 27,
   "id": "f3f29021",
   "metadata": {
    "ExecuteTime": {
     "end_time": "2025-01-27T22:17:39.820981Z",
     "start_time": "2025-01-27T22:17:39.812407Z"
    },
    "hidden": true
   },
   "outputs": [
    {
     "name": "stdout",
     "output_type": "stream",
     "text": [
      "A quantia de 300 correspondem a 1899.0 euros.\n"
     ]
    }
   ],
   "source": [
    "# Cotação do euro\n",
    "cotacao_euro_real = 6.33\n",
    "\n",
    "# Valor em euros\n",
    "valor_euro = 300\n",
    "\n",
    "# Conversão de reais para dólares\n",
    "conv_euro_real = valor_euro*cotacao_euro_real\n",
    "\n",
    "# Impressão dos resultados\n",
    "print(f'A quantia de {valor_euro} correspondem a {round(conv_euro_real,2)} euros.')"
   ]
  },
  {
   "cell_type": "markdown",
   "id": "189c0cfa",
   "metadata": {
    "heading_collapsed": true,
    "hidden": true
   },
   "source": [
    "##### <font color='blue'> Solução do item \"b\": </font>"
   ]
  },
  {
   "cell_type": "markdown",
   "id": "47f58268",
   "metadata": {
    "hidden": true
   },
   "source": [
    "<font color='blue'> Como não temos as taxas de conversão de dolar para euro diretamente, podemos converter o $210$ dólares em reais e depois converter o valor obtido, em euros:<br><br>\n",
    " $$\\frac{1}{6,15} = \\frac{210}{x} \\Rightarrow x = 210\\cdot6,15 = 1291,5$$<br>\n",
    " $$\\frac{1}{6,33} = \\frac{y}{1291,5} \\Rightarrow y = \\frac{1291,5}{6,33} \\approx 204,03$$<br>\n",
    " Portanto, $210$ dolares equivaliam, na data em questão a aproximadamente $204,03$ euros."
   ]
  },
  {
   "cell_type": "markdown",
   "id": "a94ddf55",
   "metadata": {
    "heading_collapsed": true,
    "hidden": true
   },
   "source": [
    "###### <font color='blue'> Python:"
   ]
  },
  {
   "cell_type": "code",
   "execution_count": 28,
   "id": "eeac1e5e",
   "metadata": {
    "ExecuteTime": {
     "end_time": "2025-01-27T22:17:39.832474Z",
     "start_time": "2025-01-27T22:17:39.821977Z"
    },
    "hidden": true
   },
   "outputs": [
    {
     "name": "stdout",
     "output_type": "stream",
     "text": [
      "A quantia de 210 dólares correspondem a 204.03 euros.\n"
     ]
    }
   ],
   "source": [
    "# Cotações\n",
    "cotacao_dolar_real = 6.15\n",
    "cotacao_euro_real = 6.33\n",
    "\n",
    "# Valor em dólares\n",
    "valor_dolar = 210\n",
    "\n",
    "# Conversão de dolar para euros (passando pelo real)\n",
    "conv_dolar_real = valor_dolar*cotacao_dolar_real\n",
    "conv_real_euro = conv_dolar_real/cotacao_euro_real\n",
    "\n",
    "# Impressão dos resultados\n",
    "print(f'A quantia de {valor_dolar} dólares correspondem a {round(conv_real_euro,2)} euros.')"
   ]
  },
  {
   "cell_type": "markdown",
   "id": "c051981c",
   "metadata": {
    "heading_collapsed": true,
    "hidden": true
   },
   "source": [
    "##### <font color='blue'> Solução do item \"c\": </font>"
   ]
  },
  {
   "cell_type": "markdown",
   "id": "ea16a9f4",
   "metadata": {
    "hidden": true
   },
   "source": [
    "<font color='blue'> Analogamente ao item 'b', podemos converter o $500$ euros em reais e depois converter o valor obtido, em doláres:<br><br>\n",
    " $$\\frac{1}{6,33} = \\frac{500}{x} \\Rightarrow x = 500\\cdot6,33 = 3165$$<br>\n",
    " $$\\frac{1}{6,15} = \\frac{y}{3165} \\Rightarrow y = \\frac{3165}{6,15} \\approx 514.63$$<br>\n",
    " Portanto, $500$ euros equivaliam, na data em questão a aproximadamente $514,63$ dólares."
   ]
  },
  {
   "cell_type": "markdown",
   "id": "a16a772f",
   "metadata": {
    "heading_collapsed": true,
    "hidden": true
   },
   "source": [
    "###### <font color='blue'> Python:"
   ]
  },
  {
   "cell_type": "code",
   "execution_count": 29,
   "id": "e5d979b5",
   "metadata": {
    "ExecuteTime": {
     "end_time": "2025-01-27T22:17:39.846255Z",
     "start_time": "2025-01-27T22:17:39.834457Z"
    },
    "hidden": true
   },
   "outputs": [
    {
     "name": "stdout",
     "output_type": "stream",
     "text": [
      "A quantia de 500 euros correspondem a 514.63 dólares.\n"
     ]
    }
   ],
   "source": [
    "# Cotações\n",
    "cotacao_dolar_real = 6.15\n",
    "cotacao_euro_real = 6.33\n",
    "\n",
    "# Valor em euros\n",
    "valor_euro = 500\n",
    "\n",
    "# Conversão de euros para dólar (passando pelo real)\n",
    "conv_euro_real = valor_euro*cotacao_euro_real\n",
    "conv_real_dolar = conv_euro_real/cotacao_dolar_real\n",
    "\n",
    "# Impressão dos resultados\n",
    "print(f'A quantia de {valor_euro} euros correspondem a {round(conv_real_dolar,2)} dólares.')"
   ]
  },
  {
   "cell_type": "markdown",
   "id": "0204848f",
   "metadata": {
    "heading_collapsed": true,
    "hidden": true
   },
   "source": [
    "##### <font color='blue'> Solução do item \"d\": </font>"
   ]
  },
  {
   "cell_type": "markdown",
   "id": "13a3c6fd",
   "metadata": {
    "hidden": true
   },
   "source": [
    "<font color='blue'> Considerando as variáveis $r$, $d$ e $e$ para os valores em reais, dólares e euro, respectivamente, temos, aproximadamente:<br><br>\n",
    " $$\\frac{1}{6,15} = \\frac{d}{r} \\ \\ \\ \\ \\text{e} \\ \\ \\ \\  \\frac{1}{6,33} = \\frac{e}{r}$$<br>\n",
    " Isolando $r$ em ambas equações podemos igualar as resultantes:<br><br>\n",
    " $$r = 6,15d \\ \\ \\ \\ \\text{e} \\ \\ \\ \\ r = 6,33e \\Rightarrow 6,15d = 6,33e \\Rightarrow \\frac{6,15}{6,33} = \\frac{e}{d} \\ \\ \\ \\ \\text{ou} \\ \\ \\ \\ \\frac{6,33}{6,15} = \\frac{d}{e}$$<br>\n",
    " Dessas últimas relações, temos:<br><br>\n",
    " i) $\\frac{1}{\\frac{6,33}{6,15}}= \\frac{e}{d} \\Rightarrow \\frac{1}{1.0292} \\approx \\frac{e}{d}$<br><br>\n",
    " ii) $\\frac{1}{\\frac{6,15}{6,33}} = \\frac{d}{e} \\Rightarrow \\frac{1}{0,9716} \\approx \\frac{d}{e}$<br><br>\n",
    " Portanto, as taxas de conversão de dólar para euro e de euro para dólar, são, respectivamente: $1.0293$ (ou mais precisamente $1.02926829268$) e $0.9716$ (ou mais precisamente $0.971563981043$).<br>\n",
    " Em particular, poderíamos, de posse dessas taxas de correção responder diretamente os itens 'b' e 'c'. De fato,<br><br>\n",
    " $$210 \\ \\text{dólares} = 210\\cdot0.9716 = 204.03\\underline{6} \\ \\text{euros}$$<br>\n",
    " $$500 \\ \\text{euros} = 500\\cdot1.0293 = 514.6\\underline{5} \\ \\text{dolares}$$<br>\n",
    " As pequenas diferenças observadas se dão devido à arredondamentos.\n",
    " "
   ]
  },
  {
   "cell_type": "markdown",
   "id": "c562ee5f",
   "metadata": {
    "heading_collapsed": true,
    "hidden": true
   },
   "source": [
    "###### <font color='blue'> Python:"
   ]
  },
  {
   "cell_type": "code",
   "execution_count": 30,
   "id": "4c8dd2cb",
   "metadata": {
    "ExecuteTime": {
     "end_time": "2025-01-27T22:17:39.855716Z",
     "start_time": "2025-01-27T22:17:39.848249Z"
    },
    "hidden": true
   },
   "outputs": [
    {
     "name": "stdout",
     "output_type": "stream",
     "text": [
      "1 dolar equivale a 0.9716 euros.\n",
      "1 euro equivale a 1.0293 dólares.\n"
     ]
    }
   ],
   "source": [
    "# Cotações\n",
    "cotacao_dolar_real = 6.15\n",
    "cotacao_euro_real = 6.33\n",
    "\n",
    "# Valor em dólares\n",
    "valor_euro = 500\n",
    "\n",
    "# Conversões dólar -> euro e euro -> dólar\n",
    "cotacao_dolar_euro = cotacao_dolar_real/cotacao_euro_real\n",
    "cotacao_euro_dolar = cotacao_euro_real/cotacao_dolar_real\n",
    "\n",
    "# Taxas de conversão diretas\n",
    "print(f'{1} dolar equivale a {round(cotacao_dolar_euro,4)} euros.')\n",
    "print(f'{1} euro equivale a {round(cotacao_euro_dolar,4)} dólares.')"
   ]
  },
  {
   "cell_type": "code",
   "execution_count": 31,
   "id": "c1d6b035",
   "metadata": {
    "ExecuteTime": {
     "end_time": "2025-01-27T22:17:39.864772Z",
     "start_time": "2025-01-27T22:17:39.857710Z"
    },
    "hidden": true
   },
   "outputs": [
    {
     "name": "stdout",
     "output_type": "stream",
     "text": [
      "210 dólares corresponde a 204.02843601895736 euros.\n",
      "500 euros corresponde a 514.6341463414634 dólares.\n"
     ]
    }
   ],
   "source": [
    "# Respostas do itens 'b' e 'c' diretamente\n",
    "\n",
    "# Valores a serem convertidos\n",
    "valor_dolar = 210\n",
    "valor_euro = 500\n",
    "\n",
    "# Valores convertidos\n",
    "valor_dolar_euro = valor_dolar*cotacao_dolar_euro\n",
    "valor_euro_dolar = valor_euro*cotacao_euro_dolar\n",
    "\n",
    "# Impressão dos resultados\n",
    "print(f'{valor_dolar} dólares corresponde a {valor_dolar_euro} euros.')\n",
    "print(f'{valor_euro} euros corresponde a {valor_euro_dolar} dólares.')"
   ]
  },
  {
   "cell_type": "markdown",
   "id": "90e431f0",
   "metadata": {
    "heading_collapsed": true,
    "hidden": true
   },
   "source": [
    "## <a id=\"inflacao\"></a>2.4 Inflação e Deflação"
   ]
  },
  {
   "cell_type": "markdown",
   "id": "8f60c28e",
   "metadata": {
    "hidden": true
   },
   "source": [
    "<a id=\"inflacao\"></a> <font color='red'> <b> Inflação é o aumento dos preços de bens e serviços em um determinado período."
   ]
  },
  {
   "cell_type": "markdown",
   "id": "daf97516",
   "metadata": {
    "hidden": true
   },
   "source": [
    "Ela implica diminuição do poder de compra da moeda. A inflação é medida pelos índices de preços. O Brasil tem vários índices de preços. O Índice Nacional de Preços ao Consumidor Amplo (IPCA) é o índice utilizado no sistema de metas para a inflação."
   ]
  },
  {
   "cell_type": "markdown",
   "id": "87d45063",
   "metadata": {
    "ExecuteTime": {
     "end_time": "2025-01-10T15:17:38.424360Z",
     "start_time": "2025-01-10T15:17:38.414546Z"
    },
    "hidden": true
   },
   "source": [
    "<a id=\"deflacao\"></a><font color='red'> <b> Deflação é a redução dos preços de bens e serviços em um período."
   ]
  },
  {
   "cell_type": "markdown",
   "id": "58c5495c",
   "metadata": {
    "hidden": true
   },
   "source": [
    "<a id=\"inflacao_acumulada\"></a> <font color='red'>A **inflação acumulada**, em determinado período, é calculada da seguinte forma:<br><br>\n",
    " <b> $$\\text{Inflação acumulada} = \\frac{\\text{Índice de Preços Inicial} - \\text{Índice de Preços Final}}{\\text{Índice de Preços Inicial}}\\cdot100\\%$$<br>\n",
    " ou, de forma simplificada:<br><br>\n",
    " $$I = \\frac{V_{f} - V_{i}}{V_{i}}\\cdot100\\%$$<br>\n",
    " em que<br><br>\n",
    " <font color='red'>- $I$ é a taxa de inflação;<br>\n",
    " <font color='red'>- $V_{f}$ valor final de um produto após o período analisado;<br>\n",
    " <font color='red'>- $V_{i}$ valor inicial do produto."
   ]
  },
  {
   "cell_type": "markdown",
   "id": "9afb46b9",
   "metadata": {
    "hidden": true
   },
   "source": [
    "Quer saber mais sobre inflação? Acesse: [O que é inflação](https://www.bcb.gov.br/controleinflacao/oqueinflacao)."
   ]
  },
  {
   "cell_type": "markdown",
   "id": "d91b6458",
   "metadata": {
    "heading_collapsed": true,
    "hidden": true
   },
   "source": [
    "#### <a id=\"exemplo_12\"></a> <font color='blue'> Exemplo 12: </font>"
   ]
  },
  {
   "cell_type": "markdown",
   "id": "8d1c2366",
   "metadata": {
    "hidden": true
   },
   "source": [
    "<font color='blue'> Isis tinha, em fevereiro, $R\\$ \\ 100,00$ para comprar de chocolates. O chocolate que ele gosta custavam $R\\$ \\ 12,50$. Contudo, um trimestre depois, o preço desse cocholate estava $20\\%$ mais caro devido à correção inflacionária. Quantos chocolates a menos ele comprará com o mesmo valor em dinheiro?"
   ]
  },
  {
   "cell_type": "markdown",
   "id": "eaeb7b37",
   "metadata": {
    "heading_collapsed": true,
    "hidden": true
   },
   "source": [
    "##### <font color='blue'> Solução: </font>"
   ]
  },
  {
   "cell_type": "markdown",
   "id": "f195544b",
   "metadata": {
    "hidden": true
   },
   "source": [
    "<font color='blue'> Em fevereiro ela podia comprar<br><br>\n",
    " $$\\frac{100}{12,5} = 8 \\ \\text{chocolates}$$<br>\n",
    " Passados três meses, com um aumento de $15\\%$, cada chocolate passou a custar:\n",
    " $$12,5\\cdot1,2 = 15$$<br>\n",
    " Agora, com os mesmos $R\\$ 100,00$ ela pode comprar:<br><br>\n",
    " <font color='blue'>$$\\frac{100}{15} \\approx 6,67$$<br>\n",
    " <font color='blue'> Dessa forma, após o aumento provocado pela inflação Isis poderá comprar somente $6$ chocolates.\n"
   ]
  },
  {
   "cell_type": "markdown",
   "id": "10e55bc3",
   "metadata": {
    "heading_collapsed": true,
    "hidden": true
   },
   "source": [
    "###### <font color='blue'> Python:"
   ]
  },
  {
   "cell_type": "code",
   "execution_count": 32,
   "id": "93cc077f",
   "metadata": {
    "ExecuteTime": {
     "end_time": "2025-01-27T22:17:39.874823Z",
     "start_time": "2025-01-27T22:17:39.866764Z"
    },
    "hidden": true
   },
   "outputs": [
    {
     "name": "stdout",
     "output_type": "stream",
     "text": [
      "Quantidade comprada antes da incidência da inflação: 8\n",
      "Quantidade comprada após a incidência da inflação: 6\n"
     ]
    }
   ],
   "source": [
    "import math\n",
    "valor_disponivel = 100\n",
    "preco_anterior = 12.5\n",
    "taxa_inflacao = 0.15\n",
    "preco_posterior = 12.5*(1+taxa_inflacao)\n",
    "\n",
    "# Quantidades compradas anterior e posterior à inflação\n",
    "q_anterior = math.trunc(valor_disponivel/preco_anterior)\n",
    "q_posterior = math.trunc(valor_disponivel/preco_posterior)\n",
    "\n",
    "# Impressão dos resultados\n",
    "print(f'Quantidade comprada antes da incidência da inflação: {q_anterior}')\n",
    "print(f'Quantidade comprada após a incidência da inflação: {q_posterior}')"
   ]
  },
  {
   "cell_type": "markdown",
   "id": "1cd578b4",
   "metadata": {
    "heading_collapsed": true,
    "hidden": true
   },
   "source": [
    "#### <a id=\"exemplo_13\"></a> <font color='blue'> Exemplo 13: </font>"
   ]
  },
  {
   "cell_type": "markdown",
   "id": "842f5db1",
   "metadata": {
    "hidden": true
   },
   "source": [
    "<font color='blue'> Determinado produto apresentou os seguintes preços (em reais), corrigidos pela inflação, ao longo dos anos de $2022$, $2023$ e $2024$:<br>\n",
    " $$\\begin{array}{|c|c|}\\hline\n",
    " \\text{2022} & \\text{2023} & \\text{2024} \\\\\\hline\n",
    " 120 & 150 & 180 \\\\\\hline\n",
    " \\end{array}$$<br>\n",
    " Com base nesses dados, determine:<br>\n",
    " a) A taxa de inflação entre cada ano e o ano seguinte.<br>\n",
    " b) A taxa de inflação total de $2022$ a $2024$. "
   ]
  },
  {
   "cell_type": "markdown",
   "id": "bbeda17c",
   "metadata": {
    "heading_collapsed": true,
    "hidden": true
   },
   "source": [
    "##### <font color='blue'> Solução do item \"a\": </font>"
   ]
  },
  {
   "cell_type": "markdown",
   "id": "23f43326",
   "metadata": {
    "hidden": true
   },
   "source": [
    "<font color='blue'> A taxa de inflação entre cada dois anos consecutivos é dada por:<br><br>\n",
    " $$2022 \\rightarrow 2023: \\ I_{22/23} = \\frac{V_{f}-V_{i}}{V_{i}} = \\frac{150-120}{120}\\cdot100\\% = 25\\%$$<br>\n",
    " $$2023 \\rightarrow 2024: \\ I_{23/24} = \\frac{V_{f}-V_{i}}{V_{i}} = \\frac{180-150}{150}\\cdot100\\% = 20\\%$$"
   ]
  },
  {
   "cell_type": "markdown",
   "id": "769f860a",
   "metadata": {
    "heading_collapsed": true,
    "hidden": true
   },
   "source": [
    "###### <font color='blue'> Python:"
   ]
  },
  {
   "cell_type": "code",
   "execution_count": 33,
   "id": "94cc9cea",
   "metadata": {
    "ExecuteTime": {
     "end_time": "2025-01-27T22:17:39.883621Z",
     "start_time": "2025-01-27T22:17:39.875817Z"
    },
    "hidden": true
   },
   "outputs": [
    {
     "name": "stdout",
     "output_type": "stream",
     "text": [
      "A taxada de inflação entre 2022 e 2023 foi de 25.0%.\n",
      "A taxada de inflação entre 2023 e 2024 foi de 20.0%.\n"
     ]
    }
   ],
   "source": [
    "# Preços\n",
    "preco_2022 = 120\n",
    "preco_2023 = 150\n",
    "preco_2024 = 180\n",
    "\n",
    "# Taxas de inflação mensais\n",
    "I_2022_2023 = (preco_2023-preco_2022)/preco_2022*100\n",
    "I_2023_2024 = (preco_2024-preco_2023)/preco_2023*100\n",
    "\n",
    "# Impressão dos resultados\n",
    "print(f'A taxada de inflação entre 2022 e 2023 foi de {I_2022_2023}%.')\n",
    "print(f'A taxada de inflação entre 2023 e 2024 foi de {I_2023_2024}%.')"
   ]
  },
  {
   "cell_type": "markdown",
   "id": "2ff216c9",
   "metadata": {
    "heading_collapsed": true,
    "hidden": true
   },
   "source": [
    "##### <font color='blue'> Solução do item \"b\": </font>"
   ]
  },
  {
   "cell_type": "markdown",
   "id": "2b80eafd",
   "metadata": {
    "hidden": true
   },
   "source": [
    "<font color='blue'> A taxa de inflação no período $2022-2024$ é dada por:<br><br>\n",
    " $$2022 \\rightarrow 2024: \\ I_{22/24} = \\frac{V_{f}-V_{i}}{V_{i}} = \\frac{180-120}{120}\\cdot100\\% = 50\\%$$<br>\n",
    " Observou que a taxa de inflação total é diferente da soma das taxas de inflação? Veremos esse efeito logo mais ao estudarmos juros compostos.    "
   ]
  },
  {
   "cell_type": "markdown",
   "id": "a823b6a1",
   "metadata": {
    "heading_collapsed": true,
    "hidden": true
   },
   "source": [
    "###### <font color='blue'> Python:"
   ]
  },
  {
   "cell_type": "code",
   "execution_count": 34,
   "id": "949e9390",
   "metadata": {
    "ExecuteTime": {
     "end_time": "2025-01-27T22:17:39.893904Z",
     "start_time": "2025-01-27T22:17:39.885613Z"
    },
    "hidden": true
   },
   "outputs": [
    {
     "name": "stdout",
     "output_type": "stream",
     "text": [
      "A taxada de inflação entre 2022 e 2024 foi de 50.0%.\n"
     ]
    }
   ],
   "source": [
    "# Taxa de inflação geral\n",
    "I_2022_2024 = (preco_2024-preco_2022)/preco_2022*100\n",
    "\n",
    "# Impressão do resultado\n",
    "print(f'A taxada de inflação entre 2022 e 2024 foi de {I_2022_2024}%.')"
   ]
  },
  {
   "cell_type": "markdown",
   "id": "bbc63c4f",
   "metadata": {
    "heading_collapsed": true
   },
   "source": [
    "# <a id=\"juros\"></a>3. Juros"
   ]
  },
  {
   "cell_type": "markdown",
   "id": "0b96d260",
   "metadata": {
    "hidden": true
   },
   "source": [
    "<a id=\"juros\"></a><font color='red'> <b> Os juros é o valor pago ou recebido pelo uso do dinheiro durante um período. Pode ser simples ou composto."
   ]
  },
  {
   "cell_type": "markdown",
   "id": "8cde26d0",
   "metadata": {
    "hidden": true
   },
   "source": [
    "<a id=\"pagamento\"></a><font color='red'> <b> O pagamento pelo empréstimo é chamado de **juro** ($J$); a quantia emprestada é chamada de **capital inicial** ($C$); a soma do capital inicial com o juro é chamada de **montante** ($M$); a razão entre o juro e o capital inicial, nessa ordem, num determinado período, é chamada de **taxa de juro** ($i$) nesse período."
   ]
  },
  {
   "cell_type": "markdown",
   "id": "4e8003f5",
   "metadata": {
    "heading_collapsed": true,
    "hidden": true
   },
   "source": [
    "## <a id=\"juros_simples\"></a>3.1 Juros Simples"
   ]
  },
  {
   "cell_type": "markdown",
   "id": "39afd88b",
   "metadata": {
    "hidden": true
   },
   "source": [
    "<a id=\"def_juros_simples\"></a><font color='red'> <b> Juros simples é um regime de capitalização no qual a taxa de juro incide apenas sobre o capital inicial ou a quantia emprestada, permanecendo constante ao longo do tempo."
   ]
  },
  {
   "cell_type": "markdown",
   "id": "36c7730b",
   "metadata": {
    "hidden": true
   },
   "source": [
    "<a id=\"relacao_juros_simples_capital_montante_taxa_tempo\"></a><font color='red'> <b> Um capital $C$, aplicado durante $t$ unidades de tempo a uma taxa de juros simples $i$ (nessa unidade de tempo) tem juros dado pela fórmula:<br><br>\n",
    " $$J = Cit$$\n",
    " e montante dado por:\n",
    " $$M = C + J \\ \\ \\text{ou} \\ \\ M = C(1 + it).$$"
   ]
  },
  {
   "cell_type": "markdown",
   "id": "bde13b83",
   "metadata": {
    "heading_collapsed": true,
    "hidden": true
   },
   "source": [
    "#### <a id=\"exemplo_14\"></a> <font color='blue'> Exemplo 14: </font>"
   ]
  },
  {
   "cell_type": "markdown",
   "id": "3ee30b02",
   "metadata": {
    "hidden": true
   },
   "source": [
    "<font color='blue'> Um capital de $R\\$ \\ 2.400,00$ foi aplicado durante $5$ meses à taxa de juro simples de $2\\%$ ao mês.<br>\n",
    "<font color='blue'> a) Qual foi o juro simples produzido nesse período?<br>\n",
    "<font color='blue'> b) Qual foi o montante acumulado nesse período?"
   ]
  },
  {
   "cell_type": "markdown",
   "id": "6d55a2c8",
   "metadata": {
    "heading_collapsed": true,
    "hidden": true
   },
   "source": [
    "##### <font color='blue'> Solução do item \"a\": </font>"
   ]
  },
  {
   "cell_type": "markdown",
   "id": "2c9a69d2",
   "metadata": {
    "hidden": true
   },
   "source": [
    "<font color='blue'> Temos que $C = 2400$, $t = 5$ e $i = 0.02$. Assim:<br><br>\n",
    " $$J = Cit = 2400\\cdot0.02\\cdot5 = R\\$ \\ 240,00.$$"
   ]
  },
  {
   "cell_type": "markdown",
   "id": "653b5dc2",
   "metadata": {
    "heading_collapsed": true,
    "hidden": true
   },
   "source": [
    "###### <font color='blue'> Python: </font>"
   ]
  },
  {
   "cell_type": "code",
   "execution_count": 35,
   "id": "ac6ac395",
   "metadata": {
    "ExecuteTime": {
     "end_time": "2025-01-27T22:17:39.901183Z",
     "start_time": "2025-01-27T22:17:39.895897Z"
    },
    "hidden": true
   },
   "outputs": [
    {
     "name": "stdout",
     "output_type": "stream",
     "text": [
      "Juros: R$ 240.0\n"
     ]
    }
   ],
   "source": [
    "# Dados\n",
    "C = 2400\n",
    "t = 5\n",
    "i = 0.02\n",
    "\n",
    "# Juros\n",
    "J = C*i*t\n",
    "\n",
    "# Impressão do resultado\n",
    "print(f'Juros: R$ {round(J,2)}')"
   ]
  },
  {
   "cell_type": "markdown",
   "id": "55fe3242",
   "metadata": {
    "heading_collapsed": true,
    "hidden": true
   },
   "source": [
    "##### <font color='blue'> Solução do item \"b\": </font>"
   ]
  },
  {
   "cell_type": "markdown",
   "id": "d9f0bb8f",
   "metadata": {
    "hidden": true
   },
   "source": [
    "<font color='blue'> Temos, simplesmente, que:<br><br>\n",
    " $$M = C + J = 2400 + 240 = R\\$ \\ 2640,00.$$"
   ]
  },
  {
   "cell_type": "markdown",
   "id": "ae11d38c",
   "metadata": {
    "heading_collapsed": true,
    "hidden": true
   },
   "source": [
    "###### <font color='blue'> Python: </font>"
   ]
  },
  {
   "cell_type": "code",
   "execution_count": 36,
   "id": "54eae8bd",
   "metadata": {
    "ExecuteTime": {
     "end_time": "2025-01-27T22:17:39.909354Z",
     "start_time": "2025-01-27T22:17:39.902176Z"
    },
    "hidden": true
   },
   "outputs": [
    {
     "name": "stdout",
     "output_type": "stream",
     "text": [
      "Montante: R$ 2640.0\n"
     ]
    }
   ],
   "source": [
    "# Montante\n",
    "M = C + J\n",
    "\n",
    "# Impressão do resultado\n",
    "print(f'Montante: R$ {round(M,2)}')"
   ]
  },
  {
   "cell_type": "markdown",
   "id": "8560e738",
   "metadata": {
    "heading_collapsed": true,
    "hidden": true
   },
   "source": [
    "#### <a id=\"exemplo_15\"></a> <font color='blue'> Exemplo 15: </font>"
   ]
  },
  {
   "cell_type": "markdown",
   "id": "d221050e",
   "metadata": {
    "hidden": true
   },
   "source": [
    "<font color='blue'> Quantos meses deve-se aplicar um capital de $R\\$ \\ 345,00$ a uma taxa de $2,5\\%$ ao mês para que este triplique de valor? E se tivéssemos um capital de $R\\$ \\ 723,67$, em quanto tempo triplicaria?"
   ]
  },
  {
   "cell_type": "markdown",
   "id": "c9f2e251",
   "metadata": {
    "heading_collapsed": true,
    "hidden": true
   },
   "source": [
    "##### <font color='blue'> Solução: </font>"
   ]
  },
  {
   "cell_type": "markdown",
   "id": "ba57ab5a",
   "metadata": {
    "hidden": true
   },
   "source": [
    "<font color='blue'> Temos que $C = 345$, $i = 2,5 \\ (a.m.)$ e $M = 3\\cdot345$. Assim,<br><br>\n",
    " $$M = C(1 + it) \\Rightarrow 1 + it = \\frac{M}{C} \\Rightarrow it = \\frac{M}{C}-1 \\Rightarrow t = \\frac{\\frac{M}{C}-1}{i} \\Rightarrow$$<br><br>\n",
    " $$t = \\frac{\\frac{3\\cdot345}{345}-1}{0,025} = \\frac{3-1}{0,025} = \\frac{2}{0,025} = 80 \\ \\text{meses}.$$<br>\n",
    " Pode-se notar que o tempo de aplicação independe do capital aplicado uma vez que este foi multiplicado por um fator $k$ (no nosso caso, $k = 3$). De fato,<br><br>\n",
    " $$t = \\frac{\\frac{M}{C}-1}{i} = \\frac{\\frac{k\\cdot C}{C}-1}{i} = \\frac{k-1}{i}.$$<br><br>\n",
    " Dessa forma são necessários os mesmo $80$ meses para que um capital qualquer triplique à taxa de $2,5\\%$ de juros ao mês."
   ]
  },
  {
   "cell_type": "markdown",
   "id": "326d8937",
   "metadata": {
    "heading_collapsed": true,
    "hidden": true
   },
   "source": [
    "###### <font color='blue'> Python: </font>"
   ]
  },
  {
   "cell_type": "code",
   "execution_count": 37,
   "id": "a7281466",
   "metadata": {
    "ExecuteTime": {
     "end_time": "2025-01-27T22:17:39.918319Z",
     "start_time": "2025-01-27T22:17:39.910349Z"
    },
    "hidden": true
   },
   "outputs": [
    {
     "name": "stdout",
     "output_type": "stream",
     "text": [
      "Serão necessários 5 meses para que um capital de R$ 345 triplique a uma taxa de 2.5% ao mês.\n"
     ]
    }
   ],
   "source": [
    "# Dados\n",
    "C = 345\n",
    "i = 0.025\n",
    "M = 3*C\n",
    "\n",
    "# Quantidade de meses\n",
    "t_m = (M/C - 1)/i\n",
    "\n",
    "# Impressão do resultado\n",
    "print(f'Serão necessários {t} meses para que um capital de R$ {C} \\\n",
    "triplique a uma taxa de {i*100}% ao mês.')"
   ]
  },
  {
   "cell_type": "markdown",
   "id": "c01622aa",
   "metadata": {
    "heading_collapsed": true,
    "hidden": true
   },
   "source": [
    "### <a id=\"taxas_equivalentes_juros_simples\"></a>3.1.1 Taxas Equivalentes em Juros Simples"
   ]
  },
  {
   "cell_type": "markdown",
   "id": "d9205433",
   "metadata": {
    "hidden": true
   },
   "source": [
    "<a id=\"taxas_equivalentes_juros_simples\"></a>  <font color='red'> <b> Quando duas taxas percentuais $i_{1}$ e $i_{2}$, em unidades de tempo diferentes, são aplicadas ao mesmo capital inicial durante um mesmo período, e produzem juros iguais, dizemos que essas taxas são equivalentes."
   ]
  },
  {
   "cell_type": "markdown",
   "id": "09ea5861",
   "metadata": {
    "hidden": true
   },
   "source": [
    "$$M = C(1 + i_{n}t_{n}) \\quad \\text{e} \\quad M = C(1 + i_{m}t_{m}) \\Rightarrow \\frac{M}{C} = 1 + i_{n}t_{n} \\quad \\text{e} \\quad \\frac{M}{C} = 1 + i_{m}t_{m} \\Rightarrow$$\n",
    "\n",
    "$$\\Rightarrow 1 + i_{n}t_{n} = 1 + i_{m}t_{m} \\Rightarrow i_{n}t_{n} = i_{m}t_{m} \\Rightarrow \\frac{i_{n}}{i_{m}} = \\frac{t_{m}}{t_{n}} \\quad \\text{ou} \\quad \\frac{i_{n}}{i_{m}} = k$$\n",
    "\n",
    "em que $k$ é a razão entre dois números inteiros positivos que correspondem às unidades de tempo de cada operação."
   ]
  },
  {
   "cell_type": "markdown",
   "id": "7fde98d0",
   "metadata": {
    "hidden": true
   },
   "source": [
    "<a id=\"relacao_taxas_equivalentes\"></a><font color='red'> <b> A relação entre as taxas equivalentes, no regime de juros compostos, pode ser expressa pela relação:<br><br>\n",
    " $$\\frac{i_{n}}{i_{m}} = k$$<br>\n",
    "em que:<br><br>\n",
    "  <font color='red'>- $i_{n}$: taxa em um período maior (exemplo: anual);<br>\n",
    "  <font color='red'>- $i_{m}$: taxa em um período menor (exemplo: mensal)."
   ]
  },
  {
   "cell_type": "markdown",
   "id": "fb646dc3",
   "metadata": {
    "ExecuteTime": {
     "end_time": "2025-01-13T20:46:04.538866Z",
     "start_time": "2025-01-13T20:46:04.535068Z"
    },
    "heading_collapsed": true,
    "hidden": true
   },
   "source": [
    "#### <a id=\"exemplo_16\"></a> <font color='blue'> Exemplo 16: </font>"
   ]
  },
  {
   "cell_type": "markdown",
   "id": "7f783184",
   "metadata": {
    "hidden": true
   },
   "source": [
    "<font color='blue'> Uma aplicação de $R\\$ \\ 5000,00$ resultou, após três anos, em um moentante de $R\\$ \\ 8000,00$ sob o regime de juros simples. Determine as taxas de juros anual e mensal dessa aplicação."
   ]
  },
  {
   "cell_type": "markdown",
   "id": "971a46f1",
   "metadata": {
    "heading_collapsed": true,
    "hidden": true
   },
   "source": [
    "##### <font color='blue'> Solução: </font>"
   ]
  },
  {
   "cell_type": "markdown",
   "id": "5037ff7d",
   "metadata": {
    "hidden": true
   },
   "source": [
    "<font color='blue'> Considerando um aplicação com atualização anual, temos que $C = 5000$, $t = 3$ e $M = 8000$. Dessa forma:<br><br>\n",
    " $$M = C(1 + it) \\Rightarrow 1 + it = \\frac{M}{C} \\Rightarrow it = \\frac{M}{C} - 1 \\Rightarrow i = \\frac{\\frac{M}{C} - 1}{t} \\Rightarrow$$<br><br>\n",
    " $$\\Rightarrow i_{a} = \\frac{\\frac{8600}{5000}-1}{3} = \\frac{1,72-1}{3} = \\frac{0,72}{3} = 0,24 = 24\\% \\ a.a.$$<br>\n",
    " A conversão da taxa anual para a taxa mensal pode ser feita dividindo-se a taxa anual por $12$ (correspondente ao número de meses de um ano), isto é:<br><br>\n",
    " $$i_{m} = \\frac{i_{a}}{12} = \\frac{24}{12} = 2\\% \\ a.m.$$"
   ]
  },
  {
   "cell_type": "markdown",
   "id": "7b43c434",
   "metadata": {
    "heading_collapsed": true,
    "hidden": true
   },
   "source": [
    "###### <font color='blue'> Python: </font>"
   ]
  },
  {
   "cell_type": "code",
   "execution_count": 38,
   "id": "8b27f2d2",
   "metadata": {
    "ExecuteTime": {
     "end_time": "2025-01-27T22:17:39.927117Z",
     "start_time": "2025-01-27T22:17:39.922304Z"
    },
    "hidden": true
   },
   "outputs": [
    {
     "name": "stdout",
     "output_type": "stream",
     "text": [
      "A taxa anual da aplicação foi 24.0%.\n",
      "A taxa mensal da aplicação foi 2.0%.\n"
     ]
    }
   ],
   "source": [
    "# Dados\n",
    "C = 5000\n",
    "t = 3\n",
    "M = 8600\n",
    "\n",
    "# Taxas anual e mensal\n",
    "i_a = (M/C - 1)/t\n",
    "i_m = i_a/12\n",
    "\n",
    "# Impressão dos resultados\n",
    "print(f'A taxa anual da aplicação foi {round(i_a*100,5)}%.')\n",
    "print(f'A taxa mensal da aplicação foi {round(i_m*100,5)}%.')"
   ]
  },
  {
   "cell_type": "markdown",
   "id": "bc9197fb",
   "metadata": {
    "heading_collapsed": true,
    "hidden": true
   },
   "source": [
    "## <a id=\"juros_compostos\"></a>3.2 Juros Compostos"
   ]
  },
  {
   "cell_type": "markdown",
   "id": "91005469",
   "metadata": {
    "hidden": true
   },
   "source": [
    "<a id=\"def_juros_compostos\"></a> <font color='red'> <b> Juros compostos são um regime de capitalização no qual a taxa de juro incide não apenas sobre o capital inicial, mas também sobre os juros acumulados ao longo do tempo, resultando em um crescimento exponencial do montante."
   ]
  },
  {
   "cell_type": "markdown",
   "id": "981aa574",
   "metadata": {
    "hidden": true
   },
   "source": [
    "<a id=\"relacao_juros_compostos_compostos_capital_montante_taxa_tempo\"></a> <font color='red'> <b> Um capital $C$, aplicado durante $t$ unidades de tempo a uma taxa de juros compostos $i$ (nessa unidade de tempo) tem montante dado pela fórmula:<br><br>\n",
    " $$M = C(1+i)^{t}$$\n",
    " e juro dado por:\n",
    " $$J = M - C \\ \\ \\text{ou} \\ \\ J = C((1+i)^{t}-1).$$"
   ]
  },
  {
   "cell_type": "markdown",
   "id": "9838804a",
   "metadata": {
    "heading_collapsed": true,
    "hidden": true
   },
   "source": [
    "#### <a id=\"exemplo_17\"></a> <font color='blue'> Exemplo 17: </font>"
   ]
  },
  {
   "cell_type": "markdown",
   "id": "a22932b4",
   "metadata": {
    "hidden": true
   },
   "source": [
    "<font color='blue'> Um capital de $R\\$ \\ 1.000,00$ foi aplicado durante $3$ meses à taxa de juro simples de $10\\%$ ao mês.<br>\n",
    "<font color='blue'> a) Determine o montante obtido.<br>\n",
    "<font color='blue'> b) Determine o montante e o juros mês a mês ao longo dos três meses."
   ]
  },
  {
   "cell_type": "markdown",
   "id": "11d19ac7",
   "metadata": {
    "heading_collapsed": true,
    "hidden": true
   },
   "source": [
    "##### <font color='blue'> Solução do item \"a\": </font>"
   ]
  },
  {
   "cell_type": "markdown",
   "id": "c3bf8890",
   "metadata": {
    "hidden": true
   },
   "source": [
    "<font color='blue'> Temos que $C = 1000$, $t = 3$ e $i = 0,1$. Assim,<br><br>\n",
    " $$M = C(1+i)^{t} = 1000(1+0,1)^{3} = 1000\\cdot1,1^{3} = 1000\\cdot1,331 = R\\$ \\ 1331,00$$"
   ]
  },
  {
   "cell_type": "markdown",
   "id": "b847859c",
   "metadata": {
    "heading_collapsed": true,
    "hidden": true
   },
   "source": [
    "###### <font color='blue'> Python: </font>"
   ]
  },
  {
   "cell_type": "code",
   "execution_count": 39,
   "id": "8960ab5b",
   "metadata": {
    "ExecuteTime": {
     "end_time": "2025-01-27T22:17:39.936888Z",
     "start_time": "2025-01-27T22:17:39.928111Z"
    },
    "hidden": true
   },
   "outputs": [
    {
     "name": "stdout",
     "output_type": "stream",
     "text": [
      "Montante: 1331.0\n"
     ]
    }
   ],
   "source": [
    "# Dados\n",
    "C = 1000\n",
    "t = 3\n",
    "i = 0.1\n",
    "\n",
    "# Montante\n",
    "M = C*(1+i)**t\n",
    "\n",
    "# Impressão do resultado\n",
    "print(f'Montante: {round(M,2)}')"
   ]
  },
  {
   "cell_type": "markdown",
   "id": "ebcdf15b",
   "metadata": {
    "heading_collapsed": true,
    "hidden": true
   },
   "source": [
    "##### <font color='blue'> Solução do item \"b\": </font>"
   ]
  },
  {
   "cell_type": "markdown",
   "id": "40ff5bb2",
   "metadata": {
    "hidden": true
   },
   "source": [
    "<font color='blue'> Devemos calcular o montante mês a mês e descontar o mês anterior:<br><br>\n",
    " $$M_{1} = 1000(1+0,1)^{1} = 1100 \\Rightarrow J_{1} = M_{1}-C_{1} = 1100-1000 = R\\$ \\ 100,00$$<br>\n",
    " $$M_{2} = 1000(1+0,1)^{2} = 1210 \\Rightarrow J_{2} = M_{2}-M_{1} = 1210-1100 = R\\$ \\ 110,00$$<br>\n",
    " $$M_{3} = 1000(1+0,1)^{3} = 1331 \\Rightarrow J_{3} = M_{3}-M_{2} = 1331-1210 = R\\$ \\ 121,00$$<br>\n",
    " Pode-se notar que os juros aumentão cada vez mais à medida que o tempo passa!"
   ]
  },
  {
   "cell_type": "markdown",
   "id": "ce8e31bc",
   "metadata": {
    "heading_collapsed": true,
    "hidden": true
   },
   "source": [
    "###### <font color='blue'> Python: </font>"
   ]
  },
  {
   "cell_type": "code",
   "execution_count": 3,
   "id": "58c839a4",
   "metadata": {
    "ExecuteTime": {
     "end_time": "2025-01-27T22:28:34.288066Z",
     "start_time": "2025-01-27T22:28:34.283365Z"
    },
    "hidden": true
   },
   "outputs": [
    {
     "name": "stdout",
     "output_type": "stream",
     "text": [
      "Mês 1\n",
      "Montante: R$ 1100.0.\n",
      "Juros: R$ 100.0.\n",
      "---\n",
      "Mês 2\n",
      "Montante: R$ 1210.0.\n",
      "Juros: R$ 110.0.\n",
      "---\n",
      "Mês 3\n",
      "Montante: R$ 1331.0.\n",
      "Juros: R$ 121.0.\n",
      "---\n"
     ]
    }
   ],
   "source": [
    "# Dados\n",
    "C = 1000\n",
    "i = 0.1\n",
    "J = 0 # Juro incial nulo\n",
    "\n",
    "\n",
    "# Cálculo dos montantes e impressão dos resultados\n",
    "for t in range(1,4): # t varia de 1 a 3\n",
    "    M = C*(1 + i)**t\n",
    "    J = C*((1 + i)**t-1) - C*((1 + i)**(t-1)-1)\n",
    "    print(f'Mês {t}')\n",
    "    print(f'Montante: R$ {round(M,2)}.')\n",
    "    print(f'Juros: R$ {round(J,2)}.')\n",
    "    print('---')"
   ]
  },
  {
   "cell_type": "markdown",
   "id": "d08a6414",
   "metadata": {
    "heading_collapsed": true,
    "hidden": true
   },
   "source": [
    "#### <a id=\"efeito_bola_de_neve\"></a>Efeito bola de neve"
   ]
  },
  {
   "cell_type": "markdown",
   "id": "9e97113a",
   "metadata": {
    "hidden": true
   },
   "source": [
    "<center> <img src=\"img_apostila\\snowball_effect.gif\" alt=\"gif_python\" width=\"200\"> </center>"
   ]
  },
  {
   "cell_type": "markdown",
   "id": "d885200b",
   "metadata": {
    "hidden": true
   },
   "source": [
    "É bastante comum que pessoas fiquem endividadas por compras no cartão de crédito, principalemente em compra feitas antes de $2024$. Isso se deve a alguns fatores dos quais destacamos:\n",
    "\n",
    "- As altas taxas de juros\n",
    "- Regime de juros compostos\n",
    "\n",
    "Para ilustrar essa situação imagine que você pegue emprestado a juros de $1\\% \\ a.m.$ $R\\$ \\ 1000,00$ e se esqueça desse emprétimo por $5$ anos ($60$ meses). Sua dívida será, passados $5$ anos:<span style=\"font-size: 30px;\">🖩</span>\n",
    "\n",
    "$$M = 1000(1+0.01)^{60} \\approx R\\$ \\ 1816,70 $$\n",
    "\n",
    "Dessa forma, você pagará, ao final de $5$ anos $R\\$ \\ 816,70$ de juros. Note que a dívida aumentou algo em torno de $81,167\\%$ em relação ao valor inicial. Não é muito para um período tão longo.\n",
    "\n",
    "Vamos imaginar uma taxa de $5\\%$. O que muitas vezes esperamos, por não saber matemática financeira, é um juro em torno de $R\\$ \\ 4000,00$ ($5$ vezes maior seguindo o fator de aumento da taxa). Pois bem, vejamos: <span style=\"font-size: 30px;\">🖩</span>\n",
    "\n",
    "$$M = 1000(1+0.05)^{60} \\approx 18679,19$$\n",
    "\n",
    "Dessa forma você pagará, ao final de $5$ anos $R\\$ \\ 17679,19$. Dessa forma a dívida aumentou quase $18$ vezes em relação ao valor tomado incialmente.\n",
    "\n",
    "Dessa forma, taxas grandes provocam efeitos muito maiores ao longo do tempo."
   ]
  },
  {
   "cell_type": "markdown",
   "id": "7fc7366c",
   "metadata": {
    "ExecuteTime": {
     "end_time": "2025-01-20T13:41:12.393404Z",
     "start_time": "2025-01-20T13:41:12.389859Z"
    },
    "hidden": true
   },
   "source": [
    "###### Python\": </font>"
   ]
  },
  {
   "cell_type": "code",
   "execution_count": 42,
   "id": "09f2d7a8",
   "metadata": {
    "ExecuteTime": {
     "end_time": "2025-01-27T22:17:39.964080Z",
     "start_time": "2025-01-27T22:17:39.956749Z"
    },
    "hidden": true
   },
   "outputs": [
    {
     "name": "stdout",
     "output_type": "stream",
     "text": [
      "Dívida após 60 meses: R$ 1816.7.\n"
     ]
    }
   ],
   "source": [
    "# Dados\n",
    "C = 1000\n",
    "t = 60\n",
    "i = 0.01\n",
    "\n",
    "# Montante\n",
    "M = C*(1+i)**t\n",
    "\n",
    "# Impressão do resultado\n",
    "print(f'Dívida após {t} meses: R$ {round(M,2)}.')"
   ]
  },
  {
   "cell_type": "markdown",
   "id": "5b1fae22",
   "metadata": {
    "hidden": true
   },
   "source": [
    "Faça os testes com taxas do cartão de crédito! Algumas chegam a até incríveis $15\\%$ ao mês."
   ]
  },
  {
   "cell_type": "markdown",
   "id": "6ebcae1b",
   "metadata": {
    "hidden": true
   },
   "source": [
    "Atualmente existe um teto de juros do cartão de crédito no qual uma dívida não pode crescer além de $100\\%$ de seu valor. Para mais detalhes acesse: [Novo teto de juros do cartão de crédito passa a valer a partir desta quarta](https://www.gov.br/secom/pt-br/assuntos/noticias/2024/01/novo-teto-de-juros-do-cartao-de-credito-passa-a-valer-a-partir-desta-quarta)"
   ]
  },
  {
   "cell_type": "markdown",
   "id": "cf4922ed",
   "metadata": {
    "heading_collapsed": true,
    "hidden": true
   },
   "source": [
    "#### <a id=\"exemplo_18\"></a> <font color='blue'> Exemplo 18: </font>"
   ]
  },
  {
   "cell_type": "markdown",
   "id": "e114375b",
   "metadata": {
    "hidden": true
   },
   "source": [
    "<font color='blue'> <span style=\"font-size: 30px;\">🖩</span> Determine a taxa mensal de juros compostos que deve incidir sobre um capital de $R\\$ \\ 12000,00$ para gerar um montante de $R\\$ \\ 19326,12$ após $5$ meses. "
   ]
  },
  {
   "cell_type": "markdown",
   "id": "f8a60dbc",
   "metadata": {
    "heading_collapsed": true,
    "hidden": true
   },
   "source": [
    "##### <font color='blue'> Solução: </font>"
   ]
  },
  {
   "cell_type": "markdown",
   "id": "058825ee",
   "metadata": {
    "hidden": true
   },
   "source": [
    "<font color='blue'> Temos que $C = 1200$, $M = 19326,12$ e $t = 5$. Assim,<br><br>\n",
    " $$M = C(1 + i)^{t} \\Rightarrow (1+i)^{t} = \\frac{M}{C} \\Rightarrow 1 + i = \\sqrt[\\Large t]{\\frac{M}{C}} \\Rightarrow i = \\sqrt[\\Large t]{\\frac{M}{C}} - 1 \\Rightarrow $$<br>\n",
    " $$\\Rightarrow i = \\sqrt[5]{\\frac{19326,12}{12000}}-1 = \\sqrt[5]{1,61051} - 1 = 1,1 - 1 = 0,1 = 10\\% \\ a.m.$$"
   ]
  },
  {
   "cell_type": "markdown",
   "id": "d910742b",
   "metadata": {
    "hidden": true
   },
   "source": [
    "<font color='red'> Nova fórmula que você não precisa decorar!<br><br>\n",
    " $$i = \\sqrt[\\Large t]{\\frac{M}{C}} - 1$$"
   ]
  },
  {
   "cell_type": "markdown",
   "id": "246abb90",
   "metadata": {
    "heading_collapsed": true,
    "hidden": true
   },
   "source": [
    "###### <font color='blue'> Python: </font>"
   ]
  },
  {
   "cell_type": "code",
   "execution_count": 43,
   "id": "6fa7d2cc",
   "metadata": {
    "ExecuteTime": {
     "end_time": "2025-01-27T22:17:39.974007Z",
     "start_time": "2025-01-27T22:17:39.965072Z"
    },
    "hidden": true
   },
   "outputs": [
    {
     "name": "stdout",
     "output_type": "stream",
     "text": [
      "Taxa: 10.0% a.m.\n"
     ]
    }
   ],
   "source": [
    "# Dados\n",
    "C = 12000\n",
    "M = 19326.12\n",
    "t = 5\n",
    "\n",
    "# Taxa Mensal\n",
    "i = (M/C)**(1/5)-1\n",
    "\n",
    "# Impressão do resultado\n",
    "print(f'Taxa: {round(i,4)*100}% a.m.')"
   ]
  },
  {
   "cell_type": "markdown",
   "id": "f6811e4a",
   "metadata": {
    "heading_collapsed": true,
    "hidden": true
   },
   "source": [
    "#### <a id=\"formulas_exponenciais_e_logaritmos\"></a> Fórmulas e relações de exponenciais e logaritmos importantes"
   ]
  },
  {
   "cell_type": "markdown",
   "id": "15bffccd",
   "metadata": {
    "hidden": true
   },
   "source": [
    "Respeitando as condições de existência, apresentamos as seguintes fórmulas, que serão úteis nos conteúdos a seguir:\n",
    "\n",
    "<font color='red'> 1. $(a^{r})^{s} = a^{rs}$<br>\n",
    "<font color='red'> 2. $a^{\\frac{1}{r}} = \\sqrt[r]{a} \\quad \\text{e} \\quad a^{\\frac{s}{r}} = \\sqrt[r]{a^{s}}$<br>\n",
    "<font color='red'> 3. $a^{\\frac{s}{r}} = \\sqrt[r]{a^{s}}$<br>\n",
    "<font color='red'> 4. $a^{r} = b^{s} \\Rightarrow a = b^{\\frac{r}{s}}$<br>\n",
    "<font color='red'> 5. $log_{10}(r^{s}) = slog_{10}(r)$<br>\n",
    "<font color='red'> 6. $a = b \\Rightarrow  log_{10}(r) = log_{10}(s)$\n",
    "\n",
    "Todas ou algumas dessas fórmulas serão utilizadas nos exemplos a seguir. Além disso, outras fórmulas podem ser acrescentadas, caso necessário."
   ]
  },
  {
   "cell_type": "markdown",
   "id": "1646d18a",
   "metadata": {
    "heading_collapsed": true,
    "hidden": true
   },
   "source": [
    "#### <a id=\"exemplo_19\"></a> <font color='blue'> Exemplo 19: </font>"
   ]
  },
  {
   "cell_type": "markdown",
   "id": "59019b20",
   "metadata": {
    "hidden": true
   },
   "source": [
    "<font color='blue'> <span style=\"font-size: 30px;\">🖩</span> Quanto tempo um capital de $R\\$ \\ 150,00$ precisa ficar aplicado à taxa de juros compostos de $2\\%$ ao mês para que este dobre de valor?"
   ]
  },
  {
   "cell_type": "markdown",
   "id": "c3ad4166",
   "metadata": {
    "heading_collapsed": true,
    "hidden": true
   },
   "source": [
    "##### <font color='blue'> Solução: </font>"
   ]
  },
  {
   "cell_type": "markdown",
   "id": "4d225437",
   "metadata": {
    "hidden": true
   },
   "source": [
    "<font color='blue'> Temos que $C = 150$, $M = 300$ e $i = 0.02$. Assim,<br><br>\n",
    " $$M = C(1 + i)^{t} \\Rightarrow (1+i)^{t} = \\frac{M}{C} \\Rightarrow log_{10}\\left((1+i)^{t}\\right) = log_{10}\\left(\\frac{M}{C}\\right) \\Rightarrow $$<br>\n",
    " $$\\Rightarrow tlog_{10}(1+i) = log_{10}\\left(\\frac{M}{C}\\right) \\Rightarrow t = \\frac{log_{10}\\left(\\frac{M}{C}\\right)}{log_{10}(1+i)} \\Rightarrow  $$\n",
    " $$\\Rightarrow t = \\frac{log_{10}\\left(\\frac{300}{150}\\right)}{log_{10}(1+0.02)} = \\frac{log_{10} 2}{log_{10}1.02}^{[1]} = \\frac{0.301029995664}{0.00860017176192} = 35.002788781 \\Rightarrow t = 36 \\ {meses}$$<br>\n",
    " Note que arredondamos para cima devido ao fato de o dinheiro não ter dobrado, embora praticamente o tenha."
   ]
  },
  {
   "cell_type": "markdown",
   "id": "0e132968",
   "metadata": {
    "hidden": true
   },
   "source": [
    "<font color='red'> Nova fórmula que você não precisa decorar!<br><br>\n",
    " $$t = \\frac{log_{10}\\left(\\frac{M}{C}\\right)}{log_{10}(1+i)}$$"
   ]
  },
  {
   "cell_type": "markdown",
   "id": "1a1d048d",
   "metadata": {
    "heading_collapsed": true,
    "hidden": true
   },
   "source": [
    "###### <font color='blue'> Python: </font>"
   ]
  },
  {
   "cell_type": "code",
   "execution_count": 44,
   "id": "29f5bfe1",
   "metadata": {
    "ExecuteTime": {
     "end_time": "2025-01-27T22:17:39.985245Z",
     "start_time": "2025-01-27T22:17:39.975999Z"
    },
    "hidden": true,
    "scrolled": true
   },
   "outputs": [
    {
     "name": "stdout",
     "output_type": "stream",
     "text": [
      "Duração da Aplicação: 36 meses. (Arredondamento para cima.)\n",
      "Duração da Aplicação: 35.0 meses. (Arredondamento padrão.)\n"
     ]
    }
   ],
   "source": [
    "import numpy as np\n",
    "import math as mt\n",
    "\n",
    "# Dados\n",
    "C = 150\n",
    "M = 300\n",
    "i = 0.02\n",
    "\n",
    "# Duração da aplicação\n",
    "t = (np.log10(M/C))/(np.log10(1+i))\n",
    "\n",
    "# Impressão do resultado\n",
    "print(f'Duração da Aplicação: {mt.ceil(t)} meses. (Arredondamento para cima.)')\n",
    "print(f'Duração da Aplicação: {round(t,0)} meses. (Arredondamento padrão.)')"
   ]
  },
  {
   "cell_type": "markdown",
   "id": "f701ab59",
   "metadata": {
    "heading_collapsed": true,
    "hidden": true
   },
   "source": [
    "### <a id=\"taxas_equivalentes_juros_compostas\"></a>3.2.1 Taxas Equivalentes em Juros Compostos"
   ]
  },
  {
   "cell_type": "markdown",
   "id": "9ea3da89",
   "metadata": {
    "hidden": true
   },
   "source": [
    "A definição de taxas equivalentes segue a mesma ideia tratada em juros simples [Taxas Equivalentes em Juros Simples](#taxas_equivalentes_juros_simples). Contudo, em termos de fórmulas temos algumas mudanças quando estamos no regime de juros compostos."
   ]
  },
  {
   "cell_type": "markdown",
   "id": "45cec112",
   "metadata": {
    "hidden": true
   },
   "source": [
    "<a id=\"deducao321a\"> </a> $$M = C(1 + i_{n})^{t_{n}} \\quad \\text{e} \\quad M = C(1 + i_{m})^{t_{m}} \\Rightarrow \\frac{M}{C} = (1 + i_{n})^{t_{n}} \\quad \\text{e} \\quad \\frac{M}{C} = (1 + i_{m})^{t_{m}} \\Rightarrow$$\n",
    "\n",
    "$$\\Rightarrow (1 + i_{n})^{t_{n}} = (1 + i_{m})^{t_{m}} \\Rightarrow 1 + i_{n} = (1 + i_{m})^{\\frac{t_{m}}{t_{n}}} \\Rightarrow i_{n} = (1 + i_{m})^{\\frac{t_{m}}{t_{n}}} - 1$$"
   ]
  },
  {
   "cell_type": "markdown",
   "id": "dd918349",
   "metadata": {
    "hidden": true
   },
   "source": [
    "<a id=\"relacao_taxas_compostas_equivalentes\"></a><font color='red'> <b> A relação entre as taxas equivalentes pode ser expressa pela proporção:<br><br>\n",
    " $$i_{n} = (1 + i_{m})^{\\frac{t_{m}}{t_{n}}} - 1$$<br>\n",
    "em que:<br><br>\n",
    " <font color='red'>- $i_{n}$: taxa correspondente ao período maior (exemplo: anual);<br>\n",
    " <font color='red'>- $i_{m}$: taxa correspondente ao período menor (exemplo: mensal);<br>\n",
    " <font color='red'>- $\\frac{t_{m}}{t_{n}}$: razão entre os tempos, representando o número de períodos menores contidos no maior.  "
   ]
  },
  {
   "cell_type": "markdown",
   "id": "cae9c2ce",
   "metadata": {
    "heading_collapsed": true,
    "hidden": true
   },
   "source": [
    "#### <a id=\"exemplo_20\"></a> <font color='blue'> Exemplo 20: </font>"
   ]
  },
  {
   "cell_type": "markdown",
   "id": "1ce72fcc",
   "metadata": {
    "hidden": true
   },
   "source": [
    "<font color='blue'> <span style=\"font-size: 30px;\">🖩</span> Uma aplicação de $R\\$ 1.000,00$ gera certo montante quando aplicada a juros compostos de $4\\% \\ a.m.$ durante um ano. Determine as taxas equivalentes para os seguintes intervalos de capitalização, de modo que o montante ao final do período de um ano seja o mesmo:<br>\n",
    "<font color='blue'> a)Trimestrais<br>\n",
    "<font color='blue'> b)Semestrais  "
   ]
  },
  {
   "cell_type": "markdown",
   "id": "becfdf02",
   "metadata": {
    "heading_collapsed": true,
    "hidden": true
   },
   "source": [
    "##### <font color='blue'> Solução do item \"a\": </font>"
   ]
  },
  {
   "cell_type": "markdown",
   "id": "0e0a9149",
   "metadata": {
    "hidden": true
   },
   "source": [
    "<font color='blue'>Temos que $C = 1000$, $i = 0.04$ $a.m.$ e $t_{m} = 12$ meses. Note que a conversão de taxas em situações que um mesmo capital gera o mesmo montante independe tanto do capital quando do montate gerado conforme a [dedução anterior](#deducao321a)."
   ]
  },
  {
   "cell_type": "markdown",
   "id": "e7695272",
   "metadata": {
    "hidden": true
   },
   "source": [
    "<font color='blue'> Considerando $i_{t}$ como sendo a taxa trimestral, temos:<br><br>\n",
    " $$i_{t} = (1 + i_{m})^{\\frac{t_{m}}{t_{t}}} - 1 = (1 + 0.04)^{\\frac{12}{4}} - 1 = 1.04^{3} - 1 = 0.124864 \\approx 12.49\\% \\ a.t.$$"
   ]
  },
  {
   "cell_type": "markdown",
   "id": "e65150a4",
   "metadata": {
    "heading_collapsed": true,
    "hidden": true
   },
   "source": [
    "###### <font color='blue'> Python: </font>"
   ]
  },
  {
   "cell_type": "code",
   "execution_count": 45,
   "id": "5626f208",
   "metadata": {
    "ExecuteTime": {
     "end_time": "2025-01-27T22:17:39.995162Z",
     "start_time": "2025-01-27T22:17:39.986240Z"
    },
    "hidden": true
   },
   "outputs": [
    {
     "name": "stdout",
     "output_type": "stream",
     "text": [
      "Taxa trimestral: 12.49%\n"
     ]
    }
   ],
   "source": [
    "import numpy as np\n",
    "import math as mt\n",
    "\n",
    "# Dados\n",
    "i_m = 0.04 # Taxa de juros mensal\n",
    "t_m = 12 #Número de meses\n",
    "t_t = 4 #Número de trimestres em 12 meses\n",
    "\n",
    "# Taxa trimestral equivalente\n",
    "i_t = (1+i_m)**(t_m/t_t)-1\n",
    "\n",
    "# Impressão do resultado\n",
    "print(f'Taxa trimestral: {round(i_t*100,2)}%')"
   ]
  },
  {
   "cell_type": "markdown",
   "id": "9613f41d",
   "metadata": {
    "heading_collapsed": true,
    "hidden": true
   },
   "source": [
    "##### <font color='blue'> Solução do item \"b\": </font>"
   ]
  },
  {
   "cell_type": "markdown",
   "id": "bea8d92a",
   "metadata": {
    "hidden": true
   },
   "source": [
    "<font color='blue'> Considerando $i_{s}$ como sendo a taxa semestral, temos:<br><br>\n",
    " $$i_{s} = (1 + i_{m})^{\\frac{t_{m}}{t_{s}}} - 1 = (1 + 0.04)^{\\frac{12}{2}} - 1 = 1.04^{4} - 1 =  0.2653190185 \\approx 26.53\\% \\ a.s.$$"
   ]
  },
  {
   "cell_type": "markdown",
   "id": "6528e2ff",
   "metadata": {
    "heading_collapsed": true,
    "hidden": true
   },
   "source": [
    "###### <font color='blue'> Python: </font>"
   ]
  },
  {
   "cell_type": "code",
   "execution_count": 46,
   "id": "42d798a1",
   "metadata": {
    "ExecuteTime": {
     "end_time": "2025-01-27T22:17:40.005006Z",
     "start_time": "2025-01-27T22:17:39.996159Z"
    },
    "code_folding": [],
    "hidden": true
   },
   "outputs": [
    {
     "name": "stdout",
     "output_type": "stream",
     "text": [
      "Taxa semestral: 26.53%\n"
     ]
    }
   ],
   "source": [
    "# Dados\n",
    "i_m = 0.04 # Taxa de juros mensal\n",
    "t_m = 12 #Número de meses\n",
    "t_s = 2 #Número de semestres em 12 meses\n",
    "\n",
    "# Taxa trimestral equivalente\n",
    "i_s = (1+i_m)**(t_m/t_s)-1\n",
    "\n",
    "# Impressão do resultado\n",
    "print(f'Taxa semestral: {round(i_s*100,2)}%')"
   ]
  },
  {
   "cell_type": "markdown",
   "id": "cc9949f9",
   "metadata": {
    "heading_collapsed": true,
    "hidden": true
   },
   "source": [
    "#### <a id=\"exemplo_21\"></a> <font color='blue'> Exemplo 21: </font>"
   ]
  },
  {
   "cell_type": "markdown",
   "id": "cdf010b4",
   "metadata": {
    "hidden": true
   },
   "source": [
    "<font color='blue'> <span style=\"font-size: 30px;\">🖩</span> Determine as taxas equivalentes solicitadas:<br>\n",
    " a) $3\\%$ ao mês para capitalização anual.<br>\n",
    " b) $20\\%$ ao ano para capitalização semestral.<br>\n",
    " c) $10\\%$ ao trimestre para capitalização quadrimestral."
   ]
  },
  {
   "cell_type": "markdown",
   "id": "142f8154",
   "metadata": {
    "heading_collapsed": true,
    "hidden": true
   },
   "source": [
    "##### <font color='blue'> Solução do item \"a\": </font>"
   ]
  },
  {
   "cell_type": "markdown",
   "id": "84bd0588",
   "metadata": {
    "hidden": true
   },
   "source": [
    "<font color='blue'> Temos que $i_{m} = 0.03$, $t_{m} = 12$, $t_{a} = 1$ ($12$ meses em $1$ ano). Assim,<br><br>\n",
    " $$i_{a} = (1+i_{m})^{\\frac{t_{m}}{t_{a}}} = (1 + 0.03)^{\\frac{12}{1}} = 1.03^{12} = 0.42576088685 \\approx 42.58\\% \\ a.a.$$<br>\n",
    " *$3\\%$ é tão baixinha ao mês*!!!!"
   ]
  },
  {
   "cell_type": "markdown",
   "id": "ffb56c5e",
   "metadata": {
    "heading_collapsed": true,
    "hidden": true
   },
   "source": [
    "###### <font color='blue'> Python: </font>"
   ]
  },
  {
   "cell_type": "code",
   "execution_count": 47,
   "id": "440a2f07",
   "metadata": {
    "ExecuteTime": {
     "end_time": "2025-01-27T22:17:40.014688Z",
     "start_time": "2025-01-27T22:17:40.005999Z"
    },
    "hidden": true
   },
   "outputs": [
    {
     "name": "stdout",
     "output_type": "stream",
     "text": [
      "Taxa anual: 42.58%\n"
     ]
    }
   ],
   "source": [
    "# Dados\n",
    "i_m = 0.03 # Taxa de juros mensal\n",
    "t_m = 12 # Número de meses em um ano\n",
    "t_a = 1 # Número de anos na quatidade de doze meses\n",
    "\n",
    "# Taxa trimestral equivalente\n",
    "i_a = (1+i_m)**(t_m/t_a)-1\n",
    "\n",
    "# Impressão do resultado\n",
    "print(f'Taxa anual: {round(i_a*100,2)}%')"
   ]
  },
  {
   "cell_type": "markdown",
   "id": "bfbe6ed7",
   "metadata": {
    "hidden": true
   },
   "source": [
    "<font color='blue'> Entendendo melhor o item \"a\":"
   ]
  },
  {
   "cell_type": "code",
   "execution_count": 48,
   "id": "ced9f481",
   "metadata": {
    "ExecuteTime": {
     "end_time": "2025-01-27T22:17:40.023457Z",
     "start_time": "2025-01-27T22:17:40.016681Z"
    },
    "hidden": true
   },
   "outputs": [
    {
     "name": "stdout",
     "output_type": "stream",
     "text": [
      "Montante com capitalização mensal 142.58\n",
      "Montante com capitalização anual 142.58\n"
     ]
    }
   ],
   "source": [
    "C = 100 # Capital de teste\n",
    "i_m = 0.03 # Taxa de juros anual (sem arredondar)\n",
    "i_a = 0.42576088685 # Taxa de juros anual (sem arredondar)\n",
    "\n",
    "# Cálculo do montante nos regimes de capitalização mensal e anual\n",
    "M_m = C*(1+i_m)**12 # Capitalização mensal\n",
    "M_a = C*(1+i_a)**1 # Capitalização anual\n",
    "\n",
    "# Verificação de igualdade dos montantes (exceto por arredondamentos)\n",
    "print(f'Montante com capitalização mensal {round(M_m,2)}')\n",
    "print(f'Montante com capitalização anual {round(M_a,2)}')"
   ]
  },
  {
   "cell_type": "markdown",
   "id": "b817b509",
   "metadata": {
    "heading_collapsed": true,
    "hidden": true
   },
   "source": [
    "##### <font color='blue'> Solução do item \"b\": </font>"
   ]
  },
  {
   "cell_type": "markdown",
   "id": "06657cb0",
   "metadata": {
    "hidden": true
   },
   "source": [
    "<font color='blue'> Temos que $i_{a} = 0.2$, $t_{a} = 1$, $t_{s} = 2$ ($1$ ano em $2$ semestres). Assim,<br><br>\n",
    " $$i_{s} = (1+i_{a})^{\\frac{t_{a}}{t_{s}}} - 1 = (1 + 0.2)^{\\frac{1}{2}} - 1 = 1.2^{\\frac{1}{2}} - 1 = 0.09544511501 \\approx 9.54\\% \\ a.s.$$"
   ]
  },
  {
   "cell_type": "markdown",
   "id": "709eff42",
   "metadata": {
    "heading_collapsed": true,
    "hidden": true
   },
   "source": [
    "###### <font color='blue'> Python: </font>"
   ]
  },
  {
   "cell_type": "code",
   "execution_count": 49,
   "id": "626cbc96",
   "metadata": {
    "ExecuteTime": {
     "end_time": "2025-01-27T22:17:40.032440Z",
     "start_time": "2025-01-27T22:17:40.024450Z"
    },
    "hidden": true
   },
   "outputs": [
    {
     "name": "stdout",
     "output_type": "stream",
     "text": [
      "Taxa semestral: 9.54%\n"
     ]
    }
   ],
   "source": [
    "# Dados\n",
    "i_a = 0.2 # Taxa de juros anual\n",
    "t_a = 1 # Número de anos\n",
    "t_s = 2 # Número de semestres em um ano\n",
    "\n",
    "# Taxa trimestral equivalente\n",
    "i_s = (1+i_a)**(t_a/t_s)-1\n",
    "\n",
    "# Impressão do resultado\n",
    "print(f'Taxa semestral: {round(i_s*100,2)}%')"
   ]
  },
  {
   "cell_type": "markdown",
   "id": "725d0032",
   "metadata": {
    "heading_collapsed": true,
    "hidden": true
   },
   "source": [
    "##### <font color='blue'> Solução do item \"c\": </font>"
   ]
  },
  {
   "cell_type": "markdown",
   "id": "1742baac",
   "metadata": {
    "hidden": true
   },
   "source": [
    "<font color='blue'> Temos que $i_{t} = 0.1$, $t_{t} = 4$, $t_{q} = 3$ ($4$ trimestres para cada $3$ quadrimestres em cada ano). Assim,<br><br>\n",
    " $$i_{q} = (1+i_{t})^{\\frac{t_{t}}{t_{q}}} - 1 = (1 + 0.1)^{\\frac{4}{3}} - 1 = 1.1^{\\frac{4}{3}} - 1 = 0.135508127 \\approx 13.55\\% \\ a.q.$$"
   ]
  },
  {
   "cell_type": "markdown",
   "id": "ea0eca73",
   "metadata": {
    "heading_collapsed": true,
    "hidden": true
   },
   "source": [
    "###### <font color='blue'> Python: </font>"
   ]
  },
  {
   "cell_type": "code",
   "execution_count": 50,
   "id": "660d2626",
   "metadata": {
    "ExecuteTime": {
     "end_time": "2025-01-27T22:17:40.043403Z",
     "start_time": "2025-01-27T22:17:40.034429Z"
    },
    "hidden": true
   },
   "outputs": [
    {
     "name": "stdout",
     "output_type": "stream",
     "text": [
      "Taxa semestral: 13.55%\n"
     ]
    }
   ],
   "source": [
    "# Dados\n",
    "i_t = 0.1 # Taxa de juros trimestral\n",
    "t_t = 4 # Número de semestres em um ano (unidade comum)\n",
    "t_q = 3 # Número de quadrimestres em um ano\n",
    "\n",
    "# Taxa trimestral equivalente\n",
    "i_q = (1+i_t)**(t_t/t_q)-1\n",
    "\n",
    "# Impressão do resultado\n",
    "print(f'Taxa semestral: {round(i_q*100,2)}%')"
   ]
  },
  {
   "cell_type": "markdown",
   "id": "f288f7e5",
   "metadata": {
    "heading_collapsed": true,
    "hidden": true
   },
   "source": [
    "#### Dicas para o cálculo de taxas equivalentes"
   ]
  },
  {
   "cell_type": "markdown",
   "id": "cc2f0ae1",
   "metadata": {
    "hidden": true
   },
   "source": [
    "[1] Você deve ter sentido certa dificuldade em calcular o quociente $\\frac{t_{m}}{t_{n}}$ na potência $(1 + i_{m})^{\\frac{t_{m}}{t_{n}}}$. Um dica é observar o que se esperar desse quociente em relação ao número $1$. Por exemplo, mudar uma capitalização de semestral para anual requer juros maiores pois o valor só será capitalizado uma vez ao invés de duas. Portanto, a divisão resultará em uma fração maior que $1$ (numerador maior que denominador), isto é, a taxa será numericamente maior. Por outro lado, mudar uma capitalização de trimestral para bimestral devemos ter uma fração menor que $1$ (numerador menor que denominador). De fato, em certo período uma capitalização semestral será feita bimestral será feita mais vezes que uma trimestral. Portanto, a taxa será aplicada mais vezes e, nesse caso, deve ser numericamente menor.\n",
    "\n",
    "[2] Você pode usar uma unidade comum como ano ou mês (conforme item \"c\"  do [Exemplo 21](#exemplo_21)) uma vez que a maioria das unidades se comunica bem com ano ou mês."
   ]
  },
  {
   "cell_type": "markdown",
   "id": "dfb3d24f",
   "metadata": {
    "heading_collapsed": true
   },
   "source": [
    "# <a id=\"descontos\"></a>4. Descontos"
   ]
  },
  {
   "cell_type": "markdown",
   "id": "6c2e49ae",
   "metadata": {
    "hidden": true
   },
   "source": [
    "<a id=\"desconto\"></a> <font color='red'> <b> Um Desconto é simplesmente um abatimento feito no valor nominal de um título quando ele é negociado antes do seu vencimento. O Valor descontado (ou valor líquido) é o valor atual de um título na data do desconto, seu cálculo se da pela diferença entre o Valor nominal e o Desconto. Assim,\n",
    "\n",
    "<font color='red'> <b> $$D = N - V$$<br>\n",
    " em que<br><br>\n",
    " <font color='red'> <b>- $D$: desconto<br><br>\n",
    " <font color='red'> <b>- $N$: valor nominal<br><br>\n",
    " <font color='red'> <b>- $V$: valor atual"
   ]
  },
  {
   "cell_type": "markdown",
   "id": "2d4e1adf",
   "metadata": {
    "hidden": true
   },
   "source": [
    "Veremos a seguir três tipos de desconto: **desconto comercial (ou por fora)**, **desconto racional (ou por dentro)** e **desconto composto**."
   ]
  },
  {
   "cell_type": "markdown",
   "id": "59412222",
   "metadata": {
    "heading_collapsed": true,
    "hidden": true
   },
   "source": [
    "## <a id=\"desconto_comercial\"></a>4.1  Desconto comercial (ou por fora)"
   ]
  },
  {
   "cell_type": "markdown",
   "id": "071939a7",
   "metadata": {
    "hidden": true
   },
   "source": [
    "<a id=\"desconto_comercial\"></a> <font color='red'> <b> Desconto comercial é a modalidade de desconto é amplamente utilizada no mercado, especialmente em operações bancárias e comerciais de curto prazo. Nesse sistema, a taxa de desconto é aplicada diretamente sobre o montante ou valor nominal do título. Esse desconto é equivalente aos juros simples, considerando que o capital corresponde ao valor nominal do título. Assim, temos:<br><br>\n",
    " $$D_{c} = Nit$$<br>\n",
    " $$V = N - D_{c}$$<br>\n",
    " em que:<br><br>\n",
    " <font color='red'>- $N$: valor nominal<br>\n",
    " <font color='red'>- $V$: valor atual<br>\n",
    " <font color='red'>- $D_{c}$: desconto comercial<br>\n",
    " <font color='red'>- $i$: taxa de desconto<br>\n",
    " <font color='red'>- $t$: número de períodos "
   ]
  },
  {
   "cell_type": "markdown",
   "id": "d31ef0a1",
   "metadata": {
    "hidden": true
   },
   "source": [
    "#### <a id=\"exemplo_22\"></a> <font color='blue'> Exemplo 22: </font>"
   ]
  },
  {
   "cell_type": "markdown",
   "id": "ac22cf65",
   "metadata": {
    "hidden": true
   },
   "source": [
    "<font color='blue'> <span style=\"font-size: 30px;\">🖩</span> Considere um título cujo valor nominal seja $R\\$ \\ 1.000,00$. Calcule o desconto comercial a ser concedido para um resgate do título $4$ meses antes da data de vencimento, a uma taxa de desconto de $5\\% \\ a.m.$"
   ]
  },
  {
   "cell_type": "markdown",
   "id": "9942253a",
   "metadata": {
    "hidden": true
   },
   "source": [
    "##### <font color='blue'> Solução: </font>"
   ]
  },
  {
   "cell_type": "markdown",
   "id": "78256607",
   "metadata": {
    "hidden": true
   },
   "source": [
    "<font color='blue'> Temos que $N = 1000$, $t = 4$ e $i = 0.05$. Assim,<br><br>\n",
    " $$D_{c} = Nit = 1000\\cdot0.05\\cdot4 = 200 \\Rightarrow D_{c} = R\\$ \\ 200,00.$$"
   ]
  },
  {
   "cell_type": "markdown",
   "id": "5afafd5e",
   "metadata": {
    "hidden": true
   },
   "source": [
    "###### <font color='blue'> Python: </font>"
   ]
  },
  {
   "cell_type": "code",
   "execution_count": 51,
   "id": "237a422b",
   "metadata": {
    "ExecuteTime": {
     "end_time": "2025-01-27T22:17:40.051926Z",
     "start_time": "2025-01-27T22:17:40.044401Z"
    },
    "hidden": true
   },
   "outputs": [
    {
     "name": "stdout",
     "output_type": "stream",
     "text": [
      "Desconto comercial: R$ 200.0\n"
     ]
    }
   ],
   "source": [
    "# Dados\n",
    "N = 1000\n",
    "t = 4\n",
    "i = 0.05\n",
    "\n",
    "# Desconto comercial\n",
    "d_c = N*i*t\n",
    "\n",
    "# Impressão do resultado\n",
    "print(f'Desconto comercial: R$ {round(d_c,2)}')"
   ]
  },
  {
   "cell_type": "markdown",
   "id": "7cd4216b",
   "metadata": {
    "hidden": true
   },
   "source": [
    "#### <a id=\"exemplo_23\"></a> <font color='blue'> Exemplo 23: </font>"
   ]
  },
  {
   "cell_type": "markdown",
   "id": "4df81193",
   "metadata": {
    "hidden": true
   },
   "source": [
    "<font color='blue'> <span style=\"font-size: 30px;\">🖩</span> Um título no valor de $R\\$ \\ 5.000,00$ foi resgatado anterior ao seu vencimento por $R\\$ \\ 4500,00$ e a taxa de desconto comercial utilizada foi de $30\\%$ ao ano. Determine o tempo de antecipação do resgate."
   ]
  },
  {
   "cell_type": "markdown",
   "id": "ed1b6632",
   "metadata": {
    "hidden": true
   },
   "source": [
    "##### <font color='blue'> Solução: </font>"
   ]
  },
  {
   "cell_type": "markdown",
   "id": "6514a1b3",
   "metadata": {
    "hidden": true
   },
   "source": [
    "<font color='blue'> Temos que $N = 5000$, $V = 4500$ e $i = 0,3$. Assim,<br><br>\n",
    " $$V = N - D_{c} \\Rightarrow V = N - Nit \\Rightarrow Nit = N - V \\Rightarrow t = \\frac{N-V}{iN} \\Rightarrow$$\n",
    " $$t = \\frac{5000-4500}{0,3\\cdot5000} = \\frac{500}{1500} = \\frac{1}{3} \\ \\text{anos} = \\frac{1}{3}\\cdot12 \\ \\text{meses} = 4 \\ \\text{meses}$$"
   ]
  },
  {
   "cell_type": "markdown",
   "id": "fc177e28",
   "metadata": {
    "hidden": true
   },
   "source": [
    "<font color='red'> Nova fórmula que você não precisa decorar!<br><br>\n",
    " $$t = \\frac{N-V}{iN}$$"
   ]
  },
  {
   "cell_type": "markdown",
   "id": "b13e7319",
   "metadata": {
    "hidden": true
   },
   "source": [
    "###### <font color='blue'> Python: </font>"
   ]
  },
  {
   "cell_type": "code",
   "execution_count": 52,
   "id": "7498d427",
   "metadata": {
    "ExecuteTime": {
     "end_time": "2025-01-27T22:17:40.061600Z",
     "start_time": "2025-01-27T22:17:40.053919Z"
    },
    "hidden": true
   },
   "outputs": [
    {
     "name": "stdout",
     "output_type": "stream",
     "text": [
      "Tempo de antecipação: 0.33 anos.\n",
      "Tempo de antecipação: 4.0 meses.\n"
     ]
    }
   ],
   "source": [
    "# Dados\n",
    "N = 5000\n",
    "V = 4500\n",
    "i = 0.3\n",
    "\n",
    "# Tempo de antecipação\n",
    "t = (N-V)/(i*N)\n",
    "\n",
    "# Impressão do resultado\n",
    "print(f'Tempo de antecipação: {round(t,2)} anos.')\n",
    "print(f'Tempo de antecipação: {round(t*12,2)} meses.')"
   ]
  },
  {
   "cell_type": "markdown",
   "id": "a3b128ae",
   "metadata": {
    "hidden": true
   },
   "source": [
    "## <a id=\"desconto_racional\"></a>4.2  Desconto Racional (ou por dentro)"
   ]
  },
  {
   "cell_type": "markdown",
   "id": "518739f9",
   "metadata": {
    "hidden": true
   },
   "source": [
    "<a id=\"desconto_racional\"></a><font color='red'> <b> O desconto racional equivale aos juros simples, calculado sobre o valor atual do título. Ou seja, é aquele em que a taxa de desconto incide sobre o valor líquido do título. Assim, temos:<br><br>\n",
    " $$D_{r} = \\frac{Nit}{1 + it}$$<br>\n",
    " $$V = N - D_{r}$$<br>\n",
    " em que:<br><br>\n",
    " <font color='red'>- $N$: valor nominal<br>\n",
    " <font color='red'>- $V$: valor atual<br>\n",
    " <font color='red'>- $D_{r}$: desconto racional<br>\n",
    " <font color='red'>- $i$: taxa de desconto<br>\n",
    " <font color='red'>- $t$: número de períodos"
   ]
  },
  {
   "cell_type": "markdown",
   "id": "c99be195",
   "metadata": {
    "hidden": true
   },
   "source": [
    "#### <a id=\"exemplo_24\"></a> <font color='blue'> Exemplo 24: </font>"
   ]
  },
  {
   "cell_type": "markdown",
   "id": "fb86bb9c",
   "metadata": {
    "hidden": true
   },
   "source": [
    "<font color='blue'> <span style=\"font-size: 30px;\">🖩</span> Considere um título cujo valor nominal seja $R\\$ \\ 1.000,00$. Calcule o desconto racional a ser concedido para um resgate do título $4$ meses antes da data de vencimento, a uma taxa de desconto de $5\\% \\ a.m.$"
   ]
  },
  {
   "cell_type": "markdown",
   "id": "69455192",
   "metadata": {
    "hidden": true
   },
   "source": [
    "##### <font color='blue'> Solução: </font>"
   ]
  },
  {
   "cell_type": "markdown",
   "id": "e64c3cfd",
   "metadata": {
    "hidden": true
   },
   "source": [
    "<font color='blue'> Temos que $N = 1000$, $t = 4$ e $i = 0,05$. Assim,<br><br>\n",
    " $$D_{r} = \\frac{Nit}{1+it} = \\frac{1000\\cdot0,05\\cdot4}{1+0,05\\cdot4} = 166,666666667 \\Rightarrow D_{r} = R\\$ \\ 166,67.$$"
   ]
  },
  {
   "cell_type": "markdown",
   "id": "fc9819c1",
   "metadata": {
    "hidden": true
   },
   "source": [
    "###### <font color='blue'> Python: </font>"
   ]
  },
  {
   "cell_type": "code",
   "execution_count": 53,
   "id": "e70f2b3d",
   "metadata": {
    "ExecuteTime": {
     "end_time": "2025-01-27T22:17:40.070661Z",
     "start_time": "2025-01-27T22:17:40.062595Z"
    },
    "hidden": true
   },
   "outputs": [
    {
     "name": "stdout",
     "output_type": "stream",
     "text": [
      "Desconto racional: R$ 166.67.\n"
     ]
    }
   ],
   "source": [
    "# Dados\n",
    "N = 1000\n",
    "t = 4\n",
    "i = 0.05\n",
    "\n",
    "# Desconto racional\n",
    "d_r = (N*i*t)/(1+i*t)\n",
    "\n",
    "# Impressão do resultado\n",
    "print(f'Desconto racional: R$ {round(d_r,2)}.')"
   ]
  },
  {
   "cell_type": "markdown",
   "id": "72964b99",
   "metadata": {
    "hidden": true
   },
   "source": [
    "#### <a id=\"exemplo_25\"></a> <font color='blue'> Exemplo 25: </font>"
   ]
  },
  {
   "cell_type": "markdown",
   "id": "17fa9ef0",
   "metadata": {
    "hidden": true
   },
   "source": [
    "<font color='blue'> <span style=\"font-size: 30px;\">🖩</span> Um título de $R\\$ 6.000,00$ foi liquidado antecipadamente por $R\\$ 5.741,63$, utilizando o desconto racional. O prazo de antecipação foi de $45$ dias. Determine a taxa mensal de desconto concedida."
   ]
  },
  {
   "cell_type": "markdown",
   "id": "e937fa1c",
   "metadata": {
    "hidden": true
   },
   "source": [
    "##### <font color='blue'> Solução: </font>"
   ]
  },
  {
   "cell_type": "markdown",
   "id": "a068c892",
   "metadata": {
    "hidden": true
   },
   "source": [
    "<font color='blue'> Temos que $N = 6000$, $V = 5741,63$, e $t = 45$ dias ($1,5$ meses). Assim,<br><br>\n",
    " $$V = N - D_{r} \\Rightarrow V = N - \\frac{Nit}{1+it} \\Rightarrow V = \\frac{N(1+it) - Nit}{1+it} \\Rightarrow V = \\frac{N + Nit - Nit}{1+it}\\Rightarrow$$<br>\n",
    " $$\\Rightarrow V = \\frac{N}{1+it} \\Rightarrow 1+ it = \\frac{N}{V} \\Rightarrow it = \\frac{N}{V}-1 \\Rightarrow i = \\frac{\\frac{N}{V}-1}{t} \\Rightarrow i = \\frac{N-V}{Vt}$$<br>\n",
    " $$\\Rightarrow i = \\frac{6000 - 5741,63}{5741,63\\cdot1,5} = 0.029999611028 \\Rightarrow i \\approx 3\\% \\ a.m.$$"
   ]
  },
  {
   "cell_type": "markdown",
   "id": "d3e8fc75",
   "metadata": {
    "hidden": true
   },
   "source": [
    "<font color='red'> Nova fórmula que você não precisa decorar!<br><br>\n",
    " $$i = \\frac{N - V}{Vt}$$"
   ]
  },
  {
   "cell_type": "markdown",
   "id": "f48cff73",
   "metadata": {
    "hidden": true
   },
   "source": [
    "###### <font color='blue'> Python: </font>"
   ]
  },
  {
   "cell_type": "code",
   "execution_count": 54,
   "id": "07e50db8",
   "metadata": {
    "ExecuteTime": {
     "end_time": "2025-01-27T22:17:40.079177Z",
     "start_time": "2025-01-27T22:17:40.071655Z"
    },
    "hidden": true
   },
   "outputs": [
    {
     "name": "stdout",
     "output_type": "stream",
     "text": [
      "Taxa mensal de desconto: 3.0%\n"
     ]
    }
   ],
   "source": [
    "# Dados\n",
    "N = 6000\n",
    "V = 5741.63\n",
    "t = 1.5 # 45 dias em meses\n",
    "\n",
    "# Taxa mensal de desconto\n",
    "i = (N-V)/(V*t)\n",
    "\n",
    "# Resultado\n",
    "print(f'Taxa mensal de desconto: {round(i*100,3)}%')"
   ]
  },
  {
   "cell_type": "markdown",
   "id": "277b6190",
   "metadata": {
    "hidden": true
   },
   "source": [
    "## <a id=\"desconto_composto\"></a>4.3  Desconto Composto"
   ]
  },
  {
   "cell_type": "markdown",
   "id": "af59b93d",
   "metadata": {
    "hidden": true
   },
   "source": [
    "<a id=\"desconto_composto\"></a><font color='red'> <b> O desconto composto equivale aos juros compostos, sendo calculado sobre o valor nominal atualizado ao longo do tempo. Assim, temos:<br><br>\n",
    " $$D_{cp} = N\\left(1 - \\frac{1}{(1+i)^{t}}\\right)$$<br>\n",
    " $$V = N - D_{cp}$$<br>\n",
    " em que:<br><br>\n",
    " <font color='red'>- $N$: valor nominal<br>\n",
    " <font color='red'>- $V$: valor atual<br>\n",
    " <font color='red'>- $D_{cp}$: desconto composto<br>\n",
    " <font color='red'>- $i$: taxa de desconto<br>\n",
    " <font color='red'>- $t$: número de períodos"
   ]
  },
  {
   "cell_type": "markdown",
   "id": "967b4dfc",
   "metadata": {
    "hidden": true
   },
   "source": [
    "#### <a id=\"exemplo_26\"></a> <font color='blue'> Exemplo 26: </font>"
   ]
  },
  {
   "cell_type": "markdown",
   "id": "6c08873f",
   "metadata": {
    "hidden": true
   },
   "source": [
    "<font color='blue'> <span style=\"font-size: 30px;\">🖩</span> Considere um título cujo valor nominal seja $R\\$ \\ 1.000,00$. Calcule o desconto composto a ser concedido para um resgate do título $4$ meses antes da data de vencimento, a uma taxa de desconto de $5\\% \\ a.m.$"
   ]
  },
  {
   "cell_type": "markdown",
   "id": "13c9849f",
   "metadata": {
    "hidden": true
   },
   "source": [
    "##### <font color='blue'> Solução: </font>"
   ]
  },
  {
   "cell_type": "markdown",
   "id": "06af57c4",
   "metadata": {
    "hidden": true
   },
   "source": [
    "<font color='blue'> Temos que $N = 1000$, $t = 4$ e $i = 0.05$. Assim,<br><br>\n",
    " $$D_{cp} = N\\left(1 - \\frac{1}{(1+i)^{t}}\\right) = 1000\\left(1 - \\frac{1}{(1+0.5)^{4}}\\right) = 177.297525208 \\Rightarrow D_{cp} = R\\$ \\ 177,30.$$"
   ]
  },
  {
   "cell_type": "markdown",
   "id": "d4d199c1",
   "metadata": {
    "hidden": true
   },
   "source": [
    "###### <font color='blue'> Python: </font>"
   ]
  },
  {
   "cell_type": "code",
   "execution_count": 55,
   "id": "bfd7d2d4",
   "metadata": {
    "ExecuteTime": {
     "end_time": "2025-01-27T22:17:40.087836Z",
     "start_time": "2025-01-27T22:17:40.080161Z"
    },
    "hidden": true
   },
   "outputs": [
    {
     "name": "stdout",
     "output_type": "stream",
     "text": [
      "Desconto composto: 380.77\n"
     ]
    }
   ],
   "source": [
    "# Dados\n",
    "N = 5000\n",
    "t = 4 \n",
    "i = 0.02\n",
    "\n",
    "# Taxa mensal de desconto\n",
    "d_cp = N*(1-1/((1+i)**t))\n",
    "\n",
    "# Resultado\n",
    "print(f'Desconto composto: {round(d_cp,2)}')"
   ]
  },
  {
   "cell_type": "markdown",
   "id": "92a86e35",
   "metadata": {
    "hidden": true
   },
   "source": [
    "#### <a id=\"exemplo_27\"></a> <font color='blue'> Exemplo 27: </font>"
   ]
  },
  {
   "cell_type": "markdown",
   "id": "fbf3070d",
   "metadata": {
    "hidden": true
   },
   "source": [
    "<font color='blue'> <span style=\"font-size: 30px;\">🖩</span> Um título de $R\\$ 5.000,00$ foi liquidado antecipadamente por $R\\$ 4619.23$, utilizando o desconto composto. O prazo de antecipação foi de $60$ dias. Determine a taxa mensal de desconto concedida."
   ]
  },
  {
   "cell_type": "markdown",
   "id": "bdb3ae73",
   "metadata": {
    "hidden": true
   },
   "source": [
    "##### <font color='blue'> Solução: </font>"
   ]
  },
  {
   "cell_type": "markdown",
   "id": "980f8d90",
   "metadata": {
    "hidden": true
   },
   "source": [
    "<font color='blue'> Temos que $N = 5000$, $V = 4619,23$ e $i = 0.02$. Assim,<br><br>\n",
    " $$D_{cp} =  N\\left(1 - \\frac{1}{(1+i)^{t}}\\right) \\Rightarrow N - V = N\\left(1 - \\frac{1}{(1+i)^{t}}\\right)$$<br>\n",
    " Para facilitar as contas, por ora, vamos chamar $(1+i)^{t}$ de $a$.<br><br>\n",
    " $$N - V = N\\left(1 - \\frac{1}{a}\\right) \\Rightarrow N - V = N - \\frac{N}{a} \\Rightarrow V = \\frac{N}{a} \\Rightarrow a = \\frac{N}{V} \\Rightarrow  (1+i)^{t} = \\frac{N}{V} \\Rightarrow$$<br>\n",
    " $$\\Rightarrow log_{10}\\left((1+i)^{t}\\right) = log_{10}\\left(\\frac{N}{V}\\right) \\Rightarrow t log_{10}(1+i) = log_{10}\\left(\\frac{N}{V}\\right) \\Rightarrow t = \\frac{log_{10}\\left(\\frac{N}{V}\\right)}{log_{10}(1+i)} \\Rightarrow $$<br>\n",
    " $$ \\Rightarrow t = \\frac{log_{10}\\left(\\frac{5000}{4619,23}\\right)}{log_{10}(1+0,02)} \\approx 4 \\ \\text{meses} $$"
   ]
  },
  {
   "cell_type": "markdown",
   "id": "05755420",
   "metadata": {
    "hidden": true
   },
   "source": [
    "<font color='red'> Nova fórmula que você não precisa decorar!<br><br>\n",
    " $$t = \\frac{log_{10}\\left(\\frac{N}{V}\\right)}{log_{10}(1+i)}$$"
   ]
  },
  {
   "cell_type": "markdown",
   "id": "b233e684",
   "metadata": {
    "hidden": true
   },
   "source": [
    "###### <font color='blue'> Python: </font>"
   ]
  },
  {
   "cell_type": "code",
   "execution_count": 56,
   "id": "9cc2de66",
   "metadata": {
    "ExecuteTime": {
     "end_time": "2025-01-27T22:17:40.096203Z",
     "start_time": "2025-01-27T22:17:40.088828Z"
    },
    "hidden": true
   },
   "outputs": [
    {
     "name": "stdout",
     "output_type": "stream",
     "text": [
      "Tempo de antecipação: 4.0 meses.\n"
     ]
    }
   ],
   "source": [
    "import numpy as np\n",
    "\n",
    "# Dados\n",
    "N = 5000\n",
    "V = 4619.23\n",
    "i = 0.02\n",
    "\n",
    "# Tempo de antecipação\n",
    "t = np.log10(N/V)/np.log10(1+i)\n",
    "\n",
    "# Resultado\n",
    "print(f'Tempo de antecipação: {round(t,0)} meses.')"
   ]
  },
  {
   "cell_type": "markdown",
   "id": "4a0f6bd8",
   "metadata": {
    "ExecuteTime": {
     "end_time": "2025-01-17T22:56:30.658202Z",
     "start_time": "2025-01-17T22:56:30.029650Z"
    },
    "heading_collapsed": true,
    "hidden": true
   },
   "source": [
    "#### <a id=\"exemplo_28\"></a> <font color='blue'> Exemplo 28: </font>"
   ]
  },
  {
   "cell_type": "markdown",
   "id": "b62ca240",
   "metadata": {
    "hidden": true
   },
   "source": [
    "<font color='blue'> <span style=\"font-size: 30px;\">🖩</span> Um título de $R\\$ \\ 5.000,00$ foi liquidado antecipadamente por $R\\$ \\ 4619.23$, utilizando o desconto composto com uma antecipação de $4$ meses. Determine a taxa usada na antecipação. (*Conforme o [Exemplo 27](#exemplo_27) já sabemos a resposta!*)"
   ]
  },
  {
   "cell_type": "markdown",
   "id": "391e506e",
   "metadata": {
    "heading_collapsed": true,
    "hidden": true
   },
   "source": [
    "##### <font color='blue'> Solução: </font>"
   ]
  },
  {
   "cell_type": "markdown",
   "id": "5b27cc04",
   "metadata": {
    "hidden": true
   },
   "source": [
    "<font color='blue'> Temos que $N = 5000$, $V = 4619,23$ e $t = 4$. Sabemos do [Exemplo 27](#exemplo_27) que: $(1+i)^{t} = \\frac{N}{V}$. Assim,<br><br>\n",
    " $$(1+i)^{t} = \\frac{N}{V} \\Rightarrow 1 + i = \\left(\\frac{N}{V}\\right)^{\\frac{1}{t}} \\Rightarrow i = \\left(\\frac{N}{V}\\right)^{\\frac{1}{t}} - 1 \\Rightarrow$$<br>\n",
    " $$\\Rightarrow i = \\sqrt[4]{\\frac{5000}{4619,23}}-1 = 0.01999984157 \\approx 2\\% \\ a.m.$$"
   ]
  },
  {
   "cell_type": "markdown",
   "id": "a37d2025",
   "metadata": {
    "hidden": true
   },
   "source": [
    "<font color='red'> Nova fórmula que você não precisa decorar!<br><br>\n",
    " $$i = \\left(\\frac{N}{V}\\right)^{\\frac{1}{t}} - 1$$<br>\n",
    " *Acho que tive um dejavu!*"
   ]
  },
  {
   "cell_type": "markdown",
   "id": "1bb50ef3",
   "metadata": {
    "heading_collapsed": true,
    "hidden": true
   },
   "source": [
    "###### <font color='blue'> Python: </font>"
   ]
  },
  {
   "cell_type": "code",
   "execution_count": 57,
   "id": "bc18d75f",
   "metadata": {
    "ExecuteTime": {
     "end_time": "2025-01-27T22:17:40.105598Z",
     "start_time": "2025-01-27T22:17:40.097197Z"
    },
    "hidden": true
   },
   "outputs": [
    {
     "name": "stdout",
     "output_type": "stream",
     "text": [
      "Taxa da antecipação: 2.0% a.m.\n"
     ]
    }
   ],
   "source": [
    "# import numpy as np\n",
    "\n",
    "# Dados\n",
    "N = 5000\n",
    "V = 4619.23\n",
    "t = 4\n",
    "\n",
    "# Tempo de antecipação\n",
    "t = (N/V)**t-1\n",
    "\n",
    "# Resultado\n",
    "print(f'Taxa da antecipação: {round(i*100,2)}% a.m.')"
   ]
  },
  {
   "cell_type": "markdown",
   "id": "0ed64936",
   "metadata": {
    "heading_collapsed": true
   },
   "source": [
    "# <a id=\"video_aulas\"></a> Vídeo Aulas"
   ]
  },
  {
   "cell_type": "markdown",
   "id": "6cabb726",
   "metadata": {
    "hidden": true
   },
   "source": [
    "..."
   ]
  },
  {
   "cell_type": "markdown",
   "id": "d553e047",
   "metadata": {
    "heading_collapsed": true
   },
   "source": [
    "# <a id=\"exercícios\"></a>  Exercícios"
   ]
  },
  {
   "cell_type": "markdown",
   "id": "e394ff2a",
   "metadata": {
    "hidden": true
   },
   "source": [
    "#### <a id=\"exercicio_1\"></a> Exercício 1"
   ]
  },
  {
   "cell_type": "markdown",
   "id": "f269fd51",
   "metadata": {
    "hidden": true
   },
   "source": [
    "De acordo com a especificação da Agência Nacional de Petróleo (ANP), a mistura de gasolina e álcool vendida nos postos de combustíveis pode conter, no máximo, $25\\%$ de álcool.\n",
    "\n",
    "a) Qual é a quantidade máxima de álcool que pode estar presente em uma mistura de combustível de \n",
    "$650 \\ mL$?\n",
    "\n",
    "b) Qual seria o volume total de combustível contendo exatamente $25\\%$ de álcool e $375 \\ mL$ de gasolina?\n",
    "\n",
    "c) Uma amostra de $1,6 \\ L$ que foi reprovada por conter $10\\%$ de álcool acima da quantidade máxima permitida continha quanto de gasolina?"
   ]
  },
  {
   "cell_type": "markdown",
   "id": "37dac4e0",
   "metadata": {
    "hidden": true
   },
   "source": [
    "#### <a id=\"exercicio_2\"></a> Exercício 2"
   ]
  },
  {
   "cell_type": "markdown",
   "id": "9334c24c",
   "metadata": {
    "hidden": true
   },
   "source": [
    "Em uma eleição dos $250.000$ eleitores que votaram em uma candidata, $65\\%$ eram mulheres. Dentre essas mulheres, $45\\%$ erão casadas. O restante dos votos obtidos por essa candidata $60\\%$ eram de homens casados. Com base nessas condições, responda:\n",
    "\n",
    "a) Quantas mulheres casadas votaram nessa candidata?\n",
    "\n",
    "b) Quantas pessoas solteiras votaram nessa candidata?"
   ]
  },
  {
   "cell_type": "markdown",
   "id": "83a45455",
   "metadata": {
    "hidden": true
   },
   "source": [
    "#### <a id=\"exercicio_3\"></a> Exercício 3"
   ]
  },
  {
   "cell_type": "markdown",
   "id": "c32564d4",
   "metadata": {
    "hidden": true
   },
   "source": [
    "Um comerciante comprou um produto por $R\\$ \\ 168,00$ e o vendeu por $R\\$ \\ 210,00$.\n",
    "\n",
    "a) Calcular o percentual de lucro sobre o preço de custo.\n",
    "\n",
    "b) Calcular o percentual de lucro sobre o preço de venda."
   ]
  },
  {
   "cell_type": "markdown",
   "id": "de839a0d",
   "metadata": {
    "hidden": true
   },
   "source": [
    "#### <a id=\"exercicio_4\"></a> Exercício 4"
   ]
  },
  {
   "cell_type": "markdown",
   "id": "61efb0fa",
   "metadata": {
    "hidden": true
   },
   "source": [
    "Um lojista vendeu uma toalha de mesa por $R\\$ \\ 120,00$ com um lucro de $30\\%$ sobre o preço de venda e outra por $R\\$ \\ 150,00$ com um lucro de $50\\%$ sobre o preço de custo. Qual lucro total obtido?"
   ]
  },
  {
   "cell_type": "markdown",
   "id": "49139b14",
   "metadata": {
    "hidden": true
   },
   "source": [
    "#### <a id=\"exercicio_5\"></a> Exercício 5"
   ]
  },
  {
   "cell_type": "markdown",
   "id": "9bf42afd",
   "metadata": {
    "hidden": true
   },
   "source": [
    "Em certa data, um rublo (moeda russa) valia $0,075$ real e uma rúpia (moeda indiana) valia $0,045$ real. Nessa data, $2.400$ rublos equivaliam a quantas rúpias?"
   ]
  },
  {
   "cell_type": "markdown",
   "id": "70add9bd",
   "metadata": {
    "hidden": true
   },
   "source": [
    "#### <a id=\"exercicio_6\"></a> Exercício 6"
   ]
  },
  {
   "cell_type": "markdown",
   "id": "88b301a8",
   "metadata": {
    "hidden": true
   },
   "source": [
    "Em determinado dia, cada iene (moeda japonesa) valia $0,038$ real, e cada dólar americano valia $5,910$ real. Calcule a cotação do dólar em iene, nesse dia."
   ]
  },
  {
   "cell_type": "markdown",
   "id": "24c838c9",
   "metadata": {
    "hidden": true
   },
   "source": [
    "#### <a id=\"exercicio_7\"></a> Exercício 7"
   ]
  },
  {
   "cell_type": "markdown",
   "id": "a0dd41de",
   "metadata": {
    "hidden": true
   },
   "source": [
    "Dois capitais, $C_{1} = R\\$ \\ 100,00$ e $C_{2} = R\\$ \\ 120,00$, foram aplicados por $10$ meses no regime de juros simples, sob as taxas $i_{1}$ e $i_{2}$, respectivamente, produzindo o mesmo montante.\n",
    "\n",
    "a) Determine $i_{2}$ em função de $i_{1}$.\n",
    "\n",
    "b) Se $i_{1} = 0,08$, qual foi o valor de $i_{2}$?\n",
    "\n",
    "c) Qual deve ser o valor de $i_{2}$ de modo que $i_{1}$ seja $2$ vezes maior que $i_{2}$?"
   ]
  },
  {
   "cell_type": "markdown",
   "id": "e0210e4e",
   "metadata": {
    "hidden": true
   },
   "source": [
    "#### <a id=\"exercicio_8\"></a> Exercício 8"
   ]
  },
  {
   "cell_type": "markdown",
   "id": "cc96b207",
   "metadata": {
    "hidden": true
   },
   "source": [
    "Uma capital $C$ foi aplicado à taxa de juros compostos de $10\\%$ ao mês, durante $2$ meses, produzindo um montante de $R\\$ \\ 1452,00$. Se a aplicação fosse extendida por mais dois meses, qual seria a diferença entre os montantes recebidos?"
   ]
  },
  {
   "cell_type": "markdown",
   "id": "11f002c2",
   "metadata": {
    "hidden": true
   },
   "source": [
    "#### <a id=\"exercicio_9\"></a> Exercício 9"
   ]
  },
  {
   "cell_type": "markdown",
   "id": "2c6fe70d",
   "metadata": {
    "hidden": true
   },
   "source": [
    "Um produto, que foi colocado à venda pelo mesmo preço nas lojas $A$ e $B$, sofreu, durante três meses, as seguinte variações sucessivas em seu preço:\n",
    "\n",
    "$$\\begin{array}{|c|c|c|c|}\\hline\n",
    "\\text{Loja} & 1^{\\underline{o}} \\ \\text{mês} & 2^{\\underline{o}} \\ \\text{mês} & 3^{\\underline{o}} \\ \\text{mês} \\\\\\hline\n",
    "A & \\text{Aumento de} \\ 20\\% & \\text{Aumento de} \\ 10\\% & \\text{Desconto de} \\ 25\\% \\\\\\hline\n",
    "B & \\text{Desconto de} \\ 15\\% & \\text{Aumento de} \\ 20\\% & \\text{Sem reajuste}\\\\\\hline\n",
    "\\end{array}$$\n",
    "\n",
    "Determine a variação total de preço de cada objeto."
   ]
  },
  {
   "cell_type": "markdown",
   "id": "d1a170e6",
   "metadata": {
    "hidden": true
   },
   "source": [
    "#### <a id=\"exercicio_10\"></a> Exercício 10"
   ]
  },
  {
   "cell_type": "markdown",
   "id": "5b68605e",
   "metadata": {
    "hidden": true
   },
   "source": [
    "Um fogão é vendido à vista por $R\\$ \\ 425,00$ ou a prazo em dois pagamentos de $R\\$ \\ 225,00$ cada um, sendo o primeiro no ato da compra e o segundo um mês depois. Determine a taxa mensal de juros do financiamento desse fogão."
   ]
  },
  {
   "cell_type": "markdown",
   "id": "2eb8eb49",
   "metadata": {
    "hidden": true
   },
   "source": [
    "#### <a id=\"exercicio_11\"></a> Exercício 11"
   ]
  },
  {
   "cell_type": "markdown",
   "id": "67bdc763",
   "metadata": {
    "hidden": true
   },
   "source": [
    "O Sr. José possui o dinheiro necessário e suficiente para comprar uma mercadoria à vista, com $15\\%$ de desconto sobre o preço de tabela. Ele está pensando em fazer uma aplicação desse dinheiro à taxa de $5\\%$ ao mês e pagar essa mercadoria após $30$ dias, com um desconto de $10\\%$ sobre o preço de tabela. Qual a opção é mais vantajosa?"
   ]
  },
  {
   "cell_type": "markdown",
   "id": "a23a475e",
   "metadata": {
    "hidden": true
   },
   "source": [
    "## <a id=\"respostas_dos_exercícios\"></a>  Respostas dos Exercícios"
   ]
  },
  {
   "cell_type": "markdown",
   "id": "349aaa06",
   "metadata": {
    "hidden": true
   },
   "source": [
    "#### <a id=\"resposta_exercicio_1\"></a> Resposta do Exercício 1"
   ]
  },
  {
   "cell_type": "markdown",
   "id": "77288cf5",
   "metadata": {
    "hidden": true
   },
   "source": [
    "a) A quantidade máxima de álcool corresponde a exatos $25\\%$ de $650$, isto é:\n",
    "\n",
    "$$q_{a} = \\frac{25}{100}\\cdot 650 = 162,5 \\ mL$$\n",
    "\n",
    "b) Neste caso, os $375 \\ mL$ de gasolina correspondem a $75\\%$ da mistura, isto é:\n",
    "\n",
    "$$q_{g} = \\frac{75}{100}\\cdot x = 375 \\Rightarrow x = \\frac{375\\cdot100}{75} = 500 \\ mL$$\n",
    "\n",
    "c) A quantidade máxima de àlcool permitida em $1,6 \\ L$ de uma mistura de combustível é dada por $25\\%$ de $1,6$, isto é,\n",
    "\n",
    "$$25\\% \\ \\text{de} \\ 1,6 = 0,25\\cdot1,6 = 0,4$$\n",
    "\n",
    "A reprovação do combustível por estar com uma quantidade de álcool $10\\%$ acima da permitida faz com que este possua uma quantidade deste componente dada por:\n",
    "\n",
    "$$q_{a} = 0,4 + 0,1\\cdot0,4 = 0,44 \\ L$$\n",
    "\n",
    "Dessa forma, a quantidade de gasolina presente na mistura é \n",
    "\n",
    "$$q_{g} = q_{m} - q_{a} = 1,6-0,44 = 1,16 \\ L$$"
   ]
  },
  {
   "cell_type": "markdown",
   "id": "0c238fb8",
   "metadata": {
    "hidden": true
   },
   "source": [
    "#### <a id=\"resposta_exercicio_2\"></a> Resposta do Exercício 2"
   ]
  },
  {
   "cell_type": "markdown",
   "id": "e15ef032",
   "metadata": {
    "hidden": true
   },
   "source": [
    "a) O número de mulheres casadas é dado por:\n",
    "\n",
    "$$M_{c} = 45\\% \\ \\text{de} \\ (65\\% \\ \\text{de} \\ 250000) = \\frac{45}{100}\\left(\\frac{65}{100}\\cdot250000\\right) = 45\\cdot65\\cdot25 = 73125$$\n",
    "\n",
    "Portanto, $73.125$ mulheres casadas votaram na candidata.\n",
    "\n",
    "b) O número de pessoas solteiras corresponde ao número de homens e mulheres solteiras:\n",
    "\n",
    "$$P_{s} = 55\\% \\ \\text{de} \\ (65\\% \\ \\text{de} \\ 250000) + 40\\% \\ \\text{de} \\ (35\\% \\ \\text{de} \\ 250000) =$$\n",
    "\n",
    "$$ = \\left(\\frac{55}{100}\\frac{65}{100} + \\frac{40}{100}\\frac{35}{100}\\right)250000 = (55\\cdot65 + 40\\cdot35)25 = 124375$$\n",
    "\n",
    "Portanto, $124.375$ pessoas solteiras votaram na candidata."
   ]
  },
  {
   "cell_type": "markdown",
   "id": "5aa66533",
   "metadata": {
    "hidden": true
   },
   "source": [
    "#### <a id=\"resposta_exercicio_3\"></a> Resposta do Exercício 3"
   ]
  },
  {
   "cell_type": "markdown",
   "id": "57812e2f",
   "metadata": {
    "hidden": true
   },
   "source": [
    "a) O percentual de lucro sobre o preço de custo é dado por:\n",
    "\n",
    "$$\\%L_{C} = \\frac{V-C}{C}\\cdot100\\% = \\frac{210-168}{168}\\cdot100\\% = 25\\% $$\n",
    "\n",
    "b) O percentual de lucro sobre o preço de venda é dado por:\n",
    "\n",
    "$$\\%L_{V} = \\frac{V-C}{V}\\cdot100\\% = \\frac{210-168}{210}\\cdot100\\% = 20\\% $$"
   ]
  },
  {
   "cell_type": "markdown",
   "id": "ead27ffa",
   "metadata": {
    "hidden": true
   },
   "source": [
    "#### <a id=\"resposta_exercicio_4\"></a> Resposta do Exercício 4"
   ]
  },
  {
   "cell_type": "markdown",
   "id": "23d164d3",
   "metadata": {
    "hidden": true
   },
   "source": [
    "Temos que:\n",
    "\n",
    "Primeira toalha: \n",
    "\n",
    "$$L_{\\%V} = \\frac{V-C}{V} \\rightarrow V - C = L_{\\%V}V \\Rightarrow C = V - L_{\\%V}V \\Rightarrow C = (1-L_{\\%V})V \\Rightarrow$$\n",
    "\n",
    "$$\\Rightarrow C = (1-0,3)\\cdot120 = 0,7\\cdot120 = 84 \\Rightarrow L = V - C = 120-84 = R\\$ \\ 36,00 $$\n",
    "\n",
    "Segunda toalha:\n",
    "\n",
    "$$L_{\\%C} = \\frac{V-C}{C} \\rightarrow V - C = L_{\\%C}C \\Rightarrow C + L_{\\%C}C = V \\Rightarrow (1 + L{\\%C})C = V \\Rightarrow C = \\frac{V}{1+L_{\\%C}}$$\n",
    "\n",
    "$$\\Rightarrow C = \\frac{150}{1+0,5} = \\frac{150}{1,5} = 100 \\Rightarrow L = V - C = 150 - 100 = = R\\$ \\ 50,00$$\n",
    "\n",
    "Portanto, o lucro total é dado por: \n",
    "\n",
    "$$R\\$ \\ 36 + R\\$ \\ 50 =  R\\$ \\ 86,00$$"
   ]
  },
  {
   "cell_type": "markdown",
   "id": "10772060",
   "metadata": {
    "hidden": true
   },
   "source": [
    "#### <a id=\"resposta_exercicio_5\"></a> Resposta do Exercício 5"
   ]
  },
  {
   "cell_type": "markdown",
   "id": "966120ca",
   "metadata": {
    "hidden": true
   },
   "source": [
    "Sejam $R_{e}$, $R_{b}$ e $R_{p}$ variáveis associadas às moedas real, rublo e rúpias respectivamente. Assim, temos as seguintes relações:\n",
    "\n",
    "$$1R_{b} = 0,075R_{e} \\ \\ \\text{e} \\ \\ 1R_{p} = 0,045R_{e} \\Rightarrow \\frac{1R_{b}}{1R_{p}} = \\frac{0,075}{0,045} \\Rightarrow 1R_{b} = \\frac{0,075}{0,045}R_{p}$$\n",
    "\n",
    "Multiplicando por $2400$ os dois membros desta última relação, temos:\n",
    "\n",
    "$$2400\\cdot1R_{b} = 2400\\cdot\\frac{0,075}{0,045}R_{p} \\Rightarrow 2400R_{b} = 4000$$"
   ]
  },
  {
   "cell_type": "markdown",
   "id": "a81136f6",
   "metadata": {
    "hidden": true
   },
   "source": [
    "#### <a id=\"resposta_exercicio_6\"></a> Resposta do Exercício 6"
   ]
  },
  {
   "cell_type": "markdown",
   "id": "51ab284f",
   "metadata": {
    "hidden": true
   },
   "source": [
    "Sejam $R$, $I$ e $D$ variáveis associadas às moedas real, iene e dólar respectivamente. Assim, temos as seguintes relações:\n",
    "\n",
    "$$1I = 0,038R \\ \\ \\text{e} \\ \\ 1D = 5,91R \\Rightarrow \\frac{1D}{1I} = \\frac{5,91R}{0,038R} \\Rightarrow 1D = \\frac{5,91}{0,038}I \\Rightarrow 1D \\approx 155,526I$$"
   ]
  },
  {
   "cell_type": "markdown",
   "id": "bb962824",
   "metadata": {
    "hidden": true
   },
   "source": [
    "#### <a id=\"resposta_exercicio_7\"></a> Resposta do Exercício 7"
   ]
  },
  {
   "cell_type": "markdown",
   "id": "653d12aa",
   "metadata": {
    "hidden": true
   },
   "source": [
    "a) Os montantes correspondentes às duas operações são dados por:\n",
    "\n",
    "$$M = 100(1+10i_{1}) \\ \\ \\text{e} \\ \\ M = 120(1 + 10i_{2})$$\n",
    "\n",
    "Assim,\n",
    "\n",
    "$$100(1 + 10i_{1}) = 120(1 + 10i_{2}) \\Rightarrow 100 + 1000i_{1} = 120 + 1200i_{2} \\Rightarrow$$\n",
    "\n",
    "$$\\Rightarrow 1200i_{2} = 1000i_{1}-20 \\Rightarrow i_{2} = \\frac{1000i_{1}-20}{1200} \\Rightarrow i_{2} = \\frac{50i_{1}-1}{60}$$\n",
    "\n",
    "b) Usando o item \"a\", temos:\n",
    "\n",
    "$$i_{2} = \\frac{50i_{1}-1}{60} \\Rightarrow \\frac{50\\cdot0,08-1}{60} = 0,05$$\n",
    "\n",
    "c) Considerando $i_{1} = 2i_{2}$, temos:\n",
    "\n",
    "$$i_{2} = \\frac{50i_{1}-1}{60} \\Rightarrow i_{2} = \\frac{50\\cdot2i_{2}-1}{60} \\Rightarrow 60i_{2} = 100i_{2}-1 \\Rightarrow 40i_{2} = 1 \\Rightarrow i_{2} = 0,025$$"
   ]
  },
  {
   "cell_type": "markdown",
   "id": "d0b31682",
   "metadata": {
    "hidden": true
   },
   "source": [
    "#### <a id=\"resposta_exercicio_8\"></a> Resposta do Exercício 8"
   ]
  },
  {
   "cell_type": "markdown",
   "id": "709b3252",
   "metadata": {
    "hidden": true
   },
   "source": [
    "Considerando $C$ o capital investido e $M_{ext}$ o montate resultante da operação total durando $4$ meses, temos:\n",
    "\n",
    "$$M_{ext} = C(1+0,05)^{4} = \\underset{\\text{apl. inicial de} \\ 2 \\  \\text{meses}}{\\underbrace{C(1+0,05)^{2}}}(1+0,05)^{2} = 1452\\cdot1,05^{2} = 1756,92$$\n",
    "\n",
    "Assim, a diferença entre os montantes é dada por: $1756,92-1452 = R\\$ \\ 304,92$."
   ]
  },
  {
   "cell_type": "markdown",
   "id": "e01fba37",
   "metadata": {
    "hidden": true
   },
   "source": [
    "#### <a id=\"resposta_exercicio_9\"></a> Resposta do Exercício 9"
   ]
  },
  {
   "cell_type": "markdown",
   "id": "ec5164e8",
   "metadata": {
    "hidden": true
   },
   "source": [
    "Temos os seguintes percentuais acumulados pelo produto nas lojas $A$ e $B$:\n",
    "\n",
    "Loja $A$: $(1+0,2)(1+0,1)(1-0,25) = 1,2\\cdot1,1\\cdot0,75 = 0,99 \\Rightarrow $ variação negativa de $1\\%$.\n",
    "\n",
    "Loja $B$: $(1-0,15)(1+0,2)(1 + 0) = 0,85\\cdot1,2 = 1,02 \\Rightarrow $ variação positiva de $2\\%$."
   ]
  },
  {
   "cell_type": "markdown",
   "id": "3b80d9b2",
   "metadata": {
    "hidden": true
   },
   "source": [
    "#### <a id=\"resposta_exercicio_10\"></a> Resposta do Exercício 10"
   ]
  },
  {
   "cell_type": "markdown",
   "id": "1309e374",
   "metadata": {
    "hidden": true
   },
   "source": [
    "Sendo paga uma prestação de $R\\$ \\ 225,00$ no ato da compra, temos que sobraram $R\\$ \\ 200,00$ a serem financiados por um mês por $R\\$ \\ 225,00$ (segunda prestação). Assim,\n",
    "\n",
    "$$225 = 200(1+i)^{1} \\Rightarrow 1 + i = \\frac{225}{200} \\Rightarrow i = \\frac{225}{200}-1 \\approx 0,125 = 12,5\\%$$"
   ]
  },
  {
   "cell_type": "markdown",
   "id": "4b5f8a23",
   "metadata": {
    "hidden": true
   },
   "source": [
    "#### <a id=\"resposta_exercicio_11\"></a> Resposta do Exercício 11"
   ]
  },
  {
   "cell_type": "markdown",
   "id": "a93c439b",
   "metadata": {
    "hidden": true
   },
   "source": [
    "Vejamos cada uma das opções considerando o valor de tabela $V$ da mercadoria:\n",
    "\n",
    "Opção $1$: Um pagamento à vista com desconto de $15\\%$, isto é, um custo de $0,85V$\n",
    "\n",
    "Opção $2$: Investir o custo à vista, $0,85V$ a uma taxa de $5\\%$ ao mês e pagar a marcadoria daqui um mês com um desconto de $10\\%$ sobre o valor de tabela, isto é, $0,9V$. Neste caso, temos um saldo de \n",
    "\n",
    "$$(0,85V)\\cdot(1+0,1) - 0,9V = 0,8925V - 0,9V = -0,0075V$$\n",
    "\n",
    "Note que a opção $2$ conduz a um saldo negativo de $-0,0075V$ que corresponde a um prejuízo de $0,75\\%$ sobre o custo à vista.\n",
    "\n",
    "Portanto, o pagamento à vista é mais vantajoso."
   ]
  },
  {
   "cell_type": "markdown",
   "id": "3e6f4d94",
   "metadata": {
    "heading_collapsed": true
   },
   "source": [
    "# <a id=\"enem\"></a>  Questões Enem"
   ]
  },
  {
   "cell_type": "markdown",
   "id": "c2bd5433",
   "metadata": {
    "hidden": true
   },
   "source": [
    "#### <a id=\"questao_1\"></a> Questão 1 (Enem 2013.2)"
   ]
  },
  {
   "cell_type": "markdown",
   "id": "8923a286",
   "metadata": {
    "hidden": true
   },
   "source": [
    "O Conselho Monetário Nacional (CMN) determi-nou novas regras sobre o pagamento mínimo da fatura do cartão de crédito, a partir do mês de agosto de $2011$. A partir de então, o pagamento mensal não poderá ser inferior a $15\\%$ do valor total da fatura. Em dezembro daquele ano, outra alteração foi efetuada: daí em diante, o valor mínimo a ser pago seria de $20\\%$ da fatura.\n",
    "Um determinado consumidor possuía no dia do vencimento, $01/03/2012$, uma dívida de $R\\$ \\ 1000,00$ na fatura de seu cartão de crédito. Se não houver pagamento do valor total da fatura, são cobrados juros de $10\\%$ sobre o saldo devedor para a próxima fatura. Para quitar sua dívida, optou por pagar sempre o mínimo da fatura a cada mês e não efetuar mais nenhuma compra.\n",
    "A dívida desse consumidor em $01/05/2012$ será de:\n",
    "\n",
    "A) R$ 874,22\n",
    "\n",
    "B) R$ 722,50\n",
    "\n",
    "C) R$ 774,40\n",
    "\n",
    "D) R$ 600,00\n",
    "\n",
    "E) R$ 640,00"
   ]
  },
  {
   "cell_type": "markdown",
   "id": "13e6d838",
   "metadata": {
    "hidden": true
   },
   "source": [
    "#### <a id=\"questao_2\"></a> Questão 2 (Enem 2009)"
   ]
  },
  {
   "cell_type": "markdown",
   "id": "cf752429",
   "metadata": {
    "hidden": true
   },
   "source": [
    "João deve $12$ parcelas de $R\\$ \\ 150,00$ referentes ao cheque especial de seu banco e cinco parce-las de $R\\$ \\ 80,00$ referentes ao cartão de crédito. O gerente do banco lhe ofereceu duas parcelas de desconto no cheque especial, caso João quitasse esta dívida imediatamente ou, na mesma condição, isto é, quitação imediata, com $25\\%$ de desconto na dívida do cartão. João também poderia renegociar suas dívidas em 18 parcelas mensais de $R\\$ \\ 125,00$. Sabendo des-ses termos, José, amigo de João, ofereceu-lhe emprestar o dinheiro que julgasse necessário pelo tempo de $18$ meses, com juros de $25\\%$ sobre o total emprestado.\n",
    "\n",
    "A opção que dá a João o menor gasto seria:\n",
    "\n",
    "A) renegociar suas dívidas com o banco.\n",
    "\n",
    "B) pegar emprestado de José o dinheiro refe-rente à quitação das duas dívidas.\n",
    "\n",
    "C) recusar o empréstimo de José e pagar todas as parcelas pendentes nos devidos prazos.\n",
    "\n",
    "D) pegar emprestado de José o dinheiro referente à quitação do cheque especial e pagar as parcelas do cartão de crédito.\n",
    "\n",
    "E) pegar emprestado de José o dinheiro referente à quitação do cartão de crédito e pagar as parcelas do cheque especial."
   ]
  },
  {
   "cell_type": "markdown",
   "id": "17aac2a7",
   "metadata": {
    "hidden": true
   },
   "source": [
    "#### <a id=\"questao_3\"></a> Questão 3 (Enem 2013.2)"
   ]
  },
  {
   "cell_type": "markdown",
   "id": "e059cdf9",
   "metadata": {
    "hidden": true
   },
   "source": [
    "Um trabalhador possui um cartão de crédito que, em determinado mês, apresenta o saldo devedor a pagar no vencimento do cartão, mas não contém parcelamentos a acrescentar em futuras faturas. Nesse mesmo mês, o trabalha-dor é demitido. Durante o período de desem-prego, o trabalhador deixa de utilizar o cartão de crédito e também não tem como pagar as fatu-ras, nem a atual nem as próximas, mesmo sa-bendo que, a cada mês, incidirão taxas de juros e encargos por conta do não pagamento da dívida. Ao conseguir um novo emprego, já com-pletados 6 meses de não pagamento das fatu-ras, o trabalhador procura renegociar sua dívi-da. O gráfico mostra a evolução do saldo deve-dor.<br><br>\n",
    "\n",
    "<center> <img src=\"img_apostila\\fig_enem_1.jpg\" alt=\"jpg_python\" width=\"300\" height=\"\"> </center>\n",
    "\n",
    "Com base no gráfico, podemos constatar que o saldo devedor inicial, a parcela mensal de juros e a taxa de juros são:\n",
    "\n",
    "A) $R\\$ \\ 500,00$; variável e superior a $10\\%$ ao mês.\n",
    "\n",
    "B) $R\\$ \\ 560,00$; constante e superior a $10\\%$ ao mês.\n",
    "\n",
    "C) $R\\$ \\ 500,00$; variável e inferior a $10\\%$ ao mês.\n",
    "\n",
    "D) $R\\$ \\ 560,00$; variável e inferior a $10\\%$ ao mês.\n",
    "\n",
    "E) $R\\$ \\ 500,00$; constante e inferior a $10\\%$ ao mês"
   ]
  },
  {
   "cell_type": "markdown",
   "id": "72062e58",
   "metadata": {
    "hidden": true
   },
   "source": [
    "#### <a id=\"questao_4\"></a> Questão 4 (Enem 2014.3)"
   ]
  },
  {
   "cell_type": "markdown",
   "id": "90407aab",
   "metadata": {
    "hidden": true
   },
   "source": [
    "Um indivíduo possui uma renda mensal de $R\\$\\ 1200,00$ e deseja comprar um refrigerador. Na loja que ele decide fazer sua compra, o refri-gerador custa $R\\$ \\ 1800,00$. Esse valor deverá ser pago em $12$ prestações mensais iguais e sem juros. Uma forma de representar a quantia da renda mensal do indiví-duo que será usada para pagar cada prestação é:\n",
    "\n",
    "A) 1/18\n",
    "\n",
    "B) 1/12\n",
    "\n",
    "C) 1/8\n",
    "\n",
    "D) 2/3\n",
    "\n",
    "E) 3/2"
   ]
  },
  {
   "cell_type": "markdown",
   "id": "7de449be",
   "metadata": {
    "hidden": true
   },
   "source": [
    "#### <a id=\"questao_5\"></a> Questão 5 (Enem 2018.2)"
   ]
  },
  {
   "cell_type": "markdown",
   "id": "715a0f5f",
   "metadata": {
    "hidden": true
   },
   "source": [
    "Um rapaz possui um carro usado e deseja utilizá-lo como parte do pagamento na compra de um carro novo. Ele sabe que, mesmo assim, terá que financiar parte do valor da compra. \n",
    "\n",
    "Depois de escolher o modelo desejado, o rapaz faz uma pesquisa sobre as condições de compra em três lojas diferentes. Em cada uma, é informado sobre o valor que a loja pagaria por seu carro usado, no caso de a compra ser feita na própria loja. Nas três lojas são cobrados juros simples sobre o valor a ser financiado, e a duração do financiamento é de um ano. O rapaz escolherá a loja em que o total, em real, a ser desembolsado será menor. O quadro resume o resultado da pesquisa.\n",
    "\n",
    "$$\\begin{array}{|c|c|c|c|}\\hline\n",
    "\\text{Loja}& \\text{Valor oferecido pelo} & \\text{Valor do carro} & \\text{Percentual}\\\\\n",
    "& \\text{carro usado} \\ (R\\$) & \\text{novo} \\ (R\\$) & \\text{de juros} \\ (\\%)\\\\\\hline\n",
    "A & 13.500,00 & 28.500,00 & 18 \\ \\text{ao ano}\\\\\\hline\n",
    "A & 13.000,00 & 27.000,00 & 20 \\ \\text{ao ano}\\\\\\hline\n",
    "A & 12.000,00 & 26.500,00 & 19 \\ \\text{ao ano}\\\\\\hline\n",
    "\\end{array}$$\n",
    "\n",
    "A quantia a ser desembolsada pelo rapaz, em real, será:\n",
    "\n",
    "A) $R\\$ \\ 14.000$. \n",
    "\n",
    "B) $R\\$ \\ 15.000$. \n",
    "\n",
    "C) $R\\$ \\ 16.800$. \n",
    "\n",
    "D) $R\\$ \\ 17.255$. \n",
    "\n",
    "E) $R\\$ \\ 17.700$.\n"
   ]
  },
  {
   "cell_type": "markdown",
   "id": "c49e7151",
   "metadata": {
    "hidden": true
   },
   "source": [
    "#### <a id=\"questao_6\"></a> Questão 6 (Enem 2018.1)"
   ]
  },
  {
   "cell_type": "markdown",
   "id": "59aeb8d2",
   "metadata": {
    "hidden": true
   },
   "source": [
    "Uma loja vende automóveis em $N$ parcelas iguais sem juros. No momento de contratar o financiamento, caso o cliente queira aumentar o prazo, acrescentando mais $5$ parcelas, o valor de cada uma das parcelas diminui $R\\$ \\ 200,00$, ou se ele quiser diminuir o prazo, com $4$ parcelas a menos, o valor de cada uma das parcelas sobe $R\\$ \\ 232,00$. Considere ainda que, nas três pos-sibilidades de pagamento, o valor do automóvel é o mesmo, todas são sem juros e não é dado desconto em nenhuma das situações.\n",
    "\n",
    "Nessas condições, qual é a quantidade N de parcelas a serem pagas de acordo com a proposta inicial da loja?\n",
    "\n",
    "A) 20\n",
    "\n",
    "B) 24\n",
    "\n",
    "C) 29\n",
    "\n",
    "D) 40\n",
    "\n",
    "E) 58"
   ]
  },
  {
   "cell_type": "markdown",
   "id": "b4dc81f3",
   "metadata": {
    "hidden": true
   },
   "source": [
    "#### <a id=\"questao_7\"></a> Questão 7 (Enem 2014.2)"
   ]
  },
  {
   "cell_type": "markdown",
   "id": "1c26e585",
   "metadata": {
    "hidden": true
   },
   "source": [
    "O Brasil desenvolveu técnicas próprias de plantio e colheita de cana-de-açúcar, tornando-se o maior produtor mundial.\n",
    "\n",
    "Cultivando novas variedades, foram produzidas, na safra $2010/2011$, $624$ milhões de toneladas em $8,1$ milhões de hectares.\n",
    "\n",
    "Houve um substancial ganho de produtividade (em toneladas por hectare) quando se compara com a de décadas atrás, como a da safra $1974/1975$, que foi de $47$ toneladas por hectare.\n",
    "\n",
    "De acordo com dados apresentados, qual foi o valor mais aproximado da taxa de crescimento da produtividade de cana-de-açúcar, por hectare no Brasil, da safra $1974/1975$ para a safra $2010/2011$?\n",
    "\n",
    "A) $13\\%$\n",
    "\n",
    "B) $30\\%$\n",
    "\n",
    "C) $64\\%$\n",
    "\n",
    "D) $74\\%$\n",
    "\n",
    "E) $164\\%$"
   ]
  },
  {
   "cell_type": "markdown",
   "id": "ef1809b8",
   "metadata": {
    "hidden": true
   },
   "source": [
    "#### <a id=\"questao_8\"></a> Questão 8 (Enem 2014.3)"
   ]
  },
  {
   "cell_type": "markdown",
   "id": "57da0edc",
   "metadata": {
    "hidden": true
   },
   "source": [
    "Em uma cidade turística, três hotéis ofereceram promoções para o mês de abril de $2011$ e compararam as taxas de ocupação nesse mês com as de abril de $2010$. Os descontos praticados estão descritos a seguir:\n",
    "\n",
    "• Hotel $1$: Foi dado um desconto de $10\\%$ nas diárias, elevando a ocupação de $70\\%$ em $2010$ para $80\\%$ em $2011$.\n",
    "\n",
    "• Hotel $2$: Foi dado um desconto de $15\\%$ nas diárias, elevando a ocupação de $60\\%$ em $2010$ para $100\\%$ em $2011$.\n",
    "\n",
    "• Hotel $3$: Foi dado um desconto de $20\\%$ nas diárias, elevando a ocupação de $10\\%$ em $2010$ para $60\\%$ em $2011$.\n",
    "\n",
    "• Hotel $4$: Foi dado um desconto de $25\\%$ nas diárias, elevando a ocupação de $30\\%$ em $2010$ para $90\\%$ em $2011$.\n",
    "\n",
    "• Hotel $5$: Foi dado um desconto de $30\\%$ nas diárias, elevando a ocupação de $40\\%$ em $2010$ para $60\\%$ em $2011$.\n",
    "\n",
    "Após o término de $2011$, foi feita uma avaliação sobre os impactos desses descontos nos valores arrecadados pelos hotéis. O hotel que apresentou a maior diferença na taxa de arrecadação de $2010$ para $2011$ foi o:\n",
    "\n",
    "A) hotel $1$, pois apresenta a maior taxa de ocupação antes dos descontos.\n",
    "\n",
    "B) hotel $2$, pois apresenta a maior taxa de ocupação após os descontos.\n",
    "\n",
    "C) hotel $3$, pois apresenta aumento de $38\\%$ na taxa de arrecadação.\n",
    "\n",
    "D) hotel $4$, pois apresenta a maior diferença na taxa de arrecadação de $2010$ para $2011$.\n",
    "\n",
    "E) hotel $5$, pois apresenta o maior desconto no valor da diária."
   ]
  },
  {
   "cell_type": "markdown",
   "id": "2bca4ed6",
   "metadata": {
    "hidden": true
   },
   "source": [
    "#### <a id=\"questao_9\"></a> Questão 9 (Enem 2017.2)"
   ]
  },
  {
   "cell_type": "markdown",
   "id": "38d00f7a",
   "metadata": {
    "hidden": true
   },
   "source": [
    "O governo decidiu reduzir de $25\\%$ para $20\\%$ o teor de álcool anidro misturado à gasolina vendida nos postos do país.\n",
    "\n",
    "Considere que a média de desempenho, ou seja, a quantidade de quilômetros ($km$) que um carro anda com $1$ litro de combustível, é diretamente proporcional à porcentagem de gasolina presente no combustível, e que a média de desempenho de um carro antes da decisão do governo era de $13,5 \\ km/L$.\n",
    "\n",
    "Nas condições do texto, qual será a estimativa da média de desempenho após a redução de álcool anidro no combustível?\n",
    "\n",
    "A) $10,80 \\ km/L$\n",
    "\n",
    "B) $12,65 \\ km/L$\n",
    "\n",
    "C) $12,82 \\ km/L$\n",
    "\n",
    "D) $14,15 \\ km/L$\n",
    "\n",
    "E) $14,40 \\ km/L$"
   ]
  },
  {
   "cell_type": "markdown",
   "id": "5bbfb8da",
   "metadata": {
    "hidden": true
   },
   "source": [
    "#### <a id=\"questao_10\"></a> Questão 10 (Enem 2021.3)"
   ]
  },
  {
   "cell_type": "markdown",
   "id": "b4867118",
   "metadata": {
    "hidden": true
   },
   "source": [
    "Um professor tem uma despesa mensal de $10\\%$ do seu salário com transporte e $30\\%$ com alimentação. No próximo mês, os valores desses gastos sofrerão aumentos de $10\\%$ e $20\\%$, respectivamente, mas o seu salário não terá reajuste. Com esses aumentos, suas despesas com transporte e alimentação aumentarão em $R\\$ \\ 252,00$.\n",
    "\n",
    "\n",
    "\n",
    "O salário mensal desse professor é de\n",
    "\n",
    "A) $R\\$ \\ 840,00$.\n",
    "\n",
    "B) $R\\$ \\ 1680,00$.\n",
    "\n",
    "C) $R\\$ \\ 2100,00$.\n",
    "\n",
    "D) $R\\$ \\ 3600,00$.\n",
    "\n",
    "E) $R\\$ \\ 5200,00$."
   ]
  },
  {
   "cell_type": "markdown",
   "id": "74199366",
   "metadata": {
    "hidden": true
   },
   "source": [
    "## <a id=\"resolucao_enem\"></a>  Respostas das Questões Enem"
   ]
  },
  {
   "cell_type": "markdown",
   "id": "9ce03d3c",
   "metadata": {
    "hidden": true
   },
   "source": [
    "##### <a id=\"resolucao_enem_questao_1\"></a> Resolução da Questão Enem 1 "
   ]
  },
  {
   "cell_type": "markdown",
   "id": "77f930c8",
   "metadata": {
    "hidden": true
   },
   "source": [
    "No período em questão, após $12/2011$, o pagamento mínimo corresponde a $20\\%$ do valor total da fatura. Nesse caso, em cada mês se aplicam, sucessivamente as taxas de $20\\%$ (de abatimento) e $10\\%$ (de acréscimo). Temos a seguinte evolução da dívida:\n",
    "\n",
    "$01/03/2012$ até $01/04/2012$: $ \\underset{\\text{1000-20}\\%}{\\underbrace{800}}  \\Rightarrow \\underset{\\text{800+10}\\%}{\\underbrace{880}}$\n",
    "\n",
    "$01/04/2012$: até $01/05/2012$ $ \\underset{\\text{880-20}\\%}{\\underbrace{704}}  \\Rightarrow \\underset{\\text{704+10}\\%}{\\underbrace{774,4}}$\n",
    "\n",
    "**Alternativa: C**\n"
   ]
  },
  {
   "cell_type": "markdown",
   "id": "5cd8b42a",
   "metadata": {
    "hidden": true
   },
   "source": [
    "##### <a id=\"resolucao_enem_questao_2\"></a> Resolução da Questão Enem 2"
   ]
  },
  {
   "cell_type": "markdown",
   "id": "9f6ecd33",
   "metadata": {
    "hidden": true
   },
   "source": [
    "Vejamos pelas alternativas aquela que terá o menor gasto para João:\n",
    "\n",
    "a) Renegociar as dívidas com o banco: $18 \\cdot 125 = 2250$ reais.\n",
    "\n",
    "b) Pegar emprestado de José o dinheiro referente à quitação das duas dívidas. Desta forma, João teria os descontos e teria que pegar $150 \\cdot 10 + 5 \\cdot 80 \\cdot 0,75 = 1500 + 300 = 1800$ reais emprestados e pagar $1800 \\cdot 1,25 = 2250$ reais.\n",
    "\n",
    "c) Recusar o empréstimo de José e pagar todas as parcelas pendentes nos devidos prazos: $150 \\cdot 12 + 80 \\cdot 5 = 1800 + 400 = 2200$ reais.\n",
    "\n",
    "d) Pegar emprestado de José o dinheiro referente à quitação do cheque especial e pagar as parcelas do cartão de crédito. Desta forma João teria o desconto do cheque especial e teria que pegar $150 \\cdot 10 = 1500$ reais emprestados e pagar $1500 \\cdot 1,25 = 1875$ reais mais $80 \\cdot 5 = 400$ reais do cartão de crédito, totalizando $1875 + 400 = 2275$ reais.\n",
    "\n",
    "e) Pegar emprestado de José o dinheiro referente à quitação do cartão de crédito e pagar as parcelas do cheque especial. Desta forma João teria o desconto do cartão de crédito e teria que pegar $5 \\cdot 80 \\cdot 0,75 = 300$ reais emprestados e pagar $300 \\cdot 1,25 = 375$ reais mais $150 \\cdot 12 = 1800$ reais do cheque especial, totalizando $375 + 1800 = 2175$ reais. O menor valor é o desta alternativa.\n",
    "\n",
    "**Alternativa: E**"
   ]
  },
  {
   "cell_type": "markdown",
   "id": "a5e32b04",
   "metadata": {
    "hidden": true
   },
   "source": [
    "##### <a id=\"resolucao_enem_questao_3\"></a> Resolução da Questão Enem 3"
   ]
  },
  {
   "cell_type": "markdown",
   "id": "8d6709a3",
   "metadata": {
    "hidden": true
   },
   "source": [
    "Observando o gráfico vemos facilmente que o saldo devedor inicial é igual a $R\\$ \\ 500,00$ (visualmente mais correto que $R\\$ \\ 560,00$). Observando que um mês após o saldo devedor aumenta mais que $R\\ \\ 50,00$, temos que a taxa é superior a $10\\%$. Sendo a curva ascendente, isto é, demonstrando um crescimento cada vez mais rápido, temos que a taxa de juros é variável.\n",
    "\n",
    "**Alternativa: A**"
   ]
  },
  {
   "cell_type": "markdown",
   "id": "73885fde",
   "metadata": {
    "hidden": true
   },
   "source": [
    "##### <a id=\"resolucao_enem_questao_4\"></a> Resolução da Questão Enem 4"
   ]
  },
  {
   "cell_type": "markdown",
   "id": "ef570708",
   "metadata": {
    "hidden": true
   },
   "source": [
    "Temos que o valor da prestação é dado por $1800/12 = R\\$ \\ 150,00$. Nesse caso, a prestação equivale a $\\frac{150}{1200}$ da renda do trabalhador, isto é, $\\frac{1}{8}$.\n",
    "\n",
    "**Alternativa: C**"
   ]
  },
  {
   "cell_type": "markdown",
   "id": "3fe79144",
   "metadata": {
    "hidden": true
   },
   "source": [
    "##### <a id=\"resolucao_enem_questao_5\"></a> Resolução da Questão Enem 5"
   ]
  },
  {
   "cell_type": "markdown",
   "id": "53f74b79",
   "metadata": {
    "hidden": true
   },
   "source": [
    "Precisamos descontar o valor de entrada do valor do carro novo e aplicar o juros do que restou\n",
    "\n",
    "$A: 28500-13500 = 15000 \\Rightarrow 15000\\cdot = 1,18 = R\\$ \\ 17700,00$\n",
    "\n",
    "$B: 27000 – 13000 = 14000 \\Rightarrow 14000\\cdot = 1,20 = R\\$ \\ 16800,00$\n",
    "\n",
    "$C: 26500 – 12000 = 14500 \\Rightarrow 14500\\cdot = 1,19 = R\\$ \\ 17225,00$\n",
    "\n",
    "O mais barato foi o carro $B$ desembolsando $16800,00$ reais.\n",
    "\n",
    "**Alternativa: C**"
   ]
  },
  {
   "cell_type": "markdown",
   "id": "3fcae4ea",
   "metadata": {
    "hidden": true
   },
   "source": [
    "##### <a id=\"resolucao_enem_questao_6\"></a> Resolução da Questão Enem 6 "
   ]
  },
  {
   "cell_type": "markdown",
   "id": "f886377e",
   "metadata": {
    "hidden": true
   },
   "source": [
    "Considerando $V$ o valor total, $N$ o número de parcelas e $P$ o valor da prestação, temos:\n",
    "\n",
    "**Forma 1:** Sem aumento ou diminuição no número de parcelas: $NP = V$\n",
    "\n",
    "**Forma 2:** Acrescentando $5$ parcelas: $(N+5)(P-200) = V$\n",
    "\n",
    "**Forma 3:** Diminuindo $4$ parcelas: $(N-4)(P-232) = V$\n",
    "\n",
    "Temos o seguinte sistema de três variáveis (na verdade somente duas):\n",
    "\n",
    "$$\\left\\{ \\begin{array}{ccc}\n",
    "NP &=& V \\\\\n",
    "(N+5)(P-200) &=& V \\\\\n",
    "(N-4)(P-232) &=& V \\\\\n",
    "\\end{array}\\right. \\Rightarrow \n",
    "\\left\\{ \\begin{array}{ccccccccc}\n",
    "NP  & & & & & & &=& V \\\\\n",
    "NP &+& 5P &-& 200N &-& 1000 &=& V \\\\\n",
    "NP &-& 4P &+& 232N &-& 928 &=& V \\\\\n",
    "\\end{array}\\right. \\Rightarrow $$\n",
    "\n",
    "$$\\left\\{ \\begin{array}{ccccccccc}\n",
    "5P &-& 200N &=& 1000 \\\\\n",
    "-4P &+& 232N &=& 928 \\\\\n",
    "\\end{array}\\right. \\Rightarrow \\left\\{ \\begin{array}{ccccccccc}\n",
    "P &-& 40N &=& 200 \\\\\n",
    "-P &+& 58N &=& 232 \\\\\n",
    "\\end{array}\\right. \\Rightarrow N = 24 \\ \\ (\\text{e} \\ P = 1160)$$\n",
    "\n",
    "Portanto, o número de parcelas $N$ seguindo a proposta inicial é $24$.\n",
    "\n",
    "**Alternativa: B**\n"
   ]
  },
  {
   "cell_type": "markdown",
   "id": "40df4528",
   "metadata": {
    "hidden": true
   },
   "source": [
    "##### <a id=\"resolucao_enem_questao_7\"></a> Resolução da Questão Enem 7 "
   ]
  },
  {
   "cell_type": "markdown",
   "id": "e638250e",
   "metadata": {
    "hidden": true
   },
   "source": [
    "A relação reais por hectare em nas datas $1974/1975$ e $2010/2011$ é dada a seguir:\n",
    "\n",
    "$1974/1975$: $\\frac{624000000}{8100000} = \\frac{6240}{81} = \\frac{2080}{27} \\approx 77$ reais por hectare.\n",
    "\n",
    "$2010/2011$: $\\frac{47}{1} = 47$\n",
    "\n",
    "Devemos calcular a taxa $x$ tal que $(1+x)\\cdot47 = 77$:\n",
    "\n",
    "$$(1+x)\\cdot47 = 77 \\Rightarrow 1+x = \\frac{77}{47} \\Rightarrow x = \\frac{77}{47}-1 = \\frac{77-47}{47} = \\frac{30}{47} \\approx 0.64 = 64\\% $$\n",
    "**Alternativa: C**"
   ]
  },
  {
   "cell_type": "markdown",
   "id": "1cbd1866",
   "metadata": {
    "hidden": true
   },
   "source": [
    "##### <a id=\"resolucao_enem_questao_8\"></a> Resolução da Questão Enem 8"
   ]
  },
  {
   "cell_type": "markdown",
   "id": "0f582206",
   "metadata": {
    "hidden": true
   },
   "source": [
    "Suponha que a arrecadação seja igual $\\text{preço}\\cdot\\text{taxa de ocupação}$. Nesse caso, em $2010$, vamos imaginar que o preço seja padrão igual a $1$ (equivalente a $100\\%$ do valor padrão). Um desconto de $x\\%$ no preço equivale a multiplicar a arrecadação por $1-\\frac{x}{100}$. Analogamente, vamos imaginar que a taxa de ocupação máxima seja igual a $1$ (também equivalente a $100\\%$) e que qualquer porcentagem de ocupação seja dada por $\\frac{x}{100}$. A tabela a seguir mostra as taxas de arrecadação nos anos de $2010$ e $2011$:\n",
    "\n",
    "$$\\begin{array}{|c|c|c|} \\hline\n",
    "\\text{taxa de arrecadação em 2010} & \\text{taxa de arrecadação em 2011} & \\text{diferença de taxa de arrecadação} \\\\\\hline\n",
    "0,7 & 0,9\\cdot0,8 = 0,72 & 0,02  \\\\\n",
    "0,6 & 0,85\\cdot1 = 0,85 & 0,25   \\\\\n",
    "0,1 & 0,8\\cdot0,6 = 0,48 & 0,38  \\\\\n",
    "0,3 & 0,75\\cdot0,6 = 0,45 & 0,15 \\\\\n",
    "0,4 & 0,7\\cdot0,6 = 0,42 & 0,02  \\\\\\hline\n",
    "\\end{array}$$\n",
    "\n",
    "Note que a maior diferença na taxa de ocupação foi observada no hotel $3$.\n",
    "\n",
    "**Alternativa C**"
   ]
  },
  {
   "cell_type": "markdown",
   "id": "cf00fd58",
   "metadata": {
    "hidden": true
   },
   "source": [
    "##### <a id=\"resolucao_enem_questao_9\"></a> Resolução da Questão Enem 9 "
   ]
  },
  {
   "cell_type": "markdown",
   "id": "711dc347",
   "metadata": {
    "hidden": true
   },
   "source": [
    "A redução de álcool anidro de $25\\%$ para $20\\%$ impacta no aumento de gasolina $75\\%$ para $80\\%$ na mistura. Dessa forma, temos a seguinte regra de três direta:\n",
    "\n",
    "$$\\begin{array}{cc}\\\\\n",
    "\\% \\ \\text{gasolina} & \\text{desempenho} \\ km/L\\\\\n",
    "75 & 13,5\\\\\n",
    "80 & x\\\\\n",
    "\\end{array}$$\n",
    "\n",
    "$$\\Rightarrow \\frac{75}{80} = \\frac{13,5}{x} \\Rightarrow 75x = 13,5\\cdot80 \\Rightarrow x = \\frac{13,5\\cdot80}{75} = 14,4 \\ km/L$$\n",
    "\n",
    "**Alternativa: E**"
   ]
  },
  {
   "cell_type": "markdown",
   "id": "c71bde1c",
   "metadata": {
    "hidden": true
   },
   "source": [
    "##### <a id=\"resolucao_enem_questao_10\"></a> Resolução da Questão Enem 10"
   ]
  },
  {
   "cell_type": "markdown",
   "id": "8bed0e86",
   "metadata": {
    "hidden": true
   },
   "source": [
    "Considerando seja $x$ o salário do professor e $G$ seu gasto mensal. Sabe-se que seu gasto no primeiro mês segue a relação: $G = 0,1x + 0,3x  \\Rightarrow G = 0,4$\n",
    "\n",
    "Note que um aumento de $10\\%$ em $0,1 = 10\\%$ faz este valor passar a ser $11\\% = 0,11$. Analogamente, um aumento de $20\\%$ em $0,3$ faz este valor passar a ser $0,36\\% = 0,36$. Desse modo, seu gasto no segundo mês segue a relação $G + 252 = 0,11x + 0,36x  \\Rightarrow G + 252 = 0,47x$.\n",
    "\n",
    "Substituindo $G$ por $0,4x$ na segunda relação, temos:\n",
    "\n",
    "$$G + 252 = 0,47x \\Rightarrow 0,4x + 252 = 0,47x \\Rightarrow 0,07x = 252 \\Rightarrow x = \\frac{252}{0,07} = R\\$ \\ 3600,00.$$\n",
    "\n",
    "**Alternativa: D**"
   ]
  },
  {
   "cell_type": "markdown",
   "id": "c113c442",
   "metadata": {},
   "source": [
    "# Referências"
   ]
  },
  {
   "cell_type": "markdown",
   "id": "3b8278e8",
   "metadata": {},
   "source": [
    "$[1]$ PAIVA, M. R.. Matemática: volume $1$. $2$. ed. São Paulo: Moderna, $2010$."
   ]
  },
  {
   "cell_type": "markdown",
   "id": "5964b90e",
   "metadata": {},
   "source": [
    "$[2]$ BRASIL. Ministério da Educação. Instituto Nacional de Estudos e Pesquisas Educacionais Anísio Teixeira (INEP). Exame Nacional do Ensino Médio (ENEM): prova de Matemática e suas Tecnologias. Disponível em: https://www.gov.br/inep/pt-br/areas-de-atuacao/avaliacao-e-exames-educacionais/enem/provas-e-gabaritos.\n",
    "\n"
   ]
  },
  {
   "cell_type": "markdown",
   "id": "46939439",
   "metadata": {},
   "source": [
    "$[3]$ SOARES, A. Curso Python Com Jupyter Notebook. Instituto Federal da Bahia, Campus Vitória da Conquista, $2023$. Disponível em [https://github.com/ProfAllanIFBA/Curso_Python_Com_Jupyter_Notebook](https://github.com/ProfAllanIFBA/Curso_Python_Com_Jupyter_Notebook)"
   ]
  },
  {
   "cell_type": "markdown",
   "id": "2326550c",
   "metadata": {},
   "source": [
    "$[4]$ MARCONDES, G. A. B. Matemática com Python: Um Guia Prático. $1$. ed São Paulo: Novatec Editora Ltda, $2018$."
   ]
  }
 ],
 "metadata": {
  "kernelspec": {
   "display_name": "Python 3 (ipykernel)",
   "language": "python",
   "name": "python3"
  },
  "language_info": {
   "codemirror_mode": {
    "name": "ipython",
    "version": 3
   },
   "file_extension": ".py",
   "mimetype": "text/x-python",
   "name": "python",
   "nbconvert_exporter": "python",
   "pygments_lexer": "ipython3",
   "version": "3.11.5"
  }
 },
 "nbformat": 4,
 "nbformat_minor": 5
}
